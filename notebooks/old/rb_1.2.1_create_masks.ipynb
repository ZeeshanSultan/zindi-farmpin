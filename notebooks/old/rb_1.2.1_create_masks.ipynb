{
 "cells": [
  {
   "cell_type": "code",
   "execution_count": 1,
   "metadata": {},
   "outputs": [],
   "source": [
    "%load_ext autoreload\n",
    "%autoreload 2\n",
    "%matplotlib inline"
   ]
  },
  {
   "cell_type": "markdown",
   "metadata": {},
   "source": [
    "# Create Masks"
   ]
  },
  {
   "cell_type": "code",
   "execution_count": 2,
   "metadata": {},
   "outputs": [],
   "source": [
    "import os\n",
    "import rasterio\n",
    "import numpy as np\n",
    "import geopandas as gpd\n",
    "import matplotlib.pyplot as plt\n",
    "\n",
    "\n",
    "import sys\n",
    "sys.path.append('../')\n",
    "from config import raw_data_dir\n",
    "\n",
    "from rasterio.plot import show\n",
    "\n",
    "%matplotlib inline\n",
    "\n",
    "# Test dir\n",
    "img_dir = '../data/interim/images/2017-01-01/'"
   ]
  },
  {
   "cell_type": "markdown",
   "metadata": {},
   "source": [
    "## Read Shapefile"
   ]
  },
  {
   "cell_type": "code",
   "execution_count": 3,
   "metadata": {},
   "outputs": [
    {
     "data": {
      "text/html": [
       "<div>\n",
       "<style scoped>\n",
       "    .dataframe tbody tr th:only-of-type {\n",
       "        vertical-align: middle;\n",
       "    }\n",
       "\n",
       "    .dataframe tbody tr th {\n",
       "        vertical-align: top;\n",
       "    }\n",
       "\n",
       "    .dataframe thead th {\n",
       "        text-align: right;\n",
       "    }\n",
       "</style>\n",
       "<table border=\"1\" class=\"dataframe\">\n",
       "  <thead>\n",
       "    <tr style=\"text-align: right;\">\n",
       "      <th></th>\n",
       "      <th>Field_Id</th>\n",
       "      <th>Area</th>\n",
       "      <th>Subregion</th>\n",
       "      <th>Crop_Id_Ne</th>\n",
       "      <th>geometry</th>\n",
       "    </tr>\n",
       "  </thead>\n",
       "  <tbody>\n",
       "    <tr>\n",
       "      <th>0</th>\n",
       "      <td>1</td>\n",
       "      <td>0.915905</td>\n",
       "      <td>3</td>\n",
       "      <td>8</td>\n",
       "      <td>POLYGON ((613924.3324000851 6793991.295069702,...</td>\n",
       "    </tr>\n",
       "    <tr>\n",
       "      <th>1</th>\n",
       "      <td>2</td>\n",
       "      <td>2.064410</td>\n",
       "      <td>3</td>\n",
       "      <td>6</td>\n",
       "      <td>POLYGON ((614404.0717397591 6794020.579634549,...</td>\n",
       "    </tr>\n",
       "    <tr>\n",
       "      <th>2</th>\n",
       "      <td>3</td>\n",
       "      <td>1.080300</td>\n",
       "      <td>3</td>\n",
       "      <td>8</td>\n",
       "      <td>POLYGON ((614320.2146632321 6793964.242091182,...</td>\n",
       "    </tr>\n",
       "    <tr>\n",
       "      <th>3</th>\n",
       "      <td>4</td>\n",
       "      <td>1.316190</td>\n",
       "      <td>3</td>\n",
       "      <td>8</td>\n",
       "      <td>POLYGON ((614560.5326844405 6794002.249461887,...</td>\n",
       "    </tr>\n",
       "    <tr>\n",
       "      <th>4</th>\n",
       "      <td>7</td>\n",
       "      <td>5.529220</td>\n",
       "      <td>3</td>\n",
       "      <td>8</td>\n",
       "      <td>POLYGON ((614596.6564746551 6794269.865436315,...</td>\n",
       "    </tr>\n",
       "  </tbody>\n",
       "</table>\n",
       "</div>"
      ],
      "text/plain": [
       "   Field_Id      Area  Subregion Crop_Id_Ne  \\\n",
       "0         1  0.915905          3          8   \n",
       "1         2  2.064410          3          6   \n",
       "2         3  1.080300          3          8   \n",
       "3         4  1.316190          3          8   \n",
       "4         7  5.529220          3          8   \n",
       "\n",
       "                                            geometry  \n",
       "0  POLYGON ((613924.3324000851 6793991.295069702,...  \n",
       "1  POLYGON ((614404.0717397591 6794020.579634549,...  \n",
       "2  POLYGON ((614320.2146632321 6793964.242091182,...  \n",
       "3  POLYGON ((614560.5326844405 6794002.249461887,...  \n",
       "4  POLYGON ((614596.6564746551 6794269.865436315,...  "
      ]
     },
     "execution_count": 3,
     "metadata": {},
     "output_type": "execute_result"
    }
   ],
   "source": [
    "train_fp = os.path.join(raw_data_dir,'train/train.shp')\n",
    "train_df = gpd.read_file(train_fp)\n",
    "\n",
    "# Drop NaNs\n",
    "train_df = train_df.loc[~train_df.geometry.isna()]\n",
    "train_df.reset_index(drop=True, inplace=True)\n",
    "\n",
    "# Convert shapefile to coordinate system of raster\n",
    "train_df = train_df.to_crs({'init': 'epsg:32734'})\n",
    "\n",
    "train_df.head()"
   ]
  },
  {
   "cell_type": "code",
   "execution_count": 4,
   "metadata": {},
   "outputs": [
    {
     "data": {
      "text/plain": [
       "(2494, 5)"
      ]
     },
     "execution_count": 4,
     "metadata": {},
     "output_type": "execute_result"
    }
   ],
   "source": [
    "train_df.shape"
   ]
  },
  {
   "cell_type": "code",
   "execution_count": 5,
   "metadata": {},
   "outputs": [
    {
     "data": {
      "image/svg+xml": [
       "<svg xmlns=\"http://www.w3.org/2000/svg\" xmlns:xlink=\"http://www.w3.org/1999/xlink\" width=\"141.42454054299742\" height=\"106.46601845137775\" viewBox=\"613919.094454139 6793914.979580099 141.42454054299742 106.46601845137775\" preserveAspectRatio=\"xMinYMin meet\"><g transform=\"matrix(1,0,0,-1,0,13587936.425178649)\"><path fill-rule=\"evenodd\" fill=\"#66cc99\" stroke=\"#555555\" stroke-width=\"2.0\" opacity=\"0.6\" d=\"M 613924.332400085,6793991.295069702 L 614051.4955277125,6794016.207652604 L 614055.281048736,6793977.493040295 L 613945.3997331308,6793920.217526045 L 613924.332400085,6793991.295069702 z\" /></g></svg>"
      ],
      "text/plain": [
       "<shapely.geometry.polygon.Polygon at 0x12e6e22b0>"
      ]
     },
     "execution_count": 5,
     "metadata": {},
     "output_type": "execute_result"
    }
   ],
   "source": [
    "train_df.loc[0].geometry"
   ]
  },
  {
   "cell_type": "markdown",
   "metadata": {},
   "source": [
    "## Get Polygon Masks From Raster"
   ]
  },
  {
   "cell_type": "code",
   "execution_count": 6,
   "metadata": {},
   "outputs": [
    {
     "name": "stdout",
     "output_type": "stream",
     "text": [
      "B01_JEP.jp2 B03_JFP.jp2 B06_JEP.jp2 B08_JFP.jp2 B11_JEP.jp2 B8A_JFP.jp2\n",
      "B01_JFP.jp2 B04_JEP.jp2 B06_JFP.jp2 B09_JEP.jp2 B11_JFP.jp2 TCI_JEP.jp2\n",
      "B02_JEP.jp2 B04_JFP.jp2 B07_JEP.jp2 B09_JFP.jp2 B12_JEP.jp2 TCI_JFP.jp2\n",
      "B02_JFP.jp2 B05_JEP.jp2 B07_JFP.jp2 B10_JEP.jp2 B12_JFP.jp2\n",
      "B03_JEP.jp2 B05_JFP.jp2 B08_JEP.jp2 B10_JFP.jp2 B8A_JEP.jp2\n"
     ]
    }
   ],
   "source": [
    "!ls $img_dir"
   ]
  },
  {
   "cell_type": "markdown",
   "metadata": {},
   "source": [
    "### (OLD MASKING METHOD): Mask out a farm from the raster\n",
    "\n",
    "\n",
    "**Raster**: The entire image containing all the farms\n",
    "\n",
    "**Mask**: A shape defined as a polygon of points"
   ]
  },
  {
   "cell_type": "code",
   "execution_count": 7,
   "metadata": {},
   "outputs": [],
   "source": [
    "import os\n",
    "import rasterio\n",
    "from rasterio.plot import show\n",
    "from glob import glob\n",
    "\n",
    "from rasterio import mask\n",
    "\n",
    "def get_mask(shape, raster):\n",
    "    if shape is None:\n",
    "        return None\n",
    "    try:\n",
    "        mask_img, mask_transform = mask.mask(raster, [shape], crop=True)\n",
    "    except ValueError:\n",
    "        return None\n",
    "\n",
    "    if mask_img.ndim == 3:\n",
    "        # remove the first dimension\n",
    "        return mask_img[0, :, :]\n",
    "    elif mask_img.ndim == 2:\n",
    "        return mask_img\n",
    "    else:\n",
    "        raise ValueError('Mask has unexpected shape: {}'.format(mask_img.shape))"
   ]
  },
  {
   "cell_type": "markdown",
   "metadata": {},
   "source": [
    "**Crop out the masks and remove the missing ones**"
   ]
  },
  {
   "cell_type": "code",
   "execution_count": 8,
   "metadata": {},
   "outputs": [],
   "source": [
    "fp = os.path.join(img_dir,'B04_JFP.jp2')\n",
    "\n",
    "with rasterio.open(fp) as raster:\n",
    "    masks = [get_mask(g, raster) for g in train_df.geometry]\n",
    "    nan_idxs = [i for i,m in enumerate(masks) if m is None]\n",
    "\n",
    "# Remove the farms that did not fit on this raster\n",
    "masks = list(np.delete(np.array(masks), nan_idxs))\n",
    "train_df.drop(nan_idxs, axis=0, inplace=True)"
   ]
  },
  {
   "cell_type": "code",
   "execution_count": 9,
   "metadata": {},
   "outputs": [
    {
     "data": {
      "text/plain": [
       "True"
      ]
     },
     "execution_count": 9,
     "metadata": {},
     "output_type": "execute_result"
    }
   ],
   "source": [
    "len(masks) == len(train_df)"
   ]
  },
  {
   "cell_type": "code",
   "execution_count": 10,
   "metadata": {},
   "outputs": [
    {
     "data": {
      "text/plain": [
       "<matplotlib.image.AxesImage at 0x12e7f09b0>"
      ]
     },
     "execution_count": 10,
     "metadata": {},
     "output_type": "execute_result"
    },
    {
     "data": {
      "image/png": "[encoded data removed]",
      "text/plain": [
       "<Figure size 432x288 with 1 Axes>"
      ]
     },
     "metadata": {
      "needs_background": "light"
     },
     "output_type": "display_data"
    }
   ],
   "source": [
    "plt.imshow(masks[1], cmap='gray')"
   ]
  },
  {
   "cell_type": "code",
   "execution_count": 11,
   "metadata": {},
   "outputs": [
    {
     "data": {
      "image/png": "[encoded data removed]",
      "text/plain": [
       "<Figure size 432x288 with 1 Axes>"
      ]
     },
     "metadata": {
      "needs_background": "light"
     },
     "output_type": "display_data"
    }
   ],
   "source": [
    "with rasterio.open(fp) as raster:\n",
    "    plt.imshow(get_mask(train_df.iloc[1].geometry, raster))"
   ]
  },
  {
   "cell_type": "markdown",
   "metadata": {},
   "source": [
    "### Visualize shape distributions"
   ]
  },
  {
   "cell_type": "code",
   "execution_count": 12,
   "metadata": {},
   "outputs": [
    {
     "data": {
      "text/plain": [
       "<matplotlib.axes._subplots.AxesSubplot at 0x12e6e2128>"
      ]
     },
     "metadata": {},
     "output_type": "display_data"
    },
    {
     "data": {
      "text/plain": [
       "<matplotlib.axes._subplots.AxesSubplot at 0x12e6e2128>"
      ]
     },
     "metadata": {},
     "output_type": "display_data"
    },
    {
     "data": {
      "image/png": "[encoded data removed]",
      "text/plain": [
       "<Figure size 864x576 with 1 Axes>"
      ]
     },
     "metadata": {
      "needs_background": "light"
     },
     "output_type": "display_data"
    }
   ],
   "source": [
    "import pandas as pd\n",
    "import matplotlib.pyplot as plt\n",
    "from operator import itemgetter\n",
    "\n",
    "shapes = [x.shape for x in masks]\n",
    "\n",
    "widths = [x[0] for x in shapes]\n",
    "heights = [x[1] for x in shapes]\n",
    "\n",
    "w_plot = pd.Series(widths).plot.hist(bins=100, title='Sizes Distribution', label='width', figsize=(12,8))\n",
    "h_plot = pd.Series(heights).plot.hist(bins=100, title='Sizes Distribution', label='height', figsize=(12,8))\n",
    "plt.legend()\n",
    "display(w_plot)\n",
    "display(h_plot)"
   ]
  },
  {
   "cell_type": "markdown",
   "metadata": {},
   "source": [
    "## New masking\n",
    "\n",
    "For a given farm shape, get the data _around_ that farm in a fixed bounding box determined by the raster resolution. \n",
    "\n",
    "For example, at 10m resolution use 90x90."
   ]
  },
  {
   "cell_type": "markdown",
   "metadata": {},
   "source": [
    "### Pick a farm to prototype with"
   ]
  },
  {
   "cell_type": "code",
   "execution_count": 13,
   "metadata": {},
   "outputs": [
    {
     "name": "stdout",
     "output_type": "stream",
     "text": [
      "14 (33, 33)\n"
     ]
    }
   ],
   "source": [
    "for i,s in enumerate(shapes):\n",
    "    a,b = s\n",
    "    if a==b and a >= 30:\n",
    "        idx = i\n",
    "        print(idx, s)\n",
    "        break"
   ]
  },
  {
   "cell_type": "markdown",
   "metadata": {},
   "source": [
    "### Do the masking\n",
    "\n",
    "1. Get the chosen shape and open the raster\n",
    "2. Get the boolean mask as well as the bounding \"window\" of the shape on the raster\n",
    "3. Convert the boolean mask to integer \n",
    "4. Read the image data from the raster, given the bounding window\n",
    "5. Show the image containing the farm and the boolean mask together"
   ]
  },
  {
   "cell_type": "code",
   "execution_count": 14,
   "metadata": {},
   "outputs": [
    {
     "name": "stdout",
     "output_type": "stream",
     "text": [
      "bb_shape =  (33, 33)\n"
     ]
    },
    {
     "data": {
      "image/png": "[encoded data removed]",
      "text/plain": [
       "<Figure size 720x720 with 2 Axes>"
      ]
     },
     "metadata": {
      "needs_background": "light"
     },
     "output_type": "display_data"
    }
   ],
   "source": [
    "raster = rasterio.open(fp)\n",
    "\n",
    "shape = train_df.geometry.iloc[idx]\n",
    "\n",
    "# Get the boolean mask and window of shape\n",
    "bool_mask, transform, bb_window = rasterio.mask.raster_geometry_mask(raster, [shape], crop=True)\n",
    "\n",
    "# Turn mask into int array with 1 at farm pixels\n",
    "int_mask = np.bitwise_not(bool_mask).astype(int)\n",
    "\n",
    "# Get the shape of the bounding box window\n",
    "bb_shape = (bb_window.width, bb_window.height)\n",
    "\n",
    "print('bb_shape = ',bb_shape)\n",
    "\n",
    "# Show original farm image\n",
    "img = raster.read(window=bb_window, masked=True)\n",
    "\n",
    "\n",
    "f, (ax0, ax1) = plt.subplots(1, 2, figsize=(10,10))\n",
    "ax0.imshow(img[0], cmap='gray')\n",
    "ax0.set_title('Bounding box of farm')\n",
    "ax1.imshow(bool_mask, cmap='gray')\n",
    "ax1.set_title(\"Boolean Mask (inverted)\")\n",
    "plt.show()"
   ]
  },
  {
   "cell_type": "markdown",
   "metadata": {},
   "source": [
    "### Now get the farm in the center of a fixed size image\n",
    "\n",
    "We will get the image data of the farm as above, but now also get surrounding image data up to a size of `MAX_DIMS`. \n",
    "\n",
    "`MAX_DIMS` is chosen from the analysis of farm sizes, and is selected as the bounding box size that the vast majority of farms fit into. \n",
    "\n",
    "\n",
    "**Steps**:\n",
    "\n",
    "1. From the chosen MAX_DIMS, get the amount needed to pad to top and bottom.\n",
    "2. Get the padded bounding window\n",
    "3. Read the padded window data from the raster\n",
    "4. Clip the padded image data to the MAX_DIMS size\n",
    "5. Create a data array with the boolean mask as the final channel\n",
    "6. Show the padded window image with the mask"
   ]
  },
  {
   "cell_type": "code",
   "execution_count": 15,
   "metadata": {},
   "outputs": [
    {
     "name": "stdout",
     "output_type": "stream",
     "text": [
      "Padded window shape =  51 51\n",
      "Pad x =  9 \n",
      "Pax y =  9\n",
      "Padded image shape =  (50, 50)\n"
     ]
    },
    {
     "data": {
      "image/png": "[encoded data removed]",
      "text/plain": [
       "<Figure size 864x864 with 2 Axes>"
      ]
     },
     "metadata": {
      "needs_background": "light"
     },
     "output_type": "display_data"
    }
   ],
   "source": [
    "MAX_DIMS = (50, 50)\n",
    "\n",
    "pad_x = int(np.ceil((MAX_DIMS[0]-bb_shape[0])/2))\n",
    "pad_y = int(np.ceil((MAX_DIMS[1]-bb_shape[1])/2))\n",
    "\n",
    "# Get a window with padding around it and the desired shape in the center\n",
    "padded_window = rasterio.mask.geometry_window(raster, \n",
    "                                              [shape], \n",
    "                                              pad_x=pad_x, \n",
    "                                              pad_y=pad_y, \n",
    "                                              pixel_precision=2)\n",
    "\n",
    "print('Padded window shape = ', padded_window.height, padded_window.width)\n",
    "\n",
    "print('Pad x = ',pad_x, '\\nPax y = ',pad_y)\n",
    "\n",
    "padded_img = raster.read(window=padded_window)[0]\n",
    "\n",
    "padded_img = padded_img[:MAX_DIMS[0], :MAX_DIMS[1]]\n",
    "\n",
    "print('Padded image shape = ',padded_img.shape)\n",
    "\n",
    "data = np.zeros((2, *MAX_DIMS))\n",
    "\n",
    "data[:-1, :, :] = padded_img\n",
    "\n",
    "# Add the mask to the last channel\n",
    "data[-1, pad_y:-pad_y+1, pad_x:-pad_x+1] = int_mask\n",
    "\n",
    "f, (ax0, ax1) = plt.subplots(1, 2, figsize=(12, 12))\n",
    "ax0.imshow(data[0], cmap='gray')\n",
    "ax0.set_title('Farm with surrounding data')\n",
    "ax1.imshow(data[-1], cmap='gray')\n",
    "ax1.set_title(\"Boolean Mask (inverted)\")\n",
    "plt.show()\n",
    "\n",
    "raster.close()"
   ]
  },
  {
   "cell_type": "markdown",
   "metadata": {},
   "source": [
    "## Put padded masking in a method"
   ]
  },
  {
   "cell_type": "code",
   "execution_count": 68,
   "metadata": {},
   "outputs": [],
   "source": [
    "def get_mask_window(shape, raster, max_dims=None):\n",
    "    \n",
    "    # Get the boolean mask and window of shape\n",
    "    try:\n",
    "        bool_mask, transform, bb_window = rasterio.mask.raster_geometry_mask(raster, [shape], crop=True)\n",
    "    except ValueError:\n",
    "        print('Farm not found')\n",
    "        return None\n",
    "    \n",
    "    if max_dims is  None:\n",
    "        return bb_window\n",
    "    else:\n",
    "\n",
    "        # Turn mask into int array with 1 at farm pixels\n",
    "        int_mask = np.bitwise_not(bool_mask).astype(int)\n",
    "\n",
    "        # Get the shape of the bounding box window\n",
    "        bb_shape = (bb_window.height, bb_window.width)\n",
    "\n",
    "\n",
    "        # Get number of pixels to add to x and y dims\n",
    "        pad_x = int(np.ceil((max_dims[1]-bb_shape[1])/2))\n",
    "        pad_y = int(np.ceil((max_dims[0]-bb_shape[0])/2))\n",
    "\n",
    "        # Get a window with padding around it and the desired shape in the center\n",
    "        # Depending on the shape, this window can be a different size than max_dims\n",
    "        window_ = rasterio.mask.geometry_window(raster, \n",
    "                                                      [shape], \n",
    "                                                      pad_x=pad_x, \n",
    "                                                      pad_y=pad_y, \n",
    "                                                      pixel_precision=2 # I found this fixes some rounding errors\n",
    "                                                     )\n",
    "\n",
    "        # To fix sizing issues, create a new window that starts at the same top left anchor, but of a fixed width and height\n",
    "        window = rasterio.windows.Window(col_off=window_.col_off, row_off=window_.row_off, width=max_dims[1], height=max_dims[0])\n",
    "    \n",
    "        return window\n",
    "    \n",
    "    \n",
    "\n",
    "\n",
    "\n",
    "def read_window(raster, window, band=0):\n",
    "    \n",
    "    return raster.read(window=window)[band]\n",
    "\n",
    "def get_mask_padded(shape, raster, max_dims):\n",
    "    \n",
    "    padded_window = get_mask_window(shape, raster, max_dims)\n",
    "    \n",
    "    # Read the padded image data\n",
    "    padded_img = read_window(raster, window, band=0)\n",
    "    \n",
    "    # Clip the data to be in the range of max dims\n",
    "    padded_img = padded_img[:max_dims[0], :max_dims[1]]\n",
    "    \n",
    "    assert padded_img.shape == max_dims, 'Padded image was not the right shape. Something went wrong :L'\n",
    "\n",
    "    # Create 2-channel array with image data in first channel and mask in last channel\n",
    "    data = np.zeros((2, *max_dims))\n",
    "    data[:-1, :, :] = padded_img\n",
    "    data[-1, pad_y:-pad_y+1, pad_x:-pad_x+1] = int_mask\n",
    "    \n",
    "    return data"
   ]
  },
  {
   "cell_type": "markdown",
   "metadata": {},
   "source": [
    "### Test it"
   ]
  },
  {
   "cell_type": "code",
   "execution_count": 131,
   "metadata": {},
   "outputs": [
    {
     "name": "stdout",
     "output_type": "stream",
     "text": [
      "Farm shape:\n"
     ]
    },
    {
     "data": {
      "image/svg+xml": [
       "<svg xmlns=\"http://www.w3.org/2000/svg\" xmlns:xlink=\"http://www.w3.org/1999/xlink\" width=\"166.81417608936317\" height=\"221.8826986765489\" viewBox=\"614401.9363860799 6793838.315930418 166.81417608936317 221.8826986765489\" preserveAspectRatio=\"xMinYMin meet\"><g transform=\"matrix(1,0,0,-1,0,13587898.514559511)\"><path fill-rule=\"evenodd\" fill=\"#66cc99\" stroke=\"#555555\" stroke-width=\"2.0\" opacity=\"0.6\" d=\"M 614560.5326844405,6794002.249461887 L 614551.3238657945,6793984.507827699 L 614498.8314907955,6793922.72947045 L 614492.5582326669,6793920.70743108 L 614452.2179666577,6793846.533808147 L 614410.1542638086,6793855.289131531 L 614435.936449567,6793909.45850267 L 614433.6321967803,6793910.639382806 L 614451.7786957433,6793942.188119853 L 614457.315815308,6793940.04871889 L 614460.1545490483,6793946.042087128 L 614463.8505644068,6793945.078969138 L 614514.5901109984,6794040.225510035 L 614520.2653850783,6794051.980751365 L 614560.5326844405,6794002.249461887 z\" /></g></svg>"
      ],
      "text/plain": [
       "<shapely.geometry.polygon.Polygon at 0x12e6e24e0>"
      ]
     },
     "metadata": {},
     "output_type": "display_data"
    }
   ],
   "source": [
    "fp = os.path.join(img_dir,'B04_JFP.jp2')\n",
    "\n",
    "raster = rasterio.open(fp)\n",
    "\n",
    "out_shape = (50,50)\n",
    "\n",
    "farm_shapes = train_df.geometry.to_list()\n",
    "\n",
    "# Get an boolean mask array with all farms in it\n",
    "masked_raster, _, _  = rasterio.mask.raster_geometry_mask(raster, farm_shapes, invert=True)\n",
    "\n",
    "farm_shape = train_df.geometry.iloc[3]\n",
    "\n",
    "print('Farm shape:')\n",
    "display(farm_shape)\n",
    "\n",
    "# The window defining where on the raster this shape is found\n",
    "mask_window = get_mask_window(farm_shape, raster, max_dims=None)\n",
    "\n",
    "# The same window, but padded to the desired dims\n",
    "mask_window_padded = get_mask_window(farm_shape, raster, max_dims=out_shape)\n",
    "\n",
    "# Crop out the image data around the shape \n",
    "win_img = raster.read(window=mask_window_padded)[0]\n",
    "\n",
    "# Crop out the boolean mask of all farms in the window around the farm of interest\n",
    "win_mask_other = masked_raster[mask_window_padded.row_off:mask_window_padded.row_off+MAX_DIMS[0], mask_window_padded.col_off:mask_window_padded.col_off+MAX_DIMS[1]]\n",
    "\n",
    "temp = np.copy(masked_raster)\n",
    "\n",
    "temp[:mask_window.row_off,:] = False\n",
    "temp[mask_window.row_off+mask_window.width:,:]=False\n",
    "temp[:,:mask_window.col_off] = False\n",
    "temp[:,mask_window.col_off+mask_window.height:]=False\n",
    "\n",
    "win_mask_farm = temp[mask_window_padded.row_off:mask_window_padded.row_off+MAX_DIMS[0], mask_window_padded.col_off:mask_window_padded.col_off+MAX_DIMS[1]]\n",
    "\n",
    "del temp\n",
    "\n",
    "\n",
    "data = np.zeros((3, *out_shape))\n",
    "\n",
    "data[0] = win_img\n",
    "data[1] = win_mask_other\n",
    "data[2] = win_mask_farm\n",
    "\n",
    "raster.close()"
   ]
  },
  {
   "cell_type": "code",
   "execution_count": 132,
   "metadata": {},
   "outputs": [
    {
     "data": {
      "text/plain": [
       "Text(0.5, 1.0, 'Mask This Farm')"
      ]
     },
     "execution_count": 132,
     "metadata": {},
     "output_type": "execute_result"
    },
    {
     "data": {
      "image/png": "[encoded data removed]",
      "text/plain": [
       "<Figure size 1080x1080 with 3 Axes>"
      ]
     },
     "metadata": {
      "needs_background": "light"
     },
     "output_type": "display_data"
    }
   ],
   "source": [
    "fig, axes = plt.subplots(1, 3, figsize=(15,15))\n",
    "\n",
    "ax=axes[0]\n",
    "ax.imshow(data[0], cmap='gray')\n",
    "ax.set_title('Farm {}'.format(random_farm_id))\n",
    "\n",
    "ax=axes[1]\n",
    "ax.imshow(data[1], cmap='gray')\n",
    "ax.set_title('Mask All')\n",
    "\n",
    "ax=axes[2]\n",
    "ax.imshow(data[2], cmap='gray')\n",
    "ax.set_title('Mask This Farm')"
   ]
  },
  {
   "cell_type": "markdown",
   "metadata": {},
   "source": [
    "### Another Approach\n",
    "\n",
    "1. Create mask array for all farms on the entire raster\n",
    " - ie create a boolean mask array of the same shape of the raster which is 1 where farms are present in pixels.\n",
    "2. Get window of desired shape containing farm shape and surrounding data\n",
    "3. Read image data of window\n",
    "4. Read mask data of window\n",
    "5. Combine image and mask data into one array with multiple channels"
   ]
  },
  {
   "cell_type": "code",
   "execution_count": null,
   "metadata": {},
   "outputs": [],
   "source": [
    "from tqdm import tqdm\n",
    "\n",
    "def get_farm_data(masked_raster, raster, farm_shape, out_shape):\n",
    "    \n",
    "    this_farm_masked_raster = rasterio.mask.raster_geometry_mask(raster, [farm_shape], invert=True)\n",
    "    \n",
    "    # The window defining where on the raster this shape is found\n",
    "    mask_window = get_mask_window(farm_shape, raster, max_dims=None)\n",
    "    \n",
    "    # The same window, but padded to the desired dims\n",
    "    mask_window_padded = get_mask_window(farm_shape, raster, max_dims=out_shape)\n",
    "\n",
    "    # Crop out the image data around the shape \n",
    "    win_img = raster.read(window=mask_window)[0]\n",
    "    \n",
    "    win_mask_farm = masked_raster[]\n",
    "\n",
    "    # Crop out the boolean mask of all farms in the window around the farm of interest\n",
    "    win_mask_other = masked_raster[mask_window_padded.row_off:mask_window_padded.row_off+MAX_DIMS[0], mask_window_padded.col_off:mask_window_padded.col_off+MAX_DIMS[1]]\n",
    "    \n",
    "    \n",
    "\n",
    "    data = np.zeros((3, *out_shape))\n",
    "\n",
    "    data[0] = win_img\n",
    "    data[1] = win_mask_other\n",
    "    data[-1] = win_mask_farm\n",
    "    \n",
    "    return data\n",
    "\n",
    "\n",
    "def get_farms_data(farm_shapes, raster, out_shape):\n",
    "    \"\"\"\n",
    "    \n",
    "    \"\"\"\n",
    "    \n",
    "     # Get an boolean mask array with all farms in it\n",
    "    masked_raster, _, _  = rasterio.mask.raster_geometry_mask(raster, farm_shapes.geometry.to_list(), invert=True)\n",
    "    \n",
    "    all_data = {}\n",
    "    \n",
    "    for id, shape in tqdm(farm_shapes.iteritems()):\n",
    "        all_data[id] = get_farm_data(masked_raster, raster, shape, out_shape)\n",
    "        \n",
    "    return all_data\n",
    "        "
   ]
  },
  {
   "cell_type": "code",
   "execution_count": 74,
   "metadata": {},
   "outputs": [
    {
     "name": "stderr",
     "output_type": "stream",
     "text": [
      "\n",
      "0it [00:00, ?it/s]\u001b[A\n",
      "1it [00:00,  4.62it/s]\u001b[A\n",
      "2it [00:00,  5.21it/s]\u001b[A\n",
      "3it [00:00,  5.72it/s]\u001b[A\n",
      "4it [00:00,  6.13it/s]\u001b[A\n",
      "5it [00:00,  6.49it/s]\u001b[A\n",
      "6it [00:00,  6.73it/s]\u001b[A\n",
      "7it [00:01,  6.91it/s]\u001b[A\n",
      "8it [00:01,  7.06it/s]\u001b[A\n",
      "9it [00:01,  7.05it/s]\u001b[A\n",
      "10it [00:01,  7.08it/s]\u001b[A\n",
      "11it [00:01,  7.05it/s]\u001b[A\n",
      "12it [00:01,  7.02it/s]\u001b[A\n",
      "13it [00:01,  7.00it/s]\u001b[A\n",
      "14it [00:02,  6.99it/s]\u001b[A"
     ]
    },
    {
     "ename": "KeyboardInterrupt",
     "evalue": "",
     "output_type": "error",
     "traceback": [
      "\u001b[0;31m---------------------------------------------------------------------------\u001b[0m",
      "\u001b[0;31mKeyboardInterrupt\u001b[0m                         Traceback (most recent call last)",
      "\u001b[0;32m<ipython-input-74-cca120e6ad7e>\u001b[0m in \u001b[0;36m<module>\u001b[0;34m\u001b[0m\n\u001b[1;32m     10\u001b[0m \u001b[0;32mwith\u001b[0m \u001b[0mrasterio\u001b[0m\u001b[0;34m.\u001b[0m\u001b[0mopen\u001b[0m\u001b[0;34m(\u001b[0m\u001b[0mfp\u001b[0m\u001b[0;34m)\u001b[0m \u001b[0;32mas\u001b[0m \u001b[0mraster\u001b[0m\u001b[0;34m:\u001b[0m\u001b[0;34m\u001b[0m\u001b[0;34m\u001b[0m\u001b[0m\n\u001b[1;32m     11\u001b[0m \u001b[0;34m\u001b[0m\u001b[0m\n\u001b[0;32m---> 12\u001b[0;31m     \u001b[0mfarms_data\u001b[0m \u001b[0;34m=\u001b[0m \u001b[0mget_farms_data\u001b[0m\u001b[0;34m(\u001b[0m\u001b[0mfarm_shapes\u001b[0m\u001b[0;34m,\u001b[0m \u001b[0mraster\u001b[0m\u001b[0;34m,\u001b[0m \u001b[0mMAX_DIMS\u001b[0m\u001b[0;34m)\u001b[0m\u001b[0;34m\u001b[0m\u001b[0;34m\u001b[0m\u001b[0m\n\u001b[0m",
      "\u001b[0;32m<ipython-input-72-eddbd8f414bc>\u001b[0m in \u001b[0;36mget_farms_data\u001b[0;34m(farm_shapes, raster, out_shape)\u001b[0m\n\u001b[1;32m     39\u001b[0m \u001b[0;34m\u001b[0m\u001b[0m\n\u001b[1;32m     40\u001b[0m     \u001b[0;32mfor\u001b[0m \u001b[0mid\u001b[0m\u001b[0;34m,\u001b[0m \u001b[0mshape\u001b[0m \u001b[0;32min\u001b[0m \u001b[0mtqdm\u001b[0m\u001b[0;34m(\u001b[0m\u001b[0mfarm_shapes\u001b[0m\u001b[0;34m.\u001b[0m\u001b[0miteritems\u001b[0m\u001b[0;34m(\u001b[0m\u001b[0;34m)\u001b[0m\u001b[0;34m)\u001b[0m\u001b[0;34m:\u001b[0m\u001b[0;34m\u001b[0m\u001b[0;34m\u001b[0m\u001b[0m\n\u001b[0;32m---> 41\u001b[0;31m         \u001b[0mall_data\u001b[0m\u001b[0;34m[\u001b[0m\u001b[0mid\u001b[0m\u001b[0;34m]\u001b[0m \u001b[0;34m=\u001b[0m \u001b[0mget_farm_data\u001b[0m\u001b[0;34m(\u001b[0m\u001b[0mmasked_raster\u001b[0m\u001b[0;34m,\u001b[0m \u001b[0mraster\u001b[0m\u001b[0;34m,\u001b[0m \u001b[0mshape\u001b[0m\u001b[0;34m,\u001b[0m \u001b[0mout_shape\u001b[0m\u001b[0;34m)\u001b[0m\u001b[0;34m\u001b[0m\u001b[0;34m\u001b[0m\u001b[0m\n\u001b[0m\u001b[1;32m     42\u001b[0m \u001b[0;34m\u001b[0m\u001b[0m\n\u001b[1;32m     43\u001b[0m     \u001b[0;32mreturn\u001b[0m \u001b[0mall_data\u001b[0m\u001b[0;34m\u001b[0m\u001b[0;34m\u001b[0m\u001b[0m\n",
      "\u001b[0;32m<ipython-input-72-eddbd8f414bc>\u001b[0m in \u001b[0;36mget_farm_data\u001b[0;34m(masked_raster, raster, farm_shape, out_shape)\u001b[0m\n\u001b[1;32m     13\u001b[0m     \u001b[0mwin_mask_other\u001b[0m \u001b[0;34m=\u001b[0m \u001b[0mmasked_raster\u001b[0m\u001b[0;34m[\u001b[0m\u001b[0mmask_window\u001b[0m\u001b[0;34m.\u001b[0m\u001b[0mrow_off\u001b[0m\u001b[0;34m:\u001b[0m\u001b[0mmask_window\u001b[0m\u001b[0;34m.\u001b[0m\u001b[0mrow_off\u001b[0m\u001b[0;34m+\u001b[0m\u001b[0mMAX_DIMS\u001b[0m\u001b[0;34m[\u001b[0m\u001b[0;36m0\u001b[0m\u001b[0;34m]\u001b[0m\u001b[0;34m,\u001b[0m \u001b[0mmask_window\u001b[0m\u001b[0;34m.\u001b[0m\u001b[0mcol_off\u001b[0m\u001b[0;34m:\u001b[0m\u001b[0mmask_window\u001b[0m\u001b[0;34m.\u001b[0m\u001b[0mcol_off\u001b[0m\u001b[0;34m+\u001b[0m\u001b[0mMAX_DIMS\u001b[0m\u001b[0;34m[\u001b[0m\u001b[0;36m1\u001b[0m\u001b[0;34m]\u001b[0m\u001b[0;34m]\u001b[0m\u001b[0;34m\u001b[0m\u001b[0;34m\u001b[0m\u001b[0m\n\u001b[1;32m     14\u001b[0m \u001b[0;34m\u001b[0m\u001b[0m\n\u001b[0;32m---> 15\u001b[0;31m     \u001b[0mthis_farm_masked_raster\u001b[0m\u001b[0;34m,\u001b[0m \u001b[0m_\u001b[0m\u001b[0;34m,\u001b[0m \u001b[0m_\u001b[0m \u001b[0;34m=\u001b[0m \u001b[0mrasterio\u001b[0m\u001b[0;34m.\u001b[0m\u001b[0mmask\u001b[0m\u001b[0;34m.\u001b[0m\u001b[0mraster_geometry_mask\u001b[0m\u001b[0;34m(\u001b[0m\u001b[0mraster\u001b[0m\u001b[0;34m,\u001b[0m \u001b[0;34m[\u001b[0m\u001b[0mfarm_shape\u001b[0m\u001b[0;34m]\u001b[0m\u001b[0;34m,\u001b[0m \u001b[0minvert\u001b[0m\u001b[0;34m=\u001b[0m\u001b[0;32mTrue\u001b[0m\u001b[0;34m)\u001b[0m\u001b[0;34m\u001b[0m\u001b[0;34m\u001b[0m\u001b[0m\n\u001b[0m\u001b[1;32m     16\u001b[0m \u001b[0;34m\u001b[0m\u001b[0m\n\u001b[1;32m     17\u001b[0m     \u001b[0mwin_mask_farm\u001b[0m \u001b[0;34m=\u001b[0m \u001b[0mthis_farm_masked_raster\u001b[0m\u001b[0;34m[\u001b[0m\u001b[0mmask_window\u001b[0m\u001b[0;34m.\u001b[0m\u001b[0mrow_off\u001b[0m\u001b[0;34m:\u001b[0m\u001b[0mmask_window\u001b[0m\u001b[0;34m.\u001b[0m\u001b[0mrow_off\u001b[0m\u001b[0;34m+\u001b[0m\u001b[0mMAX_DIMS\u001b[0m\u001b[0;34m[\u001b[0m\u001b[0;36m0\u001b[0m\u001b[0;34m]\u001b[0m\u001b[0;34m,\u001b[0m \u001b[0mmask_window\u001b[0m\u001b[0;34m.\u001b[0m\u001b[0mcol_off\u001b[0m\u001b[0;34m:\u001b[0m\u001b[0mmask_window\u001b[0m\u001b[0;34m.\u001b[0m\u001b[0mcol_off\u001b[0m\u001b[0;34m+\u001b[0m\u001b[0mMAX_DIMS\u001b[0m\u001b[0;34m[\u001b[0m\u001b[0;36m1\u001b[0m\u001b[0;34m]\u001b[0m\u001b[0;34m]\u001b[0m\u001b[0;34m\u001b[0m\u001b[0;34m\u001b[0m\u001b[0m\n",
      "\u001b[0;32m~/anaconda3/envs/zindi_farmpin/lib/python3.7/site-packages/rasterio/mask.py\u001b[0m in \u001b[0;36mraster_geometry_mask\u001b[0;34m(dataset, shapes, all_touched, invert, crop, pad)\u001b[0m\n\u001b[1;32m    104\u001b[0m \u001b[0;34m\u001b[0m\u001b[0m\n\u001b[1;32m    105\u001b[0m     mask = geometry_mask(shapes, transform=transform, invert=invert,\n\u001b[0;32m--> 106\u001b[0;31m                          out_shape=out_shape, all_touched=all_touched)\n\u001b[0m\u001b[1;32m    107\u001b[0m \u001b[0;34m\u001b[0m\u001b[0m\n\u001b[1;32m    108\u001b[0m     \u001b[0;32mreturn\u001b[0m \u001b[0mmask\u001b[0m\u001b[0;34m,\u001b[0m \u001b[0mtransform\u001b[0m\u001b[0;34m,\u001b[0m \u001b[0mwindow\u001b[0m\u001b[0;34m\u001b[0m\u001b[0;34m\u001b[0m\u001b[0m\n",
      "\u001b[0;32m~/anaconda3/envs/zindi_farmpin/lib/python3.7/site-packages/rasterio/env.py\u001b[0m in \u001b[0;36mwrapper\u001b[0;34m(*args, **kwds)\u001b[0m\n\u001b[1;32m    377\u001b[0m     \u001b[0;32mdef\u001b[0m \u001b[0mwrapper\u001b[0m\u001b[0;34m(\u001b[0m\u001b[0;34m*\u001b[0m\u001b[0margs\u001b[0m\u001b[0;34m,\u001b[0m \u001b[0;34m**\u001b[0m\u001b[0mkwds\u001b[0m\u001b[0;34m)\u001b[0m\u001b[0;34m:\u001b[0m\u001b[0;34m\u001b[0m\u001b[0;34m\u001b[0m\u001b[0m\n\u001b[1;32m    378\u001b[0m         \u001b[0;32mif\u001b[0m \u001b[0mlocal\u001b[0m\u001b[0;34m.\u001b[0m\u001b[0m_env\u001b[0m\u001b[0;34m:\u001b[0m\u001b[0;34m\u001b[0m\u001b[0;34m\u001b[0m\u001b[0m\n\u001b[0;32m--> 379\u001b[0;31m             \u001b[0;32mreturn\u001b[0m \u001b[0mf\u001b[0m\u001b[0;34m(\u001b[0m\u001b[0;34m*\u001b[0m\u001b[0margs\u001b[0m\u001b[0;34m,\u001b[0m \u001b[0;34m**\u001b[0m\u001b[0mkwds\u001b[0m\u001b[0;34m)\u001b[0m\u001b[0;34m\u001b[0m\u001b[0;34m\u001b[0m\u001b[0m\n\u001b[0m\u001b[1;32m    380\u001b[0m         \u001b[0;32melse\u001b[0m\u001b[0;34m:\u001b[0m\u001b[0;34m\u001b[0m\u001b[0;34m\u001b[0m\u001b[0m\n\u001b[1;32m    381\u001b[0m             \u001b[0;32mwith\u001b[0m \u001b[0mEnv\u001b[0m\u001b[0;34m.\u001b[0m\u001b[0mfrom_defaults\u001b[0m\u001b[0;34m(\u001b[0m\u001b[0;34m)\u001b[0m\u001b[0;34m:\u001b[0m\u001b[0;34m\u001b[0m\u001b[0;34m\u001b[0m\u001b[0m\n",
      "\u001b[0;32m~/anaconda3/envs/zindi_farmpin/lib/python3.7/site-packages/rasterio/features.py\u001b[0m in \u001b[0;36mgeometry_mask\u001b[0;34m(geometries, out_shape, transform, all_touched, invert)\u001b[0m\n\u001b[1;32m     66\u001b[0m         \u001b[0mall_touched\u001b[0m\u001b[0;34m=\u001b[0m\u001b[0mall_touched\u001b[0m\u001b[0;34m,\u001b[0m\u001b[0;34m\u001b[0m\u001b[0;34m\u001b[0m\u001b[0m\n\u001b[1;32m     67\u001b[0m         \u001b[0mfill\u001b[0m\u001b[0;34m=\u001b[0m\u001b[0mfill\u001b[0m\u001b[0;34m,\u001b[0m\u001b[0;34m\u001b[0m\u001b[0;34m\u001b[0m\u001b[0m\n\u001b[0;32m---> 68\u001b[0;31m         default_value=mask_value).astype('bool')\n\u001b[0m\u001b[1;32m     69\u001b[0m \u001b[0;34m\u001b[0m\u001b[0m\n\u001b[1;32m     70\u001b[0m \u001b[0;34m\u001b[0m\u001b[0m\n",
      "\u001b[0;32m~/anaconda3/envs/zindi_farmpin/lib/python3.7/site-packages/rasterio/env.py\u001b[0m in \u001b[0;36mwrapper\u001b[0;34m(*args, **kwds)\u001b[0m\n\u001b[1;32m    377\u001b[0m     \u001b[0;32mdef\u001b[0m \u001b[0mwrapper\u001b[0m\u001b[0;34m(\u001b[0m\u001b[0;34m*\u001b[0m\u001b[0margs\u001b[0m\u001b[0;34m,\u001b[0m \u001b[0;34m**\u001b[0m\u001b[0mkwds\u001b[0m\u001b[0;34m)\u001b[0m\u001b[0;34m:\u001b[0m\u001b[0;34m\u001b[0m\u001b[0;34m\u001b[0m\u001b[0m\n\u001b[1;32m    378\u001b[0m         \u001b[0;32mif\u001b[0m \u001b[0mlocal\u001b[0m\u001b[0;34m.\u001b[0m\u001b[0m_env\u001b[0m\u001b[0;34m:\u001b[0m\u001b[0;34m\u001b[0m\u001b[0;34m\u001b[0m\u001b[0m\n\u001b[0;32m--> 379\u001b[0;31m             \u001b[0;32mreturn\u001b[0m \u001b[0mf\u001b[0m\u001b[0;34m(\u001b[0m\u001b[0;34m*\u001b[0m\u001b[0margs\u001b[0m\u001b[0;34m,\u001b[0m \u001b[0;34m**\u001b[0m\u001b[0mkwds\u001b[0m\u001b[0;34m)\u001b[0m\u001b[0;34m\u001b[0m\u001b[0;34m\u001b[0m\u001b[0m\n\u001b[0m\u001b[1;32m    380\u001b[0m         \u001b[0;32melse\u001b[0m\u001b[0;34m:\u001b[0m\u001b[0;34m\u001b[0m\u001b[0;34m\u001b[0m\u001b[0m\n\u001b[1;32m    381\u001b[0m             \u001b[0;32mwith\u001b[0m \u001b[0mEnv\u001b[0m\u001b[0;34m.\u001b[0m\u001b[0mfrom_defaults\u001b[0m\u001b[0;34m(\u001b[0m\u001b[0;34m)\u001b[0m\u001b[0;34m:\u001b[0m\u001b[0;34m\u001b[0m\u001b[0;34m\u001b[0m\u001b[0m\n",
      "\u001b[0;32m~/anaconda3/envs/zindi_farmpin/lib/python3.7/site-packages/rasterio/features.py\u001b[0m in \u001b[0;36mrasterize\u001b[0;34m(shapes, out_shape, fill, out, transform, all_touched, merge_alg, default_value, dtype)\u001b[0m\n\u001b[1;32m    317\u001b[0m \u001b[0;34m\u001b[0m\u001b[0m\n\u001b[1;32m    318\u001b[0m     \u001b[0mtransform\u001b[0m \u001b[0;34m=\u001b[0m \u001b[0mguard_transform\u001b[0m\u001b[0;34m(\u001b[0m\u001b[0mtransform\u001b[0m\u001b[0;34m)\u001b[0m\u001b[0;34m\u001b[0m\u001b[0;34m\u001b[0m\u001b[0m\n\u001b[0;32m--> 319\u001b[0;31m     \u001b[0m_rasterize\u001b[0m\u001b[0;34m(\u001b[0m\u001b[0mvalid_shapes\u001b[0m\u001b[0;34m,\u001b[0m \u001b[0mout\u001b[0m\u001b[0;34m,\u001b[0m \u001b[0mtransform\u001b[0m\u001b[0;34m,\u001b[0m \u001b[0mall_touched\u001b[0m\u001b[0;34m,\u001b[0m \u001b[0mmerge_alg\u001b[0m\u001b[0;34m)\u001b[0m\u001b[0;34m\u001b[0m\u001b[0;34m\u001b[0m\u001b[0m\n\u001b[0m\u001b[1;32m    320\u001b[0m     \u001b[0;32mreturn\u001b[0m \u001b[0mout\u001b[0m\u001b[0;34m\u001b[0m\u001b[0;34m\u001b[0m\u001b[0m\n\u001b[1;32m    321\u001b[0m \u001b[0;34m\u001b[0m\u001b[0m\n",
      "\u001b[0;31mKeyboardInterrupt\u001b[0m: "
     ]
    }
   ],
   "source": [
    "MAX_DIMS = (80, 80)\n",
    "\n",
    "fp = os.path.join(img_dir,'B04_JFP.jp2')\n",
    "\n",
    "farm_shapes = train_df.set_index(\"Field_Id\").geometry\n",
    "\n",
    "# Pick a shape to prototype with\n",
    "shape = farm_shapes.iloc[0]\n",
    "\n",
    "with rasterio.open(fp) as raster:\n",
    "    \n",
    "    farms_data = get_farms_data(farm_shapes, raster, MAX_DIMS)"
   ]
  },
  {
   "cell_type": "markdown",
   "metadata": {},
   "source": [
    "### Show image and mask data of 3 random farms"
   ]
  },
  {
   "cell_type": "code",
   "execution_count": 65,
   "metadata": {},
   "outputs": [
    {
     "data": {
      "image/png": "[encoded data removed]",
      "text/plain": [
       "<Figure size 720x1080 with 6 Axes>"
      ]
     },
     "metadata": {
      "needs_background": "light"
     },
     "output_type": "display_data"
    }
   ],
   "source": [
    "fig, axes = plt.subplots(3, 2, figsize=(10,15))\n",
    "\n",
    "choices = np.random.choice(list(farms_data.keys()), (3,))\n",
    "\n",
    "\n",
    "for i, random_farm_id in enumerate(choices):\n",
    "    farm_data = farms_data[random_farm_id]\n",
    "\n",
    "    ax=axes[i][0]\n",
    "    ax.imshow(farm_data[0], cmap='gray')\n",
    "    ax.set_title('Farm {}'.format(random_farm_id))\n",
    "\n",
    "    ax=axes[i][1]\n",
    "    ax.imshow(farm_data[1], cmap='gray')\n",
    "    ax.set_title('Mask')\n",
    "\n",
    "plt.show()"
   ]
  },
  {
   "cell_type": "code",
   "execution_count": null,
   "metadata": {},
   "outputs": [],
   "source": []
  }
 ],
 "metadata": {
  "kernelspec": {
   "display_name": "Python 3",
   "language": "python",
   "name": "python3"
  },
  "language_info": {
   "codemirror_mode": {
    "name": "ipython",
    "version": 3
   },
   "file_extension": ".py",
   "mimetype": "text/x-python",
   "name": "python",
   "nbconvert_exporter": "python",
   "pygments_lexer": "ipython3",
   "version": "3.7.3"
  }
 },
 "nbformat": 4,
 "nbformat_minor": 4
}
