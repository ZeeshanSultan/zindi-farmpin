{
 "cells": [
  {
   "cell_type": "code",
   "execution_count": 1,
   "metadata": {},
   "outputs": [],
   "source": [
    "%load_ext autoreload\n",
    "%autoreload 2\n",
    "%matplotlib inline"
   ]
  },
  {
   "cell_type": "markdown",
   "metadata": {},
   "source": [
    "# Create Masks"
   ]
  },
  {
   "cell_type": "code",
   "execution_count": 27,
   "metadata": {},
   "outputs": [],
   "source": [
    "import os\n",
    "import rasterio\n",
    "import numpy as np\n",
    "import geopandas as gpd\n",
    "import matplotlib.pyplot as plt\n",
    "\n",
    "import sys\n",
    "sys.path.append('../')\n",
    "from config import raw_data_dir, processed_data_dir\n",
    "\n",
    "from rasterio.plot import show\n",
    "\n",
    "%matplotlib inline\n",
    "\n",
    "# Test dir\n",
    "date = '2017-01-01'\n",
    "images_dir ='../data/interim/images-merged/'\n",
    "\n",
    "img_dir = img_dir = os.path.join(images_dir, date)\n",
    "\n",
    "out_dir = os.path.join(processed_data_dir, 'data_v1', date)\n",
    "\n",
    "if not os.path.isdir(out_dir):\n",
    "    os.makedirs(out_dir)\n",
    "\n",
    "\n",
    "res_groups = {\n",
    "    '60': ['B01', 'B09', 'B10'],\n",
    "    '20': ['B05', 'B06', 'B07', 'B8A', 'B11', 'B12'],\n",
    "    '10': ['B02', 'B03', 'B04', 'B08', 'TCI']\n",
    "}\n",
    "\n",
    "# Dimensions to zero-pad images to\n",
    "MAX_DIMS = {\n",
    "    '10': (90, 90),\n",
    "    '20': (50, 50),\n",
    "    '60': (20, 20)\n",
    "}"
   ]
  },
  {
   "cell_type": "markdown",
   "metadata": {},
   "source": [
    "## Read Shapefile"
   ]
  },
  {
   "cell_type": "code",
   "execution_count": 28,
   "metadata": {},
   "outputs": [
    {
     "data": {
      "text/html": [
       "<div>\n",
       "<style scoped>\n",
       "    .dataframe tbody tr th:only-of-type {\n",
       "        vertical-align: middle;\n",
       "    }\n",
       "\n",
       "    .dataframe tbody tr th {\n",
       "        vertical-align: top;\n",
       "    }\n",
       "\n",
       "    .dataframe thead th {\n",
       "        text-align: right;\n",
       "    }\n",
       "</style>\n",
       "<table border=\"1\" class=\"dataframe\">\n",
       "  <thead>\n",
       "    <tr style=\"text-align: right;\">\n",
       "      <th></th>\n",
       "      <th>Field_Id</th>\n",
       "      <th>Area</th>\n",
       "      <th>Subregion</th>\n",
       "      <th>Crop_Id_Ne</th>\n",
       "      <th>geometry</th>\n",
       "    </tr>\n",
       "  </thead>\n",
       "  <tbody>\n",
       "    <tr>\n",
       "      <th>0</th>\n",
       "      <td>1</td>\n",
       "      <td>0.915905</td>\n",
       "      <td>3</td>\n",
       "      <td>8</td>\n",
       "      <td>POLYGON ((613924.3324000851 6793991.295069702,...</td>\n",
       "    </tr>\n",
       "    <tr>\n",
       "      <th>1</th>\n",
       "      <td>2</td>\n",
       "      <td>2.064410</td>\n",
       "      <td>3</td>\n",
       "      <td>6</td>\n",
       "      <td>POLYGON ((614404.0717397591 6794020.579634549,...</td>\n",
       "    </tr>\n",
       "    <tr>\n",
       "      <th>2</th>\n",
       "      <td>3</td>\n",
       "      <td>1.080300</td>\n",
       "      <td>3</td>\n",
       "      <td>8</td>\n",
       "      <td>POLYGON ((614320.2146632321 6793964.242091182,...</td>\n",
       "    </tr>\n",
       "    <tr>\n",
       "      <th>3</th>\n",
       "      <td>4</td>\n",
       "      <td>1.316190</td>\n",
       "      <td>3</td>\n",
       "      <td>8</td>\n",
       "      <td>POLYGON ((614560.5326844405 6794002.249461887,...</td>\n",
       "    </tr>\n",
       "    <tr>\n",
       "      <th>4</th>\n",
       "      <td>7</td>\n",
       "      <td>5.529220</td>\n",
       "      <td>3</td>\n",
       "      <td>8</td>\n",
       "      <td>POLYGON ((614596.6564746551 6794269.865436315,...</td>\n",
       "    </tr>\n",
       "  </tbody>\n",
       "</table>\n",
       "</div>"
      ],
      "text/plain": [
       "   Field_Id      Area  Subregion Crop_Id_Ne  \\\n",
       "0         1  0.915905          3          8   \n",
       "1         2  2.064410          3          6   \n",
       "2         3  1.080300          3          8   \n",
       "3         4  1.316190          3          8   \n",
       "4         7  5.529220          3          8   \n",
       "\n",
       "                                            geometry  \n",
       "0  POLYGON ((613924.3324000851 6793991.295069702,...  \n",
       "1  POLYGON ((614404.0717397591 6794020.579634549,...  \n",
       "2  POLYGON ((614320.2146632321 6793964.242091182,...  \n",
       "3  POLYGON ((614560.5326844405 6794002.249461887,...  \n",
       "4  POLYGON ((614596.6564746551 6794269.865436315,...  "
      ]
     },
     "execution_count": 28,
     "metadata": {},
     "output_type": "execute_result"
    }
   ],
   "source": [
    "train_fp = os.path.join(raw_data_dir,'train/train.shp')\n",
    "train_df = gpd.read_file(train_fp)\n",
    "\n",
    "# Drop NaNs\n",
    "train_df = train_df.loc[~train_df.geometry.isna()]\n",
    "train_df.reset_index(drop=True, inplace=True)\n",
    "\n",
    "# Convert shapefile to coordinate system of raster\n",
    "train_df = train_df.to_crs({'init': 'epsg:32734'})\n",
    "\n",
    "train_df.head()"
   ]
  },
  {
   "cell_type": "markdown",
   "metadata": {},
   "source": [
    "## Read Raster"
   ]
  },
  {
   "cell_type": "code",
   "execution_count": 29,
   "metadata": {},
   "outputs": [
    {
     "name": "stdout",
     "output_type": "stream",
     "text": [
      "B01.jp2 B03.jp2 B05.jp2 B07.jp2 B10.jp2 B12.jp2 TCI.jp2\n",
      "B02.jp2 B04.jp2 B06.jp2 B09.jp2 B11.jp2 B8A.jp2\n"
     ]
    }
   ],
   "source": [
    "! ls $img_dir"
   ]
  },
  {
   "cell_type": "code",
   "execution_count": 30,
   "metadata": {},
   "outputs": [],
   "source": [
    "band = 'B04'\n",
    "fp = os.path.join(img_dir, f'{band}.jp2')\n",
    "raster = rasterio.open(fp)"
   ]
  },
  {
   "cell_type": "markdown",
   "metadata": {},
   "source": [
    "### Approach\n",
    "\n",
    "1. Create mask array for all farms on the entire raster\n",
    " - ie create a boolean mask array of the same shape of the raster which is 1 where farms are present in pixels.\n",
    "2. Get window of desired shape containing farm shape and surrounding data\n",
    "3. Read image data of window\n",
    "4. Read mask data of window\n",
    "5. Combine image and mask data into one array with multiple channels"
   ]
  },
  {
   "cell_type": "code",
   "execution_count": 31,
   "metadata": {},
   "outputs": [],
   "source": [
    "import rasterio\n",
    "from rasterio.mask import raster_geometry_mask\n",
    "\n",
    "def get_mask_window(shape, raster, max_dims=None):\n",
    "    \n",
    "    # Get the boolean mask and window of shape\n",
    "    try:\n",
    "        bool_mask, transform, bb_window = raster_geometry_mask(raster, [shape], crop=True)\n",
    "    except ValueError:\n",
    "        return None\n",
    "    \n",
    "    if max_dims is  None:\n",
    "        return bb_window\n",
    "    else:\n",
    "        # Turn mask into int array with 1 at farm pixels\n",
    "        int_mask = np.bitwise_not(bool_mask).astype(int)\n",
    "\n",
    "        # Get the shape of the bounding box window\n",
    "        bb_shape = (bb_window.height, bb_window.width)\n",
    "\n",
    "\n",
    "        # Get number of pixels to add to x and y dims\n",
    "        pad_x = int(np.ceil((max_dims[1]-bb_shape[1])/2))\n",
    "        pad_y = int(np.ceil((max_dims[0]-bb_shape[0])/2))\n",
    "\n",
    "        # Get a window with padding around it and the desired shape in the center\n",
    "        # Depending on the shape, this window can be a different size than max_dims\n",
    "        window_ = rasterio.mask.geometry_window(raster, \n",
    "                                                      [shape], \n",
    "                                                      pad_x=pad_x, \n",
    "                                                      pad_y=pad_y, \n",
    "                                                      pixel_precision=2 # I found this fixes some rounding errors\n",
    "                                                     )\n",
    "\n",
    "        # To fix sizing issues, create a new window that starts at the same top left anchor, but of a fixed width and height\n",
    "        window = rasterio.windows.Window(col_off=window_.col_off, row_off=window_.row_off, width=max_dims[1], height=max_dims[0])\n",
    "    \n",
    "        return window\n",
    "    \n",
    "    \n",
    "def get_farm_data(masked_raster, raster, farm_shape, out_shape):\n",
    "    \n",
    "    bands = raster.count\n",
    "    \n",
    "    # The window defining where on the raster this shape is found\n",
    "    mask_window = get_mask_window(farm_shape, raster, max_dims=None)\n",
    "    \n",
    "    if mask_window is None:\n",
    "        return 0.\n",
    "    \n",
    "    # The same window, but padded to the desired dims\n",
    "    mask_window_padded = get_mask_window(farm_shape, raster, max_dims=out_shape)\n",
    "\n",
    "    # Crop out the image data around the shape \n",
    "    win_img = raster.read(window=mask_window_padded)[0]\n",
    "\n",
    "    # Crop out the boolean mask of all farms in the window around the farm of interest\n",
    "    win_mask_other = masked_raster[mask_window_padded.row_off:mask_window_padded.row_off+out_shape[0], \n",
    "                                   mask_window_padded.col_off:mask_window_padded.col_off+out_shape[1]]\n",
    "    \n",
    "    temp = np.copy(masked_raster)\n",
    "\n",
    "    temp[:mask_window.row_off,:] = False\n",
    "    temp[mask_window.row_off+mask_window.width:,:]=False\n",
    "    temp[:,:mask_window.col_off] = False\n",
    "    temp[:,mask_window.col_off+mask_window.height:]=False\n",
    "\n",
    "    win_mask_farm = temp[mask_window_padded.row_off:mask_window_padded.row_off+out_shape[0], \n",
    "                         mask_window_padded.col_off:mask_window_padded.col_off+out_shape[1]]\n",
    "\n",
    "    del temp\n",
    "\n",
    "    \n",
    "    data = np.zeros((bands+2, *out_shape))\n",
    "    data[:bands] = win_img\n",
    "    data[-2] = win_mask_other\n",
    "    data[-1] = win_mask_farm\n",
    "    \n",
    "    return data"
   ]
  },
  {
   "cell_type": "code",
   "execution_count": 32,
   "metadata": {},
   "outputs": [
    {
     "name": "stdout",
     "output_type": "stream",
     "text": [
      "Resolution Group:  10\n",
      "Output Shape (90, 90)\n",
      "Farm shape:\n"
     ]
    },
    {
     "data": {
      "image/svg+xml": [
       "<svg xmlns=\"http://www.w3.org/2000/svg\" xmlns:xlink=\"http://www.w3.org/1999/xlink\" width=\"168.87896598433144\" height=\"186.2242542328313\" viewBox=\"583048.9840467485 6820521.5908331275 168.87896598433144 186.2242542328313\" preserveAspectRatio=\"xMinYMin meet\"><g transform=\"matrix(1,0,0,-1,0,13641229.405920487)\"><path fill-rule=\"evenodd\" fill=\"#66cc99\" stroke=\"#555555\" stroke-width=\"2.0\" opacity=\"0.6\" d=\"M 583148.610104761,6820700.917892759 L 583210.9658181317,6820582.36006902 L 583105.3666370903,6820528.488027729 L 583090.3578808907,6820561.28694639 L 583086.2377435054,6820583.040544309 L 583055.8812413496,6820653.280830156 L 583148.610104761,6820700.917892759 z\" /></g></svg>"
      ],
      "text/plain": [
       "<shapely.geometry.polygon.Polygon at 0x12c67ee48>"
      ]
     },
     "metadata": {},
     "output_type": "display_data"
    }
   ],
   "source": [
    "[res_group] = [grp for grp, bands in res_groups.items() if band in bands]\n",
    "out_shape = MAX_DIMS[res_group]\n",
    "\n",
    "print('Resolution Group: ',res_group)\n",
    "print('Output Shape', out_shape)\n",
    "\n",
    "farm_shapes = train_df.geometry.to_list()\n",
    "\n",
    "# Get an boolean mask array with all farms in it\n",
    "masked_raster, _, _  = rasterio.mask.raster_geometry_mask(raster, farm_shapes, invert=True)\n",
    "\n",
    "farm_id = 368\n",
    "farm_shape = train_df.geometry.iloc[farm_id]\n",
    "\n",
    "print('Farm shape:')\n",
    "display(farm_shape)"
   ]
  },
  {
   "cell_type": "code",
   "execution_count": 33,
   "metadata": {},
   "outputs": [
    {
     "name": "stdout",
     "output_type": "stream",
     "text": [
      "CPU times: user 368 ms, sys: 175 ms, total: 543 ms\n",
      "Wall time: 97.5 ms\n"
     ]
    }
   ],
   "source": [
    "%%time\n",
    "data = get_farm_data(masked_raster, raster, farm_shape, out_shape)"
   ]
  },
  {
   "cell_type": "code",
   "execution_count": 34,
   "metadata": {},
   "outputs": [
    {
     "data": {
      "image/png": "[encoded data removed]",
      "text/plain": [
       "<Figure size 1080x1080 with 3 Axes>"
      ]
     },
     "metadata": {
      "needs_background": "light"
     },
     "output_type": "display_data"
    }
   ],
   "source": [
    "fig, axes = plt.subplots(1, 3, figsize=(15,15))\n",
    "\n",
    "ax=axes[0]\n",
    "ax.imshow(data[0], cmap='gray')\n",
    "ax.set_title('Farm {}'.format(farm_id))\n",
    "\n",
    "ax=axes[1]\n",
    "ax.imshow(data[-2], cmap='gray')\n",
    "ax.set_title('Mask All')\n",
    "\n",
    "ax=axes[2]\n",
    "ax.imshow(data[-1], cmap='gray')\n",
    "ax.set_title('Mask This Farm');"
   ]
  },
  {
   "cell_type": "code",
   "execution_count": 35,
   "metadata": {},
   "outputs": [],
   "source": [
    "from tqdm import tqdm\n",
    "\n",
    "\n",
    "def get_farms_data(farm_shapes, raster, out_shape):\n",
    "    \"\"\"\n",
    "    \n",
    "    \"\"\"\n",
    "    \n",
    "     # Get an boolean mask array with all farms in it\n",
    "    masked_raster, _, _  = rasterio.mask.raster_geometry_mask(raster, farm_shapes.geometry.to_list(), invert=True)\n",
    "    \n",
    "    all_data = {}\n",
    "    \n",
    "    for id, shape in tqdm(farm_shapes.iteritems()):\n",
    "        farm_data = get_farm_data(masked_raster, raster, shape, out_shape)\n",
    "        \n",
    "        if type(farm_data) == np.ndarray:\n",
    "            all_data[id] = farm_data\n",
    "        \n",
    "    return all_data\n",
    "        "
   ]
  },
  {
   "cell_type": "markdown",
   "metadata": {},
   "source": [
    "## Get farm data for all farms"
   ]
  },
  {
   "cell_type": "code",
   "execution_count": 36,
   "metadata": {},
   "outputs": [
    {
     "name": "stderr",
     "output_type": "stream",
     "text": [
      "2494it [03:33, 11.67it/s]\n"
     ]
    }
   ],
   "source": [
    "farm_shapes = train_df.set_index(\"Field_Id\").geometry\n",
    "\n",
    "with rasterio.open(fp) as raster:\n",
    "    farms_data = get_farms_data(farm_shapes, raster, out_shape)"
   ]
  },
  {
   "cell_type": "markdown",
   "metadata": {},
   "source": [
    "### Show image and mask data of 3 random farms"
   ]
  },
  {
   "cell_type": "code",
   "execution_count": 37,
   "metadata": {},
   "outputs": [
    {
     "data": {
      "image/svg+xml": [
       "<svg xmlns=\"http://www.w3.org/2000/svg\" xmlns:xlink=\"http://www.w3.org/1999/xlink\" width=\"207.58625090972055\" height=\"149.2922856947407\" viewBox=\"609972.3685499997 6800702.204619501 207.58625090972055 149.2922856947407\" preserveAspectRatio=\"xMinYMin meet\"><g transform=\"matrix(1,0,0,-1,0,13601553.701524697)\"><path fill-rule=\"evenodd\" fill=\"#66cc99\" stroke=\"#555555\" stroke-width=\"2.0\" opacity=\"0.6\" d=\"M 610023.944248867,6800843.8085255325 L 610161.8780501648,6800784.485888819 L 610172.2664212461,6800779.113356445 L 610132.8737104638,6800710.934319512 L 610131.4718404085,6800709.892999164 L 609980.0569296629,6800766.443298982 L 610023.944248867,6800843.8085255325 z\" /></g></svg>"
      ],
      "text/plain": [
       "<shapely.geometry.polygon.Polygon at 0x12b14a1d0>"
      ]
     },
     "metadata": {},
     "output_type": "display_data"
    },
    {
     "data": {
      "image/png": "[encoded data removed]",
      "text/plain": [
       "<Figure size 720x1080 with 3 Axes>"
      ]
     },
     "metadata": {
      "needs_background": "light"
     },
     "output_type": "display_data"
    },
    {
     "data": {
      "image/svg+xml": [
       "<svg xmlns=\"http://www.w3.org/2000/svg\" xmlns:xlink=\"http://www.w3.org/1999/xlink\" width=\"239.0248152492568\" height=\"245.31692792940885\" viewBox=\"595177.2588470174 6810095.074553155 239.0248152492568 245.31692792940885\" preserveAspectRatio=\"xMinYMin meet\"><g transform=\"matrix(1,0,0,-1,0,13620435.466034241)\"><path fill-rule=\"evenodd\" fill=\"#66cc99\" stroke=\"#555555\" stroke-width=\"2.0\" opacity=\"0.6\" d=\"M 595186.3446591629,6810267.955055511 L 595264.8186692974,6810328.186231924 L 595273.2510086207,6810331.305668939 L 595336.5853394654,6810277.735823462 L 595407.1978501212,6810192.798548834 L 595405.9644274124,6810183.822336225 L 595397.7814570791,6810175.772983158 L 595360.7685401172,6810151.727487576 L 595351.7160382256,6810143.685281226 L 595349.6130772969,6810134.716256723 L 595307.6188826633,6810104.160365301 L 595296.4310933655,6810118.456520295 L 595208.9687314192,6810234.25862371 L 595186.3446591629,6810267.955055511 z\" /></g></svg>"
      ],
      "text/plain": [
       "<shapely.geometry.polygon.Polygon at 0x12c3aa828>"
      ]
     },
     "metadata": {},
     "output_type": "display_data"
    },
    {
     "data": {
      "image/png": "[encoded data removed]",
      "text/plain": [
       "<Figure size 720x1080 with 3 Axes>"
      ]
     },
     "metadata": {
      "needs_background": "light"
     },
     "output_type": "display_data"
    },
    {
     "data": {
      "image/svg+xml": [
       "<svg xmlns=\"http://www.w3.org/2000/svg\" xmlns:xlink=\"http://www.w3.org/1999/xlink\" width=\"240.81758767494466\" height=\"206.3371806005016\" viewBox=\"571170.0836537346 6847021.2935862355 240.81758767494466 206.3371806005016\" preserveAspectRatio=\"xMinYMin meet\"><g transform=\"matrix(1,0,0,-1,0,13694248.92435307)\"><path fill-rule=\"evenodd\" fill=\"#66cc99\" stroke=\"#555555\" stroke-width=\"2.0\" opacity=\"0.6\" d=\"M 571179.0028236485,6847045.839454238 L 571276.9302555287,6847218.711596922 L 571401.9820714957,6847102.484294901 L 571365.7543627721,6847042.597682705 L 571321.4316440437,6847030.2127561495 L 571285.1802268429,6847043.086779576 L 571233.0102362218,6847042.3486612495 L 571179.0028236485,6847045.839454238 z\" /></g></svg>"
      ],
      "text/plain": [
       "<shapely.geometry.polygon.Polygon at 0x12c641438>"
      ]
     },
     "metadata": {},
     "output_type": "display_data"
    },
    {
     "data": {
      "image/png": "[encoded data removed]",
      "text/plain": [
       "<Figure size 720x1080 with 3 Axes>"
      ]
     },
     "metadata": {
      "needs_background": "light"
     },
     "output_type": "display_data"
    }
   ],
   "source": [
    "choices = np.random.choice(list(farms_data.keys()), (3,))\n",
    "\n",
    "for i, random_farm_id in enumerate(choices):\n",
    "    \n",
    "    fig, axes = plt.subplots(1, 3, figsize=(10,15))\n",
    "    \n",
    "    display(farm_shapes[random_farm_id])\n",
    "    \n",
    "    farm_data = farms_data[random_farm_id]\n",
    "    \n",
    "    ax=axes[0]\n",
    "    ax.imshow(farm_data[0], cmap='gray')\n",
    "    ax.set_title('Farm {}'.format(farm_id))\n",
    "\n",
    "    ax=axes[1]\n",
    "    ax.imshow(farm_data[1], cmap='gray')\n",
    "    ax.set_title('Mask All')\n",
    "\n",
    "    ax=axes[2]\n",
    "    ax.imshow(farm_data[2], cmap='gray')\n",
    "    ax.set_title('Mask This Farm')\n",
    "    \n",
    "    plt.show()"
   ]
  },
  {
   "cell_type": "markdown",
   "metadata": {},
   "source": [
    "## Save data"
   ]
  },
  {
   "cell_type": "code",
   "execution_count": 40,
   "metadata": {},
   "outputs": [
    {
     "name": "stderr",
     "output_type": "stream",
     "text": [
      "100%|██████████| 2494/2494 [00:02<00:00, 905.16it/s]\n"
     ]
    }
   ],
   "source": [
    "for farm_id, data in tqdm(farms_data.items()):\n",
    "    out_fp = os.path.join(out_dir, f'farm_{farm_id}.npy')\n",
    "    np.save(out_fp, data)"
   ]
  },
  {
   "cell_type": "markdown",
   "metadata": {},
   "source": [
    "## Turn into scripts"
   ]
  },
  {
   "cell_type": "code",
   "execution_count": 45,
   "metadata": {},
   "outputs": [],
   "source": [
    "import os\n",
    "import rasterio\n",
    "import numpy as np\n",
    "import geopandas as gpd\n",
    "import matplotlib.pyplot as plt\n",
    "\n",
    "from glob import glob\n",
    "\n",
    "import sys\n",
    "sys.path.append('../')\n",
    "from config import raw_data_dir, processed_data_dir\n",
    "\n",
    "import rasterio\n",
    "from rasterio.mask import raster_geometry_mask\n",
    "\n",
    "from src.utils import read_shapefile\n",
    "\n",
    "res_groups = {\n",
    "    '60': ['B01', 'B09', 'B10'],\n",
    "    '20': ['B05', 'B06', 'B07', 'B8A', 'B11', 'B12'],\n",
    "    '10': ['B02', 'B03', 'B04', 'B08', 'TCI']\n",
    "}\n",
    "\n",
    "# Dimensions to zero-pad images to\n",
    "MAX_DIMS = {\n",
    "    '10': (90, 90),\n",
    "    '20': (50, 50),\n",
    "    '60': (20, 20)\n",
    "}\n",
    "\n",
    "dates = ['2017-01-01','2017-02-10','2017-03-22','2017-06-20',\n",
    "         '2017-07-15','2017-08-19','2017-01-31','2017-03-12',\n",
    "         '2017-05-31','2017-07-10','2017-08-04']\n",
    "\n",
    "bands = ['B01','B02','B03','B04','B05','B06','B07','B8A','B09','B10','B11','B12','TCI']\n",
    "\n",
    "\n",
    "# Input images\n",
    "images_dir ='../data/interim/images-merged/'\n",
    "\n",
    "img_dir = img_dir = os.path.join(images_dir, date)\n",
    "\n",
    "out_dir = os.path.join(processed_data_dir, 'data_v1', date)\n",
    "\n",
    "if not os.path.isdir(out_dir):\n",
    "    os.makedirs(out_dir)\n",
    "    \n",
    "\n",
    "def get_mask_window(shape, raster, max_dims=None):\n",
    "    \n",
    "    # Get the boolean mask and window of shape\n",
    "    try:\n",
    "        bool_mask, transform, bb_window = raster_geometry_mask(raster, [shape], crop=True)\n",
    "    except ValueError:\n",
    "        return None\n",
    "    \n",
    "    if max_dims is  None:\n",
    "        return bb_window\n",
    "    else:\n",
    "        # Turn mask into int array with 1 at farm pixels\n",
    "        int_mask = np.bitwise_not(bool_mask).astype(int)\n",
    "\n",
    "        # Get the shape of the bounding box window\n",
    "        bb_shape = (bb_window.height, bb_window.width)\n",
    "\n",
    "\n",
    "        # Get number of pixels to add to x and y dims\n",
    "        pad_x = int(np.ceil((max_dims[1]-bb_shape[1])/2))\n",
    "        pad_y = int(np.ceil((max_dims[0]-bb_shape[0])/2))\n",
    "\n",
    "        # Get a window with padding around it and the desired shape in the center\n",
    "        # Depending on the shape, this window can be a different size than max_dims\n",
    "        window_ = rasterio.mask.geometry_window(raster, \n",
    "                                                      [shape], \n",
    "                                                      pad_x=pad_x, \n",
    "                                                      pad_y=pad_y, \n",
    "                                                      pixel_precision=2 # I found this fixes some rounding errors\n",
    "                                                     )\n",
    "\n",
    "        # To fix sizing issues, create a new window that starts at the same top left anchor, but of a fixed width and height\n",
    "        window = rasterio.windows.Window(col_off=window_.col_off, row_off=window_.row_off, width=max_dims[1], height=max_dims[0])\n",
    "    \n",
    "        return window\n",
    "    \n",
    "    \n",
    "def get_farm_data(masked_raster, raster, farm_shape, out_shape):\n",
    "    \n",
    "    bands = raster.count\n",
    "    \n",
    "    # The window defining where on the raster this shape is found\n",
    "    mask_window = get_mask_window(farm_shape, raster, max_dims=None)\n",
    "    \n",
    "    if mask_window is None:\n",
    "        return 0.\n",
    "    \n",
    "    # The same window, but padded to the desired dims\n",
    "    mask_window_padded = get_mask_window(farm_shape, raster, max_dims=out_shape)\n",
    "\n",
    "    # Crop out the image data around the shape \n",
    "    win_img = raster.read(window=mask_window_padded)[0]\n",
    "\n",
    "    # Crop out the boolean mask of all farms in the window around the farm of interest\n",
    "    win_mask_other = masked_raster[mask_window_padded.row_off:mask_window_padded.row_off+out_shape[0], \n",
    "                                   mask_window_padded.col_off:mask_window_padded.col_off+out_shape[1]]\n",
    "    \n",
    "    temp = np.copy(masked_raster)\n",
    "\n",
    "    temp[:mask_window.row_off,:] = False\n",
    "    temp[mask_window.row_off+mask_window.width:,:]=False\n",
    "    temp[:,:mask_window.col_off] = False\n",
    "    temp[:,mask_window.col_off+mask_window.height:]=False\n",
    "\n",
    "    win_mask_farm = temp[mask_window_padded.row_off:mask_window_padded.row_off+out_shape[0], \n",
    "                         mask_window_padded.col_off:mask_window_padded.col_off+out_shape[1]]\n",
    "\n",
    "    del temp\n",
    "\n",
    "    \n",
    "    data = np.zeros((bands+2, *out_shape))\n",
    "    data[:bands] = win_img\n",
    "    data[-2] = win_mask_other\n",
    "    data[-1] = win_mask_farm\n",
    "    \n",
    "    return data   \n",
    "\n",
    "def get_farms_data(farm_shapes, raster, out_shape):\n",
    "    \"\"\"\n",
    "    \n",
    "    \"\"\"\n",
    "    \n",
    "     # Get an boolean mask array with all farms in it\n",
    "    masked_raster, _, _  = rasterio.mask.raster_geometry_mask(raster, farm_shapes.geometry.to_list(), invert=True)\n",
    "    \n",
    "    all_data = {}\n",
    "    \n",
    "    for id, shape in tqdm(farm_shapes.iteritems()):\n",
    "        farm_data = get_farm_data(masked_raster, raster, shape, out_shape)\n",
    "        \n",
    "        if type(farm_data) == np.ndarray:\n",
    "            all_data[id] = farm_data\n",
    "        \n",
    "    return all_data"
   ]
  },
  {
   "cell_type": "code",
   "execution_count": 46,
   "metadata": {},
   "outputs": [
    {
     "name": "stdout",
     "output_type": "stream",
     "text": [
      "-------------------------------------------------- train --------------------------------------------------\n",
      "-------------------------------------------------- 2017-01-01 --------------------------------------------------\n"
     ]
    },
    {
     "name": "stderr",
     "output_type": "stream",
     "text": [
      "0it [00:00, ?it/s]"
     ]
    },
    {
     "name": "stdout",
     "output_type": "stream",
     "text": [
      "\tBand:  B01\n"
     ]
    },
    {
     "name": "stderr",
     "output_type": "stream",
     "text": [
      "2494it [00:06, 388.82it/s]\n"
     ]
    },
    {
     "name": "stdout",
     "output_type": "stream",
     "text": [
      "Saving...done\n",
      "\tBand:  B02\n"
     ]
    },
    {
     "name": "stderr",
     "output_type": "stream",
     "text": [
      "2494it [03:31, 11.80it/s]\n"
     ]
    },
    {
     "name": "stdout",
     "output_type": "stream",
     "text": [
      "Saving...done\n",
      "\tBand:  B03\n"
     ]
    },
    {
     "name": "stderr",
     "output_type": "stream",
     "text": [
      "2494it [03:33, 14.27it/s]\n"
     ]
    },
    {
     "name": "stdout",
     "output_type": "stream",
     "text": [
      "Saving...done\n",
      "\tBand:  B04\n"
     ]
    },
    {
     "name": "stderr",
     "output_type": "stream",
     "text": [
      "866it [01:17, 11.16it/s]"
     ]
    },
    {
     "ename": "KeyboardInterrupt",
     "evalue": "",
     "output_type": "error",
     "traceback": [
      "\u001b[0;31m---------------------------------------------------------------------------\u001b[0m",
      "\u001b[0;31mKeyboardInterrupt\u001b[0m                         Traceback (most recent call last)",
      "\u001b[0;32m<ipython-input-46-b616347b047f>\u001b[0m in \u001b[0;36m<module>\u001b[0;34m\u001b[0m\n\u001b[1;32m     50\u001b[0m             \u001b[0mos\u001b[0m\u001b[0;34m.\u001b[0m\u001b[0mmakedirs\u001b[0m\u001b[0;34m(\u001b[0m\u001b[0mdate_dir\u001b[0m\u001b[0;34m)\u001b[0m\u001b[0;34m\u001b[0m\u001b[0;34m\u001b[0m\u001b[0m\n\u001b[1;32m     51\u001b[0m \u001b[0;34m\u001b[0m\u001b[0m\n\u001b[0;32m---> 52\u001b[0;31m         \u001b[0mextract_masks\u001b[0m\u001b[0;34m(\u001b[0m\u001b[0mshp_df\u001b[0m\u001b[0;34m,\u001b[0m \u001b[0mdate\u001b[0m\u001b[0;34m)\u001b[0m\u001b[0;34m\u001b[0m\u001b[0;34m\u001b[0m\u001b[0m\n\u001b[0m\u001b[1;32m     53\u001b[0m \u001b[0;34m\u001b[0m\u001b[0m\n\u001b[1;32m     54\u001b[0m \u001b[0;34m\u001b[0m\u001b[0m\n",
      "\u001b[0;32m<ipython-input-46-b616347b047f>\u001b[0m in \u001b[0;36mextract_masks\u001b[0;34m(shp_df, date)\u001b[0m\n\u001b[1;32m     16\u001b[0m \u001b[0;34m\u001b[0m\u001b[0m\n\u001b[1;32m     17\u001b[0m         \u001b[0;32mwith\u001b[0m \u001b[0mrasterio\u001b[0m\u001b[0;34m.\u001b[0m\u001b[0mopen\u001b[0m\u001b[0;34m(\u001b[0m\u001b[0mfp\u001b[0m\u001b[0;34m)\u001b[0m \u001b[0;32mas\u001b[0m \u001b[0mraster\u001b[0m\u001b[0;34m:\u001b[0m\u001b[0;34m\u001b[0m\u001b[0;34m\u001b[0m\u001b[0m\n\u001b[0;32m---> 18\u001b[0;31m             \u001b[0mfarms_data\u001b[0m \u001b[0;34m=\u001b[0m \u001b[0mget_farms_data\u001b[0m\u001b[0;34m(\u001b[0m\u001b[0mfarm_shapes\u001b[0m\u001b[0;34m,\u001b[0m \u001b[0mraster\u001b[0m\u001b[0;34m,\u001b[0m \u001b[0mout_shape\u001b[0m\u001b[0;34m)\u001b[0m\u001b[0;34m\u001b[0m\u001b[0;34m\u001b[0m\u001b[0m\n\u001b[0m\u001b[1;32m     19\u001b[0m \u001b[0;34m\u001b[0m\u001b[0m\n\u001b[1;32m     20\u001b[0m         \u001b[0msave_data\u001b[0m\u001b[0;34m(\u001b[0m\u001b[0mfarms_data\u001b[0m\u001b[0;34m,\u001b[0m \u001b[0mband\u001b[0m\u001b[0;34m)\u001b[0m\u001b[0;34m\u001b[0m\u001b[0;34m\u001b[0m\u001b[0m\n",
      "\u001b[0;32m<ipython-input-45-d47e46fead29>\u001b[0m in \u001b[0;36mget_farms_data\u001b[0;34m(farm_shapes, raster, out_shape)\u001b[0m\n\u001b[1;32m    135\u001b[0m \u001b[0;34m\u001b[0m\u001b[0m\n\u001b[1;32m    136\u001b[0m     \u001b[0;32mfor\u001b[0m \u001b[0mid\u001b[0m\u001b[0;34m,\u001b[0m \u001b[0mshape\u001b[0m \u001b[0;32min\u001b[0m \u001b[0mtqdm\u001b[0m\u001b[0;34m(\u001b[0m\u001b[0mfarm_shapes\u001b[0m\u001b[0;34m.\u001b[0m\u001b[0miteritems\u001b[0m\u001b[0;34m(\u001b[0m\u001b[0;34m)\u001b[0m\u001b[0;34m)\u001b[0m\u001b[0;34m:\u001b[0m\u001b[0;34m\u001b[0m\u001b[0;34m\u001b[0m\u001b[0m\n\u001b[0;32m--> 137\u001b[0;31m         \u001b[0mfarm_data\u001b[0m \u001b[0;34m=\u001b[0m \u001b[0mget_farm_data\u001b[0m\u001b[0;34m(\u001b[0m\u001b[0mmasked_raster\u001b[0m\u001b[0;34m,\u001b[0m \u001b[0mraster\u001b[0m\u001b[0;34m,\u001b[0m \u001b[0mshape\u001b[0m\u001b[0;34m,\u001b[0m \u001b[0mout_shape\u001b[0m\u001b[0;34m)\u001b[0m\u001b[0;34m\u001b[0m\u001b[0;34m\u001b[0m\u001b[0m\n\u001b[0m\u001b[1;32m    138\u001b[0m \u001b[0;34m\u001b[0m\u001b[0m\n\u001b[1;32m    139\u001b[0m         \u001b[0;32mif\u001b[0m \u001b[0mtype\u001b[0m\u001b[0;34m(\u001b[0m\u001b[0mfarm_data\u001b[0m\u001b[0;34m)\u001b[0m \u001b[0;34m==\u001b[0m \u001b[0mnp\u001b[0m\u001b[0;34m.\u001b[0m\u001b[0mndarray\u001b[0m\u001b[0;34m:\u001b[0m\u001b[0;34m\u001b[0m\u001b[0;34m\u001b[0m\u001b[0m\n",
      "\u001b[0;32m<ipython-input-45-d47e46fead29>\u001b[0m in \u001b[0;36mget_farm_data\u001b[0;34m(masked_raster, raster, farm_shape, out_shape)\u001b[0m\n\u001b[1;32m    104\u001b[0m                                    mask_window_padded.col_off:mask_window_padded.col_off+out_shape[1]]\n\u001b[1;32m    105\u001b[0m \u001b[0;34m\u001b[0m\u001b[0m\n\u001b[0;32m--> 106\u001b[0;31m     \u001b[0mtemp\u001b[0m \u001b[0;34m=\u001b[0m \u001b[0mnp\u001b[0m\u001b[0;34m.\u001b[0m\u001b[0mcopy\u001b[0m\u001b[0;34m(\u001b[0m\u001b[0mmasked_raster\u001b[0m\u001b[0;34m)\u001b[0m\u001b[0;34m\u001b[0m\u001b[0;34m\u001b[0m\u001b[0m\n\u001b[0m\u001b[1;32m    107\u001b[0m \u001b[0;34m\u001b[0m\u001b[0m\n\u001b[1;32m    108\u001b[0m     \u001b[0mtemp\u001b[0m\u001b[0;34m[\u001b[0m\u001b[0;34m:\u001b[0m\u001b[0mmask_window\u001b[0m\u001b[0;34m.\u001b[0m\u001b[0mrow_off\u001b[0m\u001b[0;34m,\u001b[0m\u001b[0;34m:\u001b[0m\u001b[0;34m]\u001b[0m \u001b[0;34m=\u001b[0m \u001b[0;32mFalse\u001b[0m\u001b[0;34m\u001b[0m\u001b[0;34m\u001b[0m\u001b[0m\n",
      "\u001b[0;32m~/anaconda3/envs/zindi_farmpin/lib/python3.7/site-packages/numpy/lib/function_base.py\u001b[0m in \u001b[0;36mcopy\u001b[0;34m(a, order)\u001b[0m\n\u001b[1;32m    790\u001b[0m \u001b[0;34m\u001b[0m\u001b[0m\n\u001b[1;32m    791\u001b[0m     \"\"\"\n\u001b[0;32m--> 792\u001b[0;31m     \u001b[0;32mreturn\u001b[0m \u001b[0marray\u001b[0m\u001b[0;34m(\u001b[0m\u001b[0ma\u001b[0m\u001b[0;34m,\u001b[0m \u001b[0morder\u001b[0m\u001b[0;34m=\u001b[0m\u001b[0morder\u001b[0m\u001b[0;34m,\u001b[0m \u001b[0mcopy\u001b[0m\u001b[0;34m=\u001b[0m\u001b[0;32mTrue\u001b[0m\u001b[0;34m)\u001b[0m\u001b[0;34m\u001b[0m\u001b[0;34m\u001b[0m\u001b[0m\n\u001b[0m\u001b[1;32m    793\u001b[0m \u001b[0;34m\u001b[0m\u001b[0m\n\u001b[1;32m    794\u001b[0m \u001b[0;31m# Basic operations\u001b[0m\u001b[0;34m\u001b[0m\u001b[0;34m\u001b[0m\u001b[0;34m\u001b[0m\u001b[0m\n",
      "\u001b[0;31mKeyboardInterrupt\u001b[0m: "
     ]
    },
    {
     "name": "stderr",
     "output_type": "stream",
     "text": [
      "866it [01:30, 11.16it/s]"
     ]
    }
   ],
   "source": [
    "def extract_masks(shp_df, date):\n",
    "    \n",
    "    print('-'*50,date,'-'*50)\n",
    "    \n",
    "    shp_df = read_shapefile(dataset)\n",
    "    \n",
    "    farm_shapes = shp_df.geometry\n",
    "    \n",
    "    for band in bands:\n",
    "        \n",
    "        print('\\tBand: ',band)\n",
    "        fp = os.path.join(images_dir, date, f'{band}.jp2')\n",
    "        \n",
    "        [res_group] = [grp for grp, bands in res_groups.items() if band in bands]\n",
    "        out_shape = MAX_DIMS[res_group]\n",
    "        \n",
    "        with rasterio.open(fp) as raster:\n",
    "            farms_data = get_farms_data(farm_shapes, raster, out_shape)\n",
    "            \n",
    "        save_data(farms_data, band)\n",
    "\n",
    "\n",
    "def save_data(farms_data, band):\n",
    "    \n",
    "    print('Saving...',end='')\n",
    "    for farm_id, data in farms_data.items():\n",
    "        out_fp = os.path.join(date_dir, f'farm_{farm_id}_{band}.npy')\n",
    "        np.save(out_fp, data)\n",
    "    print('done')\n",
    "\n",
    "\n",
    "\n",
    "for dataset in ['train','test']:\n",
    "    \n",
    "    print('-'*50,dataset,'-'*50)\n",
    "    \n",
    "    # create dir\n",
    "    dataset_dir = os.path.join(out_dir, dataset)\n",
    "    \n",
    "    if not os.path.isdir(dataset_dir):\n",
    "        os.makedirs(dataset_dir)\n",
    "    \n",
    "    shp_df = read_shapefile(dataset)\n",
    "\n",
    "    for date in dates:\n",
    "        # create dir\n",
    "        date_dir = os.path.join(dataset_dir, date)\n",
    "        \n",
    "        if not os.path.isdir(date_dir):\n",
    "            os.makedirs(date_dir)\n",
    "            \n",
    "        extract_masks(shp_df, date)\n",
    "        \n",
    "        \n",
    "    \n",
    "    "
   ]
  },
  {
   "cell_type": "code",
   "execution_count": null,
   "metadata": {},
   "outputs": [],
   "source": []
  }
 ],
 "metadata": {
  "kernelspec": {
   "display_name": "Python 3",
   "language": "python",
   "name": "python3"
  },
  "language_info": {
   "codemirror_mode": {
    "name": "ipython",
    "version": 3
   },
   "file_extension": ".py",
   "mimetype": "text/x-python",
   "name": "python",
   "nbconvert_exporter": "python",
   "pygments_lexer": "ipython3",
   "version": "3.7.3"
  }
 },
 "nbformat": 4,
 "nbformat_minor": 4
}
