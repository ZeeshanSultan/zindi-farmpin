{
 "cells": [
  {
   "cell_type": "code",
   "execution_count": 1,
   "metadata": {},
   "outputs": [],
   "source": [
    "%load_ext autoreload\n",
    "%autoreload 2\n",
    "%matplotlib inline"
   ]
  },
  {
   "cell_type": "markdown",
   "metadata": {},
   "source": [
    "## Tasks\n",
    "\n",
    "* Cap sizes and update zero padding\n",
    "* Embeddding layer first \n",
    "* Specify size of image as input to embedding (later)\n"
   ]
  },
  {
   "cell_type": "code",
   "execution_count": 2,
   "metadata": {},
   "outputs": [
    {
     "name": "stdout",
     "output_type": "stream",
     "text": [
      "2.0.0-beta1\n"
     ]
    }
   ],
   "source": [
    "from __future__ import absolute_import, division, print_function, unicode_literals\n",
    "\n",
    "import os\n",
    "import gc\n",
    "\n",
    "import tensorflow as tf\n",
    "from tensorflow import keras\n",
    "\n",
    "import numpy as np\n",
    "import pandas as pd\n",
    "import matplotlib.pyplot as plt\n",
    "\n",
    "print(tf.__version__)"
   ]
  },
  {
   "cell_type": "markdown",
   "metadata": {},
   "source": [
    "## Get training and validation set"
   ]
  },
  {
   "cell_type": "code",
   "execution_count": 3,
   "metadata": {},
   "outputs": [
    {
     "name": "stdout",
     "output_type": "stream",
     "text": [
      "(2494, 4)\n"
     ]
    },
    {
     "data": {
      "text/html": [
       "<div>\n",
       "<style scoped>\n",
       "    .dataframe tbody tr th:only-of-type {\n",
       "        vertical-align: middle;\n",
       "    }\n",
       "\n",
       "    .dataframe tbody tr th {\n",
       "        vertical-align: top;\n",
       "    }\n",
       "\n",
       "    .dataframe thead th {\n",
       "        text-align: right;\n",
       "    }\n",
       "</style>\n",
       "<table border=\"1\" class=\"dataframe\">\n",
       "  <thead>\n",
       "    <tr style=\"text-align: right;\">\n",
       "      <th></th>\n",
       "      <th>Area</th>\n",
       "      <th>Subregion</th>\n",
       "      <th>Crop_Id_Ne</th>\n",
       "      <th>geometry</th>\n",
       "    </tr>\n",
       "    <tr>\n",
       "      <th>Field_Id</th>\n",
       "      <th></th>\n",
       "      <th></th>\n",
       "      <th></th>\n",
       "      <th></th>\n",
       "    </tr>\n",
       "  </thead>\n",
       "  <tbody>\n",
       "    <tr>\n",
       "      <th>1</th>\n",
       "      <td>0.915905</td>\n",
       "      <td>3</td>\n",
       "      <td>7</td>\n",
       "      <td>POLYGON ((613924.3324000851 6793991.295069702,...</td>\n",
       "    </tr>\n",
       "    <tr>\n",
       "      <th>2</th>\n",
       "      <td>2.064410</td>\n",
       "      <td>3</td>\n",
       "      <td>5</td>\n",
       "      <td>POLYGON ((614404.0717397591 6794020.579634549,...</td>\n",
       "    </tr>\n",
       "    <tr>\n",
       "      <th>3</th>\n",
       "      <td>1.080300</td>\n",
       "      <td>3</td>\n",
       "      <td>7</td>\n",
       "      <td>POLYGON ((614320.2146632321 6793964.242091182,...</td>\n",
       "    </tr>\n",
       "    <tr>\n",
       "      <th>4</th>\n",
       "      <td>1.316190</td>\n",
       "      <td>3</td>\n",
       "      <td>7</td>\n",
       "      <td>POLYGON ((614560.5326844405 6794002.249461887,...</td>\n",
       "    </tr>\n",
       "    <tr>\n",
       "      <th>7</th>\n",
       "      <td>5.529220</td>\n",
       "      <td>3</td>\n",
       "      <td>7</td>\n",
       "      <td>POLYGON ((614596.6564746551 6794269.865436315,...</td>\n",
       "    </tr>\n",
       "  </tbody>\n",
       "</table>\n",
       "</div>"
      ],
      "text/plain": [
       "              Area  Subregion  Crop_Id_Ne  \\\n",
       "Field_Id                                    \n",
       "1         0.915905          3           7   \n",
       "2         2.064410          3           5   \n",
       "3         1.080300          3           7   \n",
       "4         1.316190          3           7   \n",
       "7         5.529220          3           7   \n",
       "\n",
       "                                                   geometry  \n",
       "Field_Id                                                     \n",
       "1         POLYGON ((613924.3324000851 6793991.295069702,...  \n",
       "2         POLYGON ((614404.0717397591 6794020.579634549,...  \n",
       "3         POLYGON ((614320.2146632321 6793964.242091182,...  \n",
       "4         POLYGON ((614560.5326844405 6794002.249461887,...  \n",
       "7         POLYGON ((614596.6564746551 6794269.865436315,...  "
      ]
     },
     "execution_count": 3,
     "metadata": {},
     "output_type": "execute_result"
    }
   ],
   "source": [
    "from src.utils import read_shapefile\n",
    "from sklearn.model_selection import train_test_split\n",
    "from config import raw_data_dir\n",
    "\n",
    "train_shp_df = read_shapefile('train')\n",
    "test_shp_df = read_shapefile('test')\n",
    "\n",
    "# Labels must be zero indexed\n",
    "train_shp_df['Crop_Id_Ne'] = train_shp_df['Crop_Id_Ne'].astype(int) - 1\n",
    "\n",
    "print(train_shp_df.shape)\n",
    "train_shp_df.head()"
   ]
  },
  {
   "cell_type": "code",
   "execution_count": 4,
   "metadata": {},
   "outputs": [
    {
     "data": {
      "text/html": [
       "<div>\n",
       "<style scoped>\n",
       "    .dataframe tbody tr th:only-of-type {\n",
       "        vertical-align: middle;\n",
       "    }\n",
       "\n",
       "    .dataframe tbody tr th {\n",
       "        vertical-align: top;\n",
       "    }\n",
       "\n",
       "    .dataframe thead th {\n",
       "        text-align: right;\n",
       "    }\n",
       "</style>\n",
       "<table border=\"1\" class=\"dataframe\">\n",
       "  <thead>\n",
       "    <tr style=\"text-align: right;\">\n",
       "      <th></th>\n",
       "      <th>crop</th>\n",
       "    </tr>\n",
       "    <tr>\n",
       "      <th>crop_id</th>\n",
       "      <th></th>\n",
       "    </tr>\n",
       "  </thead>\n",
       "  <tbody>\n",
       "    <tr>\n",
       "      <th>0</th>\n",
       "      <td>Cotton</td>\n",
       "    </tr>\n",
       "    <tr>\n",
       "      <th>1</th>\n",
       "      <td>Dates</td>\n",
       "    </tr>\n",
       "    <tr>\n",
       "      <th>2</th>\n",
       "      <td>Grass</td>\n",
       "    </tr>\n",
       "    <tr>\n",
       "      <th>3</th>\n",
       "      <td>Lucern</td>\n",
       "    </tr>\n",
       "    <tr>\n",
       "      <th>4</th>\n",
       "      <td>Maize</td>\n",
       "    </tr>\n",
       "    <tr>\n",
       "      <th>5</th>\n",
       "      <td>Pecan</td>\n",
       "    </tr>\n",
       "    <tr>\n",
       "      <th>6</th>\n",
       "      <td>Vacant</td>\n",
       "    </tr>\n",
       "    <tr>\n",
       "      <th>7</th>\n",
       "      <td>Vineyard</td>\n",
       "    </tr>\n",
       "    <tr>\n",
       "      <th>8</th>\n",
       "      <td>Vineyard &amp; Pecan (\"Intercrop\")</td>\n",
       "    </tr>\n",
       "  </tbody>\n",
       "</table>\n",
       "</div>"
      ],
      "text/plain": [
       "                                   crop\n",
       "crop_id                                \n",
       "0                                Cotton\n",
       "1                                 Dates\n",
       "2                                 Grass\n",
       "3                                Lucern\n",
       "4                                 Maize\n",
       "5                                 Pecan\n",
       "6                                Vacant\n",
       "7                              Vineyard\n",
       "8        Vineyard & Pecan (\"Intercrop\")"
      ]
     },
     "execution_count": 4,
     "metadata": {},
     "output_type": "execute_result"
    }
   ],
   "source": [
    "class_names = pd.read_csv(os.path.join(raw_data_dir, 'crop_id_list.csv'))\n",
    "class_names.crop_id = class_names.crop_id.astype(int) - 1\n",
    "class_names = class_names.set_index('crop_id')\n",
    "\n",
    "class_names"
   ]
  },
  {
   "cell_type": "markdown",
   "metadata": {},
   "source": [
    "### Setup training and validation data"
   ]
  },
  {
   "cell_type": "code",
   "execution_count": 5,
   "metadata": {},
   "outputs": [],
   "source": [
    "train_ids_list = train_shp_df.index.to_list()\n",
    "train_labels = np.array(train_shp_df['Crop_Id_Ne'])\n",
    "\n",
    "test_ids_list = test_shp_df.index.to_list()"
   ]
  },
  {
   "cell_type": "markdown",
   "metadata": {},
   "source": [
    "## Read satellite data for one dump, and one spectral band"
   ]
  },
  {
   "cell_type": "code",
   "execution_count": 6,
   "metadata": {},
   "outputs": [
    {
     "data": {
      "text/plain": [
       "(2494, 1074)"
      ]
     },
     "execution_count": 6,
     "metadata": {},
     "output_type": "execute_result"
    }
   ],
   "source": [
    "import os\n",
    "from glob import glob\n",
    "from config import interim_data_dir\n",
    "\n",
    "date = '2017-01-01'\n",
    "band = 'B05'\n",
    "\n",
    "# Get list of images filepaths\n",
    "train_images = glob(os.path.join(interim_data_dir, 'masks', 'train', date, f'*_{band}.npy'))\n",
    "test_images = glob(os.path.join(interim_data_dir, 'masks', 'test', date, f'*_{band}.npy'))\n",
    "\n",
    "# Load images\n",
    "train_imgs = [np.load(f) for f in train_images]\n",
    "test_imgs = [np.load(f) for f in test_images]\n",
    "\n",
    "len(train_imgs),len(test_imgs)"
   ]
  },
  {
   "cell_type": "markdown",
   "metadata": {},
   "source": [
    "## Analyse Max of widths and heights"
   ]
  },
  {
   "cell_type": "code",
   "execution_count": 7,
   "metadata": {},
   "outputs": [
    {
     "data": {
      "text/plain": [
       "<matplotlib.axes._subplots.AxesSubplot at 0x1a35d916d8>"
      ]
     },
     "metadata": {},
     "output_type": "display_data"
    },
    {
     "data": {
      "text/plain": [
       "<matplotlib.axes._subplots.AxesSubplot at 0x1a35d916d8>"
      ]
     },
     "metadata": {},
     "output_type": "display_data"
    },
    {
     "data": {
      "image/png": "[encoded data removed]",
      "text/plain": [
       "<Figure size 864x576 with 1 Axes>"
      ]
     },
     "metadata": {
      "needs_background": "light"
     },
     "output_type": "display_data"
    }
   ],
   "source": [
    "import pandas as pd\n",
    "from operator import itemgetter\n",
    "\n",
    "all_images = train_imgs + test_imgs\n",
    "all_ids = train_ids_list + test_ids_list\n",
    "\n",
    "shapes = {id: x.shape for  id,x in zip(all_ids, all_images)}\n",
    "\n",
    "widths = [x[0] for x in shapes.values()]\n",
    "heights = [x[1] for x in shapes.values()]\n",
    "\n",
    "w_plot = pd.Series(widths).plot.hist(bins=100, title='Sizes Distribution', label='width', figsize=(12,8))\n",
    "h_plot = pd.Series(heights).plot.hist(bins=100, title='Sizes Distribution', label='height', figsize=(12,8))\n",
    "plt.legend()\n",
    "display(w_plot)\n",
    "display(h_plot)"
   ]
  },
  {
   "cell_type": "markdown",
   "metadata": {},
   "source": [
    "**Insight**\n",
    "\n",
    "Seems like very few images below 30 x 30"
   ]
  },
  {
   "cell_type": "code",
   "execution_count": 8,
   "metadata": {},
   "outputs": [
    {
     "name": "stdout",
     "output_type": "stream",
     "text": [
      "12 farms have width or height > max value\n"
     ]
    }
   ],
   "source": [
    "MAX_DIMS = (28, 28)\n",
    "\n",
    "# Get number of farms with dims more than max\n",
    "N_large = len([x for x in all_images if (x.shape[0] > MAX_DIMS[0]  or x.shape[1] > MAX_DIMS[1])])\n",
    "print('{} farms have width or height > max value'.format(N_large))"
   ]
  },
  {
   "cell_type": "markdown",
   "metadata": {},
   "source": [
    "### Show farms IDs that are larger than max dims"
   ]
  },
  {
   "cell_type": "code",
   "execution_count": 9,
   "metadata": {},
   "outputs": [
    {
     "name": "stdout",
     "output_type": "stream",
     "text": [
      "611 (23, 29) in train\n",
      "879 (45, 37) in train\n",
      "1033 (16, 36) in train\n",
      "1064 (28, 29) in train\n",
      "1488 (30, 20) in train\n",
      "2478 (34, 22) in train\n",
      "2597 (30, 29) in train\n",
      "3078 (38, 38) in train\n",
      "3237 (42, 42) in train\n",
      "3347 (33, 31) in train\n",
      "1524 (25, 30) in test\n",
      "1740 (34, 22) in test\n"
     ]
    }
   ],
   "source": [
    "large_farm_ids_in_train = []\n",
    "for id, s in shapes.items():\n",
    "    if s[0] > MAX_DIMS[0] or s[1] > MAX_DIMS[0]:\n",
    "        in_train = id in train_ids_list\n",
    "        in_test = id in test_ids_list\n",
    "        \n",
    "        if in_train:\n",
    "            print(id, s, 'in train')\n",
    "            large_farm_ids_in_train.append(id)\n",
    "        else:\n",
    "            print(id, s, 'in test')"
   ]
  },
  {
   "cell_type": "code",
   "execution_count": 10,
   "metadata": {},
   "outputs": [],
   "source": [
    "# I chose a large farm in training set\n",
    "FARM_IDX = large_farm_ids_in_train[0]"
   ]
  },
  {
   "cell_type": "markdown",
   "metadata": {},
   "source": [
    "## Normalize and zero-pad all images"
   ]
  },
  {
   "cell_type": "markdown",
   "metadata": {},
   "source": [
    "### Normalization"
   ]
  },
  {
   "cell_type": "code",
   "execution_count": 11,
   "metadata": {},
   "outputs": [
    {
     "data": {
      "image/png": "[encoded data removed]",
      "text/plain": [
       "<Figure size 432x288 with 2 Axes>"
      ]
     },
     "metadata": {
      "needs_background": "light"
     },
     "output_type": "display_data"
    },
    {
     "data": {
      "image/png": "[encoded data removed]",
      "text/plain": [
       "<Figure size 432x288 with 2 Axes>"
      ]
     },
     "metadata": {
      "needs_background": "light"
     },
     "output_type": "display_data"
    }
   ],
   "source": [
    "def normalize_img(img, max_val=1, min_val=0):\n",
    "    img_max = np.max(img)\n",
    "    img_min = np.min(img)\n",
    "    img_std = (img - img_min) / (img_max - img_min)\n",
    "    return img_std * (max_val - min_val) + min_val\n",
    "\n",
    "plt.figure()\n",
    "img = train_imgs[train_ids_list.index(FARM_IDX)]\n",
    "plt.title('Original ({})'.format(img.shape))\n",
    "plt.imshow(img)\n",
    "plt.colorbar()\n",
    "plt.grid(False)\n",
    "plt.show()\n",
    "\n",
    "plt.figure()\n",
    "plt.title('Normalized')\n",
    "plt.imshow(normalize_img(img))\n",
    "plt.colorbar()\n",
    "plt.grid(False)\n",
    "plt.show()"
   ]
  },
  {
   "cell_type": "markdown",
   "metadata": {},
   "source": [
    "Looks good!\n",
    "\n",
    "\n"
   ]
  },
  {
   "cell_type": "code",
   "execution_count": 12,
   "metadata": {},
   "outputs": [],
   "source": [
    "import cv2\n",
    "\n",
    "def zero_pad_mask(img, shape):\n",
    "    \"\"\"\n",
    "    TODO: Parameterize anchoring\n",
    "    \n",
    "    :param img:\n",
    "    :param shape:\n",
    "    :return:\n",
    "    \"\"\"\n",
    "    \n",
    "    # If the image has width > max width, crop to max width\n",
    "    if img.shape[0] > shape[0]:\n",
    "        img = img[:shape[0],:]\n",
    "    \n",
    "    # If the image has height > max height, crop to max height\n",
    "    if img.shape[1] > shape[1]:\n",
    "        img = img[:, :shape[1]]\n",
    "    \n",
    "    # Size of border\n",
    "    v_border = int(np.ceil((shape[0] - img.shape[0]) / 2))\n",
    "    h_border = int(np.ceil((shape[1] - img.shape[1]) / 2))\n",
    "\n",
    "    v_diff = shape[0] - (img.shape[0] + 2 * v_border)\n",
    "    h_diff = shape[1] - (img.shape[1] + 2 * h_border)\n",
    "\n",
    "    new_img = cv2.copyMakeBorder(\n",
    "        img,\n",
    "        top=v_border, bottom=v_border + v_diff,\n",
    "        left=h_border, right=h_border + h_diff,\n",
    "        borderType=cv2.BORDER_CONSTANT, \n",
    "        value=0\n",
    "    )\n",
    "\n",
    "    assert new_img.shape == shape, 'zero padding issue'\n",
    "\n",
    "    return new_img"
   ]
  },
  {
   "cell_type": "markdown",
   "metadata": {},
   "source": [
    "### Example of zero-padded farm"
   ]
  },
  {
   "cell_type": "code",
   "execution_count": 13,
   "metadata": {},
   "outputs": [
    {
     "data": {
      "image/png": "[encoded data removed]",
      "text/plain": [
       "<Figure size 432x288 with 2 Axes>"
      ]
     },
     "metadata": {
      "needs_background": "light"
     },
     "output_type": "display_data"
    }
   ],
   "source": [
    "img_norm = normalize_img(img)\n",
    "zp_img = zero_pad_mask(img_norm, shape=MAX_DIMS)\n",
    "\n",
    "plt.figure()\n",
    "plt.imshow(zp_img)\n",
    "plt.colorbar()\n",
    "plt.grid(False)\n",
    "plt.show()"
   ]
  },
  {
   "cell_type": "markdown",
   "metadata": {},
   "source": [
    "Looks good! - the width was cropped. But this will only happen to 6 images"
   ]
  },
  {
   "cell_type": "markdown",
   "metadata": {},
   "source": [
    "### Process all images"
   ]
  },
  {
   "cell_type": "code",
   "execution_count": 14,
   "metadata": {},
   "outputs": [],
   "source": [
    "def process_img(img):\n",
    "    return zero_pad_mask(normalize_img(img), shape=MAX_DIMS)\n",
    "\n",
    "def process_data(images, ids, labels=None):\n",
    "    \n",
    "    data = np.array(list(map(process_img, images))).reshape(-1, *MAX_DIMS, 1)\n",
    "\n",
    "    # Remove nans\n",
    "    nan_idxs = [i for i, img in enumerate(data) if np.isnan(img).any()]\n",
    "    \n",
    "    print('Removing {} farms'.format(len(nan_idxs)))\n",
    "\n",
    "    data = np.delete(data, nan_idxs, axis=0)\n",
    "    nan_ids = np.array(ids)[nan_idxs]\n",
    "    \n",
    "    ids = list(np.delete(ids, nan_idxs))\n",
    "\n",
    "    if labels is not None:\n",
    "        labels = np.delete(labels, nan_idxs)\n",
    "    \n",
    "    return data, labels, ids, nan_ids"
   ]
  },
  {
   "cell_type": "code",
   "execution_count": 15,
   "metadata": {},
   "outputs": [
    {
     "name": "stdout",
     "output_type": "stream",
     "text": [
      "Processing training...\n",
      "Removing 3 farms\n",
      "Processing testing...\n",
      "Removing 71 farms\n"
     ]
    },
    {
     "name": "stderr",
     "output_type": "stream",
     "text": [
      "/Users/renier.botha/anaconda3/envs/zindi_farmpin/lib/python3.7/site-packages/ipykernel_launcher.py:4: RuntimeWarning: invalid value encountered in true_divide\n",
      "  after removing the cwd from sys.path.\n"
     ]
    }
   ],
   "source": [
    "print('Processing training...')\n",
    "train_data, train_labels, train_ids_list, train_nan_ids = process_data(train_imgs, train_ids_list, train_labels)\n",
    "\n",
    "print('Processing testing...')\n",
    "test_data, _, test_ids_list, test_nan_ids = process_data(test_imgs, test_ids_list)"
   ]
  },
  {
   "cell_type": "code",
   "execution_count": 16,
   "metadata": {},
   "outputs": [],
   "source": [
    "def check_for_nans(data):\n",
    "    for i,arr in enumerate(data):\n",
    "        if np.isnan(arr).any():\n",
    "            raise ValueError(f'NaN found at index {i}')\n",
    "            \n",
    "check_for_nans(train_data)\n",
    "check_for_nans(test_data)"
   ]
  },
  {
   "cell_type": "code",
   "execution_count": 17,
   "metadata": {},
   "outputs": [
    {
     "name": "stdout",
     "output_type": "stream",
     "text": [
      "Train data:\t\t (2491, 28, 28, 1)\n",
      "Test data:\t\t (1003, 28, 28, 1)\n"
     ]
    }
   ],
   "source": [
    "print('Train data:\\t\\t', train_data.shape)\n",
    "print('Test data:\\t\\t',test_data.shape)"
   ]
  },
  {
   "cell_type": "markdown",
   "metadata": {},
   "source": [
    "## Show examples of training data"
   ]
  },
  {
   "cell_type": "code",
   "execution_count": 18,
   "metadata": {},
   "outputs": [],
   "source": [
    "random_list = np.random.choice(train_ids_list, size=25)"
   ]
  },
  {
   "cell_type": "code",
   "execution_count": 19,
   "metadata": {},
   "outputs": [
    {
     "name": "stderr",
     "output_type": "stream",
     "text": [
      "/Users/renier.botha/anaconda3/envs/zindi_farmpin/lib/python3.7/site-packages/ipykernel_launcher.py:15: RuntimeWarning: divide by zero encountered in log10\n",
      "  from ipykernel import kernelapp as app\n"
     ]
    },
    {
     "data": {
      "image/png": "[encoded data removed]",
      "text/plain": [
       "<Figure size 1080x1080 with 25 Axes>"
      ]
     },
     "metadata": {},
     "output_type": "display_data"
    }
   ],
   "source": [
    "plt.figure(figsize=(15,15))\n",
    "for i, farm_id in enumerate(random_list):\n",
    "    \n",
    "    idx = train_ids_list.index(farm_id)\n",
    "    label = train_labels[idx]\n",
    "    class_name = class_names.loc[int(label)].crop\n",
    "    \n",
    "    img = train_data[idx][:, :, 0]\n",
    "    \n",
    "    plt.subplot(5,5,i+1)\n",
    "    plt.xticks([])\n",
    "    plt.yticks([])\n",
    "    plt.title('Farm ' + str(farm_id))\n",
    "    plt.grid(False)\n",
    "    plt.imshow(np.log10(img))\n",
    "    plt.xlabel(class_name + f'{img.shape}')\n",
    "    \n",
    "plt.show()"
   ]
  },
  {
   "cell_type": "markdown",
   "metadata": {},
   "source": [
    "### Sanity check\n",
    "\n",
    "Check that after processing the classes and farm IDs match the originals"
   ]
  },
  {
   "cell_type": "code",
   "execution_count": 20,
   "metadata": {},
   "outputs": [
    {
     "name": "stdout",
     "output_type": "stream",
     "text": [
      "success\n"
     ]
    }
   ],
   "source": [
    "test = pd.DataFrame({'id': train_ids_list, 'class': train_labels})\n",
    "\n",
    "for test_id, test_class in zip(train_ids_list, train_labels):\n",
    "    true_class = train_shp_df.loc[test_id].Crop_Id_Ne\n",
    "    assert test_class == true_class, f'Farm {test_id} has the incorrect class'\n",
    "\n",
    "print('success')"
   ]
  },
  {
   "cell_type": "markdown",
   "metadata": {},
   "source": [
    "## Build Model "
   ]
  },
  {
   "cell_type": "code",
   "execution_count": 21,
   "metadata": {},
   "outputs": [],
   "source": [
    "from sklearn.preprocessing import OneHotEncoder\n",
    "from sklearn.model_selection import train_test_split\n",
    "\n",
    "# Split training data into train and validation sets\n",
    "train_data, val_data, train_labels, val_labels = train_test_split(train_data, train_labels, test_size=0.3, stratify=train_labels, random_state=420)\n",
    "\n",
    "enc = OneHotEncoder(sparse=False, categories='auto')\n",
    "\n",
    "train_labels_enc = enc.fit_transform(train_labels.reshape(-1,1))\n",
    "val_labels_enc = enc.transform(val_labels.reshape(-1,1))"
   ]
  },
  {
   "cell_type": "code",
   "execution_count": 22,
   "metadata": {},
   "outputs": [],
   "source": [
    "from tensorflow.keras import models, layers\n",
    "\n",
    "def get_model():\n",
    "    \n",
    "    model = models.Sequential()\n",
    "    model.add(layers.Conv2D(32, (3, 3), activation='relu', input_shape=(*MAX_DIMS, 1)))\n",
    "    model.add(layers.MaxPooling2D((2, 2)))\n",
    "    model.add(layers.Conv2D(64, (3, 3), activation='relu'))\n",
    "    model.add(layers.Flatten())\n",
    "    model.add(layers.Dense(64, activation='relu', kernel_regularizer=keras.regularizers.l2(0.02)))\n",
    "    model.add(layers.Dense(9, activation='softmax'))\n",
    "    \n",
    "    return model"
   ]
  },
  {
   "cell_type": "code",
   "execution_count": 23,
   "metadata": {},
   "outputs": [
    {
     "name": "stdout",
     "output_type": "stream",
     "text": [
      "Model: \"sequential\"\n",
      "_________________________________________________________________\n",
      "Layer (type)                 Output Shape              Param #   \n",
      "=================================================================\n",
      "conv2d (Conv2D)              (None, 26, 26, 32)        320       \n",
      "_________________________________________________________________\n",
      "max_pooling2d (MaxPooling2D) (None, 13, 13, 32)        0         \n",
      "_________________________________________________________________\n",
      "conv2d_1 (Conv2D)            (None, 11, 11, 64)        18496     \n",
      "_________________________________________________________________\n",
      "flatten (Flatten)            (None, 7744)              0         \n",
      "_________________________________________________________________\n",
      "dense (Dense)                (None, 64)                495680    \n",
      "_________________________________________________________________\n",
      "dense_1 (Dense)              (None, 9)                 585       \n",
      "=================================================================\n",
      "Total params: 515,081\n",
      "Trainable params: 515,081\n",
      "Non-trainable params: 0\n",
      "_________________________________________________________________\n"
     ]
    }
   ],
   "source": [
    "model = get_model()\n",
    "\n",
    "model.compile(optimizer='adam',\n",
    "              loss=keras.metrics.sparse_categorical_crossentropy,\n",
    "              metrics=[keras.metrics.sparse_categorical_crossentropy])\n",
    "\n",
    "model.summary()"
   ]
  },
  {
   "cell_type": "code",
   "execution_count": 24,
   "metadata": {},
   "outputs": [],
   "source": [
    "from IPython.display import clear_output\n",
    "\n",
    "class PlotLosses(keras.callbacks.Callback):\n",
    "    def on_train_begin(self, logs={}):\n",
    "        self.i = 0\n",
    "        self.x = []\n",
    "        self.losses = []\n",
    "        self.val_losses = []\n",
    "        self.fig = plt.figure()\n",
    "        self.logs = []\n",
    "\n",
    "    def on_epoch_end(self, epoch, logs={}):\n",
    "        \n",
    "        self.logs.append(logs)\n",
    "        self.x.append(self.i)\n",
    "        self.losses.append(logs.get('loss'))\n",
    "        self.val_losses.append(logs.get('val_loss'))\n",
    "        self.i += 1\n",
    "        \n",
    "        clear_output(wait=True)\n",
    "        plt.plot(self.x, self.losses, label=\"loss\")\n",
    "        plt.plot(self.x, self.val_losses, label=\"val_loss\")\n",
    "        plt.legend()\n",
    "        plt.show();\n",
    "        \n",
    "plot_losses = PlotLosses()"
   ]
  },
  {
   "cell_type": "code",
   "execution_count": 25,
   "metadata": {},
   "outputs": [
    {
     "data": {
      "image/png": "[encoded data removed]",
      "text/plain": [
       "<Figure size 432x288 with 1 Axes>"
      ]
     },
     "metadata": {
      "needs_background": "light"
     },
     "output_type": "display_data"
    },
    {
     "name": "stdout",
     "output_type": "stream",
     "text": [
      "1743/1743 - 1s - loss: 1.6406 - sparse_categorical_crossentropy: 1.5318 - val_loss: 2.0264 - val_sparse_categorical_crossentropy: 1.9162\n"
     ]
    },
    {
     "data": {
      "text/plain": [
       "<tensorflow.python.keras.callbacks.History at 0x111c33710>"
      ]
     },
     "execution_count": 25,
     "metadata": {},
     "output_type": "execute_result"
    }
   ],
   "source": [
    "model.fit(train_data, \n",
    "          train_labels,\n",
    "          batch_size=64,\n",
    "          validation_data=(val_data, val_labels), \n",
    "          verbose=2,\n",
    "          epochs=50,\n",
    "         callbacks=[plot_losses])"
   ]
  },
  {
   "cell_type": "markdown",
   "metadata": {},
   "source": [
    "## Current results"
   ]
  },
  {
   "cell_type": "markdown",
   "metadata": {},
   "source": [
    "Classifier is overfitting :("
   ]
  },
  {
   "cell_type": "markdown",
   "metadata": {},
   "source": [
    "### Make submission"
   ]
  },
  {
   "cell_type": "code",
   "execution_count": 26,
   "metadata": {},
   "outputs": [
    {
     "data": {
      "image/png": "[encoded data removed]",
      "text/plain": [
       "<Figure size 432x288 with 1 Axes>"
      ]
     },
     "metadata": {
      "needs_background": "light"
     },
     "output_type": "display_data"
    },
    {
     "name": "stdout",
     "output_type": "stream",
     "text": [
      "2491/2491 - 1s - loss: 1.7739 - sparse_categorical_crossentropy: 1.7609\n"
     ]
    },
    {
     "data": {
      "text/plain": [
       "<tensorflow.python.keras.callbacks.History at 0x1a41774048>"
      ]
     },
     "execution_count": 26,
     "metadata": {},
     "output_type": "execute_result"
    }
   ],
   "source": [
    "data = np.concatenate((train_data, val_data), axis=0)\n",
    "labels = np.concatenate((train_labels, val_labels), axis=0)\n",
    "\n",
    "model = get_model()\n",
    "model.compile(optimizer='adam',\n",
    "              loss=keras.metrics.sparse_categorical_crossentropy,\n",
    "              metrics=[keras.metrics.sparse_categorical_crossentropy])\n",
    "\n",
    "model.fit(data, \n",
    "          labels,\n",
    "          batch_size=64,\n",
    "          verbose=2,\n",
    "          epochs=20, \n",
    "          callbacks=[plot_losses])"
   ]
  },
  {
   "cell_type": "code",
   "execution_count": 27,
   "metadata": {},
   "outputs": [
    {
     "data": {
      "text/plain": [
       "array([[0.07240668, 0.00853351, 0.04907029, 0.17827599, 0.13715464,\n",
       "        0.06247969, 0.10365193, 0.34619874, 0.04222864],\n",
       "       [0.05849869, 0.00370306, 0.03421185, 0.19678529, 0.12726036,\n",
       "        0.04928236, 0.0994667 , 0.3956541 , 0.03513765],\n",
       "       [0.05869129, 0.0037859 , 0.03437759, 0.20449086, 0.12701175,\n",
       "        0.05184989, 0.09999239, 0.38476226, 0.03503807],\n",
       "       [0.05356209, 0.00309628, 0.03019986, 0.20456553, 0.12960002,\n",
       "        0.04799547, 0.08903527, 0.41062018, 0.03132537],\n",
       "       [0.07450609, 0.00911303, 0.04879411, 0.17344666, 0.13388182,\n",
       "        0.0665682 , 0.10756552, 0.3365373 , 0.0495873 ]], dtype=float32)"
      ]
     },
     "execution_count": 27,
     "metadata": {},
     "output_type": "execute_result"
    }
   ],
   "source": [
    "predictions = model.predict(test_data)\n",
    "predictions[:5]"
   ]
  },
  {
   "cell_type": "code",
   "execution_count": 28,
   "metadata": {},
   "outputs": [
    {
     "data": {
      "text/plain": [
       "(1003, 28, 28, 1)"
      ]
     },
     "execution_count": 28,
     "metadata": {},
     "output_type": "execute_result"
    }
   ],
   "source": [
    "test_data.shape"
   ]
  },
  {
   "cell_type": "code",
   "execution_count": 29,
   "metadata": {},
   "outputs": [
    {
     "data": {
      "text/html": [
       "<div>\n",
       "<style scoped>\n",
       "    .dataframe tbody tr th:only-of-type {\n",
       "        vertical-align: middle;\n",
       "    }\n",
       "\n",
       "    .dataframe tbody tr th {\n",
       "        vertical-align: top;\n",
       "    }\n",
       "\n",
       "    .dataframe thead th {\n",
       "        text-align: right;\n",
       "    }\n",
       "</style>\n",
       "<table border=\"1\" class=\"dataframe\">\n",
       "  <thead>\n",
       "    <tr style=\"text-align: right;\">\n",
       "      <th></th>\n",
       "      <th>Area</th>\n",
       "      <th>Subregion</th>\n",
       "      <th>geometry</th>\n",
       "    </tr>\n",
       "    <tr>\n",
       "      <th>Field_Id</th>\n",
       "      <th></th>\n",
       "      <th></th>\n",
       "      <th></th>\n",
       "    </tr>\n",
       "  </thead>\n",
       "  <tbody>\n",
       "    <tr>\n",
       "      <th>5</th>\n",
       "      <td>1.322590</td>\n",
       "      <td>3</td>\n",
       "      <td>POLYGON ((614428.5851635702 6794207.23529591, ...</td>\n",
       "    </tr>\n",
       "    <tr>\n",
       "      <th>6</th>\n",
       "      <td>0.955864</td>\n",
       "      <td>3</td>\n",
       "      <td>POLYGON ((614617.1386412303 6794163.687688111,...</td>\n",
       "    </tr>\n",
       "    <tr>\n",
       "      <th>10</th>\n",
       "      <td>11.509800</td>\n",
       "      <td>3</td>\n",
       "      <td>POLYGON ((614352.4574846183 6794416.783909474,...</td>\n",
       "    </tr>\n",
       "    <tr>\n",
       "      <th>18</th>\n",
       "      <td>2.697520</td>\n",
       "      <td>3</td>\n",
       "      <td>POLYGON ((587079.1386775962 6809196.166975806,...</td>\n",
       "    </tr>\n",
       "    <tr>\n",
       "      <th>23</th>\n",
       "      <td>4.238030</td>\n",
       "      <td>3</td>\n",
       "      <td>POLYGON ((587292.0585372676 6809495.257391035,...</td>\n",
       "    </tr>\n",
       "  </tbody>\n",
       "</table>\n",
       "</div>"
      ],
      "text/plain": [
       "               Area  Subregion  \\\n",
       "Field_Id                         \n",
       "5          1.322590          3   \n",
       "6          0.955864          3   \n",
       "10        11.509800          3   \n",
       "18         2.697520          3   \n",
       "23         4.238030          3   \n",
       "\n",
       "                                                   geometry  \n",
       "Field_Id                                                     \n",
       "5         POLYGON ((614428.5851635702 6794207.23529591, ...  \n",
       "6         POLYGON ((614617.1386412303 6794163.687688111,...  \n",
       "10        POLYGON ((614352.4574846183 6794416.783909474,...  \n",
       "18        POLYGON ((587079.1386775962 6809196.166975806,...  \n",
       "23        POLYGON ((587292.0585372676 6809495.257391035,...  "
      ]
     },
     "execution_count": 29,
     "metadata": {},
     "output_type": "execute_result"
    }
   ],
   "source": [
    "test_shp_df.head()"
   ]
  },
  {
   "cell_type": "code",
   "execution_count": 30,
   "metadata": {
    "collapsed": true,
    "jupyter": {
     "outputs_hidden": true
    }
   },
   "outputs": [
    {
     "data": {
      "text/html": [
       "<div>\n",
       "<style scoped>\n",
       "    .dataframe tbody tr th:only-of-type {\n",
       "        vertical-align: middle;\n",
       "    }\n",
       "\n",
       "    .dataframe tbody tr th {\n",
       "        vertical-align: top;\n",
       "    }\n",
       "\n",
       "    .dataframe thead th {\n",
       "        text-align: right;\n",
       "    }\n",
       "</style>\n",
       "<table border=\"1\" class=\"dataframe\">\n",
       "  <thead>\n",
       "    <tr style=\"text-align: right;\">\n",
       "      <th></th>\n",
       "      <th>Area</th>\n",
       "      <th>Subregion</th>\n",
       "      <th>geometry</th>\n",
       "    </tr>\n",
       "    <tr>\n",
       "      <th>Field_Id</th>\n",
       "      <th></th>\n",
       "      <th></th>\n",
       "      <th></th>\n",
       "    </tr>\n",
       "  </thead>\n",
       "  <tbody>\n",
       "    <tr>\n",
       "      <th>54</th>\n",
       "      <td>2.632320</td>\n",
       "      <td>3</td>\n",
       "      <td>POLYGON ((587034.0033735929 6809904.693849528,...</td>\n",
       "    </tr>\n",
       "    <tr>\n",
       "      <th>69</th>\n",
       "      <td>4.528320</td>\n",
       "      <td>3</td>\n",
       "      <td>POLYGON ((585672.3083976685 6809750.549215385,...</td>\n",
       "    </tr>\n",
       "    <tr>\n",
       "      <th>70</th>\n",
       "      <td>0.715439</td>\n",
       "      <td>3</td>\n",
       "      <td>POLYGON ((585609.2631669876 6809889.694284163,...</td>\n",
       "    </tr>\n",
       "    <tr>\n",
       "      <th>125</th>\n",
       "      <td>1.621480</td>\n",
       "      <td>3</td>\n",
       "      <td>POLYGON ((611180.4931568142 6800213.09792572, ...</td>\n",
       "    </tr>\n",
       "    <tr>\n",
       "      <th>197</th>\n",
       "      <td>9.508900</td>\n",
       "      <td>1</td>\n",
       "      <td>POLYGON ((607084.1814842457 6805045.537744238,...</td>\n",
       "    </tr>\n",
       "    <tr>\n",
       "      <th>215</th>\n",
       "      <td>1.879160</td>\n",
       "      <td>1</td>\n",
       "      <td>POLYGON ((606616.8869872207 6806488.124551135,...</td>\n",
       "    </tr>\n",
       "    <tr>\n",
       "      <th>222</th>\n",
       "      <td>1.345500</td>\n",
       "      <td>1</td>\n",
       "      <td>POLYGON ((606615.5906259931 6806776.135258779,...</td>\n",
       "    </tr>\n",
       "    <tr>\n",
       "      <th>343</th>\n",
       "      <td>0.798200</td>\n",
       "      <td>3</td>\n",
       "      <td>POLYGON ((604768.2610021284 6808459.68825761, ...</td>\n",
       "    </tr>\n",
       "    <tr>\n",
       "      <th>518</th>\n",
       "      <td>4.829440</td>\n",
       "      <td>3</td>\n",
       "      <td>POLYGON ((583159.8376427279 6821093.944477046,...</td>\n",
       "    </tr>\n",
       "    <tr>\n",
       "      <th>532</th>\n",
       "      <td>0.630515</td>\n",
       "      <td>3</td>\n",
       "      <td>POLYGON ((582809.7767955733 6820372.700063612,...</td>\n",
       "    </tr>\n",
       "    <tr>\n",
       "      <th>542</th>\n",
       "      <td>3.113680</td>\n",
       "      <td>3</td>\n",
       "      <td>POLYGON ((583213.6919666438 6820866.073082626,...</td>\n",
       "    </tr>\n",
       "    <tr>\n",
       "      <th>672</th>\n",
       "      <td>3.983690</td>\n",
       "      <td>2</td>\n",
       "      <td>POLYGON ((580728.6791846845 6827018.777048981,...</td>\n",
       "    </tr>\n",
       "    <tr>\n",
       "      <th>683</th>\n",
       "      <td>0.454830</td>\n",
       "      <td>5</td>\n",
       "      <td>POLYGON ((573255.8579192458 6844637.923323823,...</td>\n",
       "    </tr>\n",
       "    <tr>\n",
       "      <th>752</th>\n",
       "      <td>2.070180</td>\n",
       "      <td>2</td>\n",
       "      <td>POLYGON ((572654.1048366041 6846047.923801843,...</td>\n",
       "    </tr>\n",
       "    <tr>\n",
       "      <th>765</th>\n",
       "      <td>0.322098</td>\n",
       "      <td>5</td>\n",
       "      <td>POLYGON ((572286.5634624369 6845293.760874636,...</td>\n",
       "    </tr>\n",
       "    <tr>\n",
       "      <th>767</th>\n",
       "      <td>1.166930</td>\n",
       "      <td>5</td>\n",
       "      <td>POLYGON ((572095.7905052238 6845358.09872601, ...</td>\n",
       "    </tr>\n",
       "    <tr>\n",
       "      <th>819</th>\n",
       "      <td>0.921918</td>\n",
       "      <td>4</td>\n",
       "      <td>POLYGON ((577432.7266475393 6829248.174799529,...</td>\n",
       "    </tr>\n",
       "    <tr>\n",
       "      <th>888</th>\n",
       "      <td>2.409090</td>\n",
       "      <td>4</td>\n",
       "      <td>POLYGON ((579681.0939457158 6827148.564110029,...</td>\n",
       "    </tr>\n",
       "    <tr>\n",
       "      <th>944</th>\n",
       "      <td>7.086460</td>\n",
       "      <td>6</td>\n",
       "      <td>POLYGON ((551323.6950217145 6858801.502805062,...</td>\n",
       "    </tr>\n",
       "    <tr>\n",
       "      <th>972</th>\n",
       "      <td>0.846663</td>\n",
       "      <td>2</td>\n",
       "      <td>POLYGON ((572410.5643603269 6846647.545241512,...</td>\n",
       "    </tr>\n",
       "    <tr>\n",
       "      <th>1058</th>\n",
       "      <td>0.352393</td>\n",
       "      <td>6</td>\n",
       "      <td>POLYGON ((552867.9602537889 6859417.198638413,...</td>\n",
       "    </tr>\n",
       "    <tr>\n",
       "      <th>1158</th>\n",
       "      <td>2.171890</td>\n",
       "      <td>5</td>\n",
       "      <td>POLYGON ((568238.4635855466 6847291.769722963,...</td>\n",
       "    </tr>\n",
       "    <tr>\n",
       "      <th>1175</th>\n",
       "      <td>0.440715</td>\n",
       "      <td>5</td>\n",
       "      <td>POLYGON ((568165.1777295643 6847669.997820249,...</td>\n",
       "    </tr>\n",
       "    <tr>\n",
       "      <th>1242</th>\n",
       "      <td>8.743950</td>\n",
       "      <td>1</td>\n",
       "      <td>POLYGON ((599552.7503146681 6804129.124695558,...</td>\n",
       "    </tr>\n",
       "    <tr>\n",
       "      <th>1293</th>\n",
       "      <td>1.139480</td>\n",
       "      <td>3</td>\n",
       "      <td>POLYGON ((598110.7472372549 6803375.949823022,...</td>\n",
       "    </tr>\n",
       "    <tr>\n",
       "      <th>1309</th>\n",
       "      <td>1.417340</td>\n",
       "      <td>3</td>\n",
       "      <td>POLYGON ((598572.6136235446 6803067.843982322,...</td>\n",
       "    </tr>\n",
       "    <tr>\n",
       "      <th>1318</th>\n",
       "      <td>1.290370</td>\n",
       "      <td>3</td>\n",
       "      <td>POLYGON ((595584.8248695456 6805168.684985422,...</td>\n",
       "    </tr>\n",
       "    <tr>\n",
       "      <th>1325</th>\n",
       "      <td>4.063120</td>\n",
       "      <td>3</td>\n",
       "      <td>POLYGON ((595547.2239662228 6804919.277609387,...</td>\n",
       "    </tr>\n",
       "    <tr>\n",
       "      <th>1353</th>\n",
       "      <td>3.210820</td>\n",
       "      <td>3</td>\n",
       "      <td>POLYGON ((596098.4734075384 6804594.120210621,...</td>\n",
       "    </tr>\n",
       "    <tr>\n",
       "      <th>1360</th>\n",
       "      <td>1.657460</td>\n",
       "      <td>3</td>\n",
       "      <td>POLYGON ((589423.1420944228 6811042.554298932,...</td>\n",
       "    </tr>\n",
       "    <tr>\n",
       "      <th>...</th>\n",
       "      <td>...</td>\n",
       "      <td>...</td>\n",
       "      <td>...</td>\n",
       "    </tr>\n",
       "    <tr>\n",
       "      <th>1903</th>\n",
       "      <td>7.535440</td>\n",
       "      <td>2</td>\n",
       "      <td>POLYGON ((575408.6247663599 6844245.908519183,...</td>\n",
       "    </tr>\n",
       "    <tr>\n",
       "      <th>1932</th>\n",
       "      <td>1.394000</td>\n",
       "      <td>5</td>\n",
       "      <td>POLYGON ((574782.0845475807 6843118.306690156,...</td>\n",
       "    </tr>\n",
       "    <tr>\n",
       "      <th>2052</th>\n",
       "      <td>1.212260</td>\n",
       "      <td>5</td>\n",
       "      <td>POLYGON ((568411.7700233854 6849133.987752614,...</td>\n",
       "    </tr>\n",
       "    <tr>\n",
       "      <th>2212</th>\n",
       "      <td>5.451180</td>\n",
       "      <td>2</td>\n",
       "      <td>POLYGON ((579523.4878926023 6829188.231466198,...</td>\n",
       "    </tr>\n",
       "    <tr>\n",
       "      <th>2258</th>\n",
       "      <td>0.762598</td>\n",
       "      <td>5</td>\n",
       "      <td>POLYGON ((575438.8725983157 6842034.270428754,...</td>\n",
       "    </tr>\n",
       "    <tr>\n",
       "      <th>2317</th>\n",
       "      <td>1.613840</td>\n",
       "      <td>6</td>\n",
       "      <td>POLYGON ((561260.8056600846 6856309.105867501,...</td>\n",
       "    </tr>\n",
       "    <tr>\n",
       "      <th>2401</th>\n",
       "      <td>1.600410</td>\n",
       "      <td>3</td>\n",
       "      <td>POLYGON ((610489.0927185402 6801309.74361456, ...</td>\n",
       "    </tr>\n",
       "    <tr>\n",
       "      <th>2417</th>\n",
       "      <td>3.158600</td>\n",
       "      <td>3</td>\n",
       "      <td>POLYGON ((609548.3454784527 6801184.366862077,...</td>\n",
       "    </tr>\n",
       "    <tr>\n",
       "      <th>2421</th>\n",
       "      <td>3.234310</td>\n",
       "      <td>3</td>\n",
       "      <td>POLYGON ((609464.6426771815 6801407.924879381,...</td>\n",
       "    </tr>\n",
       "    <tr>\n",
       "      <th>2446</th>\n",
       "      <td>0.641138</td>\n",
       "      <td>3</td>\n",
       "      <td>POLYGON ((609020.8055143753 6801699.774086839,...</td>\n",
       "    </tr>\n",
       "    <tr>\n",
       "      <th>2449</th>\n",
       "      <td>1.644100</td>\n",
       "      <td>3</td>\n",
       "      <td>POLYGON ((609187.9786676283 6801257.028033845,...</td>\n",
       "    </tr>\n",
       "    <tr>\n",
       "      <th>2557</th>\n",
       "      <td>3.378170</td>\n",
       "      <td>6</td>\n",
       "      <td>POLYGON ((547383.0435441869 6859053.837435132,...</td>\n",
       "    </tr>\n",
       "    <tr>\n",
       "      <th>2570</th>\n",
       "      <td>4.190140</td>\n",
       "      <td>6</td>\n",
       "      <td>POLYGON ((546764.8358071387 6859264.103261419,...</td>\n",
       "    </tr>\n",
       "    <tr>\n",
       "      <th>2660</th>\n",
       "      <td>4.764070</td>\n",
       "      <td>1</td>\n",
       "      <td>(POLYGON ((607299.5184234488 6803899.285809241...</td>\n",
       "    </tr>\n",
       "    <tr>\n",
       "      <th>2682</th>\n",
       "      <td>2.041080</td>\n",
       "      <td>4</td>\n",
       "      <td>POLYGON ((575409.7872122225 6833416.885026356,...</td>\n",
       "    </tr>\n",
       "    <tr>\n",
       "      <th>2804</th>\n",
       "      <td>2.809080</td>\n",
       "      <td>2</td>\n",
       "      <td>POLYGON ((575907.9200878938 6833696.84834837, ...</td>\n",
       "    </tr>\n",
       "    <tr>\n",
       "      <th>2815</th>\n",
       "      <td>1.908060</td>\n",
       "      <td>2</td>\n",
       "      <td>POLYGON ((575805.544667994 6832530.872924295, ...</td>\n",
       "    </tr>\n",
       "    <tr>\n",
       "      <th>2861</th>\n",
       "      <td>0.725253</td>\n",
       "      <td>2</td>\n",
       "      <td>POLYGON ((582364.632937164 6823305.123460807, ...</td>\n",
       "    </tr>\n",
       "    <tr>\n",
       "      <th>2866</th>\n",
       "      <td>1.627810</td>\n",
       "      <td>2</td>\n",
       "      <td>POLYGON ((581876.1696246513 6823535.665525755,...</td>\n",
       "    </tr>\n",
       "    <tr>\n",
       "      <th>2868</th>\n",
       "      <td>2.088890</td>\n",
       "      <td>2</td>\n",
       "      <td>POLYGON ((581802.2134117702 6823707.405626904,...</td>\n",
       "    </tr>\n",
       "    <tr>\n",
       "      <th>2964</th>\n",
       "      <td>2.275970</td>\n",
       "      <td>6</td>\n",
       "      <td>POLYGON ((544190.4994765481 6856679.710275955,...</td>\n",
       "    </tr>\n",
       "    <tr>\n",
       "      <th>3026</th>\n",
       "      <td>1.942010</td>\n",
       "      <td>6</td>\n",
       "      <td>POLYGON ((542949.8848525805 6855187.242263727,...</td>\n",
       "    </tr>\n",
       "    <tr>\n",
       "      <th>3181</th>\n",
       "      <td>0.606612</td>\n",
       "      <td>6</td>\n",
       "      <td>POLYGON ((544423.9474966263 6857212.418979662,...</td>\n",
       "    </tr>\n",
       "    <tr>\n",
       "      <th>3194</th>\n",
       "      <td>1.453000</td>\n",
       "      <td>6</td>\n",
       "      <td>POLYGON ((544179.3313232778 6856483.496616859,...</td>\n",
       "    </tr>\n",
       "    <tr>\n",
       "      <th>3368</th>\n",
       "      <td>1.919830</td>\n",
       "      <td>5</td>\n",
       "      <td>POLYGON ((569014.6232780057 6852104.480663229,...</td>\n",
       "    </tr>\n",
       "    <tr>\n",
       "      <th>3414</th>\n",
       "      <td>1.191610</td>\n",
       "      <td>3</td>\n",
       "      <td>POLYGON ((605900.7205523379 6804717.333440853,...</td>\n",
       "    </tr>\n",
       "    <tr>\n",
       "      <th>3475</th>\n",
       "      <td>2.131150</td>\n",
       "      <td>6</td>\n",
       "      <td>POLYGON ((553255.8235806151 6859661.088870013,...</td>\n",
       "    </tr>\n",
       "    <tr>\n",
       "      <th>3511</th>\n",
       "      <td>1.476390</td>\n",
       "      <td>2</td>\n",
       "      <td>POLYGON ((575715.5075549465 6835653.210407453,...</td>\n",
       "    </tr>\n",
       "    <tr>\n",
       "      <th>3558</th>\n",
       "      <td>0.888824</td>\n",
       "      <td>4</td>\n",
       "      <td>POLYGON ((578654.1943463321 6828690.534794172,...</td>\n",
       "    </tr>\n",
       "    <tr>\n",
       "      <th>3569</th>\n",
       "      <td>3.259300</td>\n",
       "      <td>3</td>\n",
       "      <td>POLYGON ((607773.0570339148 6802543.764321139,...</td>\n",
       "    </tr>\n",
       "  </tbody>\n",
       "</table>\n",
       "<p>71 rows × 3 columns</p>\n",
       "</div>"
      ],
      "text/plain": [
       "              Area  Subregion  \\\n",
       "Field_Id                        \n",
       "54        2.632320          3   \n",
       "69        4.528320          3   \n",
       "70        0.715439          3   \n",
       "125       1.621480          3   \n",
       "197       9.508900          1   \n",
       "215       1.879160          1   \n",
       "222       1.345500          1   \n",
       "343       0.798200          3   \n",
       "518       4.829440          3   \n",
       "532       0.630515          3   \n",
       "542       3.113680          3   \n",
       "672       3.983690          2   \n",
       "683       0.454830          5   \n",
       "752       2.070180          2   \n",
       "765       0.322098          5   \n",
       "767       1.166930          5   \n",
       "819       0.921918          4   \n",
       "888       2.409090          4   \n",
       "944       7.086460          6   \n",
       "972       0.846663          2   \n",
       "1058      0.352393          6   \n",
       "1158      2.171890          5   \n",
       "1175      0.440715          5   \n",
       "1242      8.743950          1   \n",
       "1293      1.139480          3   \n",
       "1309      1.417340          3   \n",
       "1318      1.290370          3   \n",
       "1325      4.063120          3   \n",
       "1353      3.210820          3   \n",
       "1360      1.657460          3   \n",
       "...            ...        ...   \n",
       "1903      7.535440          2   \n",
       "1932      1.394000          5   \n",
       "2052      1.212260          5   \n",
       "2212      5.451180          2   \n",
       "2258      0.762598          5   \n",
       "2317      1.613840          6   \n",
       "2401      1.600410          3   \n",
       "2417      3.158600          3   \n",
       "2421      3.234310          3   \n",
       "2446      0.641138          3   \n",
       "2449      1.644100          3   \n",
       "2557      3.378170          6   \n",
       "2570      4.190140          6   \n",
       "2660      4.764070          1   \n",
       "2682      2.041080          4   \n",
       "2804      2.809080          2   \n",
       "2815      1.908060          2   \n",
       "2861      0.725253          2   \n",
       "2866      1.627810          2   \n",
       "2868      2.088890          2   \n",
       "2964      2.275970          6   \n",
       "3026      1.942010          6   \n",
       "3181      0.606612          6   \n",
       "3194      1.453000          6   \n",
       "3368      1.919830          5   \n",
       "3414      1.191610          3   \n",
       "3475      2.131150          6   \n",
       "3511      1.476390          2   \n",
       "3558      0.888824          4   \n",
       "3569      3.259300          3   \n",
       "\n",
       "                                                   geometry  \n",
       "Field_Id                                                     \n",
       "54        POLYGON ((587034.0033735929 6809904.693849528,...  \n",
       "69        POLYGON ((585672.3083976685 6809750.549215385,...  \n",
       "70        POLYGON ((585609.2631669876 6809889.694284163,...  \n",
       "125       POLYGON ((611180.4931568142 6800213.09792572, ...  \n",
       "197       POLYGON ((607084.1814842457 6805045.537744238,...  \n",
       "215       POLYGON ((606616.8869872207 6806488.124551135,...  \n",
       "222       POLYGON ((606615.5906259931 6806776.135258779,...  \n",
       "343       POLYGON ((604768.2610021284 6808459.68825761, ...  \n",
       "518       POLYGON ((583159.8376427279 6821093.944477046,...  \n",
       "532       POLYGON ((582809.7767955733 6820372.700063612,...  \n",
       "542       POLYGON ((583213.6919666438 6820866.073082626,...  \n",
       "672       POLYGON ((580728.6791846845 6827018.777048981,...  \n",
       "683       POLYGON ((573255.8579192458 6844637.923323823,...  \n",
       "752       POLYGON ((572654.1048366041 6846047.923801843,...  \n",
       "765       POLYGON ((572286.5634624369 6845293.760874636,...  \n",
       "767       POLYGON ((572095.7905052238 6845358.09872601, ...  \n",
       "819       POLYGON ((577432.7266475393 6829248.174799529,...  \n",
       "888       POLYGON ((579681.0939457158 6827148.564110029,...  \n",
       "944       POLYGON ((551323.6950217145 6858801.502805062,...  \n",
       "972       POLYGON ((572410.5643603269 6846647.545241512,...  \n",
       "1058      POLYGON ((552867.9602537889 6859417.198638413,...  \n",
       "1158      POLYGON ((568238.4635855466 6847291.769722963,...  \n",
       "1175      POLYGON ((568165.1777295643 6847669.997820249,...  \n",
       "1242      POLYGON ((599552.7503146681 6804129.124695558,...  \n",
       "1293      POLYGON ((598110.7472372549 6803375.949823022,...  \n",
       "1309      POLYGON ((598572.6136235446 6803067.843982322,...  \n",
       "1318      POLYGON ((595584.8248695456 6805168.684985422,...  \n",
       "1325      POLYGON ((595547.2239662228 6804919.277609387,...  \n",
       "1353      POLYGON ((596098.4734075384 6804594.120210621,...  \n",
       "1360      POLYGON ((589423.1420944228 6811042.554298932,...  \n",
       "...                                                     ...  \n",
       "1903      POLYGON ((575408.6247663599 6844245.908519183,...  \n",
       "1932      POLYGON ((574782.0845475807 6843118.306690156,...  \n",
       "2052      POLYGON ((568411.7700233854 6849133.987752614,...  \n",
       "2212      POLYGON ((579523.4878926023 6829188.231466198,...  \n",
       "2258      POLYGON ((575438.8725983157 6842034.270428754,...  \n",
       "2317      POLYGON ((561260.8056600846 6856309.105867501,...  \n",
       "2401      POLYGON ((610489.0927185402 6801309.74361456, ...  \n",
       "2417      POLYGON ((609548.3454784527 6801184.366862077,...  \n",
       "2421      POLYGON ((609464.6426771815 6801407.924879381,...  \n",
       "2446      POLYGON ((609020.8055143753 6801699.774086839,...  \n",
       "2449      POLYGON ((609187.9786676283 6801257.028033845,...  \n",
       "2557      POLYGON ((547383.0435441869 6859053.837435132,...  \n",
       "2570      POLYGON ((546764.8358071387 6859264.103261419,...  \n",
       "2660      (POLYGON ((607299.5184234488 6803899.285809241...  \n",
       "2682      POLYGON ((575409.7872122225 6833416.885026356,...  \n",
       "2804      POLYGON ((575907.9200878938 6833696.84834837, ...  \n",
       "2815      POLYGON ((575805.544667994 6832530.872924295, ...  \n",
       "2861      POLYGON ((582364.632937164 6823305.123460807, ...  \n",
       "2866      POLYGON ((581876.1696246513 6823535.665525755,...  \n",
       "2868      POLYGON ((581802.2134117702 6823707.405626904,...  \n",
       "2964      POLYGON ((544190.4994765481 6856679.710275955,...  \n",
       "3026      POLYGON ((542949.8848525805 6855187.242263727,...  \n",
       "3181      POLYGON ((544423.9474966263 6857212.418979662,...  \n",
       "3194      POLYGON ((544179.3313232778 6856483.496616859,...  \n",
       "3368      POLYGON ((569014.6232780057 6852104.480663229,...  \n",
       "3414      POLYGON ((605900.7205523379 6804717.333440853,...  \n",
       "3475      POLYGON ((553255.8235806151 6859661.088870013,...  \n",
       "3511      POLYGON ((575715.5075549465 6835653.210407453,...  \n",
       "3558      POLYGON ((578654.1943463321 6828690.534794172,...  \n",
       "3569      POLYGON ((607773.0570339148 6802543.764321139,...  \n",
       "\n",
       "[71 rows x 3 columns]"
      ]
     },
     "execution_count": 30,
     "metadata": {},
     "output_type": "execute_result"
    }
   ],
   "source": [
    "test_shp_df.loc[test_nan_ids]"
   ]
  },
  {
   "cell_type": "code",
   "execution_count": 45,
   "metadata": {},
   "outputs": [
    {
     "data": {
      "text/html": [
       "<div>\n",
       "<style scoped>\n",
       "    .dataframe tbody tr th:only-of-type {\n",
       "        vertical-align: middle;\n",
       "    }\n",
       "\n",
       "    .dataframe tbody tr th {\n",
       "        vertical-align: top;\n",
       "    }\n",
       "\n",
       "    .dataframe thead th {\n",
       "        text-align: right;\n",
       "    }\n",
       "</style>\n",
       "<table border=\"1\" class=\"dataframe\">\n",
       "  <thead>\n",
       "    <tr style=\"text-align: right;\">\n",
       "      <th></th>\n",
       "      <th>crop_id_1</th>\n",
       "      <th>crop_id_2</th>\n",
       "      <th>crop_id_3</th>\n",
       "      <th>crop_id_4</th>\n",
       "      <th>crop_id_5</th>\n",
       "      <th>crop_id_6</th>\n",
       "      <th>crop_id_7</th>\n",
       "      <th>crop_id_8</th>\n",
       "      <th>crop_id_9</th>\n",
       "    </tr>\n",
       "    <tr>\n",
       "      <th>field_id</th>\n",
       "      <th></th>\n",
       "      <th></th>\n",
       "      <th></th>\n",
       "      <th></th>\n",
       "      <th></th>\n",
       "      <th></th>\n",
       "      <th></th>\n",
       "      <th></th>\n",
       "      <th></th>\n",
       "    </tr>\n",
       "  </thead>\n",
       "  <tbody>\n",
       "    <tr>\n",
       "      <th>5</th>\n",
       "      <td>0.072407</td>\n",
       "      <td>0.008534</td>\n",
       "      <td>0.049070</td>\n",
       "      <td>0.178276</td>\n",
       "      <td>0.137155</td>\n",
       "      <td>0.062480</td>\n",
       "      <td>0.103652</td>\n",
       "      <td>0.346199</td>\n",
       "      <td>0.042229</td>\n",
       "    </tr>\n",
       "    <tr>\n",
       "      <th>6</th>\n",
       "      <td>0.058499</td>\n",
       "      <td>0.003703</td>\n",
       "      <td>0.034212</td>\n",
       "      <td>0.196785</td>\n",
       "      <td>0.127260</td>\n",
       "      <td>0.049282</td>\n",
       "      <td>0.099467</td>\n",
       "      <td>0.395654</td>\n",
       "      <td>0.035138</td>\n",
       "    </tr>\n",
       "    <tr>\n",
       "      <th>10</th>\n",
       "      <td>0.058691</td>\n",
       "      <td>0.003786</td>\n",
       "      <td>0.034378</td>\n",
       "      <td>0.204491</td>\n",
       "      <td>0.127012</td>\n",
       "      <td>0.051850</td>\n",
       "      <td>0.099992</td>\n",
       "      <td>0.384762</td>\n",
       "      <td>0.035038</td>\n",
       "    </tr>\n",
       "    <tr>\n",
       "      <th>18</th>\n",
       "      <td>0.053562</td>\n",
       "      <td>0.003096</td>\n",
       "      <td>0.030200</td>\n",
       "      <td>0.204566</td>\n",
       "      <td>0.129600</td>\n",
       "      <td>0.047995</td>\n",
       "      <td>0.089035</td>\n",
       "      <td>0.410620</td>\n",
       "      <td>0.031325</td>\n",
       "    </tr>\n",
       "    <tr>\n",
       "      <th>23</th>\n",
       "      <td>0.074506</td>\n",
       "      <td>0.009113</td>\n",
       "      <td>0.048794</td>\n",
       "      <td>0.173447</td>\n",
       "      <td>0.133882</td>\n",
       "      <td>0.066568</td>\n",
       "      <td>0.107566</td>\n",
       "      <td>0.336537</td>\n",
       "      <td>0.049587</td>\n",
       "    </tr>\n",
       "    <tr>\n",
       "      <th>28</th>\n",
       "      <td>0.062702</td>\n",
       "      <td>0.004953</td>\n",
       "      <td>0.036950</td>\n",
       "      <td>0.190119</td>\n",
       "      <td>0.126312</td>\n",
       "      <td>0.054880</td>\n",
       "      <td>0.091037</td>\n",
       "      <td>0.397042</td>\n",
       "      <td>0.036004</td>\n",
       "    </tr>\n",
       "    <tr>\n",
       "      <th>32</th>\n",
       "      <td>0.057037</td>\n",
       "      <td>0.003765</td>\n",
       "      <td>0.034171</td>\n",
       "      <td>0.195397</td>\n",
       "      <td>0.125204</td>\n",
       "      <td>0.049884</td>\n",
       "      <td>0.083615</td>\n",
       "      <td>0.423627</td>\n",
       "      <td>0.027299</td>\n",
       "    </tr>\n",
       "    <tr>\n",
       "      <th>35</th>\n",
       "      <td>0.041379</td>\n",
       "      <td>0.001136</td>\n",
       "      <td>0.018337</td>\n",
       "      <td>0.206024</td>\n",
       "      <td>0.093087</td>\n",
       "      <td>0.043983</td>\n",
       "      <td>0.065392</td>\n",
       "      <td>0.509672</td>\n",
       "      <td>0.020990</td>\n",
       "    </tr>\n",
       "    <tr>\n",
       "      <th>43</th>\n",
       "      <td>0.067384</td>\n",
       "      <td>0.006396</td>\n",
       "      <td>0.043110</td>\n",
       "      <td>0.182204</td>\n",
       "      <td>0.135581</td>\n",
       "      <td>0.060159</td>\n",
       "      <td>0.101625</td>\n",
       "      <td>0.362516</td>\n",
       "      <td>0.041026</td>\n",
       "    </tr>\n",
       "    <tr>\n",
       "      <th>44</th>\n",
       "      <td>0.069053</td>\n",
       "      <td>0.006896</td>\n",
       "      <td>0.044048</td>\n",
       "      <td>0.182466</td>\n",
       "      <td>0.130513</td>\n",
       "      <td>0.065017</td>\n",
       "      <td>0.105909</td>\n",
       "      <td>0.352083</td>\n",
       "      <td>0.044015</td>\n",
       "    </tr>\n",
       "  </tbody>\n",
       "</table>\n",
       "</div>"
      ],
      "text/plain": [
       "          crop_id_1  crop_id_2  crop_id_3  crop_id_4  crop_id_5  crop_id_6  \\\n",
       "field_id                                                                     \n",
       "5          0.072407   0.008534   0.049070   0.178276   0.137155   0.062480   \n",
       "6          0.058499   0.003703   0.034212   0.196785   0.127260   0.049282   \n",
       "10         0.058691   0.003786   0.034378   0.204491   0.127012   0.051850   \n",
       "18         0.053562   0.003096   0.030200   0.204566   0.129600   0.047995   \n",
       "23         0.074506   0.009113   0.048794   0.173447   0.133882   0.066568   \n",
       "28         0.062702   0.004953   0.036950   0.190119   0.126312   0.054880   \n",
       "32         0.057037   0.003765   0.034171   0.195397   0.125204   0.049884   \n",
       "35         0.041379   0.001136   0.018337   0.206024   0.093087   0.043983   \n",
       "43         0.067384   0.006396   0.043110   0.182204   0.135581   0.060159   \n",
       "44         0.069053   0.006896   0.044048   0.182466   0.130513   0.065017   \n",
       "\n",
       "          crop_id_7  crop_id_8  crop_id_9  \n",
       "field_id                                   \n",
       "5          0.103652   0.346199   0.042229  \n",
       "6          0.099467   0.395654   0.035138  \n",
       "10         0.099992   0.384762   0.035038  \n",
       "18         0.089035   0.410620   0.031325  \n",
       "23         0.107566   0.336537   0.049587  \n",
       "28         0.091037   0.397042   0.036004  \n",
       "32         0.083615   0.423627   0.027299  \n",
       "35         0.065392   0.509672   0.020990  \n",
       "43         0.101625   0.362516   0.041026  \n",
       "44         0.105909   0.352083   0.044015  "
      ]
     },
     "execution_count": 45,
     "metadata": {},
     "output_type": "execute_result"
    }
   ],
   "source": [
    "def make_sub(predictions, nan_ids):\n",
    "    \n",
    "    sub_df = pd.read_csv(os.path.join(raw_data_dir, 'sample_submission_fixed.csv'))\n",
    "\n",
    "    new_sub = sub_df.copy().set_index('field_id')\n",
    "\n",
    "    new_sub.loc[test_ids_list] = predictions\n",
    "\n",
    "    # Fill the missing farms with just zeros for now\n",
    "    new_sub.loc[test_nan_ids] = np.zeros((len(test_nan_ids), 9))\n",
    "    \n",
    "    return new_sub\n",
    "\n",
    "\n",
    "sub_df = make_sub(predictions, test_nan_ids)\n",
    "\n",
    "sub_df.head(10)"
   ]
  },
  {
   "cell_type": "code",
   "execution_count": 46,
   "metadata": {},
   "outputs": [],
   "source": [
    "from config import subs_dir\n",
    "\n",
    "sub_df.to_csv(os.path.join(subs_dir,'keras_basic_band_{}_{}.csv'.format(band, date)))"
   ]
  },
  {
   "cell_type": "markdown",
   "metadata": {},
   "source": [
    "**Submission score:** 1.812\n",
    "\n",
    "At least this is sort of close to the train score..."
   ]
  },
  {
   "cell_type": "code",
   "execution_count": null,
   "metadata": {},
   "outputs": [],
   "source": []
  }
 ],
 "metadata": {
  "kernelspec": {
   "display_name": "Python 3",
   "language": "python",
   "name": "python3"
  },
  "language_info": {
   "codemirror_mode": {
    "name": "ipython",
    "version": 3
   },
   "file_extension": ".py",
   "mimetype": "text/x-python",
   "name": "python",
   "nbconvert_exporter": "python",
   "pygments_lexer": "ipython3",
   "version": "3.7.3"
  }
 },
 "nbformat": 4,
 "nbformat_minor": 4
}
