{
 "cells": [
  {
   "cell_type": "code",
   "execution_count": 122,
   "metadata": {},
   "outputs": [],
   "source": [
    "%load_ext autoreload\n",
    "%autoreload 2\n",
    "%matplotlib inline"
   ]
  },
  {
   "cell_type": "markdown",
   "metadata": {},
   "source": [
    "## CNN on `data_v3`\n",
    "\n",
    "**Goal**: Reach a log-loss of ~1.4"
   ]
  },
  {
   "cell_type": "code",
   "execution_count": 123,
   "metadata": {},
   "outputs": [
    {
     "name": "stdout",
     "output_type": "stream",
     "text": [
      "2.0.0-beta1\n"
     ]
    }
   ],
   "source": [
    "from __future__ import absolute_import, division, print_function, unicode_literals\n",
    "\n",
    "import os\n",
    "import gc\n",
    "\n",
    "import tensorflow as tf\n",
    "from tensorflow import keras\n",
    "\n",
    "import numpy as np\n",
    "import pandas as pd\n",
    "import matplotlib.pyplot as plt\n",
    "\n",
    "print(tf.__version__)"
   ]
  },
  {
   "cell_type": "markdown",
   "metadata": {},
   "source": [
    "## Load train and test sets"
   ]
  },
  {
   "cell_type": "code",
   "execution_count": 145,
   "metadata": {},
   "outputs": [
    {
     "name": "stdout",
     "output_type": "stream",
     "text": [
      "(2494, 6)\n"
     ]
    },
    {
     "data": {
      "text/html": [
       "<div>\n",
       "<style scoped>\n",
       "    .dataframe tbody tr th:only-of-type {\n",
       "        vertical-align: middle;\n",
       "    }\n",
       "\n",
       "    .dataframe tbody tr th {\n",
       "        vertical-align: top;\n",
       "    }\n",
       "\n",
       "    .dataframe thead th {\n",
       "        text-align: right;\n",
       "    }\n",
       "</style>\n",
       "<table border=\"1\" class=\"dataframe\">\n",
       "  <thead>\n",
       "    <tr style=\"text-align: right;\">\n",
       "      <th></th>\n",
       "      <th>Area</th>\n",
       "      <th>Subregion</th>\n",
       "      <th>Crop_Id_Ne</th>\n",
       "      <th>geometry</th>\n",
       "      <th>class_name</th>\n",
       "      <th>y</th>\n",
       "    </tr>\n",
       "    <tr>\n",
       "      <th>Field_Id</th>\n",
       "      <th></th>\n",
       "      <th></th>\n",
       "      <th></th>\n",
       "      <th></th>\n",
       "      <th></th>\n",
       "      <th></th>\n",
       "    </tr>\n",
       "  </thead>\n",
       "  <tbody>\n",
       "    <tr>\n",
       "      <th>1</th>\n",
       "      <td>0.915905</td>\n",
       "      <td>3</td>\n",
       "      <td>8</td>\n",
       "      <td>POLYGON ((613924.3324000851 6793991.295069702,...</td>\n",
       "      <td>Vineyard</td>\n",
       "      <td>7</td>\n",
       "    </tr>\n",
       "    <tr>\n",
       "      <th>2</th>\n",
       "      <td>2.064410</td>\n",
       "      <td>3</td>\n",
       "      <td>6</td>\n",
       "      <td>POLYGON ((614404.0717397591 6794020.579634549,...</td>\n",
       "      <td>Pecan</td>\n",
       "      <td>5</td>\n",
       "    </tr>\n",
       "    <tr>\n",
       "      <th>3</th>\n",
       "      <td>1.080300</td>\n",
       "      <td>3</td>\n",
       "      <td>8</td>\n",
       "      <td>POLYGON ((614320.2146632321 6793964.242091182,...</td>\n",
       "      <td>Vineyard</td>\n",
       "      <td>7</td>\n",
       "    </tr>\n",
       "    <tr>\n",
       "      <th>4</th>\n",
       "      <td>1.316190</td>\n",
       "      <td>3</td>\n",
       "      <td>8</td>\n",
       "      <td>POLYGON ((614560.5326844405 6794002.249461887,...</td>\n",
       "      <td>Vineyard</td>\n",
       "      <td>7</td>\n",
       "    </tr>\n",
       "    <tr>\n",
       "      <th>7</th>\n",
       "      <td>5.529220</td>\n",
       "      <td>3</td>\n",
       "      <td>8</td>\n",
       "      <td>POLYGON ((614596.6564746551 6794269.865436315,...</td>\n",
       "      <td>Vineyard</td>\n",
       "      <td>7</td>\n",
       "    </tr>\n",
       "  </tbody>\n",
       "</table>\n",
       "</div>"
      ],
      "text/plain": [
       "              Area  Subregion Crop_Id_Ne  \\\n",
       "Field_Id                                   \n",
       "1         0.915905          3          8   \n",
       "2         2.064410          3          6   \n",
       "3         1.080300          3          8   \n",
       "4         1.316190          3          8   \n",
       "7         5.529220          3          8   \n",
       "\n",
       "                                                   geometry class_name  y  \n",
       "Field_Id                                                                   \n",
       "1         POLYGON ((613924.3324000851 6793991.295069702,...   Vineyard  7  \n",
       "2         POLYGON ((614404.0717397591 6794020.579634549,...      Pecan  5  \n",
       "3         POLYGON ((614320.2146632321 6793964.242091182,...   Vineyard  7  \n",
       "4         POLYGON ((614560.5326844405 6794002.249461887,...   Vineyard  7  \n",
       "7         POLYGON ((614596.6564746551 6794269.865436315,...   Vineyard  7  "
      ]
     },
     "execution_count": 145,
     "metadata": {},
     "output_type": "execute_result"
    }
   ],
   "source": [
    "from src.utils import read_shapefile\n",
    "from config import raw_data_dir\n",
    "\n",
    "train_shp_df = read_shapefile('train')\n",
    "test_shp_df = read_shapefile('test')\n",
    "\n",
    "class_names = pd.read_csv(os.path.join(raw_data_dir, 'crop_id_list.csv'))\n",
    "class_names = class_names.set_index('crop_id')\n",
    "\n",
    "train_shp_df['class_name'] = train_shp_df.Crop_Id_Ne.astype(int).replace(class_names.crop.to_dict())\n",
    "train_shp_df['y'] = train_shp_df.Crop_Id_Ne.astype(int) - 1\n",
    "train_labels = np.array(train_shp_df['y'])\n",
    "\n",
    "print(train_shp_df.shape)\n",
    "train_shp_df.head()"
   ]
  },
  {
   "cell_type": "code",
   "execution_count": 147,
   "metadata": {},
   "outputs": [
    {
     "data": {
      "text/plain": [
       "<matplotlib.axes._subplots.AxesSubplot at 0x1a63eb4c18>"
      ]
     },
     "execution_count": 147,
     "metadata": {},
     "output_type": "execute_result"
    },
    {
     "data": {
      "image/png": "[encoded data removed]",
      "text/plain": [
       "<Figure size 864x576 with 1 Axes>"
      ]
     },
     "metadata": {
      "needs_background": "light"
     },
     "output_type": "display_data"
    }
   ],
   "source": [
    "train_shp_df.y.value_counts().plot.barh(figsize=(12,8))"
   ]
  },
  {
   "cell_type": "markdown",
   "metadata": {},
   "source": [
    "## Read satellite data for one dump, and one spectral band"
   ]
  },
  {
   "cell_type": "code",
   "execution_count": 148,
   "metadata": {},
   "outputs": [
    {
     "data": {
      "text/html": [
       "<div>\n",
       "<style scoped>\n",
       "    .dataframe tbody tr th:only-of-type {\n",
       "        vertical-align: middle;\n",
       "    }\n",
       "\n",
       "    .dataframe tbody tr th {\n",
       "        vertical-align: top;\n",
       "    }\n",
       "\n",
       "    .dataframe thead th {\n",
       "        text-align: right;\n",
       "    }\n",
       "</style>\n",
       "<table border=\"1\" class=\"dataframe\">\n",
       "  <thead>\n",
       "    <tr style=\"text-align: right;\">\n",
       "      <th></th>\n",
       "      <th>Area</th>\n",
       "      <th>Subregion</th>\n",
       "      <th>Crop_Id_Ne</th>\n",
       "      <th>geometry</th>\n",
       "      <th>class_name</th>\n",
       "      <th>y</th>\n",
       "      <th>fpath</th>\n",
       "    </tr>\n",
       "    <tr>\n",
       "      <th>Field_Id</th>\n",
       "      <th></th>\n",
       "      <th></th>\n",
       "      <th></th>\n",
       "      <th></th>\n",
       "      <th></th>\n",
       "      <th></th>\n",
       "      <th></th>\n",
       "    </tr>\n",
       "  </thead>\n",
       "  <tbody>\n",
       "    <tr>\n",
       "      <th>1</th>\n",
       "      <td>0.915905</td>\n",
       "      <td>3</td>\n",
       "      <td>8</td>\n",
       "      <td>POLYGON ((613924.3324000851 6793991.295069702,...</td>\n",
       "      <td>Vineyard</td>\n",
       "      <td>7</td>\n",
       "      <td>/Users/renier.botha/dev/personal/ds/zindi/farm...</td>\n",
       "    </tr>\n",
       "    <tr>\n",
       "      <th>2</th>\n",
       "      <td>2.064410</td>\n",
       "      <td>3</td>\n",
       "      <td>6</td>\n",
       "      <td>POLYGON ((614404.0717397591 6794020.579634549,...</td>\n",
       "      <td>Pecan</td>\n",
       "      <td>5</td>\n",
       "      <td>/Users/renier.botha/dev/personal/ds/zindi/farm...</td>\n",
       "    </tr>\n",
       "    <tr>\n",
       "      <th>3</th>\n",
       "      <td>1.080300</td>\n",
       "      <td>3</td>\n",
       "      <td>8</td>\n",
       "      <td>POLYGON ((614320.2146632321 6793964.242091182,...</td>\n",
       "      <td>Vineyard</td>\n",
       "      <td>7</td>\n",
       "      <td>/Users/renier.botha/dev/personal/ds/zindi/farm...</td>\n",
       "    </tr>\n",
       "    <tr>\n",
       "      <th>4</th>\n",
       "      <td>1.316190</td>\n",
       "      <td>3</td>\n",
       "      <td>8</td>\n",
       "      <td>POLYGON ((614560.5326844405 6794002.249461887,...</td>\n",
       "      <td>Vineyard</td>\n",
       "      <td>7</td>\n",
       "      <td>/Users/renier.botha/dev/personal/ds/zindi/farm...</td>\n",
       "    </tr>\n",
       "    <tr>\n",
       "      <th>7</th>\n",
       "      <td>5.529220</td>\n",
       "      <td>3</td>\n",
       "      <td>8</td>\n",
       "      <td>POLYGON ((614596.6564746551 6794269.865436315,...</td>\n",
       "      <td>Vineyard</td>\n",
       "      <td>7</td>\n",
       "      <td>/Users/renier.botha/dev/personal/ds/zindi/farm...</td>\n",
       "    </tr>\n",
       "  </tbody>\n",
       "</table>\n",
       "</div>"
      ],
      "text/plain": [
       "              Area  Subregion Crop_Id_Ne  \\\n",
       "Field_Id                                   \n",
       "1         0.915905          3          8   \n",
       "2         2.064410          3          6   \n",
       "3         1.080300          3          8   \n",
       "4         1.316190          3          8   \n",
       "7         5.529220          3          8   \n",
       "\n",
       "                                                   geometry class_name  y  \\\n",
       "Field_Id                                                                    \n",
       "1         POLYGON ((613924.3324000851 6793991.295069702,...   Vineyard  7   \n",
       "2         POLYGON ((614404.0717397591 6794020.579634549,...      Pecan  5   \n",
       "3         POLYGON ((614320.2146632321 6793964.242091182,...   Vineyard  7   \n",
       "4         POLYGON ((614560.5326844405 6794002.249461887,...   Vineyard  7   \n",
       "7         POLYGON ((614596.6564746551 6794269.865436315,...   Vineyard  7   \n",
       "\n",
       "                                                      fpath  \n",
       "Field_Id                                                     \n",
       "1         /Users/renier.botha/dev/personal/ds/zindi/farm...  \n",
       "2         /Users/renier.botha/dev/personal/ds/zindi/farm...  \n",
       "3         /Users/renier.botha/dev/personal/ds/zindi/farm...  \n",
       "4         /Users/renier.botha/dev/personal/ds/zindi/farm...  \n",
       "7         /Users/renier.botha/dev/personal/ds/zindi/farm...  "
      ]
     },
     "execution_count": 148,
     "metadata": {},
     "output_type": "execute_result"
    }
   ],
   "source": [
    "import os\n",
    "import cv2\n",
    "\n",
    "from pathlib import Path\n",
    "from glob import glob\n",
    "from config import processed_data_dir\n",
    "\n",
    "processed_data_dir = Path(processed_data_dir)\n",
    "\n",
    "train_dir = processed_data_dir /'data_v3' / 'train'\n",
    "test_dir = processed_data_dir / 'data_v3' / 'test'\n",
    "\n",
    "train_shp_df['fpath'] = train_shp_df.apply(lambda row: train_dir / str(row.Crop_Id_Ne) / f'{row.name}.npy', axis=1)\n",
    "test_shp_df['fpath'] = test_shp_df.apply(lambda row: test_dir / f'{row.name}.npy', axis=1)\n",
    "\n",
    "train_shp_df.head()"
   ]
  },
  {
   "cell_type": "code",
   "execution_count": 149,
   "metadata": {},
   "outputs": [
    {
     "name": "stdout",
     "output_type": "stream",
     "text": [
      "First 5 train ids: [1, 2, 3, 4, 7]\n"
     ]
    }
   ],
   "source": [
    "# Load images\n",
    "train_images_set = {id: np.load(fp) for id, fp in train_shp_df['fpath'].iteritems()}\n",
    "test_images_set =  {id: np.load(fp) for id, fp in test_shp_df['fpath'].iteritems()}\n",
    "\n",
    "train_ids = list(map(int,train_images_set.keys()))\n",
    "test_ids = list(map(int,test_images_set.keys()))\n",
    "\n",
    "print('First 5 train ids:',train_ids[:5])"
   ]
  },
  {
   "cell_type": "code",
   "execution_count": 150,
   "metadata": {},
   "outputs": [],
   "source": [
    "MAX_DIMS = (30, 30)"
   ]
  },
  {
   "cell_type": "markdown",
   "metadata": {},
   "source": [
    "### Convert images set to data array\n",
    "\n",
    "`train_images_set` is a dictionary in the format {id: data}.\n",
    "\n",
    "What we want is a `train_data` array in the format `(n_farms, width, height, n_channels)`"
   ]
  },
  {
   "cell_type": "code",
   "execution_count": 154,
   "metadata": {},
   "outputs": [],
   "source": [
    "# train_data = np.array(list(train_images_set.values()))\n",
    "# train_data = np.moveaxis(train_data, 1, 3)\n",
    "\n",
    "# test_data = np.array(list(test_images_set.values()))[:,-1,:,:]\n",
    "# test_data = np.moveaxis(test_data, 1, 3)\n",
    "\n",
    "# print('Train data:\\t\\t', train_data.shape)\n",
    "# print('Test data:\\t\\t',test_data.shape)"
   ]
  },
  {
   "cell_type": "code",
   "execution_count": 155,
   "metadata": {},
   "outputs": [
    {
     "name": "stdout",
     "output_type": "stream",
     "text": [
      "Train data:\t\t (2494, 30, 30, 1)\n",
      "Test data:\t\t (1074, 30, 30, 1)\n"
     ]
    }
   ],
   "source": [
    "# 1-D version\n",
    "\n",
    "train_data = np.array(list(train_images_set.values()))[:,-1,:,:]\n",
    "train_data = train_data[:, :, :, np.newaxis]\n",
    "\n",
    "test_data = np.array(list(test_images_set.values()))[:,-1,:,:]\n",
    "test_data = test_data[:, :, :, np.newaxis]\n",
    "\n",
    "print('Train data:\\t\\t', train_data.shape)\n",
    "print('Test data:\\t\\t',test_data.shape)"
   ]
  },
  {
   "cell_type": "markdown",
   "metadata": {},
   "source": [
    "### Compare data in `train_images_set` and  `train_data` \n",
    "\n",
    "This is to make sure that the same image is present in both arrays at the same index"
   ]
  },
  {
   "cell_type": "code",
   "execution_count": 156,
   "metadata": {},
   "outputs": [
    {
     "name": "stdout",
     "output_type": "stream",
     "text": [
      "Data at index 0 in train_images_set:\n",
      "\n"
     ]
    },
    {
     "data": {
      "image/png": "[encoded data removed]",
      "text/plain": [
       "<Figure size 432x288 with 1 Axes>"
      ]
     },
     "metadata": {
      "needs_background": "light"
     },
     "output_type": "display_data"
    },
    {
     "name": "stdout",
     "output_type": "stream",
     "text": [
      "Image in train_data at index 0\n"
     ]
    },
    {
     "data": {
      "image/png": "[encoded data removed]",
      "text/plain": [
       "<Figure size 432x288 with 1 Axes>"
      ]
     },
     "metadata": {
      "needs_background": "light"
     },
     "output_type": "display_data"
    }
   ],
   "source": [
    "# Pick a farm id in the training set\n",
    "farm_id = 1\n",
    "\n",
    "# Get the array from the set\n",
    "test_arr_1 = train_images_set[farm_id]\n",
    "test_arr_idx = train_ids.index(int(farm_id))\n",
    "\n",
    "print('Data at index {} in train_images_set:'.format(test_arr_idx))\n",
    "print()\n",
    "\n",
    "# Plot the image\n",
    "fig, ax = plt.subplots(1, 1)\n",
    "ax.imshow(test_arr_1[-1])\n",
    "plt.show()\n",
    "\n",
    "\n",
    "print('Image in train_data at index {}'.format(test_arr_idx))\n",
    "# Get the image from the train data array\n",
    "test_arr_2 = train_data[test_arr_idx]\n",
    "\n",
    "fig, ax = plt.subplots(1, 1)\n",
    "ax.imshow(test_arr_2[:, :, 0])\n",
    "ax.set_title('Band B02')\n",
    "\n",
    "plt.show()"
   ]
  },
  {
   "cell_type": "code",
   "execution_count": 133,
   "metadata": {},
   "outputs": [],
   "source": [
    "# # Pick a farm id in the training set\n",
    "# farm_id = 1\n",
    "\n",
    "# # Get the array from the set\n",
    "# test_arr_1 = train_images_set[farm_id]\n",
    "# test_arr_idx = train_ids.index(int(farm_id))\n",
    "\n",
    "# print('Data at index {} in train_images_set:'.format(test_arr_idx))\n",
    "# print()\n",
    "\n",
    "# # Plot the image\n",
    "# fig, axes = plt.subplots(1, 3, figsize=(12,8))\n",
    "\n",
    "# ax = axes[0]\n",
    "# ax.imshow(test_arr_1[0])\n",
    "# ax.set_title('Band B02')\n",
    "\n",
    "# ax = axes[1]\n",
    "# ax.imshow(test_arr_1[1])\n",
    "# ax.set_title('Band B03')\n",
    "\n",
    "# ax = axes[2]\n",
    "# ax.imshow(test_arr_1[2])\n",
    "# ax.set_title('Band NDVI')\n",
    "\n",
    "# plt.show()\n",
    "\n",
    "\n",
    "# print('Image in train_data at index {}'.format(test_arr_idx))\n",
    "# # Get the image from the train data array\n",
    "# test_arr_2 = train_data[test_arr_idx]\n",
    "\n",
    "# fig, axes = plt.subplots(1, 3, figsize=(12,8))\n",
    "\n",
    "# ax = axes[0]\n",
    "# ax.imshow(test_arr_2[:, :, 0])\n",
    "# ax.set_title('Band B02')\n",
    "\n",
    "# ax = axes[1]\n",
    "# ax.imshow(test_arr_2[:, :, 1])\n",
    "# ax.set_title('Band B03')\n",
    "\n",
    "# ax = axes[2]\n",
    "# ax.imshow(test_arr_2[:, :, 2])\n",
    "# ax.set_title('Band NDVI')\n",
    "\n",
    "# plt.show()"
   ]
  },
  {
   "cell_type": "markdown",
   "metadata": {},
   "source": [
    "## Show examples of training data"
   ]
  },
  {
   "cell_type": "code",
   "execution_count": 157,
   "metadata": {},
   "outputs": [],
   "source": [
    "random_list = np.random.choice(train_ids, size=25)"
   ]
  },
  {
   "cell_type": "code",
   "execution_count": 158,
   "metadata": {},
   "outputs": [
    {
     "data": {
      "image/png": "[encoded data removed]",
      "text/plain": [
       "<Figure size 1080x1080 with 25 Axes>"
      ]
     },
     "metadata": {},
     "output_type": "display_data"
    }
   ],
   "source": [
    "plt.figure(figsize=(15,15))\n",
    "for i, farm_id in enumerate(random_list):\n",
    "    \n",
    "    idx = train_ids.index(farm_id)\n",
    "    label = train_labels[idx]\n",
    "    \n",
    "    img = train_data[idx][:, :, -1]\n",
    "    \n",
    "    plt.subplot(5,5,i+1)\n",
    "    plt.xticks([])\n",
    "    plt.yticks([])\n",
    "    plt.grid(False)\n",
    "    plt.imshow(img)\n",
    "    plt.xlabel(label)\n",
    "    \n",
    "plt.show()"
   ]
  },
  {
   "cell_type": "markdown",
   "metadata": {},
   "source": [
    "### Sanity check\n",
    "\n",
    "Check that after processing the classes and farm IDs match the originals"
   ]
  },
  {
   "cell_type": "code",
   "execution_count": 159,
   "metadata": {},
   "outputs": [
    {
     "name": "stdout",
     "output_type": "stream",
     "text": [
      "success\n"
     ]
    }
   ],
   "source": [
    "test = pd.DataFrame({'id': train_ids, 'class': train_labels})\n",
    "\n",
    "for test_id, test_class in zip(train_ids, train_labels):\n",
    "    true_class = train_shp_df.loc[test_id].y\n",
    "    assert test_class == true_class, f'Farm {test_id} has the incorrect class ({test_class} != {true_class})'\n",
    "\n",
    "print('success')"
   ]
  },
  {
   "cell_type": "markdown",
   "metadata": {},
   "source": [
    "## Build Model "
   ]
  },
  {
   "cell_type": "code",
   "execution_count": 160,
   "metadata": {},
   "outputs": [],
   "source": [
    "from sklearn.model_selection import train_test_split\n",
    "\n",
    "# Split training data into train and validation sets\n",
    "train_data, val_data, train_labels, val_labels = train_test_split(train_data, train_labels, test_size=0.2, stratify=train_labels, random_state=420)"
   ]
  },
  {
   "cell_type": "code",
   "execution_count": 161,
   "metadata": {},
   "outputs": [
    {
     "data": {
      "text/plain": [
       "array([4, 2, 7, 6, 4])"
      ]
     },
     "execution_count": 161,
     "metadata": {},
     "output_type": "execute_result"
    }
   ],
   "source": [
    "train_labels[:5]"
   ]
  },
  {
   "cell_type": "code",
   "execution_count": 162,
   "metadata": {},
   "outputs": [
    {
     "data": {
      "text/plain": [
       "array([6, 3, 5, 4, 7])"
      ]
     },
     "execution_count": 162,
     "metadata": {},
     "output_type": "execute_result"
    }
   ],
   "source": [
    "val_labels[:5]"
   ]
  },
  {
   "cell_type": "code",
   "execution_count": 172,
   "metadata": {},
   "outputs": [],
   "source": [
    "from tensorflow.keras import models, layers\n",
    "from src.visualization.tf_viz import PlotLosses\n",
    "\n",
    "plot_losses = PlotLosses()\n",
    "\n",
    "def get_model():\n",
    "    \n",
    "    model = models.Sequential()\n",
    "    model.add(layers.Conv2D(8, (4, 4), activation='relu', input_shape=(*MAX_DIMS, 1)))\n",
    "    model.add(layers.AveragePooling2D((4, 4)))\n",
    "    model.add(layers.Conv2D(16, (2, 2), activation='relu'))\n",
    "    model.add(layers.AveragePooling2D((2, 2)))\n",
    "    model.add(layers.Flatten())\n",
    "    model.add(layers.Dense(16, activation='relu', kernel_regularizer=keras.regularizers.l2(0.02)))\n",
    "    model.add(layers.Dense(9, activation='softmax'))\n",
    "    \n",
    "    return model"
   ]
  },
  {
   "cell_type": "code",
   "execution_count": 173,
   "metadata": {},
   "outputs": [
    {
     "name": "stdout",
     "output_type": "stream",
     "text": [
      "Model: \"sequential_5\"\n",
      "_________________________________________________________________\n",
      "Layer (type)                 Output Shape              Param #   \n",
      "=================================================================\n",
      "conv2d_9 (Conv2D)            (None, 27, 27, 8)         136       \n",
      "_________________________________________________________________\n",
      "average_pooling2d_1 (Average (None, 6, 6, 8)           0         \n",
      "_________________________________________________________________\n",
      "conv2d_10 (Conv2D)           (None, 5, 5, 16)          528       \n",
      "_________________________________________________________________\n",
      "average_pooling2d_2 (Average (None, 2, 2, 16)          0         \n",
      "_________________________________________________________________\n",
      "flatten_4 (Flatten)          (None, 64)                0         \n",
      "_________________________________________________________________\n",
      "dense_8 (Dense)              (None, 16)                1040      \n",
      "_________________________________________________________________\n",
      "dense_9 (Dense)              (None, 9)                 153       \n",
      "=================================================================\n",
      "Total params: 1,857\n",
      "Trainable params: 1,857\n",
      "Non-trainable params: 0\n",
      "_________________________________________________________________\n"
     ]
    }
   ],
   "source": [
    "class_weights = (1-train_shp_df.y.value_counts(normalize=True)).to_dict()\n",
    "\n",
    "model = get_model()\n",
    "\n",
    "adam = keras.optimizers.Adam(learning_rate=0.003)\n",
    "sgd = keras.optimizers.SGD(learning_rate=0.03, momentum=0.01)\n",
    "\n",
    "model.compile(optimizer=adam,\n",
    "              loss=keras.metrics.sparse_categorical_crossentropy,\n",
    "              metrics=[keras.metrics.sparse_categorical_crossentropy], )\n",
    "\n",
    "model.summary()"
   ]
  },
  {
   "cell_type": "code",
   "execution_count": 174,
   "metadata": {
    "scrolled": false
   },
   "outputs": [
    {
     "data": {
      "image/png": "[encoded data removed]",
      "text/plain": [
       "<Figure size 432x288 with 1 Axes>"
      ]
     },
     "metadata": {
      "needs_background": "light"
     },
     "output_type": "display_data"
    },
    {
     "name": "stdout",
     "output_type": "stream",
     "text": [
      "1995/1995 - 0s - loss: 1.7642 - sparse_categorical_crossentropy: 1.7636 - val_loss: 1.7605 - val_sparse_categorical_crossentropy: 1.7602\n"
     ]
    },
    {
     "data": {
      "text/plain": [
       "<tensorflow.python.keras.callbacks.History at 0x1a736e75f8>"
      ]
     },
     "execution_count": 174,
     "metadata": {},
     "output_type": "execute_result"
    }
   ],
   "source": [
    "model.fit(train_data, \n",
    "          train_labels,\n",
    "          batch_size=128,\n",
    "          validation_data=(val_data, val_labels), \n",
    "          verbose=2,\n",
    "          epochs=100, \n",
    "#           class_weight=class_weights,\n",
    "          callbacks=[plot_losses]\n",
    "         )"
   ]
  },
  {
   "cell_type": "markdown",
   "metadata": {},
   "source": [
    "## Current results"
   ]
  },
  {
   "cell_type": "markdown",
   "metadata": {},
   "source": [
    "Classifier is overfitting :("
   ]
  },
  {
   "cell_type": "code",
   "execution_count": 167,
   "metadata": {},
   "outputs": [],
   "source": [
    "import pandas as pd\n",
    "import matplotlib.pyplot as plt\n",
    "import seaborn as sns\n",
    "\n",
    "def print_confusion_matrix(confusion_matrix, class_names, figsize = (10,7), fontsize=14):\n",
    "    \"\"\"Prints a confusion matrix, as returned by sklearn.metrics.confusion_matrix, as a heatmap.\n",
    "    \n",
    "    Arguments\n",
    "    ---------\n",
    "    confusion_matrix: numpy.ndarray\n",
    "        The numpy.ndarray object returned from a call to sklearn.metrics.confusion_matrix. \n",
    "        Similarly constructed ndarrays can also be used.\n",
    "    class_names: list\n",
    "        An ordered list of class names, in the order they index the given confusion matrix.\n",
    "    figsize: tuple\n",
    "        A 2-long tuple, the first value determining the horizontal size of the ouputted figure,\n",
    "        the second determining the vertical size. Defaults to (10,7).\n",
    "    fontsize: int\n",
    "        Font size for axes labels. Defaults to 14.\n",
    "        \n",
    "    Returns\n",
    "    -------\n",
    "    matplotlib.figure.Figure\n",
    "        The resulting confusion matrix figure\n",
    "    \"\"\"\n",
    "    df_cm = pd.DataFrame(\n",
    "        confusion_matrix, index=class_names, columns=class_names, \n",
    "    )\n",
    "    fig = plt.figure(figsize=figsize)\n",
    "    try:\n",
    "        heatmap = sns.heatmap(df_cm, annot=True, fmt=\"d\")\n",
    "    except ValueError:\n",
    "        raise ValueError(\"Confusion matrix values must be integers.\")\n",
    "    heatmap.yaxis.set_ticklabels(heatmap.yaxis.get_ticklabels(), rotation=0, ha='right', fontsize=fontsize)\n",
    "    heatmap.xaxis.set_ticklabels(heatmap.xaxis.get_ticklabels(), rotation=45, ha='right', fontsize=fontsize)\n",
    "    plt.ylabel('True label')\n",
    "    plt.xlabel('Predicted label')\n",
    "    return fig"
   ]
  },
  {
   "cell_type": "code",
   "execution_count": 168,
   "metadata": {},
   "outputs": [
    {
     "data": {
      "image/png": "[encoded data removed]",
      "text/plain": [
       "<Figure size 720x504 with 2 Axes>"
      ]
     },
     "metadata": {
      "needs_background": "light"
     },
     "output_type": "display_data"
    }
   ],
   "source": [
    "from sklearn.metrics import confusion_matrix\n",
    "\n",
    "val_preds = model.predict_classes(val_data)\n",
    "\n",
    "cm = confusion_matrix(y_true=val_labels, y_pred=val_preds, labels=[0,1,2,3,4,5,6,7,8])\n",
    "\n",
    "print_confusion_matrix(cm, class_names=class_names.crop.to_list() );"
   ]
  },
  {
   "cell_type": "markdown",
   "metadata": {},
   "source": [
    "### Make submission"
   ]
  },
  {
   "cell_type": "code",
   "execution_count": null,
   "metadata": {},
   "outputs": [],
   "source": [
    "data = np.concatenate((train_data, val_data), axis=0)\n",
    "labels = np.concatenate((train_labels, val_labels), axis=0)\n",
    "\n",
    "model = get_model()\n",
    "model.compile(optimizer=adam,\n",
    "              loss=keras.metrics.sparse_categorical_crossentropy,\n",
    "              metrics=[keras.metrics.sparse_categorical_crossentropy])\n",
    "\n",
    "model.fit(data, \n",
    "          labels,\n",
    "          batch_size=64,\n",
    "          verbose=2,\n",
    "          epochs=20, \n",
    "          callbacks=[plot_losses])"
   ]
  },
  {
   "cell_type": "code",
   "execution_count": null,
   "metadata": {},
   "outputs": [],
   "source": [
    "predictions = model.predict(test_data)\n",
    "predictions[:5]"
   ]
  },
  {
   "cell_type": "code",
   "execution_count": null,
   "metadata": {},
   "outputs": [],
   "source": [
    "test_data.shape"
   ]
  },
  {
   "cell_type": "code",
   "execution_count": null,
   "metadata": {},
   "outputs": [],
   "source": [
    "test_shp_df.head()"
   ]
  },
  {
   "cell_type": "code",
   "execution_count": null,
   "metadata": {},
   "outputs": [],
   "source": [
    "def make_sub(predictions):\n",
    "    \n",
    "    sub_df = pd.read_csv(os.path.join(raw_data_dir, 'sample_submission_fixed.csv'))\n",
    "\n",
    "    new_sub = sub_df.copy().set_index('field_id')\n",
    "\n",
    "    new_sub.loc[test_ids] = predictions\n",
    "    \n",
    "    return new_sub\n",
    "\n",
    "\n",
    "sub_df = make_sub(predictions)\n",
    "\n",
    "sub_df.head(10)"
   ]
  },
  {
   "cell_type": "code",
   "execution_count": null,
   "metadata": {},
   "outputs": [],
   "source": [
    "from config import subs_dir\n",
    "\n",
    "sub_df.to_csv(os.path.join(subs_dir,'keras_basic_band_{}_{}.csv'.format(band, date)))"
   ]
  },
  {
   "cell_type": "markdown",
   "metadata": {},
   "source": [
    "**Submission score:** 1.812\n",
    "\n",
    "At least this is sort of close to the train score..."
   ]
  },
  {
   "cell_type": "code",
   "execution_count": null,
   "metadata": {},
   "outputs": [],
   "source": []
  }
 ],
 "metadata": {
  "kernelspec": {
   "display_name": "Python 3",
   "language": "python",
   "name": "python3"
  },
  "language_info": {
   "codemirror_mode": {
    "name": "ipython",
    "version": 3
   },
   "file_extension": ".py",
   "mimetype": "text/x-python",
   "name": "python",
   "nbconvert_exporter": "python",
   "pygments_lexer": "ipython3",
   "version": "3.7.3"
  }
 },
 "nbformat": 4,
 "nbformat_minor": 4
}
