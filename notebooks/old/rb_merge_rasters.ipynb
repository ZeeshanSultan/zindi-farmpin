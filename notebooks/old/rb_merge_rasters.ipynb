{
 "cells": [
  {
   "cell_type": "markdown",
   "metadata": {},
   "source": [
    "# Merge JEP and JFP images"
   ]
  },
  {
   "cell_type": "code",
   "execution_count": 2,
   "metadata": {},
   "outputs": [],
   "source": [
    "import os\n",
    "import rasterio\n",
    "import numpy as np\n",
    "import geopandas as gpd\n",
    "import matplotlib.pyplot as plt\n",
    "\n",
    "import sys\n",
    "sys.path.append('../')\n",
    "from config import raw_data_dir\n",
    "\n",
    "from rasterio.plot import show\n",
    "\n",
    "%matplotlib inline\n",
    "\n",
    "images_dir = '../data/interim/images'\n",
    "out_images_dir = '../data/interim/images-merged'"
   ]
  },
  {
   "cell_type": "code",
   "execution_count": 3,
   "metadata": {},
   "outputs": [
    {
     "name": "stdout",
     "output_type": "stream",
     "text": [
      "\u001b[34m2017-01-01\u001b[m\u001b[m \u001b[34m2017-02-10\u001b[m\u001b[m \u001b[34m2017-03-22\u001b[m\u001b[m \u001b[34m2017-06-20\u001b[m\u001b[m \u001b[34m2017-07-15\u001b[m\u001b[m \u001b[34m2017-08-19\u001b[m\u001b[m\n",
      "\u001b[34m2017-01-31\u001b[m\u001b[m \u001b[34m2017-03-12\u001b[m\u001b[m \u001b[34m2017-05-31\u001b[m\u001b[m \u001b[34m2017-07-10\u001b[m\u001b[m \u001b[34m2017-08-04\u001b[m\u001b[m\n"
     ]
    }
   ],
   "source": [
    "! ls $images_dir"
   ]
  },
  {
   "cell_type": "code",
   "execution_count": null,
   "metadata": {},
   "outputs": [],
   "source": [
    "from rasterio.merge import merge\n",
    "\n",
    "def merge_rasters(date, band):\n",
    "    \n",
    "    out_dir = os.path.join(out_images_dir, date)\n",
    "    out_fp = os.path.join(out_dir, f'{band}.jp2')\n",
    "    \n",
    "    if os.path.isfile(out_fp):\n",
    "        print(out_fp + ' exists. Skipping...')\n",
    "        return\n",
    "    \n",
    "    raster_1 = rasterio.open(os.path.join(images_dir, date, f'{band}_JEP.jp2'))\n",
    "    raster_2 = rasterio.open(os.path.join(images_dir, date,  f'{band}_JFP.jp2'))\n",
    "    \n",
    "    out, transform = merge([raster_1, raster_2], precision=1)\n",
    "    \n",
    "    meta = raster_1.meta.copy()\n",
    "    \n",
    "    meta.update({\n",
    "        'height': out.shape[1],\n",
    "        'width': out.shape[2],\n",
    "        'transform': transform\n",
    "    })\n",
    "    \n",
    "    raster_1.close()\n",
    "    raster_2.close()\n",
    "    \n",
    "    if not os.path.isdir(out_dir):\n",
    "        os.makedirs(out_dir)\n",
    "        \n",
    "    with rasterio.open(out_fp, 'w', **meta) as dst:\n",
    "        dst.write(out)"
   ]
  },
  {
   "cell_type": "code",
   "execution_count": null,
   "metadata": {},
   "outputs": [],
   "source": [
    "from tqdm import tqdm\n",
    "\n",
    "bands = ['B01','B02','B03','B04','B05','B06','B07','B08','B8A','B09','B10','B11','B12','TCI']\n",
    "dates = ['2017-01-01','2017-02-10','2017-03-22','2017-06-20','2017-07-15','2017-08-19','2017-01-31','2017-03-12','2017-05-31','2017-07-10','2017-08-04']\n",
    "\n",
    "for date in tqdm(dates, desc='dates'):\n",
    "    for band in bands:\n",
    "        merge_rasters(date, band)"
   ]
  },
  {
   "cell_type": "markdown",
   "metadata": {},
   "source": [
    "# Merge resolution groups"
   ]
  },
  {
   "cell_type": "code",
   "execution_count": 6,
   "metadata": {},
   "outputs": [],
   "source": [
    "import os\n",
    "import gc\n",
    "\n",
    "import rasterio\n",
    "from rasterio.merge import merge\n",
    "from tqdm import tqdm\n",
    "\n",
    "from config import interim_data_dir\n",
    "\n",
    "dates = ['2017-01-01','2017-02-10','2017-03-22','2017-06-20','2017-07-15','2017-08-19','2017-01-31','2017-03-12','2017-05-31','2017-07-10','2017-08-04']\n",
    "\n",
    "\n",
    "res_groups = {\n",
    "    \"60\": [\"B01\", \"B09\", \"B10\"],\n",
    "    \"20\": [\"B05\", \"B06\", \"B07\", \"B8A\", \"B11\", \"B12\"],\n",
    "    \"10\": [\n",
    "        \"B02\",\n",
    "        \"B03\",\n",
    "        \"B04\",\n",
    "        \"B08\",\n",
    "        #  \"TCI\"\n",
    "    ],\n",
    "}\n",
    "\n",
    "in_dir = os.path.join(interim_data_dir, \"images-merged/\")\n",
    "res_groups_dir = os.path.join(interim_data_dir, \"res-groups/\")\n",
    "\n",
    "\n",
    "def merge_res_group(res_group, date):\n",
    "\n",
    "    out_dir = os.path.join(res_groups_dir, date)\n",
    "    out_fp = os.path.join(out_dir, f\"{res_group}.jp2\")\n",
    "\n",
    "    if os.path.isfile(out_fp):\n",
    "        print(f'{out_fp} exists. Skipping')\n",
    "        return\n",
    "\n",
    "    print(f\"Merging rasters of {res_group}m resolution...\",end='')\n",
    "\n",
    "    bands = res_groups[res_group]\n",
    "    bands_fpaths = [os.path.join(in_dir, date, f\"{band}.jp2\") for band in bands]\n",
    "\n",
    "    # Read meta data from first band\n",
    "    src0 = rasterio.open(bands_fpaths[0])\n",
    "    meta = src0.meta.copy()\n",
    "    src0.close()\n",
    "\n",
    "    # Update meta data\n",
    "    meta.update({\"count\": len(bands)})\n",
    "\n",
    "    if not os.path.isdir(out_dir):\n",
    "        os.makedirs(out_dir)\n",
    "\n",
    "    with rasterio.open(out_fp, \"w\", **meta) as dst:\n",
    "        for i, fp in enumerate(bands_fpaths, start=1):\n",
    "            with rasterio.open(fp) as band_raster:\n",
    "                dst.write_band(i, band_raster.read(1))\n",
    "\n",
    "    print(\"done!\")\n",
    "    print(\"\\t-->\", out_fp)\n",
    "\n",
    "    test_saved_data(out_fp, len(bands))\n",
    "\n",
    "\n",
    "def test_saved_data(fp, expected_bands):\n",
    "    with rasterio.open(fp) as raster:\n",
    "        assert raster.count == expected_bands\n"
   ]
  },
  {
   "cell_type": "markdown",
   "metadata": {},
   "source": [
    "### Run on single"
   ]
  },
  {
   "cell_type": "code",
   "execution_count": 8,
   "metadata": {},
   "outputs": [
    {
     "name": "stdout",
     "output_type": "stream",
     "text": [
      "Merging rasters of 20m resolution...done!\n",
      "\t--> /Users/renier.botha/dev/personal/ds/zindi/farm-pin/data/interim/res-groups/2017-02-10/20.jp2\n"
     ]
    }
   ],
   "source": [
    "merge_res_group('20','2017-02-10')"
   ]
  },
  {
   "cell_type": "markdown",
   "metadata": {},
   "source": [
    "### Run for all"
   ]
  },
  {
   "cell_type": "code",
   "execution_count": 7,
   "metadata": {},
   "outputs": [
    {
     "name": "stdout",
     "output_type": "stream",
     "text": [
      "-------------------------------------------------- 2017-01-01 --------------------------------------------------\n",
      "\n",
      "/Users/renier.botha/dev/personal/ds/zindi/farm-pin/data/interim/res-groups/2017-01-01/60.jp2 exists. Skipping\n",
      "/Users/renier.botha/dev/personal/ds/zindi/farm-pin/data/interim/res-groups/2017-01-01/20.jp2 exists. Skipping\n",
      "/Users/renier.botha/dev/personal/ds/zindi/farm-pin/data/interim/res-groups/2017-01-01/10.jp2 exists. Skipping\n",
      "-------------------------------------------------- 2017-02-10 --------------------------------------------------\n",
      "\n",
      "/Users/renier.botha/dev/personal/ds/zindi/farm-pin/data/interim/res-groups/2017-02-10/60.jp2 exists. Skipping\n",
      "/Users/renier.botha/dev/personal/ds/zindi/farm-pin/data/interim/res-groups/2017-02-10/20.jp2 exists. Skipping\n",
      "Merging rasters of 10m resolution...done!\n",
      "\t--> /Users/renier.botha/dev/personal/ds/zindi/farm-pin/data/interim/res-groups/2017-02-10/10.jp2\n",
      "-------------------------------------------------- 2017-03-22 --------------------------------------------------\n",
      "\n",
      "Merging rasters of 60m resolution...done!\n",
      "\t--> /Users/renier.botha/dev/personal/ds/zindi/farm-pin/data/interim/res-groups/2017-03-22/60.jp2\n",
      "Merging rasters of 20m resolution...done!\n",
      "\t--> /Users/renier.botha/dev/personal/ds/zindi/farm-pin/data/interim/res-groups/2017-03-22/20.jp2\n",
      "Merging rasters of 10m resolution...done!\n",
      "\t--> /Users/renier.botha/dev/personal/ds/zindi/farm-pin/data/interim/res-groups/2017-03-22/10.jp2\n",
      "-------------------------------------------------- 2017-06-20 --------------------------------------------------\n",
      "\n",
      "Merging rasters of 60m resolution...done!\n",
      "\t--> /Users/renier.botha/dev/personal/ds/zindi/farm-pin/data/interim/res-groups/2017-06-20/60.jp2\n",
      "Merging rasters of 20m resolution...done!\n",
      "\t--> /Users/renier.botha/dev/personal/ds/zindi/farm-pin/data/interim/res-groups/2017-06-20/20.jp2\n",
      "Merging rasters of 10m resolution...done!\n",
      "\t--> /Users/renier.botha/dev/personal/ds/zindi/farm-pin/data/interim/res-groups/2017-06-20/10.jp2\n",
      "-------------------------------------------------- 2017-07-15 --------------------------------------------------\n",
      "\n",
      "Merging rasters of 60m resolution...done!\n",
      "\t--> /Users/renier.botha/dev/personal/ds/zindi/farm-pin/data/interim/res-groups/2017-07-15/60.jp2\n",
      "Merging rasters of 20m resolution...done!\n",
      "\t--> /Users/renier.botha/dev/personal/ds/zindi/farm-pin/data/interim/res-groups/2017-07-15/20.jp2\n",
      "Merging rasters of 10m resolution...done!\n",
      "\t--> /Users/renier.botha/dev/personal/ds/zindi/farm-pin/data/interim/res-groups/2017-07-15/10.jp2\n",
      "-------------------------------------------------- 2017-08-19 --------------------------------------------------\n",
      "\n",
      "Merging rasters of 60m resolution...done!\n",
      "\t--> /Users/renier.botha/dev/personal/ds/zindi/farm-pin/data/interim/res-groups/2017-08-19/60.jp2\n",
      "Merging rasters of 20m resolution...done!\n",
      "\t--> /Users/renier.botha/dev/personal/ds/zindi/farm-pin/data/interim/res-groups/2017-08-19/20.jp2\n",
      "Merging rasters of 10m resolution...done!\n",
      "\t--> /Users/renier.botha/dev/personal/ds/zindi/farm-pin/data/interim/res-groups/2017-08-19/10.jp2\n",
      "-------------------------------------------------- 2017-01-31 --------------------------------------------------\n",
      "\n",
      "Merging rasters of 60m resolution...done!\n",
      "\t--> /Users/renier.botha/dev/personal/ds/zindi/farm-pin/data/interim/res-groups/2017-01-31/60.jp2\n",
      "Merging rasters of 20m resolution...done!\n",
      "\t--> /Users/renier.botha/dev/personal/ds/zindi/farm-pin/data/interim/res-groups/2017-01-31/20.jp2\n",
      "Merging rasters of 10m resolution...done!\n",
      "\t--> /Users/renier.botha/dev/personal/ds/zindi/farm-pin/data/interim/res-groups/2017-01-31/10.jp2\n",
      "-------------------------------------------------- 2017-03-12 --------------------------------------------------\n",
      "\n",
      "Merging rasters of 60m resolution...done!\n",
      "\t--> /Users/renier.botha/dev/personal/ds/zindi/farm-pin/data/interim/res-groups/2017-03-12/60.jp2\n",
      "Merging rasters of 20m resolution...done!\n",
      "\t--> /Users/renier.botha/dev/personal/ds/zindi/farm-pin/data/interim/res-groups/2017-03-12/20.jp2\n",
      "Merging rasters of 10m resolution...done!\n",
      "\t--> /Users/renier.botha/dev/personal/ds/zindi/farm-pin/data/interim/res-groups/2017-03-12/10.jp2\n",
      "-------------------------------------------------- 2017-05-31 --------------------------------------------------\n",
      "\n",
      "Merging rasters of 60m resolution...done!\n",
      "\t--> /Users/renier.botha/dev/personal/ds/zindi/farm-pin/data/interim/res-groups/2017-05-31/60.jp2\n",
      "Merging rasters of 20m resolution...done!\n",
      "\t--> /Users/renier.botha/dev/personal/ds/zindi/farm-pin/data/interim/res-groups/2017-05-31/20.jp2\n",
      "Merging rasters of 10m resolution...done!\n",
      "\t--> /Users/renier.botha/dev/personal/ds/zindi/farm-pin/data/interim/res-groups/2017-05-31/10.jp2\n",
      "-------------------------------------------------- 2017-07-10 --------------------------------------------------\n",
      "\n",
      "Merging rasters of 60m resolution...done!\n",
      "\t--> /Users/renier.botha/dev/personal/ds/zindi/farm-pin/data/interim/res-groups/2017-07-10/60.jp2\n",
      "Merging rasters of 20m resolution...done!\n",
      "\t--> /Users/renier.botha/dev/personal/ds/zindi/farm-pin/data/interim/res-groups/2017-07-10/20.jp2\n",
      "Merging rasters of 10m resolution...done!\n",
      "\t--> /Users/renier.botha/dev/personal/ds/zindi/farm-pin/data/interim/res-groups/2017-07-10/10.jp2\n",
      "-------------------------------------------------- 2017-08-04 --------------------------------------------------\n",
      "\n",
      "Merging rasters of 60m resolution...done!\n",
      "\t--> /Users/renier.botha/dev/personal/ds/zindi/farm-pin/data/interim/res-groups/2017-08-04/60.jp2\n",
      "Merging rasters of 20m resolution...done!\n",
      "\t--> /Users/renier.botha/dev/personal/ds/zindi/farm-pin/data/interim/res-groups/2017-08-04/20.jp2\n",
      "Merging rasters of 10m resolution...done!\n",
      "\t--> /Users/renier.botha/dev/personal/ds/zindi/farm-pin/data/interim/res-groups/2017-08-04/10.jp2\n"
     ]
    }
   ],
   "source": [
    "for date in dates:\n",
    "    print(\"-\" * 50, date, \"-\" * 50)\n",
    "    print(\"\")\n",
    "    for res_group in res_groups.keys():\n",
    "        merge_res_group(res_group, date)"
   ]
  },
  {
   "cell_type": "code",
   "execution_count": null,
   "metadata": {},
   "outputs": [],
   "source": []
  }
 ],
 "metadata": {
  "kernelspec": {
   "display_name": "Python 3",
   "language": "python",
   "name": "python3"
  },
  "language_info": {
   "codemirror_mode": {
    "name": "ipython",
    "version": 3
   },
   "file_extension": ".py",
   "mimetype": "text/x-python",
   "name": "python",
   "nbconvert_exporter": "python",
   "pygments_lexer": "ipython3",
   "version": "3.7.3"
  }
 },
 "nbformat": 4,
 "nbformat_minor": 4
}
