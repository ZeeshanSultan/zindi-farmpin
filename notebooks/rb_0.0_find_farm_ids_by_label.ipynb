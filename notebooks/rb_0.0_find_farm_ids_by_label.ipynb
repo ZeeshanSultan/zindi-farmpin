{
 "cells": [
  {
   "cell_type": "markdown",
   "metadata": {},
   "source": [
    "# Find farm IDs by label\n",
    "\n",
    "Find the Farm IDs present in each label (JFP and JEP)"
   ]
  },
  {
   "cell_type": "code",
   "execution_count": 12,
   "metadata": {},
   "outputs": [],
   "source": [
    "import os\n",
    "import gc\n",
    "import rasterio\n",
    "import pandas as pd\n",
    "\n",
    "import sys\n",
    "sys.path.append('../')\n",
    "\n",
    "# import geopandas as gpd\n",
    "from src.utils import read_shapefile, mask_raster"
   ]
  },
  {
   "cell_type": "code",
   "execution_count": 13,
   "metadata": {},
   "outputs": [],
   "source": [
    "farm_ids = {'train': {'JEP': [], 'JFP': []}, 'test': {'JEP': [], 'JFP': []}}\n",
    "\n",
    "for dataset in ['train','test']:\n",
    "    shp_df = read_shapefile(dataset)\n",
    "    \n",
    "    for label in ['JEP', 'JFP']:\n",
    "\n",
    "        # Select a image\n",
    "        img_fpath = f'../data/interim/images/2017-01-01/B02_{label}.jp2'\n",
    "\n",
    "        with rasterio.open(img_fpath) as raster:\n",
    "            masks = mask_raster(shp_df.geometry, raster, return_missing=False)\n",
    "\n",
    "        farm_ids[dataset][label] = list(masks.keys())\n",
    "\n",
    "        del masks\n",
    "        gc.collect()"
   ]
  },
  {
   "cell_type": "code",
   "execution_count": 15,
   "metadata": {},
   "outputs": [],
   "source": [
    "import pickle\n",
    "\n",
    "with open('../data/interim/farm_ids.pkl', 'wb') as f:\n",
    "    pickle.dump(farm_ids, f)"
   ]
  },
  {
   "cell_type": "markdown",
   "metadata": {},
   "source": [
    "## Put into methods"
   ]
  },
  {
   "cell_type": "code",
   "execution_count": 25,
   "metadata": {},
   "outputs": [],
   "source": [
    "def create_farm_ids(output_fpath):\n",
    "    \"\"\"\n",
    "    Creates a pickle dump of farm ids\n",
    "    present in datasets (train/test) and \n",
    "    labels (JEP & JFP)\n",
    "    \"\"\"\n",
    "    \n",
    "    farm_ids = {'train': {'JEP': [], 'JFP': []}, 'test': {'JEP': [], 'JFP': []}}\n",
    "    \n",
    "    for dataset in ['train','test']:\n",
    "        shp_df = read_shapefile(dataset)\n",
    "\n",
    "        for label in ['JEP', 'JFP']:\n",
    "\n",
    "            # Select an image to load\n",
    "            img_fpath = os.path.join(interim_data_dir, f'images/2017-01-01/B02_{label}.jp2')\n",
    "            \n",
    "            if not os.path.isfile(img_fpath):\n",
    "                raise FileNotFoundError('''\n",
    "                Images have not been reordered into interim data dir.\n",
    "                \\n\\nSee readme to run invoke command for re-odering image data. \n",
    "                ''')\n",
    "\n",
    "            with rasterio.open(img_fpath) as raster:\n",
    "                masks = mask_raster(shp_df.geometry, raster, return_missing=False)\n",
    "\n",
    "            farm_ids[dataset][label] = list(masks.keys())\n",
    "\n",
    "            del masks\n",
    "            gc.collect()\n",
    "    \n",
    "    with open(output_fpath, 'wb') as f:\n",
    "        pickle.dump(farm_ids, f)\n",
    "    \n",
    "    return farm_ids\n",
    "\n",
    "\n",
    "def get_farm_ids(dataset='train', label='JFP'):\n",
    "    \"\"\"\n",
    "    Gets a list of farm ids present in the \n",
    "    selected dataset and label\n",
    "    \"\"\"\n",
    "    \n",
    "    import pickle\n",
    "    from config import interim_data_dir\n",
    "    \n",
    "    ids_fpath = os.path.join(interim_data_dir, 'farm_ids.pkl')\n",
    "    \n",
    "    if not os.path.isfile(ids_fpath):\n",
    "        farm_ids = create_farm_ids(ids_fpath)\n",
    "    \n",
    "    else:\n",
    "        with open(ids_fpath, 'rb') as f:\n",
    "            farm_ids = pickle.load(f)\n",
    "    \n",
    "    return farm_ids[dataset][label]"
   ]
  },
  {
   "cell_type": "code",
   "execution_count": 26,
   "metadata": {},
   "outputs": [],
   "source": [
    "farm_ids = get_farm_ids(dataset='train',label='JEP')"
   ]
  },
  {
   "cell_type": "code",
   "execution_count": null,
   "metadata": {},
   "outputs": [],
   "source": []
  }
 ],
 "metadata": {
  "kernelspec": {
   "display_name": "Python 3",
   "language": "python",
   "name": "python3"
  },
  "language_info": {
   "codemirror_mode": {
    "name": "ipython",
    "version": 3
   },
   "file_extension": ".py",
   "mimetype": "text/x-python",
   "name": "python",
   "nbconvert_exporter": "python",
   "pygments_lexer": "ipython3",
   "version": "3.7.3"
  }
 },
 "nbformat": 4,
 "nbformat_minor": 4
}
