{
 "cells": [
  {
   "cell_type": "code",
   "execution_count": 10,
   "metadata": {},
   "outputs": [
    {
     "name": "stdout",
     "output_type": "stream",
     "text": [
      "The autoreload extension is already loaded. To reload it, use:\n",
      "  %reload_ext autoreload\n"
     ]
    }
   ],
   "source": [
    "%matplotlib inline\n",
    "%load_ext autoreload\n",
    "%autoreload 2\n",
    "\n",
    "import warnings\n",
    "warnings.simplefilter('ignore')"
   ]
  },
  {
   "cell_type": "markdown",
   "metadata": {},
   "source": [
    "# Class Balancing for Masks\n",
    "\n"
   ]
  },
  {
   "cell_type": "code",
   "execution_count": 11,
   "metadata": {},
   "outputs": [],
   "source": [
    "import sys\n",
    "sys.path.append('../')\n",
    "\n",
    "import numpy as np\n",
    "import pandas as pd\n",
    "import rasterio\n",
    "\n",
    "from tqdm import tqdm\n",
    "from config import interim_data_dir, processed_data_dir\n",
    "\n",
    "from src.utils import read_shapefile, mask_raster, safe_create_dir\n"
   ]
  },
  {
   "cell_type": "markdown",
   "metadata": {},
   "source": [
    "### Show class distribution"
   ]
  },
  {
   "cell_type": "code",
   "execution_count": 12,
   "metadata": {},
   "outputs": [
    {
     "data": {
      "text/plain": [
       "<matplotlib.axes._subplots.AxesSubplot at 0x125169a90>"
      ]
     },
     "execution_count": 12,
     "metadata": {},
     "output_type": "execute_result"
    },
    {
     "data": {
      "image/png": "[encoded data removed]",
      "text/plain": [
       "<Figure size 864x576 with 1 Axes>"
      ]
     },
     "metadata": {
      "needs_background": "light"
     },
     "output_type": "display_data"
    }
   ],
   "source": [
    "shp_train = read_shapefile('train')\n",
    "\n",
    "shp_train.y.value_counts().plot.barh(figsize=(12,8))"
   ]
  },
  {
   "cell_type": "code",
   "execution_count": 13,
   "metadata": {},
   "outputs": [
    {
     "data": {
      "text/plain": [
       "Vineyard                          941\n",
       "Lucern                            536\n",
       "Maize                             283\n",
       "Vacant                            267\n",
       "Pecan                             146\n",
       "Cotton                            142\n",
       "Grass                              95\n",
       "Vineyard & Pecan (\"Intercrop\")     77\n",
       "Dates                               7\n",
       "Name: y, dtype: int64"
      ]
     },
     "execution_count": 13,
     "metadata": {},
     "output_type": "execute_result"
    }
   ],
   "source": [
    "shp_train.y.value_counts()"
   ]
  },
  {
   "cell_type": "code",
   "execution_count": 14,
   "metadata": {},
   "outputs": [
    {
     "data": {
      "text/plain": [
       "{'Vineyard': 0,\n",
       " 'Lucern': 0,\n",
       " 'Maize': 0,\n",
       " 'Vacant': 0,\n",
       " 'Pecan': 0,\n",
       " 'Cotton': 0,\n",
       " 'Grass': 5,\n",
       " 'Vineyard & Pecan (\"Intercrop\")': 23,\n",
       " 'Dates': 93}"
      ]
     },
     "execution_count": 14,
     "metadata": {},
     "output_type": "execute_result"
    }
   ],
   "source": [
    "N_max = 100\n",
    "\n",
    "n_to_copy = {y: max(0,N_max - n) for y,n in shp_train.y.value_counts().to_dict().items()}\n",
    "n_to_copy"
   ]
  },
  {
   "cell_type": "markdown",
   "metadata": {},
   "source": [
    "## Undo previous upsampling"
   ]
  },
  {
   "cell_type": "code",
   "execution_count": 15,
   "metadata": {},
   "outputs": [
    {
     "name": "stderr",
     "output_type": "stream",
     "text": [
      "removing copies: 4277it [00:24, 172.62it/s]\n"
     ]
    }
   ],
   "source": [
    "data_dir = interim_data_dir / 'masks_resampled_balanced' / 'train'\n",
    "\n",
    "for d in tqdm(data_dir.glob('*'), desc='removing copies'):\n",
    "    if len(str(d.stem).split('_')) > 1:\n",
    "        rmtree(d)"
   ]
  },
  {
   "cell_type": "code",
   "execution_count": 16,
   "metadata": {},
   "outputs": [
    {
     "name": "stderr",
     "output_type": "stream",
     "text": [
      "Grass: 100%|██████████| 5/5 [00:00<00:00,  6.89it/s]\n",
      "Vineyard & Pecan (\"Intercrop\"): 100%|██████████| 23/23 [00:02<00:00, 10.68it/s]\n",
      "Dates: 100%|██████████| 93/93 [00:03<00:00, 29.16it/s]\n"
     ]
    }
   ],
   "source": [
    "from shutil import copytree, rmtree\n",
    "from tqdm import tqdm\n",
    "\n",
    "resampled_dfs = []\n",
    "for label, N in n_to_copy.items():\n",
    "    \n",
    "    label_df = shp_train.loc[shp_train.y == label]\n",
    "    \n",
    "    if N == 0:\n",
    "        resampled_dfs.append(label_df)\n",
    "        continue\n",
    "\n",
    "    resampled_df = label_df.sample(N, replace=True, random_state=2019)\n",
    "\n",
    "    # Get the number of times to copy a certain ID\n",
    "    ids_to_copy_counts = resampled_df.reset_index().Field_Id.value_counts().to_dict()\n",
    "\n",
    "    # Generate new ids\n",
    "    new_ids = [f'{id}_{k}' for id, count in ids_to_copy_counts.items() for k in range(count)]\n",
    "\n",
    "    # Update the index with the new ids\n",
    "    resampled_df = resampled_df.sort_index()\n",
    "    resampled_df.index = pd.Series(sorted(new_ids), name='Field_Id')\n",
    "    \n",
    "    resampled_dfs.append(resampled_df)\n",
    "    \n",
    "    # Create copy and save as as new ID \n",
    "    for ID in tqdm(new_ids, desc=label):\n",
    "        real_id = ID.split('_')[0]\n",
    "\n",
    "        id_dir = data_dir / real_id\n",
    "        new_id_dir = data_dir / ID\n",
    "\n",
    "        if not new_id_dir.is_dir():\n",
    "            # Make copy\n",
    "            copytree(id_dir, new_id_dir)\n"
   ]
  },
  {
   "cell_type": "code",
   "execution_count": 17,
   "metadata": {},
   "outputs": [],
   "source": [
    "shp_data_out_dir = processed_data_dir / 'shp_resampled' / 'train'\n",
    "safe_create_dir(shp_data_out_dir)\n",
    "\n",
    "shp_df_resampled = pd.concat(resampled_dfs, axis=0)\n",
    "\n",
    "shp_df_resampled.reset_index().to_file(shp_data_out_dir)"
   ]
  },
  {
   "cell_type": "code",
   "execution_count": null,
   "metadata": {},
   "outputs": [],
   "source": []
  }
 ],
 "metadata": {
  "kernelspec": {
   "display_name": "Python 3",
   "language": "python",
   "name": "python3"
  },
  "language_info": {
   "codemirror_mode": {
    "name": "ipython",
    "version": 3
   },
   "file_extension": ".py",
   "mimetype": "text/x-python",
   "name": "python",
   "nbconvert_exporter": "python",
   "pygments_lexer": "ipython3",
   "version": "3.7.3"
  }
 },
 "nbformat": 4,
 "nbformat_minor": 4
}
