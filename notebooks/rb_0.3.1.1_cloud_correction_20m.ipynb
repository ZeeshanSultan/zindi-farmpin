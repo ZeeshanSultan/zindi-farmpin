{
 "cells": [
  {
   "cell_type": "code",
   "execution_count": 1,
   "metadata": {},
   "outputs": [],
   "source": [
    "%matplotlib inline\n",
    "%load_ext autoreload\n",
    "%autoreload 2\n",
    "\n",
    "import warnings\n",
    "warnings.simplefilter('ignore')"
   ]
  },
  {
   "cell_type": "markdown",
   "metadata": {},
   "source": [
    "# Cloud Correction\n",
    "\n",
    "Using the cloud masks, correct the already extracted masked farm data. "
   ]
  },
  {
   "cell_type": "code",
   "execution_count": 2,
   "metadata": {},
   "outputs": [],
   "source": [
    "import sys\n",
    "sys.path.append('../')\n",
    "\n",
    "import numpy as np\n",
    "import pandas as pd\n",
    "import rasterio\n",
    "\n",
    "from tqdm import tqdm\n",
    "from config import interim_data_dir\n",
    "\n",
    "from src.utils import read_shapefile, mask_raster\n",
    "from src.data.vi_methods import calc_ndvi, calc_vi_ts\n",
    "\n",
    "dates_with_clouds = ['2017-02-10','2017-08-04','2017-08-19']"
   ]
  },
  {
   "cell_type": "code",
   "execution_count": 3,
   "metadata": {},
   "outputs": [],
   "source": [
    "train_shp = read_shapefile('train')"
   ]
  },
  {
   "cell_type": "markdown",
   "metadata": {},
   "source": [
    "## Develop Cloud Correction Functions"
   ]
  },
  {
   "cell_type": "code",
   "execution_count": 4,
   "metadata": {},
   "outputs": [],
   "source": [
    "def load_for_id(farm_id, dataset, bands_subset=None):\n",
    "    \"\"\"\n",
    "    Load all data for a farm\n",
    "    \n",
    "    Return:\n",
    "    \n",
    "    dictionary: {band: {date: ndarray}, {...}}\n",
    "    \"\"\"\n",
    "    farm_dir = interim_data_dir / 'masks_resampled' / dataset / str(farm_id)\n",
    "\n",
    "    dates = farm_dir.glob('*/')\n",
    "    farm_data = {}\n",
    "    \n",
    "    for date_path in dates:\n",
    "        \n",
    "        date = date_path.stem\n",
    "\n",
    "        bands = date_path.glob(\"*.npy\")\n",
    "        \n",
    "        farm_data[date_path.stem] = {}\n",
    "        \n",
    "        for band_path in bands:\n",
    "            band = band_path.stem\n",
    "            \n",
    "            if bands_subset and band in bands_subset:\n",
    "                arr = np.load(band_path)\n",
    "                farm_data[date][band] = arr\n",
    "            else:\n",
    "                continue\n",
    "        \n",
    "    return farm_data\n"
   ]
  },
  {
   "cell_type": "code",
   "execution_count": 5,
   "metadata": {},
   "outputs": [],
   "source": [
    "dates_with_clouds = [\n",
    "    '2017-02-10',\n",
    "    '2017-08-04',\n",
    "    '2017-08-19'\n",
    "]\n",
    "\n",
    "def get_cloud_masks(shapes):\n",
    "    \"\"\"\n",
    "    Get cloud masks for all farms \n",
    "    for all dates\n",
    "    \"\"\"\n",
    "    cloud_masks = {}\n",
    "    \n",
    "    for date in dates_with_clouds:\n",
    "    \n",
    "        f_mask = interim_data_dir / 'cloud_masks' / date / 'mask_10m.jp2'\n",
    "\n",
    "        with rasterio.open(f_mask) as cloud_raster:\n",
    "            cloud_masks[date] = mask_raster(shapes, cloud_raster)\n",
    "    \n",
    "    return cloud_masks\n",
    "\n",
    "\n",
    "def cloud_correction(farm_data, farm_id, cloud_masks, bands):\n",
    "    for date, cloud_mask_dict in cloud_masks.items():\n",
    "        for band in bands:\n",
    "            # replace with nan where mask is 1\n",
    "            farm_data[date][band] = np.where(cloud_mask_dict[farm_id] == 1, np.nan, farm_data[date][band])\n",
    "            "
   ]
  },
  {
   "cell_type": "markdown",
   "metadata": {},
   "source": [
    "## Get VI with/without cloud correction"
   ]
  },
  {
   "cell_type": "code",
   "execution_count": 33,
   "metadata": {},
   "outputs": [],
   "source": [
    "bands_subset=['B04','B08','B05']\n",
    "agg_methods = ['mean','median']\n",
    "vi_methods = ['ndvi']\n",
    "ID = 293\n",
    "farm_data = load_for_id(ID, 'train', bands_subset=bands_subset)\n",
    "\n",
    "# before\n",
    "vi_data = [calc_vi_ts(farm_data, ID, agg_methods, vi_method) for vi_method in vi_methods]\n",
    "\n",
    "vi_df_before = pd.concat(vi_data, axis=1)\n",
    "\n",
    "cloud_masks = get_cloud_masks(train_shp.geometry)\n",
    "\n",
    "cloud_correction(farm_data, ID, cloud_masks, bands_subset)\n",
    "\n",
    "# after\n",
    "vi_data = [calc_vi_ts(farm_data, ID, agg_methods, vi_method) for vi_method in vi_methods]\n",
    "\n",
    "vi_df_after = pd.concat(vi_data, axis=1)"
   ]
  },
  {
   "cell_type": "code",
   "execution_count": 34,
   "metadata": {},
   "outputs": [
    {
     "data": {
      "text/plain": [
       "array([[nan, nan, nan, ..., nan, nan, nan],\n",
       "       [nan, nan, nan, ..., nan, nan, nan],\n",
       "       [nan, nan, nan, ..., nan, nan, nan],\n",
       "       ...,\n",
       "       [nan, nan, nan, ..., nan, nan, nan],\n",
       "       [nan, nan, nan, ..., nan, nan, nan],\n",
       "       [nan, nan, nan, ..., nan, nan, nan]])"
      ]
     },
     "execution_count": 34,
     "metadata": {},
     "output_type": "execute_result"
    }
   ],
   "source": [
    "cloud_masks['2017-02-10'][ID]"
   ]
  },
  {
   "cell_type": "code",
   "execution_count": 35,
   "metadata": {},
   "outputs": [
    {
     "data": {
      "text/plain": [
       "array([[0., 0., 0., ..., 0., 0., 0.],\n",
       "       [0., 0., 0., ..., 0., 0., 0.],\n",
       "       [0., 0., 0., ..., 0., 0., 0.],\n",
       "       ...,\n",
       "       [0., 0., 0., ..., 0., 0., 0.],\n",
       "       [0., 0., 0., ..., 0., 0., 0.],\n",
       "       [0., 0., 0., ..., 0., 0., 0.]])"
      ]
     },
     "execution_count": 35,
     "metadata": {},
     "output_type": "execute_result"
    }
   ],
   "source": [
    "farm_data['2017-02-10']['B04']"
   ]
  },
  {
   "cell_type": "markdown",
   "metadata": {},
   "source": [
    "### Show VI plots before / after cloud correction"
   ]
  },
  {
   "cell_type": "code",
   "execution_count": 36,
   "metadata": {},
   "outputs": [
    {
     "data": {
      "text/plain": [
       "<matplotlib.axes._subplots.AxesSubplot at 0x1211c42b0>"
      ]
     },
     "execution_count": 36,
     "metadata": {},
     "output_type": "execute_result"
    },
    {
     "data": {
      "image/png": "[encoded data removed]",
      "text/plain": [
       "<Figure size 432x288 with 1 Axes>"
      ]
     },
     "metadata": {
      "needs_background": "light"
     },
     "output_type": "display_data"
    },
    {
     "data": {
      "image/png": "[encoded data removed]",
      "text/plain": [
       "<Figure size 432x288 with 1 Axes>"
      ]
     },
     "metadata": {
      "needs_background": "light"
     },
     "output_type": "display_data"
    },
    {
     "data": {
      "image/png": "[encoded data removed]",
      "text/plain": [
       "<Figure size 432x288 with 1 Axes>"
      ]
     },
     "metadata": {
      "needs_background": "light"
     },
     "output_type": "display_data"
    }
   ],
   "source": [
    "vi_df_before.sort_index(level=1).loc[ID].plot(title='Before Cloud Correction')\n",
    "vi_df_after.sort_index(level=1).loc[ID].plot(title='After Cloud Correction')\n",
    "vi_df_after.sort_index(level=1).interpolate(axis=0, method='linear').loc[ID].plot(title='Cloud corrected with interpolation')"
   ]
  },
  {
   "cell_type": "markdown",
   "metadata": {},
   "source": [
    "### A list of farms with clouds on 2017-02-10"
   ]
  },
  {
   "cell_type": "code",
   "execution_count": null,
   "metadata": {},
   "outputs": [],
   "source": [
    "farms_with_clouds = [14,\n",
    " 15,\n",
    " 96,\n",
    " 119,\n",
    " 122,\n",
    " 234,\n",
    " 238,\n",
    " 240,\n",
    " 241,\n",
    " 245,\n",
    " 246,\n",
    " 252,\n",
    " 253,\n",
    " 255,\n",
    " 256,\n",
    " 270,\n",
    " 293,\n",
    " 294,\n",
    " 296,\n",
    " 297,\n",
    " 300,\n",
    " 445,\n",
    " 511,\n",
    " 513,\n",
    " 515,\n",
    " 516,\n",
    " 517,\n",
    " 519,\n",
    " 521,\n",
    " 522,\n",
    " 523,\n",
    " 525,\n",
    " 526,\n",
    " 527,\n",
    " 528,\n",
    " 529,\n",
    " 530,\n",
    " 531,\n",
    " 533,\n",
    " 537,\n",
    " 538,\n",
    " 541,\n",
    " 543,\n",
    " 545,\n",
    " 546,\n",
    " 547,\n",
    " 551,\n",
    " 552,\n",
    " 553,\n",
    " 555,\n",
    " 577,\n",
    " 578,\n",
    " 579,\n",
    " 586,\n",
    " 588,\n",
    " 589,\n",
    " 590,\n",
    " 591,\n",
    " 592,\n",
    " 593,\n",
    " 594,\n",
    " 595,\n",
    " 596,\n",
    " 598,\n",
    " 601,\n",
    " 604,\n",
    " 605,\n",
    " 606,\n",
    " 607,\n",
    " 608,\n",
    " 609,\n",
    " 610,\n",
    " 611,\n",
    " 659,\n",
    " 662,\n",
    " 1033,\n",
    " 1037,\n",
    " 1038,\n",
    " 1040,\n",
    " 1041,\n",
    " 1288,\n",
    " 1291,\n",
    " 1562,\n",
    " 1565,\n",
    " 1568,\n",
    " 1570,\n",
    " 1572,\n",
    " 1574,\n",
    " 1575,\n",
    " 1576,\n",
    " 1581,\n",
    " 1582,\n",
    " 1585,\n",
    " 1586,\n",
    " 1587,\n",
    " 1588,\n",
    " 1589,\n",
    " 1599,\n",
    " 1670,\n",
    " 1792,\n",
    " 2115,\n",
    " 2120,\n",
    " 2157,\n",
    " 2162,\n",
    " 2163,\n",
    " 2164,\n",
    " 2165,\n",
    " 2167,\n",
    " 2168,\n",
    " 2171,\n",
    " 2174,\n",
    " 2175,\n",
    " 2176,\n",
    " 2177,\n",
    " 2178,\n",
    " 2179,\n",
    " 2180,\n",
    " 2181,\n",
    " 2182,\n",
    " 2183,\n",
    " 2402,\n",
    " 2403,\n",
    " 2416,\n",
    " 2419,\n",
    " 2438,\n",
    " 2447,\n",
    " 2450,\n",
    " 2451,\n",
    " 2452,\n",
    " 2454,\n",
    " 2702,\n",
    " 2703,\n",
    " 2704,\n",
    " 2713,\n",
    " 2717,\n",
    " 2718,\n",
    " 2719,\n",
    " 2720,\n",
    " 2723,\n",
    " 2724,\n",
    " 2731,\n",
    " 2736,\n",
    " 2880,\n",
    " 2881,\n",
    " 2883,\n",
    " 2887,\n",
    " 2888,\n",
    " 2890,\n",
    " 2892,\n",
    " 2893,\n",
    " 2894,\n",
    " 2895,\n",
    " 2896,\n",
    " 3099,\n",
    " 3100,\n",
    " 3102,\n",
    " 3105,\n",
    " 3232,\n",
    " 3430,\n",
    " 3432,\n",
    " 3501,\n",
    " 3502,\n",
    " 3548,\n",
    " 3566,\n",
    " 3586,\n",
    " 3587]"
   ]
  }
 ],
 "metadata": {
  "kernelspec": {
   "display_name": "Python 3",
   "language": "python",
   "name": "python3"
  },
  "language_info": {
   "codemirror_mode": {
    "name": "ipython",
    "version": 3
   },
   "file_extension": ".py",
   "mimetype": "text/x-python",
   "name": "python",
   "nbconvert_exporter": "python",
   "pygments_lexer": "ipython3",
   "version": "3.7.3"
  }
 },
 "nbformat": 4,
 "nbformat_minor": 4
}
