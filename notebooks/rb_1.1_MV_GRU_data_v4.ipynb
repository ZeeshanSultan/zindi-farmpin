{
 "cells": [
  {
   "cell_type": "code",
   "execution_count": 16,
   "metadata": {},
   "outputs": [
    {
     "name": "stdout",
     "output_type": "stream",
     "text": [
      "The autoreload extension is already loaded. To reload it, use:\n",
      "  %reload_ext autoreload\n"
     ]
    }
   ],
   "source": [
    "%matplotlib inline\n",
    "%load_ext autoreload\n",
    "%autoreload 2\n",
    "\n",
    "import warnings\n",
    "warnings.simplefilter('ignore')"
   ]
  },
  {
   "cell_type": "markdown",
   "metadata": {},
   "source": [
    "# Multivariate GRU\n",
    "\n",
    "**Changes**:\n",
    "\n",
    "* More layers\n",
    "* More units\n",
    "* More features"
   ]
  },
  {
   "cell_type": "code",
   "execution_count": 17,
   "metadata": {},
   "outputs": [],
   "source": [
    "import numpy as np\n",
    "import pandas as pd\n",
    "\n",
    "from tqdm import tqdm\n",
    "from config import interim_data_dir, raw_data_dir\n",
    "\n",
    "from src.utils import read_shapefile"
   ]
  },
  {
   "cell_type": "markdown",
   "metadata": {},
   "source": [
    "## Load Dataset"
   ]
  },
  {
   "cell_type": "code",
   "execution_count": 32,
   "metadata": {},
   "outputs": [],
   "source": [
    "import numpy as np\n",
    "import pandas as pd\n",
    "\n",
    "from tqdm import tqdm\n",
    "from config import interim_data_dir, raw_data_dir\n",
    "\n",
    "from src.utils import read_shapefile\n",
    "\n",
    "from config import processed_data_dir\n",
    "\n",
    "dataset_version = 'v4'\n",
    "\n",
    "train_features_df = pd.read_csv(processed_data_dir/'VI_datasets'/dataset_version/'train.csv', index_col=0)\n",
    "test_features_df = pd.read_csv(processed_data_dir/'VI_datasets'/dataset_version/'test.csv', index_col=0)\n",
    "class_weight = 1-train_features_df.y.value_counts(normalize=True)"
   ]
  },
  {
   "cell_type": "markdown",
   "metadata": {},
   "source": [
    "### Imput missing values"
   ]
  },
  {
   "cell_type": "code",
   "execution_count": 33,
   "metadata": {},
   "outputs": [
    {
     "data": {
      "text/html": [
       "<div>\n",
       "<style scoped>\n",
       "    .dataframe tbody tr th:only-of-type {\n",
       "        vertical-align: middle;\n",
       "    }\n",
       "\n",
       "    .dataframe tbody tr th {\n",
       "        vertical-align: top;\n",
       "    }\n",
       "\n",
       "    .dataframe thead th {\n",
       "        text-align: right;\n",
       "    }\n",
       "</style>\n",
       "<table border=\"1\" class=\"dataframe\">\n",
       "  <thead>\n",
       "    <tr style=\"text-align: right;\">\n",
       "      <th></th>\n",
       "      <th>farm_id</th>\n",
       "      <th>time</th>\n",
       "      <th>ndvi_mean</th>\n",
       "      <th>ndvi_median</th>\n",
       "      <th>cvi_mean</th>\n",
       "      <th>cvi_median</th>\n",
       "      <th>evi_mean</th>\n",
       "      <th>evi_median</th>\n",
       "      <th>arvi2_mean</th>\n",
       "      <th>arvi2_median</th>\n",
       "      <th>...</th>\n",
       "      <th>band_7_median</th>\n",
       "      <th>band_8_mean</th>\n",
       "      <th>band_8_median</th>\n",
       "      <th>band_8a_mean</th>\n",
       "      <th>band_8a_median</th>\n",
       "      <th>band_11_mean</th>\n",
       "      <th>band_11_median</th>\n",
       "      <th>band_12_mean</th>\n",
       "      <th>band_12_median</th>\n",
       "      <th>y</th>\n",
       "    </tr>\n",
       "  </thead>\n",
       "  <tbody>\n",
       "    <tr>\n",
       "      <th>0</th>\n",
       "      <td>1</td>\n",
       "      <td>2017-01-01</td>\n",
       "      <td>0.671766</td>\n",
       "      <td>0.692653</td>\n",
       "      <td>3.001651</td>\n",
       "      <td>0.947159</td>\n",
       "      <td>2.474928</td>\n",
       "      <td>0.0</td>\n",
       "      <td>0.605966</td>\n",
       "      <td>0.630404</td>\n",
       "      <td>...</td>\n",
       "      <td>0.0</td>\n",
       "      <td>1774.600000</td>\n",
       "      <td>0.0</td>\n",
       "      <td>1945.271429</td>\n",
       "      <td>0.0</td>\n",
       "      <td>986.121429</td>\n",
       "      <td>0.0</td>\n",
       "      <td>496.128571</td>\n",
       "      <td>0.0</td>\n",
       "      <td>Vineyard</td>\n",
       "    </tr>\n",
       "    <tr>\n",
       "      <th>1</th>\n",
       "      <td>1</td>\n",
       "      <td>2017-01-31</td>\n",
       "      <td>0.718396</td>\n",
       "      <td>0.729027</td>\n",
       "      <td>2.744553</td>\n",
       "      <td>1.052384</td>\n",
       "      <td>2.208423</td>\n",
       "      <td>0.0</td>\n",
       "      <td>0.660523</td>\n",
       "      <td>0.672961</td>\n",
       "      <td>...</td>\n",
       "      <td>0.0</td>\n",
       "      <td>1878.164286</td>\n",
       "      <td>0.0</td>\n",
       "      <td>1941.592857</td>\n",
       "      <td>0.0</td>\n",
       "      <td>992.671429</td>\n",
       "      <td>0.0</td>\n",
       "      <td>521.650000</td>\n",
       "      <td>0.0</td>\n",
       "      <td>Vineyard</td>\n",
       "    </tr>\n",
       "    <tr>\n",
       "      <th>2</th>\n",
       "      <td>1</td>\n",
       "      <td>2017-02-10</td>\n",
       "      <td>0.746055</td>\n",
       "      <td>0.755768</td>\n",
       "      <td>1.977070</td>\n",
       "      <td>1.065654</td>\n",
       "      <td>2.510243</td>\n",
       "      <td>0.0</td>\n",
       "      <td>0.692884</td>\n",
       "      <td>0.704249</td>\n",
       "      <td>...</td>\n",
       "      <td>0.0</td>\n",
       "      <td>2199.185714</td>\n",
       "      <td>0.0</td>\n",
       "      <td>2474.121429</td>\n",
       "      <td>0.0</td>\n",
       "      <td>1106.557143</td>\n",
       "      <td>0.0</td>\n",
       "      <td>508.700000</td>\n",
       "      <td>0.0</td>\n",
       "      <td>Vineyard</td>\n",
       "    </tr>\n",
       "    <tr>\n",
       "      <th>3</th>\n",
       "      <td>1</td>\n",
       "      <td>2017-03-12</td>\n",
       "      <td>0.668629</td>\n",
       "      <td>0.684211</td>\n",
       "      <td>2.180335</td>\n",
       "      <td>0.865489</td>\n",
       "      <td>3.435664</td>\n",
       "      <td>0.0</td>\n",
       "      <td>0.602296</td>\n",
       "      <td>0.620526</td>\n",
       "      <td>...</td>\n",
       "      <td>0.0</td>\n",
       "      <td>1573.342857</td>\n",
       "      <td>0.0</td>\n",
       "      <td>1719.757143</td>\n",
       "      <td>0.0</td>\n",
       "      <td>898.800000</td>\n",
       "      <td>0.0</td>\n",
       "      <td>466.950000</td>\n",
       "      <td>0.0</td>\n",
       "      <td>Vineyard</td>\n",
       "    </tr>\n",
       "    <tr>\n",
       "      <th>4</th>\n",
       "      <td>1</td>\n",
       "      <td>2017-03-22</td>\n",
       "      <td>0.659258</td>\n",
       "      <td>0.673052</td>\n",
       "      <td>2.783775</td>\n",
       "      <td>1.226074</td>\n",
       "      <td>4.197762</td>\n",
       "      <td>0.0</td>\n",
       "      <td>0.591332</td>\n",
       "      <td>0.607470</td>\n",
       "      <td>...</td>\n",
       "      <td>0.0</td>\n",
       "      <td>1549.492857</td>\n",
       "      <td>0.0</td>\n",
       "      <td>1729.335714</td>\n",
       "      <td>0.0</td>\n",
       "      <td>871.714286</td>\n",
       "      <td>0.0</td>\n",
       "      <td>433.728571</td>\n",
       "      <td>0.0</td>\n",
       "      <td>Vineyard</td>\n",
       "    </tr>\n",
       "  </tbody>\n",
       "</table>\n",
       "<p>5 rows × 37 columns</p>\n",
       "</div>"
      ],
      "text/plain": [
       "   farm_id        time  ndvi_mean  ndvi_median  cvi_mean  cvi_median  \\\n",
       "0        1  2017-01-01   0.671766     0.692653  3.001651    0.947159   \n",
       "1        1  2017-01-31   0.718396     0.729027  2.744553    1.052384   \n",
       "2        1  2017-02-10   0.746055     0.755768  1.977070    1.065654   \n",
       "3        1  2017-03-12   0.668629     0.684211  2.180335    0.865489   \n",
       "4        1  2017-03-22   0.659258     0.673052  2.783775    1.226074   \n",
       "\n",
       "   evi_mean  evi_median  arvi2_mean  arvi2_median  ...  band_7_median  \\\n",
       "0  2.474928         0.0    0.605966      0.630404  ...            0.0   \n",
       "1  2.208423         0.0    0.660523      0.672961  ...            0.0   \n",
       "2  2.510243         0.0    0.692884      0.704249  ...            0.0   \n",
       "3  3.435664         0.0    0.602296      0.620526  ...            0.0   \n",
       "4  4.197762         0.0    0.591332      0.607470  ...            0.0   \n",
       "\n",
       "   band_8_mean  band_8_median  band_8a_mean  band_8a_median  band_11_mean  \\\n",
       "0  1774.600000            0.0   1945.271429             0.0    986.121429   \n",
       "1  1878.164286            0.0   1941.592857             0.0    992.671429   \n",
       "2  2199.185714            0.0   2474.121429             0.0   1106.557143   \n",
       "3  1573.342857            0.0   1719.757143             0.0    898.800000   \n",
       "4  1549.492857            0.0   1729.335714             0.0    871.714286   \n",
       "\n",
       "   band_11_median  band_12_mean  band_12_median         y  \n",
       "0             0.0    496.128571             0.0  Vineyard  \n",
       "1             0.0    521.650000             0.0  Vineyard  \n",
       "2             0.0    508.700000             0.0  Vineyard  \n",
       "3             0.0    466.950000             0.0  Vineyard  \n",
       "4             0.0    433.728571             0.0  Vineyard  \n",
       "\n",
       "[5 rows x 37 columns]"
      ]
     },
     "execution_count": 33,
     "metadata": {},
     "output_type": "execute_result"
    }
   ],
   "source": [
    "def impute_nan_inf(df):\n",
    "    \"\"\"\n",
    "    Impute bad values (nan and inf) using\n",
    "    the median of that feature on that time stamp\n",
    "    for all farms\n",
    "    \n",
    "    TODO: This can be improved\n",
    "    \"\"\"\n",
    "    \n",
    "    # replace all nans variants with np.nan\n",
    "    df = df.replace([np.nan, None, np.inf, -np.inf], np.nan)\n",
    "\n",
    "    # replace all nans with the median value of all farms on that timestamp\n",
    "    for ts, ts_df in df.groupby('time'):\n",
    "        df.loc[ts_df.index] = ts_df.fillna(ts_df.median())\n",
    "        \n",
    "    return df\n",
    "        \n",
    "train_features_df = impute_nan_inf(train_features_df)\n",
    "test_features_df = impute_nan_inf(test_features_df)\n",
    "\n",
    "train_features_df.head()"
   ]
  },
  {
   "cell_type": "markdown",
   "metadata": {},
   "source": [
    "## Normalize Features Dataset\n",
    "\n",
    "Neural Nets are sensitive to scale, but we want to keep the variance in the features. So we will MinMax scale each feature on a specific time step over all farms. \n",
    "\n",
    "I.e - the network will see any number of variables at a time, but all of them will be on the same scale (0 - 1) and the variance between farms will be kept the same. "
   ]
  },
  {
   "cell_type": "code",
   "execution_count": 34,
   "metadata": {},
   "outputs": [],
   "source": [
    "# Make copies to compare before / after normalization\n",
    "train_copy = train_features_df.copy()\n",
    "test_copy = test_features_df.copy()"
   ]
  },
  {
   "cell_type": "code",
   "execution_count": 35,
   "metadata": {},
   "outputs": [],
   "source": [
    "from sklearn.preprocessing import MinMaxScaler, StandardScaler\n",
    "\n",
    "times = train_features_df['time'].unique()\n",
    "feature_cols = [col for col in test_features_df.columns if col not in ['farm_id','time']]\n",
    "\n",
    "for ts in times:\n",
    "    scaler = StandardScaler()\n",
    "    \n",
    "    train_ts_df = train_copy[train_copy.time == ts]\n",
    "    test_ts_df = test_copy[test_copy.time == ts]\n",
    "    \n",
    "    train_features_df.loc[train_ts_df.index, feature_cols] = scaler.fit_transform(train_ts_df[feature_cols])\n",
    "    test_features_df.loc[test_ts_df.index, feature_cols] = scaler.transform(test_ts_df[feature_cols])"
   ]
  },
  {
   "cell_type": "markdown",
   "metadata": {},
   "source": [
    "## Transform Dataset for MVTS Classification"
   ]
  },
  {
   "cell_type": "code",
   "execution_count": 36,
   "metadata": {},
   "outputs": [],
   "source": [
    "def transform_dataset(features_df):\n",
    "    \"\"\"\n",
    "    Create a data array in the shape (n_ids, n_time, n_features)\n",
    "    \n",
    "    If it is the training set, also return dictionary mapping index\n",
    "    in dataset to correct label.\n",
    "    \n",
    "    \"\"\"\n",
    "    \n",
    "    n_ids = features_df.farm_id.nunique()\n",
    "\n",
    "    feature_cols = [col for col in features_df.columns if col not in ['farm_id','y','time']]\n",
    "    \n",
    "    n_features = len(feature_cols)\n",
    "\n",
    "    data = np.ndarray((n_ids, 11, n_features))\n",
    "    \n",
    "    classes = {}\n",
    "    for i, (farm_id, farm_df) in enumerate(features_df.groupby(['farm_id'])):\n",
    "\n",
    "        data[i,:,:] = farm_df[feature_cols].values\n",
    "        \n",
    "        if 'y' in features_df.columns:\n",
    "            c = farm_df['y'].unique()\n",
    "            classes[i] = c[0]\n",
    "            \n",
    "    return data, classes\n",
    "    "
   ]
  },
  {
   "cell_type": "code",
   "execution_count": 37,
   "metadata": {},
   "outputs": [
    {
     "name": "stdout",
     "output_type": "stream",
     "text": [
      "Train data:\t\t (2494, 11, 34)\n",
      "Test data:\t\t (1074, 11, 34)\n"
     ]
    }
   ],
   "source": [
    "train_data, train_labels_dict = transform_dataset(train_features_df)\n",
    "test_data, _ = transform_dataset(test_features_df)\n",
    "\n",
    "print('Train data:\\t\\t',train_data.shape)\n",
    "print('Test data:\\t\\t',test_data.shape)"
   ]
  },
  {
   "cell_type": "markdown",
   "metadata": {},
   "source": [
    "## Start Modelling Process\n",
    "\n",
    "### Create validation set"
   ]
  },
  {
   "cell_type": "code",
   "execution_count": 38,
   "metadata": {},
   "outputs": [
    {
     "name": "stdout",
     "output_type": "stream",
     "text": [
      "train data :  (1995, 11, 34)\n",
      "val data :  (499, 11, 34)\n"
     ]
    }
   ],
   "source": [
    "from sklearn.model_selection import train_test_split\n",
    "from sklearn.preprocessing import LabelEncoder\n",
    "\n",
    "seed = 420\n",
    "\n",
    "# Copy for later\n",
    "data = train_data.copy()\n",
    "\n",
    "train_labels = list(train_labels_dict.values())\n",
    "train_indexes = list(train_labels_dict.keys())\n",
    "train_idx, val_idx, train_labels, val_labels = train_test_split(train_indexes, train_labels, stratify=train_labels, test_size=0.2, random_state=seed)\n",
    "\n",
    "le = LabelEncoder()\n",
    "train_labels_enc = le.fit_transform(np.array(train_labels).reshape(-1,1))\n",
    "val_labels_enc = le.transform(np.array(val_labels).reshape(-1,1))\n",
    "\n",
    "train_data = data[train_idx,:, :]\n",
    "val_data = data[val_idx,:, :]\n",
    "\n",
    "print('train data : ',train_data.shape)\n",
    "print('val data : ',val_data.shape)"
   ]
  },
  {
   "cell_type": "markdown",
   "metadata": {},
   "source": [
    "### Create model"
   ]
  },
  {
   "cell_type": "code",
   "execution_count": 39,
   "metadata": {},
   "outputs": [],
   "source": [
    "import tensorflow as tf\n",
    "import keras\n",
    "from keras import models, layers\n",
    "from keras.callbacks import EarlyStopping, ReduceLROnPlateau\n",
    "# from tensorflow.keras import models, layers\n",
    "# from tensorflow.keras.callbacks import EarlyStopping\n",
    "# from tensorflow.keras.callbacks import ReduceLROnPlateau\n",
    "\n",
    "from src.visualization.tf_viz import PlotLosses\n",
    "from src.models.clr_callback import CyclicLR\n",
    "# from src.models.sgdr import SGDRScheduler\n",
    "\n",
    "## Set trainig params\n",
    "epoch_size=1000\n",
    "batch_size=512\n",
    "\n",
    "# def get_model(n_features):\n",
    "\n",
    "#     model = models.Sequential()\n",
    "#     model.add(layers.Dense(8, activation='relu', input_shape=(11, n_features)))\n",
    "#     model.add(layers.BatchNormalization())\n",
    "#     model.add(layers.Dropout(0.1))\n",
    "#     model.add(layers.Dense(16, activation='relu'))\n",
    "#     model.add(layers.BatchNormalization())\n",
    "#     model.add(layers.Dropout(0.2))\n",
    "#     model.add(layers.BatchNormalization())\n",
    "#     model.add(layers.Dropout(0.2))\n",
    "#     model.add(layers.Dense(32, activation='relu'))\n",
    "#     model.add(layers.BatchNormalization())\n",
    "#     model.add(layers.Dropout(0.2))\n",
    "#     model.add(layers.Dense(64, activation='relu'))\n",
    "#     model.add(layers.BatchNormalization())\n",
    "#     model.add(layers.Dropout(0.2))\n",
    "#     model.add(layers.GRU(8, input_shape=(11, n_features), kernel_regularizer=keras.regularizers.l2(0.02), return_sequences=True))\n",
    "#     model.add(layers.Flatten())\n",
    "#     model.add(layers.Dense(16, activation='relu'))\n",
    "#     model.add(layers.BatchNormalization())\n",
    "#     model.add(layers.Dropout(0.1))\n",
    "#     model.add(layers.Dense(9, activation='softmax'))\n",
    "#     return model\n",
    "\n",
    "\n",
    "def get_model(n_features):\n",
    "    \n",
    "    GRU_cells = 16\n",
    "    batch_size = 128\n",
    "    recurrent_activation = 'hard_sigmoid'\n",
    "    recurrent_dropout = 0.6093571771811351\n",
    "\n",
    "    model = models.Sequential()\n",
    "    model.add(layers.GRU(GRU_cells,input_shape=(11, n_features), return_sequences=True,recurrent_activation=recurrent_activation, recurrent_dropout=recurrent_dropout))\n",
    "    model.add(layers.GRU(GRU_cells,input_shape=(11, n_features), return_sequences=True,recurrent_activation=recurrent_activation, recurrent_dropout=0.2))\n",
    "    model.add(layers.Flatten())\n",
    "    model.add(layers.Dense(9))\n",
    "    model.add(layers.Activation('softmax'))\n",
    "    \n",
    "    return model\n"
   ]
  },
  {
   "cell_type": "code",
   "execution_count": 40,
   "metadata": {},
   "outputs": [
    {
     "name": "stderr",
     "output_type": "stream",
     "text": [
      "W0725 21:20:23.890881 4568008128 nn_ops.py:4224] Large dropout rate: 0.609357 (>0.5). In TensorFlow 2.x, dropout() uses dropout rate instead of keep_prob. Please ensure that this is intended.\n",
      "W0725 21:20:23.903383 4568008128 nn_ops.py:4224] Large dropout rate: 0.609357 (>0.5). In TensorFlow 2.x, dropout() uses dropout rate instead of keep_prob. Please ensure that this is intended.\n"
     ]
    },
    {
     "name": "stdout",
     "output_type": "stream",
     "text": [
      "_________________________________________________________________\n",
      "Layer (type)                 Output Shape              Param #   \n",
      "=================================================================\n",
      "gru_4 (GRU)                  (None, 11, 16)            2448      \n",
      "_________________________________________________________________\n",
      "gru_5 (GRU)                  (None, 11, 16)            1584      \n",
      "_________________________________________________________________\n",
      "flatten_3 (Flatten)          (None, 176)               0         \n",
      "_________________________________________________________________\n",
      "dense_8 (Dense)              (None, 9)                 1593      \n",
      "_________________________________________________________________\n",
      "activation_2 (Activation)    (None, 9)                 0         \n",
      "=================================================================\n",
      "Total params: 5,625\n",
      "Trainable params: 5,625\n",
      "Non-trainable params: 0\n",
      "_________________________________________________________________\n"
     ]
    }
   ],
   "source": [
    "# Get the model\n",
    "model = get_model(train_data.shape[-1])\n",
    "model.summary()"
   ]
  },
  {
   "cell_type": "code",
   "execution_count": 41,
   "metadata": {},
   "outputs": [],
   "source": [
    "# Choose optimizer\n",
    "# optimizer = keras.optimizers.Adam(3e-4)\n",
    "optimizer = keras.optimizers.RMSprop(lr=0.0005,\n",
    "    rho=0.9,\n",
    "    epsilon=1e-07)\n",
    "\n",
    "\n",
    "# optimizer = keras.optimizers.SGD()\n",
    "\n",
    "# Choose callbacks\n",
    "callbacks = [\n",
    "    PlotLosses(),\n",
    "    EarlyStopping(monitor='val_loss', verbose=1, patience=100),\n",
    "    ReduceLROnPlateau(monitor='val_loss', patience=50),\n",
    "#     CyclicLR(base_lr=0.0003, max_lr=0.005, step_size=train_data.shape[0]*4)\n",
    "]\n",
    "\n",
    "model.compile(\n",
    "    optimizer=optimizer,\n",
    "    loss='sparse_categorical_crossentropy'\n",
    ")"
   ]
  },
  {
   "cell_type": "code",
   "execution_count": 42,
   "metadata": {},
   "outputs": [
    {
     "data": {
      "image/png": "[encoded data removed]",
      "text/plain": [
       "<Figure size 432x288 with 1 Axes>"
      ]
     },
     "metadata": {
      "needs_background": "light"
     },
     "output_type": "display_data"
    },
    {
     "name": "stdout",
     "output_type": "stream",
     "text": [
      "Epoch 00267: early stopping\n"
     ]
    },
    {
     "data": {
      "text/plain": [
       "<keras.callbacks.History at 0x1a5ab68320>"
      ]
     },
     "execution_count": 42,
     "metadata": {},
     "output_type": "execute_result"
    }
   ],
   "source": [
    "model.fit(train_data, \n",
    "          train_labels_enc,\n",
    "          batch_size=128,\n",
    "          validation_data=(val_data, val_labels_enc), \n",
    "          class_weight=class_weight,\n",
    "          verbose=0,\n",
    "          epochs=epoch_size, \n",
    "          callbacks=callbacks)"
   ]
  },
  {
   "cell_type": "code",
   "execution_count": null,
   "metadata": {},
   "outputs": [],
   "source": [
    "from sklearn.metrics import log_loss\n",
    "\n",
    "val_preds = model.predict(val_data)\n",
    "train_preds = model.predict(train_data)\n",
    "print('val loss: ',log_loss(val_labels_enc, val_preds))\n",
    "print('train loss: ',log_loss(train_labels_enc, train_preds))"
   ]
  },
  {
   "cell_type": "markdown",
   "metadata": {},
   "source": [
    "### Confusion matrix"
   ]
  },
  {
   "cell_type": "code",
   "execution_count": null,
   "metadata": {},
   "outputs": [],
   "source": [
    "from sklearn.metrics import confusion_matrix\n",
    "from src.visualization.visualize import print_confusion_matrix\n",
    "\n",
    "class_labels = pd.read_csv(raw_data_dir / 'crop_id_list.csv', index_col=0).sort_index().crop\n",
    "\n",
    "val_preds = model.predict_classes(val_data)\n",
    "\n",
    "cm = confusion_matrix(val_labels_enc, val_preds)\n",
    "print_confusion_matrix(cm, class_names=class_labels);"
   ]
  },
  {
   "cell_type": "markdown",
   "metadata": {},
   "source": [
    "## Make Submission"
   ]
  },
  {
   "cell_type": "markdown",
   "metadata": {},
   "source": [
    "### First retrain on all data\n"
   ]
  },
  {
   "cell_type": "code",
   "execution_count": null,
   "metadata": {},
   "outputs": [],
   "source": [
    "all_data = np.vstack([train_data, val_data])\n",
    "all_labels = np.array(list(train_labels_enc) + list(val_labels_enc))\n",
    "\n",
    "class_weight = (1 - pd.Series(all_labels).value_counts(normalize=True)).to_dict()"
   ]
  },
  {
   "cell_type": "code",
   "execution_count": null,
   "metadata": {},
   "outputs": [],
   "source": [
    "model = get_model(all_data.shape[-1])\n",
    "optimizer = keras.optimizers.RMSprop()\n",
    "model.compile(optimizer=optimizer,\n",
    "              loss=keras.metrics.sparse_categorical_crossentropy,\n",
    "              metrics=[keras.metrics.sparse_categorical_crossentropy])\n",
    "\n",
    "model.fit(all_data, \n",
    "          all_labels,\n",
    "          batch_size=64, \n",
    "          class_weight=class_weight,\n",
    "          verbose=2,\n",
    "          epochs=350, \n",
    "          workers=4, \n",
    "          use_multiprocessing=True,\n",
    "          callbacks=[plot_losses, es, reduce_lr])"
   ]
  },
  {
   "cell_type": "code",
   "execution_count": null,
   "metadata": {},
   "outputs": [],
   "source": [
    "def make_sub(predictions, ids_list):\n",
    "    \n",
    "    sub_df = pd.read_csv(raw_data_dir / 'sample_submission_fixed.csv')\n",
    "\n",
    "    new_sub = sub_df.copy().set_index('field_id')\n",
    "\n",
    "    new_sub.loc[ids_list] = predictions\n",
    "    \n",
    "    return new_sub\n",
    "\n",
    "predictions = model.predict(test_data)\n",
    "test_ids = sorted(list(test_features_df.farm_id.unique()))\n",
    "sub_df = make_sub(predictions, test_ids)\n",
    "sub_df.head()"
   ]
  },
  {
   "cell_type": "code",
   "execution_count": null,
   "metadata": {},
   "outputs": [],
   "source": []
  },
  {
   "cell_type": "markdown",
   "metadata": {},
   "source": [
    "### Save submission file"
   ]
  },
  {
   "cell_type": "code",
   "execution_count": null,
   "metadata": {},
   "outputs": [],
   "source": [
    "from config import subs_dir\n",
    "\n",
    "sub_df.to_csv(subs_dir / 'gru_vi_data_v4.1.csv')"
   ]
  },
  {
   "cell_type": "markdown",
   "metadata": {},
   "source": [
    "### Save model architecture"
   ]
  },
  {
   "cell_type": "code",
   "execution_count": null,
   "metadata": {},
   "outputs": [],
   "source": [
    "with open(subs_dir / 'architectures')"
   ]
  }
 ],
 "metadata": {
  "kernelspec": {
   "display_name": "Python 3",
   "language": "python",
   "name": "python3"
  },
  "language_info": {
   "codemirror_mode": {
    "name": "ipython",
    "version": 3
   },
   "file_extension": ".py",
   "mimetype": "text/x-python",
   "name": "python",
   "nbconvert_exporter": "python",
   "pygments_lexer": "ipython3",
   "version": "3.7.3"
  }
 },
 "nbformat": 4,
 "nbformat_minor": 4
}
