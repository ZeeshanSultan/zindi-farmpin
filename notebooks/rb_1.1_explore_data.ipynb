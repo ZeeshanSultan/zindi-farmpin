{
 "cells": [
  {
   "cell_type": "code",
   "execution_count": 1,
   "metadata": {},
   "outputs": [],
   "source": [
    "%matplotlib inline\n",
    "%load_ext autoreload\n",
    "%autoreload 2"
   ]
  },
  {
   "cell_type": "markdown",
   "metadata": {},
   "source": [
    "## Explore Shapefiles"
   ]
  },
  {
   "cell_type": "code",
   "execution_count": 2,
   "metadata": {},
   "outputs": [],
   "source": [
    "import os\n",
    "import rasterio\n",
    "import pandas as pd\n",
    "import geopandas as gpd\n",
    "\n",
    "import matplotlib.pyplot as plt\n",
    "\n",
    "from config import raw_data_dir, interim_data_dir\n",
    "from src.utils import read_shapefile"
   ]
  },
  {
   "cell_type": "code",
   "execution_count": 3,
   "metadata": {},
   "outputs": [
    {
     "data": {
      "text/html": [
       "<div>\n",
       "<style scoped>\n",
       "    .dataframe tbody tr th:only-of-type {\n",
       "        vertical-align: middle;\n",
       "    }\n",
       "\n",
       "    .dataframe tbody tr th {\n",
       "        vertical-align: top;\n",
       "    }\n",
       "\n",
       "    .dataframe thead th {\n",
       "        text-align: right;\n",
       "    }\n",
       "</style>\n",
       "<table border=\"1\" class=\"dataframe\">\n",
       "  <thead>\n",
       "    <tr style=\"text-align: right;\">\n",
       "      <th></th>\n",
       "      <th>Area</th>\n",
       "      <th>Subregion</th>\n",
       "      <th>Crop_Id_Ne</th>\n",
       "      <th>geometry</th>\n",
       "      <th>dataset</th>\n",
       "    </tr>\n",
       "    <tr>\n",
       "      <th>Field_Id</th>\n",
       "      <th></th>\n",
       "      <th></th>\n",
       "      <th></th>\n",
       "      <th></th>\n",
       "      <th></th>\n",
       "    </tr>\n",
       "  </thead>\n",
       "  <tbody>\n",
       "    <tr>\n",
       "      <th>1</th>\n",
       "      <td>0.915905</td>\n",
       "      <td>3</td>\n",
       "      <td>8</td>\n",
       "      <td>POLYGON ((613924.3324000851 6793991.295069702,...</td>\n",
       "      <td>train</td>\n",
       "    </tr>\n",
       "    <tr>\n",
       "      <th>2</th>\n",
       "      <td>2.064410</td>\n",
       "      <td>3</td>\n",
       "      <td>6</td>\n",
       "      <td>POLYGON ((614404.0717397591 6794020.579634549,...</td>\n",
       "      <td>train</td>\n",
       "    </tr>\n",
       "    <tr>\n",
       "      <th>3</th>\n",
       "      <td>1.080300</td>\n",
       "      <td>3</td>\n",
       "      <td>8</td>\n",
       "      <td>POLYGON ((614320.2146632321 6793964.242091182,...</td>\n",
       "      <td>train</td>\n",
       "    </tr>\n",
       "    <tr>\n",
       "      <th>4</th>\n",
       "      <td>1.316190</td>\n",
       "      <td>3</td>\n",
       "      <td>8</td>\n",
       "      <td>POLYGON ((614560.5326844405 6794002.249461887,...</td>\n",
       "      <td>train</td>\n",
       "    </tr>\n",
       "    <tr>\n",
       "      <th>7</th>\n",
       "      <td>5.529220</td>\n",
       "      <td>3</td>\n",
       "      <td>8</td>\n",
       "      <td>POLYGON ((614596.6564746551 6794269.865436315,...</td>\n",
       "      <td>train</td>\n",
       "    </tr>\n",
       "    <tr>\n",
       "      <th>8</th>\n",
       "      <td>1.482710</td>\n",
       "      <td>3</td>\n",
       "      <td>8</td>\n",
       "      <td>POLYGON ((614593.073283543 6794503.419871029, ...</td>\n",
       "      <td>train</td>\n",
       "    </tr>\n",
       "    <tr>\n",
       "      <th>9</th>\n",
       "      <td>4.622840</td>\n",
       "      <td>3</td>\n",
       "      <td>8</td>\n",
       "      <td>POLYGON ((614196.4868975078 6794344.478450645,...</td>\n",
       "      <td>train</td>\n",
       "    </tr>\n",
       "    <tr>\n",
       "      <th>11</th>\n",
       "      <td>1.018820</td>\n",
       "      <td>3</td>\n",
       "      <td>8</td>\n",
       "      <td>POLYGON ((614618.2041435272 6794524.489676334,...</td>\n",
       "      <td>train</td>\n",
       "    </tr>\n",
       "    <tr>\n",
       "      <th>12</th>\n",
       "      <td>1.796070</td>\n",
       "      <td>3</td>\n",
       "      <td>8</td>\n",
       "      <td>POLYGON ((614558.9018551795 6794772.778207108,...</td>\n",
       "      <td>train</td>\n",
       "    </tr>\n",
       "    <tr>\n",
       "      <th>13</th>\n",
       "      <td>1.756900</td>\n",
       "      <td>3</td>\n",
       "      <td>8</td>\n",
       "      <td>POLYGON ((614345.109727822 6794972.436547477, ...</td>\n",
       "      <td>train</td>\n",
       "    </tr>\n",
       "  </tbody>\n",
       "</table>\n",
       "</div>"
      ],
      "text/plain": [
       "              Area  Subregion Crop_Id_Ne  \\\n",
       "Field_Id                                   \n",
       "1         0.915905          3          8   \n",
       "2         2.064410          3          6   \n",
       "3         1.080300          3          8   \n",
       "4         1.316190          3          8   \n",
       "7         5.529220          3          8   \n",
       "8         1.482710          3          8   \n",
       "9         4.622840          3          8   \n",
       "11        1.018820          3          8   \n",
       "12        1.796070          3          8   \n",
       "13        1.756900          3          8   \n",
       "\n",
       "                                                   geometry dataset  \n",
       "Field_Id                                                             \n",
       "1         POLYGON ((613924.3324000851 6793991.295069702,...   train  \n",
       "2         POLYGON ((614404.0717397591 6794020.579634549,...   train  \n",
       "3         POLYGON ((614320.2146632321 6793964.242091182,...   train  \n",
       "4         POLYGON ((614560.5326844405 6794002.249461887,...   train  \n",
       "7         POLYGON ((614596.6564746551 6794269.865436315,...   train  \n",
       "8         POLYGON ((614593.073283543 6794503.419871029, ...   train  \n",
       "9         POLYGON ((614196.4868975078 6794344.478450645,...   train  \n",
       "11        POLYGON ((614618.2041435272 6794524.489676334,...   train  \n",
       "12        POLYGON ((614558.9018551795 6794772.778207108,...   train  \n",
       "13        POLYGON ((614345.109727822 6794972.436547477, ...   train  "
      ]
     },
     "execution_count": 3,
     "metadata": {},
     "output_type": "execute_result"
    }
   ],
   "source": [
    "shp_train = read_shapefile('train')\n",
    "shp_train['dataset'] = 'train'\n",
    "shp_train.head(10)"
   ]
  },
  {
   "cell_type": "code",
   "execution_count": 4,
   "metadata": {},
   "outputs": [
    {
     "data": {
      "text/html": [
       "<div>\n",
       "<style scoped>\n",
       "    .dataframe tbody tr th:only-of-type {\n",
       "        vertical-align: middle;\n",
       "    }\n",
       "\n",
       "    .dataframe tbody tr th {\n",
       "        vertical-align: top;\n",
       "    }\n",
       "\n",
       "    .dataframe thead th {\n",
       "        text-align: right;\n",
       "    }\n",
       "</style>\n",
       "<table border=\"1\" class=\"dataframe\">\n",
       "  <thead>\n",
       "    <tr style=\"text-align: right;\">\n",
       "      <th></th>\n",
       "      <th>Area</th>\n",
       "      <th>Subregion</th>\n",
       "      <th>geometry</th>\n",
       "      <th>dataset</th>\n",
       "    </tr>\n",
       "    <tr>\n",
       "      <th>Field_Id</th>\n",
       "      <th></th>\n",
       "      <th></th>\n",
       "      <th></th>\n",
       "      <th></th>\n",
       "    </tr>\n",
       "  </thead>\n",
       "  <tbody>\n",
       "    <tr>\n",
       "      <th>5</th>\n",
       "      <td>1.322590</td>\n",
       "      <td>3</td>\n",
       "      <td>POLYGON ((614428.5851635702 6794207.23529591, ...</td>\n",
       "      <td>test</td>\n",
       "    </tr>\n",
       "    <tr>\n",
       "      <th>6</th>\n",
       "      <td>0.955864</td>\n",
       "      <td>3</td>\n",
       "      <td>POLYGON ((614617.1386412303 6794163.687688111,...</td>\n",
       "      <td>test</td>\n",
       "    </tr>\n",
       "    <tr>\n",
       "      <th>10</th>\n",
       "      <td>11.509800</td>\n",
       "      <td>3</td>\n",
       "      <td>POLYGON ((614352.4574846183 6794416.783909474,...</td>\n",
       "      <td>test</td>\n",
       "    </tr>\n",
       "    <tr>\n",
       "      <th>18</th>\n",
       "      <td>2.697520</td>\n",
       "      <td>3</td>\n",
       "      <td>POLYGON ((587079.1386775962 6809196.166975806,...</td>\n",
       "      <td>test</td>\n",
       "    </tr>\n",
       "    <tr>\n",
       "      <th>23</th>\n",
       "      <td>4.238030</td>\n",
       "      <td>3</td>\n",
       "      <td>POLYGON ((587292.0585372676 6809495.257391035,...</td>\n",
       "      <td>test</td>\n",
       "    </tr>\n",
       "  </tbody>\n",
       "</table>\n",
       "</div>"
      ],
      "text/plain": [
       "               Area  Subregion  \\\n",
       "Field_Id                         \n",
       "5          1.322590          3   \n",
       "6          0.955864          3   \n",
       "10        11.509800          3   \n",
       "18         2.697520          3   \n",
       "23         4.238030          3   \n",
       "\n",
       "                                                   geometry dataset  \n",
       "Field_Id                                                             \n",
       "5         POLYGON ((614428.5851635702 6794207.23529591, ...    test  \n",
       "6         POLYGON ((614617.1386412303 6794163.687688111,...    test  \n",
       "10        POLYGON ((614352.4574846183 6794416.783909474,...    test  \n",
       "18        POLYGON ((587079.1386775962 6809196.166975806,...    test  \n",
       "23        POLYGON ((587292.0585372676 6809495.257391035,...    test  "
      ]
     },
     "execution_count": 4,
     "metadata": {},
     "output_type": "execute_result"
    }
   ],
   "source": [
    "shp_test = read_shapefile('test')\n",
    "shp_test['dataset'] = 'test'\n",
    "shp_test.head()"
   ]
  },
  {
   "cell_type": "code",
   "execution_count": 5,
   "metadata": {},
   "outputs": [
    {
     "name": "stdout",
     "output_type": "stream",
     "text": [
      "(3568, 4)\n"
     ]
    },
    {
     "data": {
      "text/html": [
       "<div>\n",
       "<style scoped>\n",
       "    .dataframe tbody tr th:only-of-type {\n",
       "        vertical-align: middle;\n",
       "    }\n",
       "\n",
       "    .dataframe tbody tr th {\n",
       "        vertical-align: top;\n",
       "    }\n",
       "\n",
       "    .dataframe thead th {\n",
       "        text-align: right;\n",
       "    }\n",
       "</style>\n",
       "<table border=\"1\" class=\"dataframe\">\n",
       "  <thead>\n",
       "    <tr style=\"text-align: right;\">\n",
       "      <th></th>\n",
       "      <th>Area</th>\n",
       "      <th>Subregion</th>\n",
       "      <th>geometry</th>\n",
       "      <th>dataset</th>\n",
       "    </tr>\n",
       "    <tr>\n",
       "      <th>Field_Id</th>\n",
       "      <th></th>\n",
       "      <th></th>\n",
       "      <th></th>\n",
       "      <th></th>\n",
       "    </tr>\n",
       "  </thead>\n",
       "  <tbody>\n",
       "    <tr>\n",
       "      <th>1</th>\n",
       "      <td>0.915905</td>\n",
       "      <td>3</td>\n",
       "      <td>POLYGON ((613924.3324000851 6793991.295069702,...</td>\n",
       "      <td>train</td>\n",
       "    </tr>\n",
       "    <tr>\n",
       "      <th>2</th>\n",
       "      <td>2.064410</td>\n",
       "      <td>3</td>\n",
       "      <td>POLYGON ((614404.0717397591 6794020.579634549,...</td>\n",
       "      <td>train</td>\n",
       "    </tr>\n",
       "    <tr>\n",
       "      <th>3</th>\n",
       "      <td>1.080300</td>\n",
       "      <td>3</td>\n",
       "      <td>POLYGON ((614320.2146632321 6793964.242091182,...</td>\n",
       "      <td>train</td>\n",
       "    </tr>\n",
       "    <tr>\n",
       "      <th>4</th>\n",
       "      <td>1.316190</td>\n",
       "      <td>3</td>\n",
       "      <td>POLYGON ((614560.5326844405 6794002.249461887,...</td>\n",
       "      <td>train</td>\n",
       "    </tr>\n",
       "    <tr>\n",
       "      <th>5</th>\n",
       "      <td>1.322590</td>\n",
       "      <td>3</td>\n",
       "      <td>POLYGON ((614428.5851635702 6794207.23529591, ...</td>\n",
       "      <td>test</td>\n",
       "    </tr>\n",
       "    <tr>\n",
       "      <th>6</th>\n",
       "      <td>0.955864</td>\n",
       "      <td>3</td>\n",
       "      <td>POLYGON ((614617.1386412303 6794163.687688111,...</td>\n",
       "      <td>test</td>\n",
       "    </tr>\n",
       "    <tr>\n",
       "      <th>7</th>\n",
       "      <td>5.529220</td>\n",
       "      <td>3</td>\n",
       "      <td>POLYGON ((614596.6564746551 6794269.865436315,...</td>\n",
       "      <td>train</td>\n",
       "    </tr>\n",
       "    <tr>\n",
       "      <th>8</th>\n",
       "      <td>1.482710</td>\n",
       "      <td>3</td>\n",
       "      <td>POLYGON ((614593.073283543 6794503.419871029, ...</td>\n",
       "      <td>train</td>\n",
       "    </tr>\n",
       "    <tr>\n",
       "      <th>9</th>\n",
       "      <td>4.622840</td>\n",
       "      <td>3</td>\n",
       "      <td>POLYGON ((614196.4868975078 6794344.478450645,...</td>\n",
       "      <td>train</td>\n",
       "    </tr>\n",
       "    <tr>\n",
       "      <th>10</th>\n",
       "      <td>11.509800</td>\n",
       "      <td>3</td>\n",
       "      <td>POLYGON ((614352.4574846183 6794416.783909474,...</td>\n",
       "      <td>test</td>\n",
       "    </tr>\n",
       "    <tr>\n",
       "      <th>11</th>\n",
       "      <td>1.018820</td>\n",
       "      <td>3</td>\n",
       "      <td>POLYGON ((614618.2041435272 6794524.489676334,...</td>\n",
       "      <td>train</td>\n",
       "    </tr>\n",
       "    <tr>\n",
       "      <th>12</th>\n",
       "      <td>1.796070</td>\n",
       "      <td>3</td>\n",
       "      <td>POLYGON ((614558.9018551795 6794772.778207108,...</td>\n",
       "      <td>train</td>\n",
       "    </tr>\n",
       "    <tr>\n",
       "      <th>13</th>\n",
       "      <td>1.756900</td>\n",
       "      <td>3</td>\n",
       "      <td>POLYGON ((614345.109727822 6794972.436547477, ...</td>\n",
       "      <td>train</td>\n",
       "    </tr>\n",
       "    <tr>\n",
       "      <th>14</th>\n",
       "      <td>1.192720</td>\n",
       "      <td>3</td>\n",
       "      <td>POLYGON ((612661.25277171 6796841.372569526, 6...</td>\n",
       "      <td>train</td>\n",
       "    </tr>\n",
       "    <tr>\n",
       "      <th>15</th>\n",
       "      <td>0.344734</td>\n",
       "      <td>3</td>\n",
       "      <td>POLYGON ((612729.5638594389 6796915.802940806,...</td>\n",
       "      <td>train</td>\n",
       "    </tr>\n",
       "    <tr>\n",
       "      <th>16</th>\n",
       "      <td>1.815560</td>\n",
       "      <td>3</td>\n",
       "      <td>POLYGON ((614404.0717397591 6794020.579634549,...</td>\n",
       "      <td>train</td>\n",
       "    </tr>\n",
       "    <tr>\n",
       "      <th>17</th>\n",
       "      <td>1.590310</td>\n",
       "      <td>3</td>\n",
       "      <td>POLYGON ((614205.9086751593 6793518.410460552,...</td>\n",
       "      <td>train</td>\n",
       "    </tr>\n",
       "    <tr>\n",
       "      <th>18</th>\n",
       "      <td>2.697520</td>\n",
       "      <td>3</td>\n",
       "      <td>POLYGON ((587079.1386775962 6809196.166975806,...</td>\n",
       "      <td>test</td>\n",
       "    </tr>\n",
       "    <tr>\n",
       "      <th>19</th>\n",
       "      <td>2.588010</td>\n",
       "      <td>3</td>\n",
       "      <td>POLYGON ((587181.5345952258 6809191.44213728, ...</td>\n",
       "      <td>train</td>\n",
       "    </tr>\n",
       "    <tr>\n",
       "      <th>20</th>\n",
       "      <td>2.482770</td>\n",
       "      <td>3</td>\n",
       "      <td>POLYGON ((587110.0128195392 6809288.739615057,...</td>\n",
       "      <td>train</td>\n",
       "    </tr>\n",
       "  </tbody>\n",
       "</table>\n",
       "</div>"
      ],
      "text/plain": [
       "               Area  Subregion  \\\n",
       "Field_Id                         \n",
       "1          0.915905          3   \n",
       "2          2.064410          3   \n",
       "3          1.080300          3   \n",
       "4          1.316190          3   \n",
       "5          1.322590          3   \n",
       "6          0.955864          3   \n",
       "7          5.529220          3   \n",
       "8          1.482710          3   \n",
       "9          4.622840          3   \n",
       "10        11.509800          3   \n",
       "11         1.018820          3   \n",
       "12         1.796070          3   \n",
       "13         1.756900          3   \n",
       "14         1.192720          3   \n",
       "15         0.344734          3   \n",
       "16         1.815560          3   \n",
       "17         1.590310          3   \n",
       "18         2.697520          3   \n",
       "19         2.588010          3   \n",
       "20         2.482770          3   \n",
       "\n",
       "                                                   geometry dataset  \n",
       "Field_Id                                                             \n",
       "1         POLYGON ((613924.3324000851 6793991.295069702,...   train  \n",
       "2         POLYGON ((614404.0717397591 6794020.579634549,...   train  \n",
       "3         POLYGON ((614320.2146632321 6793964.242091182,...   train  \n",
       "4         POLYGON ((614560.5326844405 6794002.249461887,...   train  \n",
       "5         POLYGON ((614428.5851635702 6794207.23529591, ...    test  \n",
       "6         POLYGON ((614617.1386412303 6794163.687688111,...    test  \n",
       "7         POLYGON ((614596.6564746551 6794269.865436315,...   train  \n",
       "8         POLYGON ((614593.073283543 6794503.419871029, ...   train  \n",
       "9         POLYGON ((614196.4868975078 6794344.478450645,...   train  \n",
       "10        POLYGON ((614352.4574846183 6794416.783909474,...    test  \n",
       "11        POLYGON ((614618.2041435272 6794524.489676334,...   train  \n",
       "12        POLYGON ((614558.9018551795 6794772.778207108,...   train  \n",
       "13        POLYGON ((614345.109727822 6794972.436547477, ...   train  \n",
       "14        POLYGON ((612661.25277171 6796841.372569526, 6...   train  \n",
       "15        POLYGON ((612729.5638594389 6796915.802940806,...   train  \n",
       "16        POLYGON ((614404.0717397591 6794020.579634549,...   train  \n",
       "17        POLYGON ((614205.9086751593 6793518.410460552,...   train  \n",
       "18        POLYGON ((587079.1386775962 6809196.166975806,...    test  \n",
       "19        POLYGON ((587181.5345952258 6809191.44213728, ...   train  \n",
       "20        POLYGON ((587110.0128195392 6809288.739615057,...   train  "
      ]
     },
     "execution_count": 5,
     "metadata": {},
     "output_type": "execute_result"
    }
   ],
   "source": [
    "shp_df = pd.concat([shp_train.drop('Crop_Id_Ne', axis=1), shp_test], axis=0).sort_index()\n",
    "\n",
    "shapes = shp_df.geometry\n",
    "print(shp_df.shape)\n",
    "shp_df.head(20)"
   ]
  },
  {
   "cell_type": "code",
   "execution_count": 6,
   "metadata": {},
   "outputs": [],
   "source": [
    "images_data_dir = os.path.join(interim_data_dir, 'images-merged')\n",
    "date = '2017-08-19'\n",
    "\n",
    "PATH = os.path.join(images_data_dir, date)"
   ]
  },
  {
   "cell_type": "code",
   "execution_count": 7,
   "metadata": {},
   "outputs": [
    {
     "name": "stdout",
     "output_type": "stream",
     "text": [
      "total 1015808\n",
      "drwxr-xr-x  16 renier.botha  MOBILE\\Domain Users        512 Jul 17 20:15 \u001b[34m.\u001b[m\u001b[m\n",
      "drwxr-xr-x  13 renier.botha  MOBILE\\Domain Users        416 Jul 17 16:52 \u001b[34m..\u001b[m\u001b[m\n",
      "-rw-r--r--   1 renier.botha  MOBILE\\Domain Users    2071690 Jul 17 16:31 B01.jp2\n",
      "-rw-r--r--   1 renier.botha  MOBILE\\Domain Users   72820239 Jul 17 16:31 B02.jp2\n",
      "-rw-r--r--   1 renier.botha  MOBILE\\Domain Users   72934867 Jul 17 16:32 B03.jp2\n",
      "-rw-r--r--   1 renier.botha  MOBILE\\Domain Users   73099048 Jul 17 16:33 B04.jp2\n",
      "-rw-r--r--   1 renier.botha  MOBILE\\Domain Users   18562557 Jul 17 16:33 B05.jp2\n",
      "-rw-r--r--   1 renier.botha  MOBILE\\Domain Users   18573979 Jul 17 16:33 B06.jp2\n",
      "-rw-r--r--   1 renier.botha  MOBILE\\Domain Users   18585270 Jul 17 16:33 B07.jp2\n",
      "-rw-r--r--   1 renier.botha  MOBILE\\Domain Users   73086578 Jul 17 20:16 B08.jp2\n",
      "-rw-r--r--   1 renier.botha  MOBILE\\Domain Users    2123436 Jul 17 16:33 B09.jp2\n",
      "-rw-r--r--   1 renier.botha  MOBILE\\Domain Users    1645608 Jul 17 16:33 B10.jp2\n",
      "-rw-r--r--   1 renier.botha  MOBILE\\Domain Users   18572896 Jul 17 16:34 B11.jp2\n",
      "-rw-r--r--   1 renier.botha  MOBILE\\Domain Users   18587993 Jul 17 16:34 B12.jp2\n",
      "-rw-r--r--   1 renier.botha  MOBILE\\Domain Users   18596998 Jul 17 16:33 B8A.jp2\n",
      "-rw-r--r--   1 renier.botha  MOBILE\\Domain Users  102442356 Jul 17 16:35 TCI.jp2\n"
     ]
    }
   ],
   "source": [
    "! ls -al $PATH"
   ]
  },
  {
   "cell_type": "markdown",
   "metadata": {},
   "source": [
    "## Analyse Farm Bounding Box Shapes"
   ]
  },
  {
   "cell_type": "code",
   "execution_count": 8,
   "metadata": {},
   "outputs": [],
   "source": [
    "from rasterio import mask\n",
    "\n",
    "def get_mask(shape, raster):\n",
    "    if shape is None:\n",
    "        return None\n",
    "    try:\n",
    "        mask_img, mask_transform = mask.mask(raster, [shape], crop=True)\n",
    "    except ValueError:\n",
    "        return None\n",
    "\n",
    "    if mask_img.ndim == 3:\n",
    "        # remove the first dimension\n",
    "        return mask_img[0, :, :]\n",
    "    elif mask_img.ndim == 2:\n",
    "        return mask_img\n",
    "    else:\n",
    "        raise ValueError('Mask has unexpected shape: {}'.format(mask_img.shape))\n",
    "\n",
    "\n",
    "def mask_raster(shapes, raster, return_missing=False):\n",
    "    \"\"\"\n",
    "    Get masks from raster using polygons in shapefile\n",
    "\n",
    "    :param shapes:\n",
    "    :param raster: Raster data\n",
    "    :param return_missing: Flag to return data for masks\n",
    "                           not found on raster\n",
    "    :return:\n",
    "    \"\"\"\n",
    "\n",
    "    assert type(shapes) == gpd.GeoSeries\n",
    "    assert shapes.name == 'geometry'\n",
    "\n",
    "    masks = {}\n",
    "    for id, shape in shapes.items():\n",
    "        mask = get_mask(shape, raster)\n",
    "\n",
    "        if mask is None:\n",
    "            if return_missing:\n",
    "                masks[id] = np.ones(shape=(10, 10)) * -1\n",
    "            else:\n",
    "                continue\n",
    "        else:\n",
    "            assert mask.ndim == 2, 'Farm {} masking error'.format(id)\n",
    "\n",
    "            masks[id] = mask\n",
    "\n",
    "    return masks"
   ]
  },
  {
   "cell_type": "code",
   "execution_count": 9,
   "metadata": {},
   "outputs": [],
   "source": [
    "res_groups = {\n",
    "    \"60\": [\"B01\", \"B09\", \"B10\"],\n",
    "    \"20\": [\"B05\", \"B06\", \"B07\", \"B8A\", \"B11\", \"B12\"],\n",
    "    \"10\": [\"B02\", \"B03\", \"B04\", \"B08\"],\n",
    "}"
   ]
  },
  {
   "cell_type": "code",
   "execution_count": 10,
   "metadata": {},
   "outputs": [],
   "source": [
    "\n",
    "def get_masks(band):\n",
    "\n",
    "    fp = os.path.join(PATH, f'{band}.jp2')\n",
    "\n",
    "    with rasterio.open(fp) as raster:\n",
    "\n",
    "        print('Number of bands:',raster.count)\n",
    "        print('Raster dimensions: {} x {}'.format(raster.height, raster.width))\n",
    "\n",
    "        print('Masking raster...',end='')\n",
    "        farm_masks = mask_raster(shapes, raster, return_missing=False)\n",
    "        print('done')\n",
    "\n",
    "        # Are all keys present in masks\n",
    "        all_farms_found = all(list(farm_masks.keys()) == shp_df.index)\n",
    "        print('Were all farms found in raster?')\n",
    "        print(all_farms_found)\n",
    "    \n",
    "    return farm_masks\n",
    "\n",
    "\n",
    "def get_farm_shapes(farm_masks):\n",
    "    \n",
    "    # Get the bounding box shapes of the farms\n",
    "    farm_bb_shapes = {id: mask.shape for id, mask in farm_masks.items()}\n",
    "    farm_widths = [s[1] for s in farm_bb_shapes.values()]\n",
    "    farm_heights = [s[0] for s in farm_bb_shapes.values()]\n",
    "    \n",
    "    return farm_widths, farm_heights\n",
    "\n",
    "\n",
    "def plot_farm_shapes(widths, heights, res_group):\n",
    "\n",
    "    w_plot = pd.Series(widths).plot.hist(bins=100, title=f'{res_group}m Sizes Distribution', label='width', figsize=(12,8))\n",
    "    h_plot = pd.Series(heights).plot.hist(bins=100, title=f'{res_group}m Sizes Distribution', label='height', figsize=(12,8))\n",
    "    plt.legend()\n",
    "    display(w_plot);\n",
    "    display(h_plot);\n",
    "    \n",
    "    \n",
    "    \n",
    "def analyse_shapes(band):\n",
    "    \n",
    "    print('Analysing shapes for band: ',band)\n",
    "    [res_group] = [grp for grp, bands in res_groups.items() if band in bands]\n",
    "    \n",
    "    print('Resolution: {}m'.format(res_group))\n",
    "    \n",
    "    masks = get_masks(band)\n",
    "    \n",
    "    print('Found {} masks'.format(len(masks)))\n",
    "    \n",
    "    widths, heights = get_farm_shapes(masks)\n",
    "    \n",
    "    plot_farm_shapes(widths, heights, res_group);"
   ]
  },
  {
   "cell_type": "markdown",
   "metadata": {},
   "source": [
    "### 10m Resolution"
   ]
  },
  {
   "cell_type": "code",
   "execution_count": 11,
   "metadata": {},
   "outputs": [
    {
     "name": "stdout",
     "output_type": "stream",
     "text": [
      "Analysing shapes for band:  B02\n",
      "Resolution: 10m\n",
      "Number of bands: 1\n",
      "Raster dimensions: 10980 x 20982\n",
      "Masking raster...done\n",
      "Were all farms found in raster?\n",
      "True\n",
      "Found 3568 masks\n"
     ]
    },
    {
     "data": {
      "text/plain": [
       "<matplotlib.axes._subplots.AxesSubplot at 0x101c8f1d0>"
      ]
     },
     "metadata": {},
     "output_type": "display_data"
    },
    {
     "data": {
      "text/plain": [
       "<matplotlib.axes._subplots.AxesSubplot at 0x101c8f1d0>"
      ]
     },
     "metadata": {},
     "output_type": "display_data"
    },
    {
     "data": {
      "image/png": "[encoded data removed]",
      "text/plain": [
       "<Figure size 864x576 with 1 Axes>"
      ]
     },
     "metadata": {
      "needs_background": "light"
     },
     "output_type": "display_data"
    }
   ],
   "source": [
    "band = 'B02'\n",
    "analyse_shapes(band)"
   ]
  },
  {
   "cell_type": "markdown",
   "metadata": {},
   "source": [
    "### 20m resolution"
   ]
  },
  {
   "cell_type": "code",
   "execution_count": 13,
   "metadata": {},
   "outputs": [
    {
     "name": "stdout",
     "output_type": "stream",
     "text": [
      "Analysing shapes for band:  B8A\n",
      "Resolution: 20m\n",
      "Number of bands: 1\n",
      "Raster dimensions: 5490 x 10491\n",
      "Masking raster...done\n",
      "Were all farms found in raster?\n",
      "True\n",
      "Found 3568 masks\n"
     ]
    },
    {
     "data": {
      "text/plain": [
       "<matplotlib.axes._subplots.AxesSubplot at 0x121087128>"
      ]
     },
     "metadata": {},
     "output_type": "display_data"
    },
    {
     "data": {
      "text/plain": [
       "<matplotlib.axes._subplots.AxesSubplot at 0x121087128>"
      ]
     },
     "metadata": {},
     "output_type": "display_data"
    },
    {
     "data": {
      "image/png": "[encoded data removed]",
      "text/plain": [
       "<Figure size 864x576 with 1 Axes>"
      ]
     },
     "metadata": {
      "needs_background": "light"
     },
     "output_type": "display_data"
    }
   ],
   "source": [
    "band = 'B8A'\n",
    "analyse_shapes(band)"
   ]
  },
  {
   "cell_type": "code",
   "execution_count": 14,
   "metadata": {},
   "outputs": [
    {
     "name": "stdout",
     "output_type": "stream",
     "text": [
      "Analysing shapes for band:  B01\n",
      "Resolution: 60m\n",
      "Number of bands: 1\n",
      "Raster dimensions: 1830 x 3497\n",
      "Masking raster...done\n",
      "Were all farms found in raster?\n",
      "True\n",
      "Found 3568 masks\n"
     ]
    },
    {
     "data": {
      "text/plain": [
       "<matplotlib.axes._subplots.AxesSubplot at 0x120d40d68>"
      ]
     },
     "metadata": {},
     "output_type": "display_data"
    },
    {
     "data": {
      "text/plain": [
       "<matplotlib.axes._subplots.AxesSubplot at 0x120d40d68>"
      ]
     },
     "metadata": {},
     "output_type": "display_data"
    },
    {
     "data": {
      "image/png": "[encoded data removed]",
      "text/plain": [
       "<Figure size 864x576 with 1 Axes>"
      ]
     },
     "metadata": {
      "needs_background": "light"
     },
     "output_type": "display_data"
    }
   ],
   "source": [
    "analyse_shapes('B01')"
   ]
  },
  {
   "cell_type": "code",
   "execution_count": 16,
   "metadata": {},
   "outputs": [
    {
     "name": "stdout",
     "output_type": "stream",
     "text": [
      "Number of bands: 1\n",
      "Raster dimensions: 1830 x 3497\n",
      "Masking raster...done\n",
      "Were all farms found in raster?\n",
      "True\n"
     ]
    }
   ],
   "source": [
    "farm_masks = get_masks('B01')\n",
    "farm_shapes = get_farm_shapes(farm_masks)"
   ]
  }
 ],
 "metadata": {
  "kernelspec": {
   "display_name": "Python 3",
   "language": "python",
   "name": "python3"
  },
  "language_info": {
   "codemirror_mode": {
    "name": "ipython",
    "version": 3
   },
   "file_extension": ".py",
   "mimetype": "text/x-python",
   "name": "python",
   "nbconvert_exporter": "python",
   "pygments_lexer": "ipython3",
   "version": "3.7.3"
  }
 },
 "nbformat": 4,
 "nbformat_minor": 4
}
