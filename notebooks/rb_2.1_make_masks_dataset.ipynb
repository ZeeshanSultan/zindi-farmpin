{
 "cells": [
  {
   "cell_type": "code",
   "execution_count": 1,
   "metadata": {},
   "outputs": [],
   "source": [
    "%load_ext autoreload\n",
    "%autoreload 2\n",
    "%matplotlib inline"
   ]
  },
  {
   "cell_type": "markdown",
   "metadata": {},
   "source": [
    "# Create dataset of masked rasters\n",
    "\n",
    "**Input:** \n",
    "\n",
    "Raw data \n",
    "* .SAFE JP2 \n",
    "* .shp  files\n",
    "\n",
    "**Output:**\n",
    "\n",
    "Two types of masks:\n",
    "\n",
    "1. Original data - just the farm, sliced out from the spectral bands\n",
    "2. Original masks zero-padded to be the same size as the largest farm\n",
    "\n",
    "Output Directory:\n",
    "\n",
    "`data/interim/masks/{train/test}/{date}/{farm_id}/{band}.npy`\n",
    "\n",
    "## Overview\n",
    "\n",
    "Very similar to making baseline dataset, except that now the process stops at masking and the masked farms are output as `.npy` files.\n",
    "\n",
    "In this notebook, we will write a prototype to load the data from one band in one timestamp and create masks for all the farms in the training set.\n"
   ]
  },
  {
   "cell_type": "code",
   "execution_count": 2,
   "metadata": {},
   "outputs": [],
   "source": [
    "import os\n",
    "import rasterio\n",
    "import pandas as pd\n",
    "import numpy as np\n",
    "import matplotlib.pyplot as plt\n",
    "\n",
    "from glob import glob\n",
    "\n",
    "import sys\n",
    "sys.path.append('../')\n",
    "from config import interim_data_dir, raw_data_dir\n",
    "\n",
    "from src.utils import get_img_bands, get_safe_dirs, date_from_safedir, band_from_imgpath, read_shapefile, mask_raster"
   ]
  },
  {
   "cell_type": "code",
   "execution_count": 3,
   "metadata": {},
   "outputs": [
    {
     "name": "stdout",
     "output_type": "stream",
     "text": [
      "Creating train feature dataset\n",
      "Reading shapefile...\n"
     ]
    },
    {
     "data": {
      "text/html": [
       "<div>\n",
       "<style scoped>\n",
       "    .dataframe tbody tr th:only-of-type {\n",
       "        vertical-align: middle;\n",
       "    }\n",
       "\n",
       "    .dataframe tbody tr th {\n",
       "        vertical-align: top;\n",
       "    }\n",
       "\n",
       "    .dataframe thead th {\n",
       "        text-align: right;\n",
       "    }\n",
       "</style>\n",
       "<table border=\"1\" class=\"dataframe\">\n",
       "  <thead>\n",
       "    <tr style=\"text-align: right;\">\n",
       "      <th></th>\n",
       "      <th>Area</th>\n",
       "      <th>Subregion</th>\n",
       "      <th>Crop_Id_Ne</th>\n",
       "      <th>geometry</th>\n",
       "    </tr>\n",
       "    <tr>\n",
       "      <th>Field_Id</th>\n",
       "      <th></th>\n",
       "      <th></th>\n",
       "      <th></th>\n",
       "      <th></th>\n",
       "    </tr>\n",
       "  </thead>\n",
       "  <tbody>\n",
       "    <tr>\n",
       "      <th>1</th>\n",
       "      <td>0.915905</td>\n",
       "      <td>3</td>\n",
       "      <td>8</td>\n",
       "      <td>POLYGON ((613924.3324000851 6793991.295069702,...</td>\n",
       "    </tr>\n",
       "    <tr>\n",
       "      <th>2</th>\n",
       "      <td>2.064410</td>\n",
       "      <td>3</td>\n",
       "      <td>6</td>\n",
       "      <td>POLYGON ((614404.0717397591 6794020.579634549,...</td>\n",
       "    </tr>\n",
       "    <tr>\n",
       "      <th>3</th>\n",
       "      <td>1.080300</td>\n",
       "      <td>3</td>\n",
       "      <td>8</td>\n",
       "      <td>POLYGON ((614320.2146632321 6793964.242091182,...</td>\n",
       "    </tr>\n",
       "    <tr>\n",
       "      <th>4</th>\n",
       "      <td>1.316190</td>\n",
       "      <td>3</td>\n",
       "      <td>8</td>\n",
       "      <td>POLYGON ((614560.5326844405 6794002.249461887,...</td>\n",
       "    </tr>\n",
       "    <tr>\n",
       "      <th>7</th>\n",
       "      <td>5.529220</td>\n",
       "      <td>3</td>\n",
       "      <td>8</td>\n",
       "      <td>POLYGON ((614596.6564746551 6794269.865436315,...</td>\n",
       "    </tr>\n",
       "  </tbody>\n",
       "</table>\n",
       "</div>"
      ],
      "text/plain": [
       "              Area  Subregion Crop_Id_Ne  \\\n",
       "Field_Id                                   \n",
       "1         0.915905          3          8   \n",
       "2         2.064410          3          6   \n",
       "3         1.080300          3          8   \n",
       "4         1.316190          3          8   \n",
       "7         5.529220          3          8   \n",
       "\n",
       "                                                   geometry  \n",
       "Field_Id                                                     \n",
       "1         POLYGON ((613924.3324000851 6793991.295069702,...  \n",
       "2         POLYGON ((614404.0717397591 6794020.579634549,...  \n",
       "3         POLYGON ((614320.2146632321 6793964.242091182,...  \n",
       "4         POLYGON ((614560.5326844405 6794002.249461887,...  \n",
       "7         POLYGON ((614596.6564746551 6794269.865436315,...  "
      ]
     },
     "execution_count": 3,
     "metadata": {},
     "output_type": "execute_result"
    }
   ],
   "source": [
    "dataset = 'train'\n",
    "\n",
    "#  Setup directories\n",
    "masks_dir = os.path.join(interim_data_dir, 'masks')\n",
    "\n",
    "# train / test dir under masks\n",
    "dataset_dir = os.path.join(masks_dir, dataset)\n",
    "\n",
    "print('Creating {} feature dataset'.format(dataset))\n",
    "\n",
    "print('Reading shapefile...')\n",
    "shp_df = read_shapefile(dataset)\n",
    "\n",
    "shp_df.head()"
   ]
  },
  {
   "cell_type": "markdown",
   "metadata": {},
   "source": [
    "### Read Image bands for one SAFE dump"
   ]
  },
  {
   "cell_type": "code",
   "execution_count": 4,
   "metadata": {},
   "outputs": [
    {
     "name": "stdout",
     "output_type": "stream",
     "text": [
      "Reading image bands...\n",
      "Found 14 image bands to process\n"
     ]
    }
   ],
   "source": [
    "safe_dirs = get_safe_dirs()\n",
    "\n",
    "# Choose the first SAFE file\n",
    "safe_dir = safe_dirs[0]\n",
    "\n",
    "# Get the date of the data dump\n",
    "date = date_from_safedir(safe_dir)\n",
    "\n",
    "out_dir = os.path.join(dataset_dir, date)\n",
    "\n",
    "print('Reading image bands...')\n",
    "img_band_fpaths = get_img_bands(safe_dir)\n",
    "print(f'Found {len(img_band_fpaths)} image bands to process')"
   ]
  },
  {
   "cell_type": "markdown",
   "metadata": {},
   "source": [
    "### Select one spectral band"
   ]
  },
  {
   "cell_type": "code",
   "execution_count": 5,
   "metadata": {},
   "outputs": [
    {
     "name": "stdout",
     "output_type": "stream",
     "text": [
      "Processing band  B08\n",
      "Masking raster...\n"
     ]
    }
   ],
   "source": [
    "img_fpath = img_band_fpaths[0]\n",
    "\n",
    "band = band_from_imgpath(img_fpath)\n",
    "\n",
    "# Getting masks for all farms in training set\n",
    "print('Processing band ', band)\n",
    "with rasterio.open(img_fpath) as raster:\n",
    "    print('Masking raster...')\n",
    "    masks = mask_raster(shp_df.geometry, raster, return_missing=dataset == 'test')"
   ]
  },
  {
   "cell_type": "markdown",
   "metadata": {},
   "source": [
    "### Select one farm to prototype zero padding"
   ]
  },
  {
   "cell_type": "code",
   "execution_count": 6,
   "metadata": {},
   "outputs": [
    {
     "name": "stdout",
     "output_type": "stream",
     "text": [
      "Largest dims: (90, 83)\n"
     ]
    }
   ],
   "source": [
    "import gc\n",
    "import operator\n",
    "def get_largest_dims(masks_dict):\n",
    "    \"\"\"\n",
    "    Get the largest width and height from all farms\n",
    "    TODO: Make this better\n",
    "    \"\"\"\n",
    "     # First find the largest farm\n",
    "    dims = [mask.shape for mask in masks.values()]\n",
    "\n",
    "    max_width = max([sh[0] for sh in dims])\n",
    "    max_height = max([sh[-1] for sh in dims])\n",
    "    \n",
    "    del dims\n",
    "    gc.collect()\n",
    "    \n",
    "    return max_width, max_height\n",
    "\n",
    "max_width, max_height = get_largest_dims(masks)\n",
    "print(f'Largest dims: {max_width, max_height}')"
   ]
  },
  {
   "cell_type": "markdown",
   "metadata": {},
   "source": [
    "Just make the max dims (100, 100)"
   ]
  },
  {
   "cell_type": "code",
   "execution_count": 7,
   "metadata": {},
   "outputs": [],
   "source": [
    "max_dims=(100,100)"
   ]
  },
  {
   "cell_type": "code",
   "execution_count": 8,
   "metadata": {},
   "outputs": [
    {
     "name": "stderr",
     "output_type": "stream",
     "text": [
      "/Users/renier.botha/anaconda3/envs/farm-pin/lib/python3.7/site-packages/ipykernel_launcher.py:35: RuntimeWarning: divide by zero encountered in log10\n",
      "/Users/renier.botha/anaconda3/envs/farm-pin/lib/python3.7/site-packages/ipykernel_launcher.py:40: RuntimeWarning: divide by zero encountered in log10\n",
      "/Users/renier.botha/anaconda3/envs/farm-pin/lib/python3.7/site-packages/ipykernel_launcher.py:47: RuntimeWarning: divide by zero encountered in log10\n",
      "/Users/renier.botha/anaconda3/envs/farm-pin/lib/python3.7/site-packages/ipykernel_launcher.py:53: RuntimeWarning: divide by zero encountered in log10\n"
     ]
    },
    {
     "data": {
      "image/png": "[encoded data removed]",
      "text/plain": [
       "<Figure size 1080x720 with 4 Axes>"
      ]
     },
     "metadata": {
      "needs_background": "light"
     },
     "output_type": "display_data"
    }
   ],
   "source": [
    "import cv2\n",
    "\n",
    "def zeropad_img(img, shape):\n",
    "    \n",
    "#     print(img.shape, shape)\n",
    "\n",
    "    # Size of border\n",
    "    v_border = int(np.ceil((shape[0] - img.shape[0])/2))\n",
    "    h_border = int(np.ceil((shape[1] - img.shape[1])/2))\n",
    "    \n",
    "#     print(v_border, h_border)\n",
    "    \n",
    "    v_diff = shape[0] - (img.shape[0] + 2*v_border)\n",
    "    h_diff = shape[1] - (img.shape[1] + 2*h_border)\n",
    "    \n",
    "    new_img = cv2.copyMakeBorder(\n",
    "        img, \n",
    "        top=v_border, bottom=v_border+v_diff, \n",
    "        left=h_border, right=h_border+h_diff,\n",
    "        borderType=cv2.BORDER_CONSTANT, value=0\n",
    "    )\n",
    "    \n",
    "#     print(new_img.shape)\n",
    "    \n",
    "    assert new_img.shape == (100, 100), 'zero padding issue'\n",
    "    \n",
    "    return new_img\n",
    "\n",
    "np.random.seed(420)\n",
    "fig, axes = plt.subplots(2, 2, figsize=(15,10))\n",
    "\n",
    "# Plot farm with largest width\n",
    "large_farm = [mask for mask in masks.values() if mask.shape[0] > 80][0]\n",
    "ax=axes[0][0]\n",
    "ax.imshow(np.log10(large_farm), cmap='gray')\n",
    "ax.set_title('Large farm')\n",
    "\n",
    "# Zero pad the large farm\n",
    "ax=axes[0][1]\n",
    "ax.imshow(np.log10(zeropad_img(large_farm, shape=max_dims)), cmap='gray')\n",
    "ax.set_title('Zero-padded large farm')\n",
    "\n",
    "# Pick a random farm to process\n",
    "random_farm = np.random.choice(list(masks.keys()))\n",
    "mask = masks[random_farm]\n",
    "ax=axes[1][0]\n",
    "ax.imshow(np.log10(mask), cmap='gray')\n",
    "ax.set_title('Randomly selected farm')\n",
    "\n",
    "# Zero pad random farm and show\n",
    "zp_image = zeropad_img(mask, shape=max_dims)\n",
    "ax = axes[1][1]\n",
    "ax.imshow(np.log10(zp_image), cmap='gray')\n",
    "ax.set_title('Zero-padded farm')\n",
    "plt.show()"
   ]
  },
  {
   "cell_type": "markdown",
   "metadata": {},
   "source": [
    "## Repeat zero pad for all images in one band"
   ]
  },
  {
   "cell_type": "code",
   "execution_count": 9,
   "metadata": {},
   "outputs": [
    {
     "name": "stderr",
     "output_type": "stream",
     "text": [
      "bands: 100%|██████████| 14/14 [00:54<00:00,  3.72s/it]\n"
     ]
    }
   ],
   "source": [
    "from tqdm import tqdm\n",
    "\n",
    "max_dims=(100,100)\n",
    "\n",
    "for img_fpath in tqdm(img_band_fpaths, desc='bands'):\n",
    "    \n",
    "    band = band_from_imgpath(img_fpath)\n",
    "\n",
    "    with rasterio.open(img_fpath) as raster:\n",
    "        masks = mask_raster(shp_df.geometry, raster, return_missing=dataset == 'test')\n",
    "\n",
    "        # Create zeropadded masks\n",
    "        zp_masks = {id: zeropad_img(mask, shape=max_dims) for id, mask in masks.items()}\n",
    "\n",
    "    # Save masks for each farm\n",
    "    for farm_id in masks.keys():\n",
    "        mask = masks[farm_id]\n",
    "        zp_mask = zp_masks[farm_id]\n",
    "        \n",
    "        farm_dir = os.path.join(out_dir, str(farm_id))\n",
    "#         safe_create_dir(farm_dir)\n",
    "\n",
    "        mask_fname = os.path.join(farm_dir, f'{band}.npy')\n",
    "        zp_mask_fname = os.path.join(farm_dir, f'{band}_zp.npy')\n",
    "\n",
    "        np.save(mask_fname, mask)\n",
    "        np.save(zp_mask_fname, zp_mask)\n",
    "\n",
    "    del masks\n",
    "    del zp_masks\n",
    "    gc.collect()"
   ]
  },
  {
   "cell_type": "code",
   "execution_count": null,
   "metadata": {},
   "outputs": [],
   "source": [
    "import cv2\n",
    "\n",
    "def zeropad_img(img, shape):\n",
    "\n",
    "    # Size of border\n",
    "    v_border = int(np.ceil((shape[0] - img.shape[0])/2))\n",
    "    h_border = int(np.ceil((shape[1] - img.shape[1])/2))\n",
    "    \n",
    "    v_diff = shape[0] - (img.shape[0] + 2*v_border)\n",
    "    h_diff = shape[1] - (img.shape[1] + 2*h_border)\n",
    "    \n",
    "    new_img = cv2.copyMakeBorder(\n",
    "        img, \n",
    "        top=v_border, bottom=v_border, \n",
    "        left=h_border, right=h_border,\n",
    "        borderType=cv2.BORDER_CONSTANT, value=0\n",
    "    )\n",
    "    \n",
    "    \n",
    "    \n",
    "    assert new_img.shape == (100, 100), 'zero padding issue'\n",
    "    \n",
    "    return new_img\n",
    "\n",
    "np.random.seed(420)\n",
    "fig, axes = plt.subplots(2, 2, figsize=(15,10))\n",
    "\n",
    "# Plot farm with largest width\n",
    "large_farm = [mask for mask in masks.values() if mask.shape[0] > 80][0]\n",
    "ax=axes[0][0]\n",
    "ax.imshow(np.log10(large_farm), cmap='gray')\n",
    "ax.set_title('Large farm')\n",
    "\n",
    "# Zero pad the large farm\n",
    "ax=axes[0][1]\n",
    "ax.imshow(np.log10(zeropad_img(large_farm, shape=max_dims)), cmap='gray')\n",
    "ax.set_title('Zero-padded large farm')\n",
    "\n",
    "# Pick a random farm to process\n",
    "random_farm = np.random.choice(list(masks.keys()))\n",
    "mask = masks[random_farm]\n",
    "ax=axes[1][0]\n",
    "ax.imshow(np.log10(mask), cmap='gray')\n",
    "ax.set_title('Randomly selected farm')\n",
    "\n",
    "# Zero pad random farm and show\n",
    "zp_image = zeropad_img(mask, shape=max_dims)\n",
    "ax = axes[1][1]\n",
    "ax.imshow(np.log10(zp_image), cmap='gray')\n",
    "ax.set_title('Zero-padded farm')\n",
    "plt.show()"
   ]
  },
  {
   "cell_type": "code",
   "execution_count": null,
   "metadata": {},
   "outputs": [],
   "source": []
  },
  {
   "cell_type": "code",
   "execution_count": null,
   "metadata": {},
   "outputs": [],
   "source": []
  },
  {
   "cell_type": "markdown",
   "metadata": {},
   "source": [
    "## Check dirs by date\n",
    "\n",
    "Check that each date has two directories (JEP and JFP)"
   ]
  },
  {
   "cell_type": "code",
   "execution_count": 17,
   "metadata": {},
   "outputs": [
    {
     "data": {
      "text/plain": [
       "{'2017-07-10': ['/Users/renier.botha/dev/personal/ds/zindi/farm-pin/data/raw/S2A_MSIL1C_20170710T082011_N0205_R121_T34JEP_20170710T084244.SAFE',\n",
       "  '/Users/renier.botha/dev/personal/ds/zindi/farm-pin/data/raw/S2A_MSIL1C_20170710T082011_N0205_R121_T34JFP_20170710T084244.SAFE'],\n",
       " '2017-01-31': ['/Users/renier.botha/dev/personal/ds/zindi/farm-pin/data/raw/S2A_MSIL1C_20170131T082151_N0204_R121_T34JEP_20170131T084118.SAFE',\n",
       "  '/Users/renier.botha/dev/personal/ds/zindi/farm-pin/data/raw/S2A_MSIL1C_20170131T082151_N0204_R121_T34JFP_20170131T084118.SAFE'],\n",
       " '2017-01-01': ['/Users/renier.botha/dev/personal/ds/zindi/farm-pin/data/raw/S2A_MSIL1C_20170101T082332_N0204_R121_T34JFP_20170101T084543.SAFE',\n",
       "  '/Users/renier.botha/dev/personal/ds/zindi/farm-pin/data/raw/S2A_MSIL1C_20170101T082332_N0204_R121_T34JEP_20170101T084543.SAFE'],\n",
       " '2017-06-20': ['/Users/renier.botha/dev/personal/ds/zindi/farm-pin/data/raw/S2A_MSIL1C_20170620T082011_N0205_R121_T34JEP_20170620T084200.SAFE',\n",
       "  '/Users/renier.botha/dev/personal/ds/zindi/farm-pin/data/raw/S2A_MSIL1C_20170620T082011_N0205_R121_T34JFP_20170620T084200.SAFE'],\n",
       " '2017-05-31': ['/Users/renier.botha/dev/personal/ds/zindi/farm-pin/data/raw/S2A_MSIL1C_20170531T082011_N0205_R121_T34JEP_20170531T084246.SAFE',\n",
       "  '/Users/renier.botha/dev/personal/ds/zindi/farm-pin/data/raw/S2A_MSIL1C_20170531T082011_N0205_R121_T34JFP_20170531T084246.SAFE'],\n",
       " '2017-03-22': ['/Users/renier.botha/dev/personal/ds/zindi/farm-pin/data/raw/S2A_MSIL1C_20170322T081611_N0204_R121_T34JFP_20170322T084728.SAFE',\n",
       "  '/Users/renier.botha/dev/personal/ds/zindi/farm-pin/data/raw/S2A_MSIL1C_20170322T081611_N0204_R121_T34JEP_20170322T084728.SAFE'],\n",
       " '2017-07-15': ['/Users/renier.botha/dev/personal/ds/zindi/farm-pin/data/raw/S2B_MSIL1C_20170715T081609_N0205_R121_T34JEP_20170715T084650.SAFE',\n",
       "  '/Users/renier.botha/dev/personal/ds/zindi/farm-pin/data/raw/S2B_MSIL1C_20170715T081609_N0205_R121_T34JFP_20170715T084650.SAFE'],\n",
       " '2017-08-04': ['/Users/renier.botha/dev/personal/ds/zindi/farm-pin/data/raw/S2B_MSIL1C_20170804T081559_N0205_R121_T34JEP_20170804T084631.SAFE',\n",
       "  '/Users/renier.botha/dev/personal/ds/zindi/farm-pin/data/raw/S2B_MSIL1C_20170804T081559_N0205_R121_T34JFP_20170804T084631.SAFE'],\n",
       " '2017-08-19': ['/Users/renier.botha/dev/personal/ds/zindi/farm-pin/data/raw/S2A_MSIL1C_20170819T082011_N0205_R121_T34JEP_20170819T084427.SAFE',\n",
       "  '/Users/renier.botha/dev/personal/ds/zindi/farm-pin/data/raw/S2A_MSIL1C_20170819T082011_N0205_R121_T34JFP_20170819T084427.SAFE'],\n",
       " '2017-02-10': ['/Users/renier.botha/dev/personal/ds/zindi/farm-pin/data/raw/S2A_MSIL1C_20170210T082051_N0204_R121_T34JEP_20170210T083752.SAFE',\n",
       "  '/Users/renier.botha/dev/personal/ds/zindi/farm-pin/data/raw/S2A_MSIL1C_20170210T082051_N0204_R121_T34JFP_20170210T083752.SAFE'],\n",
       " '2017-03-12': ['/Users/renier.botha/dev/personal/ds/zindi/farm-pin/data/raw/S2A_MSIL1C_20170312T082001_N0204_R121_T34JEP_20170312T084235.SAFE',\n",
       "  '/Users/renier.botha/dev/personal/ds/zindi/farm-pin/data/raw/S2A_MSIL1C_20170312T082001_N0204_R121_T34JFP_20170312T084235.SAFE']}"
      ]
     },
     "execution_count": 17,
     "metadata": {},
     "output_type": "execute_result"
    }
   ],
   "source": [
    "dirs_by_date={}\n",
    "for dir in safe_dirs:\n",
    "    date = date_from_safedir(dir)\n",
    "    if date not in dirs_by_date:\n",
    "        dirs_by_date[date] = [dir]\n",
    "    else:\n",
    "        dirs_by_date[date].append(dir)\n",
    "        \n",
    "dirs_by_date"
   ]
  }
 ],
 "metadata": {
  "kernelspec": {
   "display_name": "Python 3",
   "language": "python",
   "name": "python3"
  },
  "language_info": {
   "codemirror_mode": {
    "name": "ipython",
    "version": 3
   },
   "file_extension": ".py",
   "mimetype": "text/x-python",
   "name": "python",
   "nbconvert_exporter": "python",
   "pygments_lexer": "ipython3",
   "version": "3.7.2"
  }
 },
 "nbformat": 4,
 "nbformat_minor": 2
}
