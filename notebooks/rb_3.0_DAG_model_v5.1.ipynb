{
 "cells": [
  {
   "cell_type": "code",
   "execution_count": 97,
   "metadata": {},
   "outputs": [
    {
     "name": "stdout",
     "output_type": "stream",
     "text": [
      "The autoreload extension is already loaded. To reload it, use:\n",
      "  %reload_ext autoreload\n"
     ]
    }
   ],
   "source": [
    "%matplotlib inline\n",
    "%load_ext autoreload\n",
    "%autoreload 2\n",
    "\n",
    "import warnings\n",
    "warnings.simplefilter('ignore')"
   ]
  },
  {
   "cell_type": "markdown",
   "metadata": {},
   "source": [
    "# GRU + Meta data DAG model\n",
    "\n",
    "Combining a GRU and a simple DNN on meta data into a single DAG\n"
   ]
  },
  {
   "cell_type": "code",
   "execution_count": 98,
   "metadata": {},
   "outputs": [],
   "source": [
    "import numpy as np\n",
    "import pandas as pd\n",
    "\n",
    "import sys\n",
    "sys.path.append('../')\n",
    "\n",
    "from tqdm import tqdm\n",
    "from config import interim_data_dir, raw_data_dir\n",
    "\n",
    "from src.utils import read_shapefile"
   ]
  },
  {
   "cell_type": "markdown",
   "metadata": {},
   "source": [
    "## Load Datasets"
   ]
  },
  {
   "cell_type": "code",
   "execution_count": 99,
   "metadata": {},
   "outputs": [],
   "source": [
    "import numpy as np\n",
    "import pandas as pd\n",
    "\n",
    "from tqdm import tqdm\n",
    "from config import interim_data_dir, raw_data_dir\n",
    "\n",
    "from src.utils import read_shapefile\n",
    "\n",
    "from config import processed_data_dir\n",
    "\n",
    "\n",
    "# Sequential Data\n",
    "dataset_version = 'v5.1'\n",
    "\n",
    "train_features_df = pd.read_csv(processed_data_dir/'VI_datasets'/dataset_version/'train.csv', index_col=0)\n",
    "test_features_df = pd.read_csv(processed_data_dir/'VI_datasets'/dataset_version/'test.csv', index_col=0)\n",
    "class_weight = 1-train_features_df.y.value_counts(normalize=True)\n",
    "\n",
    "\n",
    "\n",
    "# Meta data\n",
    "metadata_version = 'v1'\n",
    "train_meta_df = pd.read_csv(processed_data_dir / 'meta_data' / metadata_version / \"train.csv\")\n",
    "test_meta_df = pd.read_csv(processed_data_dir / 'meta_data' / metadata_version / \"test.csv\")"
   ]
  },
  {
   "cell_type": "markdown",
   "metadata": {},
   "source": [
    "## Process Data\n",
    "\n",
    "### Sequential Data"
   ]
  },
  {
   "cell_type": "code",
   "execution_count": 100,
   "metadata": {},
   "outputs": [
    {
     "name": "stdout",
     "output_type": "stream",
     "text": [
      "Sequential Datasets:\n",
      "Train data:\t\t (2494, 11, 110)\n",
      "Test data:\t\t (1074, 11, 110)\n"
     ]
    }
   ],
   "source": [
    "from sklearn.preprocessing import MinMaxScaler, StandardScaler\n",
    "\n",
    "def impute_nan_inf(df):\n",
    "    \"\"\"\n",
    "    Impute bad values (nan and inf) using\n",
    "    the median of that feature on that time stamp\n",
    "    for all farms\n",
    "    \n",
    "    TODO: This can be improved\n",
    "    \"\"\"\n",
    "    \n",
    "    # replace all nans variants with np.nan\n",
    "    df = df.replace([np.nan, None, np.inf, -np.inf], np.nan)\n",
    "\n",
    "    # replace all nans with the median value of all farms on that timestamp\n",
    "    for ts, ts_df in df.groupby('time'):\n",
    "        df.loc[ts_df.index] = ts_df.fillna(ts_df.median())\n",
    "        \n",
    "    return df\n",
    "\n",
    "\n",
    "def transform_dataset(features_df):\n",
    "    \"\"\"\n",
    "    Create a data array in the shape (n_ids, n_time, n_features)\n",
    "    \n",
    "    If it is the training set, also return dictionary mapping index\n",
    "    in dataset to correct label.\n",
    "    \n",
    "    \"\"\"\n",
    "    \n",
    "    n_ids = features_df.farm_id.nunique()\n",
    "\n",
    "    feature_cols = [col for col in features_df.columns if col not in ['farm_id','y','time']]\n",
    "    \n",
    "    n_features = len(feature_cols)\n",
    "\n",
    "    data = np.ndarray((n_ids, 11, n_features))\n",
    "    \n",
    "    classes = {}\n",
    "    for i, (farm_id, farm_df) in enumerate(features_df.groupby(['farm_id'])):\n",
    "\n",
    "        data[i,:,:] = farm_df[feature_cols].values\n",
    "        \n",
    "        if 'y' in features_df.columns:\n",
    "            c = farm_df['y'].unique()\n",
    "            classes[i] = c[0]\n",
    "            \n",
    "    return data, classes\n",
    "    \n",
    "\n",
    "        \n",
    "train_features_df = impute_nan_inf(train_features_df)\n",
    "test_features_df = impute_nan_inf(test_features_df)\n",
    "\n",
    "\n",
    "# Make copies to compare before / after normalization\n",
    "train_copy = train_features_df.copy()\n",
    "test_copy = test_features_df.copy()\n",
    "\n",
    "times = train_features_df['time'].unique()\n",
    "feature_cols = [col for col in test_features_df.columns if col not in ['farm_id','time']]\n",
    "\n",
    "for ts in times:\n",
    "    scaler = StandardScaler()\n",
    "    \n",
    "    train_ts_df = train_copy[train_copy.time == ts]\n",
    "    test_ts_df = test_copy[test_copy.time == ts]\n",
    "    \n",
    "    train_features_df.loc[train_ts_df.index, feature_cols] = scaler.fit_transform(train_ts_df[feature_cols])\n",
    "    test_features_df.loc[test_ts_df.index, feature_cols] = scaler.transform(test_ts_df[feature_cols])\n",
    "    \n",
    "    \n",
    "train_data, train_labels_dict = transform_dataset(train_features_df)\n",
    "test_data, _ = transform_dataset(test_features_df)\n",
    "\n",
    "print('Sequential Datasets:')\n",
    "print('Train data:\\t\\t',train_data.shape)\n",
    "print('Test data:\\t\\t',test_data.shape)"
   ]
  },
  {
   "cell_type": "markdown",
   "metadata": {},
   "source": [
    "### Meta Data"
   ]
  },
  {
   "cell_type": "code",
   "execution_count": 90,
   "metadata": {},
   "outputs": [
    {
     "name": "stdout",
     "output_type": "stream",
     "text": [
      "Meta Data Shape: \n",
      "Train:\t (2494, 9)\n",
      "Test:\t (2494, 9)\n"
     ]
    }
   ],
   "source": [
    "from sklearn.preprocessing import OneHotEncoder\n",
    "\n",
    "# Select relevant fields\n",
    "train_meta_df = train_meta_df[['Field_Id','Area','Subregion']]\n",
    "test_meta_df = test_meta_df[['Field_Id','Area','Subregion']]\n",
    "\n",
    "# Scale Area \n",
    "scaler = StandardScaler()\n",
    "train_meta_df.loc[train_meta_df.index, ['Area']] = scaler.fit_transform(train_meta_df[['Area']])\n",
    "test_meta_df.loc[test_meta_df.index, ['Area']] = scaler.transform(test_meta_df[['Area']])\n",
    "\n",
    "# Convert subregion to one-hot encoding\n",
    "encoder = OneHotEncoder(sparse=False)\n",
    "\n",
    "train_ohe = encoder.fit_transform(train_meta_df[['Subregion']])\n",
    "test_ohe = encoder.transform(test_meta_df[['Subregion']])\n",
    "\n",
    "# Stack scaled \n",
    "train_meta_data = np.hstack((train_meta_df[['Area']].values, train_ohe))\n",
    "test_meta_data = np.hstack((test_meta_df[['Area']].values, test_ohe)) \n",
    "\n",
    "print('Meta Data Shape: ')\n",
    "print('Train:\\t',train_meta_data.shape)\n",
    "print('Test:\\t',test_meta_data.shape)"
   ]
  },
  {
   "cell_type": "markdown",
   "metadata": {},
   "source": [
    "## Start Modelling Process\n",
    "\n",
    "### Create validation set"
   ]
  },
  {
   "cell_type": "code",
   "execution_count": 91,
   "metadata": {},
   "outputs": [
    {
     "name": "stdout",
     "output_type": "stream",
     "text": [
      "Split Dataset Shapes:\n",
      "train data:\t Seq: (1995, 11, 110)\t Meta: (1995, 9)\n",
      "train data:\t Seq: (499, 11, 110)\t Meta: (499, 9)\n"
     ]
    }
   ],
   "source": [
    "from sklearn.model_selection import train_test_split\n",
    "from sklearn.preprocessing import LabelEncoder\n",
    "\n",
    "seed = 420\n",
    "\n",
    "# Copy for later\n",
    "data = train_data.copy()\n",
    "\n",
    "train_labels = list(train_labels_dict.values())\n",
    "train_indexes = list(train_labels_dict.keys())\n",
    "train_idx, val_idx, train_labels, val_labels = train_test_split(train_indexes, train_labels, stratify=train_labels, test_size=0.2, random_state=seed)\n",
    "\n",
    "le = LabelEncoder()\n",
    "train_labels_enc = le.fit_transform(np.array(train_labels).reshape(-1,1))\n",
    "val_labels_enc = le.transform(np.array(val_labels).reshape(-1,1))\n",
    "\n",
    "train_data = data[train_idx,:, :]\n",
    "val_data = data[val_idx,:, :]\n",
    "\n",
    "# Split Meta data into train and val\n",
    "train_data_meta = train_meta_data[train_idx,:]\n",
    "val_data_meta = train_meta_data[val_idx,:]\n",
    "\n",
    "\n",
    "print('Split Dataset Shapes:')\n",
    "print('train data:\\t Seq: {}\\t Meta: {}'.format(train_data.shape, train_data_meta.shape))\n",
    "print('train data:\\t Seq: {}\\t Meta: {}'.format(val_data.shape, val_data_meta.shape))"
   ]
  },
  {
   "cell_type": "markdown",
   "metadata": {},
   "source": [
    "### Create model"
   ]
  },
  {
   "cell_type": "code",
   "execution_count": 94,
   "metadata": {},
   "outputs": [],
   "source": [
    "import tensorflow as tf\n",
    "import keras\n",
    "from keras import models, layers\n",
    "from keras.callbacks import EarlyStopping, ReduceLROnPlateau\n",
    "from src.visualization.tf_viz import PlotLosses\n",
    "\n",
    "from keras.layers import Input, Dense\n",
    "from keras.models import Model\n",
    "\n",
    "def get_dag_model(n_ts_features, n_meta_features):\n",
    "    \n",
    "    # Get the model\n",
    "    GRU_cells = 16\n",
    "    recurrent_activation = 'hard_sigmoid'\n",
    "    recurrent_dropout = 0.6093571771811351\n",
    "\n",
    "\n",
    "    # Temporal Model\n",
    "    input_timeseries = Input(shape=(11,n_ts_features,))\n",
    "\n",
    "    x = layers.Dense(8, activation='relu')(input_timeseries)\n",
    "    x = layers.BatchNormalization()(x)\n",
    "    x = layers.Dropout(0.3)(x)\n",
    "    x = layers.Dense(64, activation='relu')(x)\n",
    "    x = layers.BatchNormalization()(x)\n",
    "    x = layers.Dropout(0.3)(x)\n",
    "    x = layers.GRU(GRU_cells, \n",
    "                         return_sequences=True,\n",
    "                         recurrent_activation=recurrent_activation, \n",
    "                         recurrent_dropout=recurrent_dropout)(x)\n",
    "    x = layers.GRU(GRU_cells, \n",
    "                         return_sequences=True,\n",
    "                         recurrent_activation=recurrent_activation, \n",
    "                         recurrent_dropout=recurrent_dropout)(x)\n",
    "    x = layers.Flatten()(x)\n",
    "    x = layers.BatchNormalization()(x)\n",
    "    x = layers.Dropout(0.4)(x)\n",
    "\n",
    "    \n",
    "    # Meta Model\n",
    "    input_meta_data = Input(shape=(n_meta_features,))\n",
    "\n",
    "    y = layers.Dense(n_meta_features, activation='relu',)(input_meta_data)\n",
    "    y = layers.Dropout(0.3)(y)\n",
    "    y = layers.BatchNormalization()(y)\n",
    "    y = layers.Dense(int(n_meta_features*2), activation='relu')(y)\n",
    "    y = layers.Dropout(0.3)(y)\n",
    "    y = layers.BatchNormalization()(y)\n",
    "\n",
    "    bottleneck = layers.concatenate([x,y])\n",
    "    bottleneck = layers.Dense(9, activation='softmax')(bottleneck)\n",
    "\n",
    "    model = Model(inputs=[input_timeseries,input_meta_data], outputs=bottleneck)\n",
    "    \n",
    "    return model"
   ]
  },
  {
   "cell_type": "markdown",
   "metadata": {},
   "source": [
    "### Set modelling parameters"
   ]
  },
  {
   "cell_type": "code",
   "execution_count": 95,
   "metadata": {},
   "outputs": [
    {
     "name": "stdout",
     "output_type": "stream",
     "text": [
      "__________________________________________________________________________________________________\n",
      "Layer (type)                    Output Shape         Param #     Connected to                     \n",
      "==================================================================================================\n",
      "input_18 (InputLayer)           (None, 11, 110)      0                                            \n",
      "__________________________________________________________________________________________________\n",
      "dense_54 (Dense)                (None, 11, 8)        888         input_18[0][0]                   \n",
      "__________________________________________________________________________________________________\n",
      "batch_normalization_53 (BatchNo (None, 11, 8)        32          dense_54[0][0]                   \n",
      "__________________________________________________________________________________________________\n",
      "dropout_53 (Dropout)            (None, 11, 8)        0           batch_normalization_53[0][0]     \n",
      "__________________________________________________________________________________________________\n",
      "dense_55 (Dense)                (None, 11, 64)       576         dropout_53[0][0]                 \n",
      "__________________________________________________________________________________________________\n",
      "batch_normalization_54 (BatchNo (None, 11, 64)       256         dense_55[0][0]                   \n",
      "__________________________________________________________________________________________________\n",
      "input_19 (InputLayer)           (None, 9)            0                                            \n",
      "__________________________________________________________________________________________________\n",
      "dropout_54 (Dropout)            (None, 11, 64)       0           batch_normalization_54[0][0]     \n",
      "__________________________________________________________________________________________________\n",
      "dense_56 (Dense)                (None, 9)            90          input_19[0][0]                   \n",
      "__________________________________________________________________________________________________\n",
      "gru_21 (GRU)                    (None, 11, 16)       3888        dropout_54[0][0]                 \n",
      "__________________________________________________________________________________________________\n",
      "dropout_56 (Dropout)            (None, 9)            0           dense_56[0][0]                   \n",
      "__________________________________________________________________________________________________\n",
      "gru_22 (GRU)                    (None, 11, 16)       1584        gru_21[0][0]                     \n",
      "__________________________________________________________________________________________________\n",
      "batch_normalization_56 (BatchNo (None, 9)            36          dropout_56[0][0]                 \n",
      "__________________________________________________________________________________________________\n",
      "flatten_11 (Flatten)            (None, 176)          0           gru_22[0][0]                     \n",
      "__________________________________________________________________________________________________\n",
      "dense_57 (Dense)                (None, 18)           180         batch_normalization_56[0][0]     \n",
      "__________________________________________________________________________________________________\n",
      "batch_normalization_55 (BatchNo (None, 176)          704         flatten_11[0][0]                 \n",
      "__________________________________________________________________________________________________\n",
      "dropout_57 (Dropout)            (None, 18)           0           dense_57[0][0]                   \n",
      "__________________________________________________________________________________________________\n",
      "dropout_55 (Dropout)            (None, 176)          0           batch_normalization_55[0][0]     \n",
      "__________________________________________________________________________________________________\n",
      "batch_normalization_57 (BatchNo (None, 18)           72          dropout_57[0][0]                 \n",
      "__________________________________________________________________________________________________\n",
      "concatenate_9 (Concatenate)     (None, 194)          0           dropout_55[0][0]                 \n",
      "                                                                 batch_normalization_57[0][0]     \n",
      "__________________________________________________________________________________________________\n",
      "dense_58 (Dense)                (None, 9)            1755        concatenate_9[0][0]              \n",
      "==================================================================================================\n",
      "Total params: 10,061\n",
      "Trainable params: 9,511\n",
      "Non-trainable params: 550\n",
      "__________________________________________________________________________________________________\n"
     ]
    }
   ],
   "source": [
    "from src.models.clr_callback import CyclicLR\n",
    "from keras.callbacks import ModelCheckpoint\n",
    "\n",
    "from config import models_dir\n",
    "\n",
    "checkpoint_filename = 'meta_gru_and_meta_val.hdf5'\n",
    "\n",
    "lr = 3e-4\n",
    "\n",
    "# Choose optimizer\n",
    "optimizer = keras.optimizers.RMSprop(lr)\n",
    "\n",
    "# Define callbacks\n",
    "checkpoint = ModelCheckpoint(\n",
    "    str(models_dir / checkpoint_filename), \n",
    "    save_best_only=True, \n",
    "    mode='min', \n",
    "    monitor='val_loss'\n",
    ")\n",
    "plot_losses = PlotLosses()\n",
    "es = EarlyStopping(monitor='val_loss', verbose=1, patience=100)\n",
    "reduce_lr = ReduceLROnPlateau(monitor='val_loss', patience=50, verbose=1, factor=0.5, min_delta=0.001,)\n",
    "\n",
    "\n",
    "# Combine Callbacks\n",
    "callbacks = [\n",
    "    plot_losses, \n",
    "    es, \n",
    "    reduce_lr\n",
    "]\n",
    "\n",
    "# Create model & compile\n",
    "model = get_dag_model(train_data.shape[-1], train_data_meta.shape[-1])\n",
    "\n",
    "model.compile(optimizer=optimizer,\n",
    "              loss='sparse_categorical_crossentropy')\n",
    "\n",
    "model.summary()"
   ]
  },
  {
   "cell_type": "markdown",
   "metadata": {},
   "source": [
    "## TRAIN!!"
   ]
  },
  {
   "cell_type": "code",
   "execution_count": 96,
   "metadata": {},
   "outputs": [
    {
     "data": {
      "image/png": "[encoded data removed]",
      "text/plain": [
       "<Figure size 432x288 with 1 Axes>"
      ]
     },
     "metadata": {
      "needs_background": "light"
     },
     "output_type": "display_data"
    },
    {
     "name": "stdout",
     "output_type": "stream",
     "text": [
      "Epoch 00506: early stopping\n"
     ]
    },
    {
     "data": {
      "text/plain": [
       "<keras.callbacks.History at 0x1a6338e4e0>"
      ]
     },
     "execution_count": 96,
     "metadata": {},
     "output_type": "execute_result"
    }
   ],
   "source": [
    "batch_size = 128\n",
    "\n",
    "model.fit([train_data, train_data_meta], \n",
    "          train_labels_enc,\n",
    "          batch_size=batch_size,\n",
    "          validation_data=([val_data, val_data_meta], val_labels_enc), \n",
    "          class_weight=class_weight,\n",
    "          verbose=0,\n",
    "          epochs=epoch_size, \n",
    "          callbacks=callbacks)"
   ]
  },
  {
   "cell_type": "markdown",
   "metadata": {},
   "source": [
    "### Now on all data"
   ]
  },
  {
   "cell_type": "code",
   "execution_count": 54,
   "metadata": {},
   "outputs": [],
   "source": [
    "all_data = np.vstack([train_data, val_data])\n",
    "all_labels = np.array(list(train_labels_enc) + list(val_labels_enc))\n",
    "\n",
    "all_data_meta = np.vstack([train_data_meta, val_data_meta])\n",
    "\n",
    "class_weight = (1 - pd.Series(all_labels).value_counts(normalize=True)).to_dict()"
   ]
  },
  {
   "cell_type": "code",
   "execution_count": 58,
   "metadata": {},
   "outputs": [
    {
     "name": "stdout",
     "output_type": "stream",
     "text": [
      "__________________________________________________________________________________________________\n",
      "Layer (type)                    Output Shape         Param #     Connected to                     \n",
      "==================================================================================================\n",
      "input_14 (InputLayer)           (None, 11, 110)      0                                            \n",
      "__________________________________________________________________________________________________\n",
      "dense_42 (Dense)                (None, 11, 8)        888         input_14[0][0]                   \n",
      "__________________________________________________________________________________________________\n",
      "batch_normalization_41 (BatchNo (None, 11, 8)        32          dense_42[0][0]                   \n",
      "__________________________________________________________________________________________________\n",
      "input_15 (InputLayer)           (None, 9)            0                                            \n",
      "__________________________________________________________________________________________________\n",
      "dropout_41 (Dropout)            (None, 11, 8)        0           batch_normalization_41[0][0]     \n",
      "__________________________________________________________________________________________________\n",
      "dense_44 (Dense)                (None, 9)            90          input_15[0][0]                   \n",
      "__________________________________________________________________________________________________\n",
      "dense_43 (Dense)                (None, 11, 64)       576         dropout_41[0][0]                 \n",
      "__________________________________________________________________________________________________\n",
      "dropout_44 (Dropout)            (None, 9)            0           dense_44[0][0]                   \n",
      "__________________________________________________________________________________________________\n",
      "batch_normalization_42 (BatchNo (None, 11, 64)       256         dense_43[0][0]                   \n",
      "__________________________________________________________________________________________________\n",
      "batch_normalization_44 (BatchNo (None, 9)            36          dropout_44[0][0]                 \n",
      "__________________________________________________________________________________________________\n",
      "dropout_42 (Dropout)            (None, 11, 64)       0           batch_normalization_42[0][0]     \n",
      "__________________________________________________________________________________________________\n",
      "dense_45 (Dense)                (None, 27)           270         batch_normalization_44[0][0]     \n",
      "__________________________________________________________________________________________________\n",
      "gru_17 (GRU)                    (None, 11, 16)       3888        dropout_42[0][0]                 \n",
      "__________________________________________________________________________________________________\n",
      "dropout_45 (Dropout)            (None, 27)           0           dense_45[0][0]                   \n",
      "__________________________________________________________________________________________________\n",
      "gru_18 (GRU)                    (None, 11, 16)       1584        gru_17[0][0]                     \n",
      "__________________________________________________________________________________________________\n",
      "batch_normalization_45 (BatchNo (None, 27)           108         dropout_45[0][0]                 \n",
      "__________________________________________________________________________________________________\n",
      "flatten_9 (Flatten)             (None, 176)          0           gru_18[0][0]                     \n",
      "__________________________________________________________________________________________________\n",
      "dense_46 (Dense)                (None, 36)           1008        batch_normalization_45[0][0]     \n",
      "__________________________________________________________________________________________________\n",
      "batch_normalization_43 (BatchNo (None, 176)          704         flatten_9[0][0]                  \n",
      "__________________________________________________________________________________________________\n",
      "dropout_46 (Dropout)            (None, 36)           0           dense_46[0][0]                   \n",
      "__________________________________________________________________________________________________\n",
      "dropout_43 (Dropout)            (None, 176)          0           batch_normalization_43[0][0]     \n",
      "__________________________________________________________________________________________________\n",
      "batch_normalization_46 (BatchNo (None, 36)           144         dropout_46[0][0]                 \n",
      "__________________________________________________________________________________________________\n",
      "concatenate_7 (Concatenate)     (None, 212)          0           dropout_43[0][0]                 \n",
      "                                                                 batch_normalization_46[0][0]     \n",
      "__________________________________________________________________________________________________\n",
      "dense_47 (Dense)                (None, 9)            1917        concatenate_7[0][0]              \n",
      "==================================================================================================\n",
      "Total params: 11,501\n",
      "Trainable params: 10,861\n",
      "Non-trainable params: 640\n",
      "__________________________________________________________________________________________________\n"
     ]
    }
   ],
   "source": [
    "from src.models.clr_callback import CyclicLR\n",
    "from keras.callbacks import ModelCheckpoint\n",
    "\n",
    "from config import models_dir\n",
    "\n",
    "from keras.layers import Input, Dense\n",
    "from keras.models import Model\n",
    "\n",
    "lr = 3e-4\n",
    "\n",
    "\n",
    "# Choose optimizer\n",
    "optimizer = keras.optimizers.RMSprop(lr)\n",
    "checkpoint = ModelCheckpoint(str(models_dir / 'gru_dag_5.1.hdf5'), save_best_only=True, mode='min', monitor='loss')\n",
    "\n",
    "callbacks = [\n",
    "    plot_losses, \n",
    "    checkpoint\n",
    "]\n",
    "\n",
    "model = get_dag_model(all_data.shape[-1], all_data_meta.shape[-1])\n",
    "\n",
    "model.compile(optimizer=optimizer,\n",
    "              loss='sparse_categorical_crossentropy')\n",
    "\n",
    "model.summary()"
   ]
  },
  {
   "cell_type": "code",
   "execution_count": 59,
   "metadata": {},
   "outputs": [
    {
     "data": {
      "image/png": "[encoded data removed]",
      "text/plain": [
       "<Figure size 432x288 with 1 Axes>"
      ]
     },
     "metadata": {
      "needs_background": "light"
     },
     "output_type": "display_data"
    },
    {
     "data": {
      "text/plain": [
       "<keras.callbacks.History at 0x1a54102198>"
      ]
     },
     "execution_count": 59,
     "metadata": {},
     "output_type": "execute_result"
    }
   ],
   "source": [
    "model.fit([all_data,all_data_meta], \n",
    "          all_labels,\n",
    "          batch_size=64,\n",
    "          class_weight=class_weight,\n",
    "          verbose=0,\n",
    "          epochs=400, \n",
    "          callbacks=callbacks)"
   ]
  },
  {
   "cell_type": "markdown",
   "metadata": {},
   "source": [
    "### Load Best Model"
   ]
  },
  {
   "cell_type": "code",
   "execution_count": 61,
   "metadata": {},
   "outputs": [],
   "source": [
    "from keras.models import load_model\n",
    "\n",
    "model = load_model(str(models_dir / 'gru_dag_5.1.hdf5'))"
   ]
  },
  {
   "cell_type": "markdown",
   "metadata": {},
   "source": [
    "## Make a submission"
   ]
  },
  {
   "cell_type": "code",
   "execution_count": 62,
   "metadata": {},
   "outputs": [
    {
     "data": {
      "text/html": [
       "<div>\n",
       "<style scoped>\n",
       "    .dataframe tbody tr th:only-of-type {\n",
       "        vertical-align: middle;\n",
       "    }\n",
       "\n",
       "    .dataframe tbody tr th {\n",
       "        vertical-align: top;\n",
       "    }\n",
       "\n",
       "    .dataframe thead th {\n",
       "        text-align: right;\n",
       "    }\n",
       "</style>\n",
       "<table border=\"1\" class=\"dataframe\">\n",
       "  <thead>\n",
       "    <tr style=\"text-align: right;\">\n",
       "      <th></th>\n",
       "      <th>crop_id_1</th>\n",
       "      <th>crop_id_2</th>\n",
       "      <th>crop_id_3</th>\n",
       "      <th>crop_id_4</th>\n",
       "      <th>crop_id_5</th>\n",
       "      <th>crop_id_6</th>\n",
       "      <th>crop_id_7</th>\n",
       "      <th>crop_id_8</th>\n",
       "      <th>crop_id_9</th>\n",
       "    </tr>\n",
       "    <tr>\n",
       "      <th>field_id</th>\n",
       "      <th></th>\n",
       "      <th></th>\n",
       "      <th></th>\n",
       "      <th></th>\n",
       "      <th></th>\n",
       "      <th></th>\n",
       "      <th></th>\n",
       "      <th></th>\n",
       "      <th></th>\n",
       "    </tr>\n",
       "  </thead>\n",
       "  <tbody>\n",
       "    <tr>\n",
       "      <th>5</th>\n",
       "      <td>0.000023</td>\n",
       "      <td>0.000004</td>\n",
       "      <td>0.000179</td>\n",
       "      <td>0.000051</td>\n",
       "      <td>1.268734e-05</td>\n",
       "      <td>0.009390</td>\n",
       "      <td>0.000053</td>\n",
       "      <td>0.818929</td>\n",
       "      <td>0.171359</td>\n",
       "    </tr>\n",
       "    <tr>\n",
       "      <th>6</th>\n",
       "      <td>0.000008</td>\n",
       "      <td>0.000011</td>\n",
       "      <td>0.000192</td>\n",
       "      <td>0.000101</td>\n",
       "      <td>2.019262e-05</td>\n",
       "      <td>0.011320</td>\n",
       "      <td>0.000106</td>\n",
       "      <td>0.802623</td>\n",
       "      <td>0.185619</td>\n",
       "    </tr>\n",
       "    <tr>\n",
       "      <th>10</th>\n",
       "      <td>0.000020</td>\n",
       "      <td>0.000006</td>\n",
       "      <td>0.000918</td>\n",
       "      <td>0.000289</td>\n",
       "      <td>9.941327e-07</td>\n",
       "      <td>0.001170</td>\n",
       "      <td>0.000172</td>\n",
       "      <td>0.927542</td>\n",
       "      <td>0.069882</td>\n",
       "    </tr>\n",
       "    <tr>\n",
       "      <th>18</th>\n",
       "      <td>0.000008</td>\n",
       "      <td>0.000003</td>\n",
       "      <td>0.000061</td>\n",
       "      <td>0.000007</td>\n",
       "      <td>4.946623e-07</td>\n",
       "      <td>0.000396</td>\n",
       "      <td>0.000046</td>\n",
       "      <td>0.863625</td>\n",
       "      <td>0.135854</td>\n",
       "    </tr>\n",
       "    <tr>\n",
       "      <th>23</th>\n",
       "      <td>0.000039</td>\n",
       "      <td>0.001674</td>\n",
       "      <td>0.001167</td>\n",
       "      <td>0.000023</td>\n",
       "      <td>5.607085e-07</td>\n",
       "      <td>0.000920</td>\n",
       "      <td>0.000256</td>\n",
       "      <td>0.756158</td>\n",
       "      <td>0.239763</td>\n",
       "    </tr>\n",
       "  </tbody>\n",
       "</table>\n",
       "</div>"
      ],
      "text/plain": [
       "          crop_id_1  crop_id_2  crop_id_3  crop_id_4     crop_id_5  crop_id_6  \\\n",
       "field_id                                                                        \n",
       "5          0.000023   0.000004   0.000179   0.000051  1.268734e-05   0.009390   \n",
       "6          0.000008   0.000011   0.000192   0.000101  2.019262e-05   0.011320   \n",
       "10         0.000020   0.000006   0.000918   0.000289  9.941327e-07   0.001170   \n",
       "18         0.000008   0.000003   0.000061   0.000007  4.946623e-07   0.000396   \n",
       "23         0.000039   0.001674   0.001167   0.000023  5.607085e-07   0.000920   \n",
       "\n",
       "          crop_id_7  crop_id_8  crop_id_9  \n",
       "field_id                                   \n",
       "5          0.000053   0.818929   0.171359  \n",
       "6          0.000106   0.802623   0.185619  \n",
       "10         0.000172   0.927542   0.069882  \n",
       "18         0.000046   0.863625   0.135854  \n",
       "23         0.000256   0.756158   0.239763  "
      ]
     },
     "execution_count": 62,
     "metadata": {},
     "output_type": "execute_result"
    }
   ],
   "source": [
    "def make_sub(predictions, ids_list):\n",
    "    \n",
    "    sub_df = pd.read_csv(raw_data_dir / 'sample_submission_fixed.csv')\n",
    "\n",
    "    new_sub = sub_df.copy().set_index('field_id')\n",
    "\n",
    "    new_sub.loc[ids_list] = predictions\n",
    "    \n",
    "    return new_sub\n",
    "\n",
    "predictions = model.predict([test_data, test_meta_tensor])\n",
    "test_ids = sorted(list(test_features_df.farm_id.unique()))\n",
    "sub_df = make_sub(predictions, test_ids)\n",
    "sub_df.head()"
   ]
  },
  {
   "cell_type": "markdown",
   "metadata": {},
   "source": [
    "### Save submission file"
   ]
  },
  {
   "cell_type": "code",
   "execution_count": 63,
   "metadata": {},
   "outputs": [],
   "source": [
    "from config import subs_dir\n",
    "\n",
    "fname = 'gru_dag_data_v5.1'\n",
    "sub_df.to_csv(subs_dir / f'{fname}.csv')"
   ]
  },
  {
   "cell_type": "markdown",
   "metadata": {},
   "source": [
    "### Save model architecture"
   ]
  },
  {
   "cell_type": "code",
   "execution_count": 64,
   "metadata": {},
   "outputs": [],
   "source": [
    "with open(subs_dir / 'architectures' / f'{fname}.txt', 'w') as f:\n",
    "    model.summary(print_fn=lambda x: f.write(x + '\\n'))"
   ]
  },
  {
   "cell_type": "code",
   "execution_count": null,
   "metadata": {},
   "outputs": [],
   "source": []
  }
 ],
 "metadata": {
  "kernelspec": {
   "display_name": "Python 3",
   "language": "python",
   "name": "python3"
  },
  "language_info": {
   "codemirror_mode": {
    "name": "ipython",
    "version": 3
   },
   "file_extension": ".py",
   "mimetype": "text/x-python",
   "name": "python",
   "nbconvert_exporter": "python",
   "pygments_lexer": "ipython3",
   "version": "3.7.3"
  }
 },
 "nbformat": 4,
 "nbformat_minor": 4
}
