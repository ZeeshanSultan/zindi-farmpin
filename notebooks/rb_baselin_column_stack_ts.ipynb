{
 "cells": [
  {
   "cell_type": "markdown",
   "metadata": {},
   "source": [
    "## Column-stack time series"
   ]
  },
  {
   "cell_type": "code",
   "execution_count": 1,
   "metadata": {},
   "outputs": [],
   "source": [
    "import os\n",
    "import pandas as pd\n",
    "from glob import glob\n",
    "from config import processed_data_dir\n",
    "\n",
    "seed=2019\n",
    "\n",
    "train_files = glob(os.path.join(processed_data_dir, 'baseline/train/*.csv'))\n",
    "test_files = glob(os.path.join(processed_data_dir, 'baseline/test/*.csv'))"
   ]
  },
  {
   "cell_type": "code",
   "execution_count": 2,
   "metadata": {},
   "outputs": [],
   "source": [
    "from tqdm import tqdm\n",
    "def column_stack(file_list):\n",
    "    target_col = 'Crop_Id_Ne'\n",
    "    dfs = []\n",
    "    for i,fpath in tqdm(enumerate(file_list)):\n",
    "        ts = os.path.basename(fpath).split('.')[0]\n",
    "\n",
    "        df = pd.read_csv(fpath, index_col=0)\n",
    "\n",
    "        new_columns = [f'{c}_{ts}' for c in list(df) if c != target_col]\n",
    "\n",
    "        if i > 0 and target_col in list(df):\n",
    "            df.drop(target_col, axis=1, inplace=True)\n",
    "\n",
    "        elif target_col in list(df):\n",
    "            new_columns.append(target_col)\n",
    "\n",
    "        df.columns = new_columns\n",
    "\n",
    "        dfs.append(df)\n",
    "        \n",
    "    return pd.concat(dfs,axis=1)\n"
   ]
  },
  {
   "cell_type": "code",
   "execution_count": 3,
   "metadata": {},
   "outputs": [
    {
     "name": "stderr",
     "output_type": "stream",
     "text": [
      "11it [00:00, 31.44it/s]\n",
      "11it [00:00, 59.25it/s]\n"
     ]
    }
   ],
   "source": [
    "train_data = column_stack(train_files)\n",
    "test_data = column_stack(test_files)"
   ]
  },
  {
   "cell_type": "code",
   "execution_count": null,
   "metadata": {},
   "outputs": [
    {
     "data": {
      "application/vnd.jupyter.widget-view+json": {
       "model_id": "",
       "version_major": 2,
       "version_minor": 0
      },
      "text/plain": [
       "HBox(children=(IntProgress(value=0, description='Optimization Progress', max=120, style=ProgressStyle(descript…"
      ]
     },
     "metadata": {},
     "output_type": "display_data"
    },
    {
     "name": "stdout",
     "output_type": "stream",
     "text": [
      "\n",
      "\n"
     ]
    }
   ],
   "source": [
    "y = train_data.Crop_Id_Ne\n",
    "X = train_data.drop('Crop_Id_Ne', axis=1)\n",
    "\n",
    "X_train, X_test, y_train, y_test = train_test_split(X, y, \n",
    "                                                    train_size=0.75, test_size=0.25, \n",
    "                                                    random_state=seed)\n",
    "\n",
    "tpot = TPOTClassifier(\n",
    "    generations=5, \n",
    "    population_size=20, \n",
    "    verbosity=2, \n",
    "    n_jobs=-1,  \n",
    "    scoring='accuracy',\n",
    "    cv=5,\n",
    "    random_state=seed, \n",
    "    use_dask=True, \n",
    "    periodic_checkpoint_folder='checkpoints'\n",
    ")\n",
    "\n",
    "tpot.fit(X_train, y_train)"
   ]
  },
  {
   "cell_type": "markdown",
   "metadata": {},
   "source": [
    "Bombing out because too much compute..."
   ]
  }
 ],
 "metadata": {
  "kernelspec": {
   "display_name": "Python [conda env:farm-pin]",
   "language": "python",
   "name": "conda-env-farm-pin-py"
  },
  "language_info": {
   "codemirror_mode": {
    "name": "ipython",
    "version": 3
   },
   "file_extension": ".py",
   "mimetype": "text/x-python",
   "name": "python",
   "nbconvert_exporter": "python",
   "pygments_lexer": "ipython3",
   "version": "3.7.2"
  }
 },
 "nbformat": 4,
 "nbformat_minor": 2
}
