{
 "cells": [
  {
   "cell_type": "markdown",
   "metadata": {},
   "source": [
    "# Reading in Data\n"
   ]
  },
  {
   "cell_type": "code",
   "execution_count": 1,
   "metadata": {},
   "outputs": [],
   "source": [
    "import os\n",
    "import rasterio\n",
    "import geopandas as gpd\n",
    "\n",
    "from rasterio.plot import show\n",
    "\n",
    "%matplotlib inline\n",
    "\n",
    "# Test dir\n",
    "img_dir = '../../data/raw/S2A_MSIL1C_20170101T082332_N0204_R121_T34JEP_20170101T084543.SAFE/GRANULE/L1C_T34JEP_A007983_20170101T084543/IMG_DATA/'"
   ]
  },
  {
   "cell_type": "markdown",
   "metadata": {},
   "source": [
    "## Read Shapefile"
   ]
  },
  {
   "cell_type": "code",
   "execution_count": 2,
   "metadata": {},
   "outputs": [
    {
     "data": {
      "text/html": [
       "<div>\n",
       "<style scoped>\n",
       "    .dataframe tbody tr th:only-of-type {\n",
       "        vertical-align: middle;\n",
       "    }\n",
       "\n",
       "    .dataframe tbody tr th {\n",
       "        vertical-align: top;\n",
       "    }\n",
       "\n",
       "    .dataframe thead th {\n",
       "        text-align: right;\n",
       "    }\n",
       "</style>\n",
       "<table border=\"1\" class=\"dataframe\">\n",
       "  <thead>\n",
       "    <tr style=\"text-align: right;\">\n",
       "      <th></th>\n",
       "      <th>Field_Id</th>\n",
       "      <th>Area</th>\n",
       "      <th>Subregion</th>\n",
       "      <th>Crop_Id_Ne</th>\n",
       "      <th>geometry</th>\n",
       "    </tr>\n",
       "  </thead>\n",
       "  <tbody>\n",
       "    <tr>\n",
       "      <th>0</th>\n",
       "      <td>1</td>\n",
       "      <td>0.915905</td>\n",
       "      <td>3</td>\n",
       "      <td>8</td>\n",
       "      <td>POLYGON ((2467881.175041331 -3352032.059296422...</td>\n",
       "    </tr>\n",
       "    <tr>\n",
       "      <th>1</th>\n",
       "      <td>2</td>\n",
       "      <td>2.064410</td>\n",
       "      <td>3</td>\n",
       "      <td>6</td>\n",
       "      <td>POLYGON ((2468428.90623293 -3351993.17305059, ...</td>\n",
       "    </tr>\n",
       "    <tr>\n",
       "      <th>2</th>\n",
       "      <td>3</td>\n",
       "      <td>1.080300</td>\n",
       "      <td>3</td>\n",
       "      <td>8</td>\n",
       "      <td>POLYGON ((2468333.745293362 -3352058.485056543...</td>\n",
       "    </tr>\n",
       "    <tr>\n",
       "      <th>3</th>\n",
       "      <td>4</td>\n",
       "      <td>1.316190</td>\n",
       "      <td>3</td>\n",
       "      <td>8</td>\n",
       "      <td>POLYGON ((2468607.857733211 -3352012.337531495...</td>\n",
       "    </tr>\n",
       "    <tr>\n",
       "      <th>4</th>\n",
       "      <td>7</td>\n",
       "      <td>5.529220</td>\n",
       "      <td>3</td>\n",
       "      <td>8</td>\n",
       "      <td>POLYGON ((2468646.08520868 -3351706.201920062,...</td>\n",
       "    </tr>\n",
       "  </tbody>\n",
       "</table>\n",
       "</div>"
      ],
      "text/plain": [
       "   Field_Id      Area  Subregion Crop_Id_Ne  \\\n",
       "0         1  0.915905          3          8   \n",
       "1         2  2.064410          3          6   \n",
       "2         3  1.080300          3          8   \n",
       "3         4  1.316190          3          8   \n",
       "4         7  5.529220          3          8   \n",
       "\n",
       "                                            geometry  \n",
       "0  POLYGON ((2467881.175041331 -3352032.059296422...  \n",
       "1  POLYGON ((2468428.90623293 -3351993.17305059, ...  \n",
       "2  POLYGON ((2468333.745293362 -3352058.485056543...  \n",
       "3  POLYGON ((2468607.857733211 -3352012.337531495...  \n",
       "4  POLYGON ((2468646.08520868 -3351706.201920062,...  "
      ]
     },
     "execution_count": 2,
     "metadata": {},
     "output_type": "execute_result"
    }
   ],
   "source": [
    "train_fp = '../../data/raw/train/train.shp'\n",
    "train_df = gpd.read_file(train_fp)\n",
    "\n",
    "# Drop NaNs\n",
    "train_df = train_df.loc[~train_df.geometry.isna()]\n",
    "train_df.reset_index(drop=True, inplace=True)\n",
    "\n",
    "train_df.head()"
   ]
  },
  {
   "cell_type": "code",
   "execution_count": 3,
   "metadata": {},
   "outputs": [
    {
     "data": {
      "text/plain": [
       "(2494, 5)"
      ]
     },
     "execution_count": 3,
     "metadata": {},
     "output_type": "execute_result"
    }
   ],
   "source": [
    "train_df.shape"
   ]
  },
  {
   "cell_type": "code",
   "execution_count": 3,
   "metadata": {},
   "outputs": [
    {
     "data": {
      "image/svg+xml": [
       "<svg xmlns=\"http://www.w3.org/2000/svg\" xmlns:xlink=\"http://www.w3.org/1999/xlink\" width=\"161.7348234700039\" height=\"122.84098795754835\" viewBox=\"2467875.1848626845 -3352119.012131356 161.7348234700039 122.84098795754835\" preserveAspectRatio=\"xMinYMin meet\"><g transform=\"matrix(1,0,0,-1,0,-6704115.183274755)\"><path fill-rule=\"evenodd\" fill=\"#66cc99\" stroke=\"#555555\" stroke-width=\"2.0\" opacity=\"0.6\" d=\"M 2467881.1750413314,-3352032.0592964217 L 2468026.166997987,-3352002.1613220456 L 2468030.9295075075,-3352046.3468240052 L 2467906.045924405,-3352113.021952709 L 2467881.1750413314,-3352032.0592964217 z\" /></g></svg>"
      ],
      "text/plain": [
       "<shapely.geometry.polygon.Polygon at 0x1221c6b00>"
      ]
     },
     "execution_count": 3,
     "metadata": {},
     "output_type": "execute_result"
    }
   ],
   "source": [
    "train_df.loc[0].geometry"
   ]
  },
  {
   "cell_type": "markdown",
   "metadata": {},
   "source": [
    "### Convert shapefile to coordinate system of raster"
   ]
  },
  {
   "cell_type": "code",
   "execution_count": 4,
   "metadata": {},
   "outputs": [],
   "source": [
    "train_df = train_df.to_crs({'init': 'epsg:32734'})"
   ]
  },
  {
   "cell_type": "markdown",
   "metadata": {},
   "source": [
    "## Get Polygon Masks From Raster"
   ]
  },
  {
   "cell_type": "code",
   "execution_count": 5,
   "metadata": {},
   "outputs": [
    {
     "name": "stdout",
     "output_type": "stream",
     "text": [
      "T34JEP_20170101T082332_B01.jp2 T34JEP_20170101T082332_B08.jp2\n",
      "T34JEP_20170101T082332_B02.jp2 T34JEP_20170101T082332_B09.jp2\n",
      "T34JEP_20170101T082332_B03.jp2 T34JEP_20170101T082332_B10.jp2\n",
      "T34JEP_20170101T082332_B04.jp2 T34JEP_20170101T082332_B11.jp2\n",
      "T34JEP_20170101T082332_B05.jp2 T34JEP_20170101T082332_B12.jp2\n",
      "T34JEP_20170101T082332_B06.jp2 T34JEP_20170101T082332_B8A.jp2\n",
      "T34JEP_20170101T082332_B07.jp2 T34JEP_20170101T082332_TCI.jp2\n"
     ]
    }
   ],
   "source": [
    "!ls $img_dir"
   ]
  },
  {
   "cell_type": "code",
   "execution_count": 6,
   "metadata": {},
   "outputs": [],
   "source": [
    "import os\n",
    "import rasterio\n",
    "from rasterio.plot import show\n",
    "from glob import glob\n",
    "\n",
    "from rasterio import mask\n",
    "\n",
    "def get_shape(geom, raster):\n",
    "    if geom is None:\n",
    "        return 0.\n",
    "    try:\n",
    "        out_image, out_transform=mask.mask(raster, [geom], crop=True)\n",
    "    except ValueError:\n",
    "        return 0.\n",
    "    return out_image"
   ]
  },
  {
   "cell_type": "code",
   "execution_count": 7,
   "metadata": {},
   "outputs": [],
   "source": [
    "fp = os.path.join(img_dir,'T34JEP_20170101T082332_B04.jp2')\n",
    "\n",
    "with rasterio.open(fp) as raster:\n",
    "    masks = [get_shape(g, raster) for g in train_df.geometry]"
   ]
  },
  {
   "cell_type": "markdown",
   "metadata": {},
   "source": [
    "### Show largest farm image"
   ]
  },
  {
   "cell_type": "code",
   "execution_count": 10,
   "metadata": {},
   "outputs": [
    {
     "name": "stderr",
     "output_type": "stream",
     "text": [
      "/Users/renier.botha/anaconda3/envs/farm-pin/lib/python3.7/site-packages/ipykernel_launcher.py:10: RuntimeWarning: divide by zero encountered in log10\n",
      "  # Remove the CWD from sys.path while we load stuff.\n"
     ]
    },
    {
     "data": {
      "text/plain": [
       "<matplotlib.image.AxesImage at 0x122898ba8>"
      ]
     },
     "execution_count": 10,
     "metadata": {},
     "output_type": "execute_result"
    },
    {
     "data": {
      "image/png": "[encoded data removed]",
      "text/plain": [
       "<Figure size 432x288 with 1 Axes>"
      ]
     },
     "metadata": {
      "needs_background": "light"
     },
     "output_type": "display_data"
    }
   ],
   "source": [
    "import numpy as np\n",
    "import matplotlib.pyplot as plt\n",
    "\n",
    "mask_shapes = [np.size(m) for m in masks]\n",
    "\n",
    "max_idx = np.argmax(mask_shapes)\n",
    "\n",
    "largest_farm = masks[max_idx]\n",
    "\n",
    "plt.imshow(np.log10(largest_farm[0]), cmap='gray')"
   ]
  },
  {
   "cell_type": "code",
   "execution_count": 12,
   "metadata": {},
   "outputs": [
    {
     "data": {
      "text/plain": [
       "(1, 83, 83)"
      ]
     },
     "execution_count": 12,
     "metadata": {},
     "output_type": "execute_result"
    }
   ],
   "source": [
    "largest_farm.shape"
   ]
  },
  {
   "cell_type": "markdown",
   "metadata": {},
   "source": [
    "### Reduce image to summary stats"
   ]
  },
  {
   "cell_type": "code",
   "execution_count": 45,
   "metadata": {},
   "outputs": [
    {
     "data": {
      "text/plain": [
       "(6889, 1057.83205109595, 893.9794120902736)"
      ]
     },
     "execution_count": 45,
     "metadata": {},
     "output_type": "execute_result"
    }
   ],
   "source": [
    "def calc_img_stats(img: np.array):\n",
    "    \n",
    "    assert img.shape[0] == 1, 'Multi-band data might cause kak'\n",
    "    \n",
    "    img_flat = img.flatten()\n",
    "    \n",
    "    return img_flat.size, img_flat.mean(), img_flat.std()\n",
    "\n",
    "calc_img_stats(largest_farm)"
   ]
  },
  {
   "cell_type": "code",
   "execution_count": null,
   "metadata": {},
   "outputs": [],
   "source": []
  }
 ],
 "metadata": {
  "kernelspec": {
   "display_name": "Python [conda env:farm-pin]",
   "language": "python",
   "name": "conda-env-farm-pin-py"
  },
  "language_info": {
   "codemirror_mode": {
    "name": "ipython",
    "version": 3
   },
   "file_extension": ".py",
   "mimetype": "text/x-python",
   "name": "python",
   "nbconvert_exporter": "python",
   "pygments_lexer": "ipython3",
   "version": "3.7.2"
  }
 },
 "nbformat": 4,
 "nbformat_minor": 2
}
