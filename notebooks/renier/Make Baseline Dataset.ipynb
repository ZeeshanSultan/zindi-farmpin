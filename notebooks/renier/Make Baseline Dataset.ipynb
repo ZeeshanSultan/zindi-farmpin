{
 "cells": [
  {
   "cell_type": "markdown",
   "metadata": {},
   "source": [
    "# Make Baseline Dataset\n",
    "\n",
    "Create the dataset that we will use to develop a baseline score. "
   ]
  },
  {
   "cell_type": "markdown",
   "metadata": {},
   "source": [
    "### Imports"
   ]
  },
  {
   "cell_type": "code",
   "execution_count": 17,
   "metadata": {},
   "outputs": [
    {
     "name": "stdout",
     "output_type": "stream",
     "text": [
      "The autoreload extension is already loaded. To reload it, use:\n",
      "  %reload_ext autoreload\n"
     ]
    }
   ],
   "source": [
    "from src.data.make_baseline_dataset import *\n",
    "\n",
    "%load_ext autoreload\n",
    "%autoreload 2"
   ]
  },
  {
   "cell_type": "markdown",
   "metadata": {},
   "source": [
    "\n",
    "## Steps:\n",
    "\n",
    "The following steps are done for all timesteps (TS) and bands (B). \n",
    "\n",
    "There are 11 timesteps and 14 bands - `11 x 14 = 154`, which will be interesting later\n",
    "\n",
    "### 1. Mask raster with shapefile\n",
    "\n",
    "Using the given `train` and `test` shapefiles, \"mask\" the polygons from the raster (image).\n",
    "\n",
    "### 2. Reduce masked bands to descriptive stats\n",
    "\n",
    "Each masked band gives a numpy array of variable shape. For the baseline, we will calculate descriptive stats for each mask, such as the `mean` and `std` of the values. \n",
    "\n",
    "Exactly _what_ we calculate will most likely be fiddled with to create better models.\n",
    "\n",
    "### 3. Save to interim\n"
   ]
  },
  {
   "cell_type": "markdown",
   "metadata": {},
   "source": [
    "### 0. Load Data"
   ]
  },
  {
   "cell_type": "code",
   "execution_count": 18,
   "metadata": {},
   "outputs": [
    {
     "name": "stdout",
     "output_type": "stream",
     "text": [
      "Reading shapefile...done.\n",
      "Reading image bands...done.\n",
      "Found 14 image bands to process\n"
     ]
    }
   ],
   "source": [
    "dataset = 'train'\n",
    "\n",
    "print('Reading shapefile...', end='')\n",
    "shp_df = read_shapefile(dataset)\n",
    "print('done.')\n",
    "\n",
    "safe_dirs = get_safe_dirs()\n",
    "safe_dir = safe_dirs[0]\n",
    "\n",
    "# Get timestamp (str)\n",
    "date = date_from_safedir(safe_dir)\n",
    "\n",
    "print('Reading image bands...', end='')\n",
    "img_band_fpaths = glob(f'{safe_dir}/**/IMG_DATA/*.jp2', recursive=True)\n",
    "print('done.')\n",
    "\n",
    "print(f'Found {len(img_band_fpaths)} image bands to process')"
   ]
  },
  {
   "cell_type": "code",
   "execution_count": 19,
   "metadata": {},
   "outputs": [
    {
     "data": {
      "text/plain": [
       "Field_Id\n",
       "1    POLYGON ((613924.3324000851 6793991.295069702,...\n",
       "2    POLYGON ((614404.0717397591 6794020.579634549,...\n",
       "3    POLYGON ((614320.2146632321 6793964.242091182,...\n",
       "4    POLYGON ((614560.5326844405 6794002.249461887,...\n",
       "7    POLYGON ((614596.6564746551 6794269.865436315,...\n",
       "Name: geometry, dtype: object"
      ]
     },
     "execution_count": 19,
     "metadata": {},
     "output_type": "execute_result"
    }
   ],
   "source": [
    "shp_df.geometry.head()"
   ]
  },
  {
   "cell_type": "code",
   "execution_count": 21,
   "metadata": {},
   "outputs": [
    {
     "name": "stdout",
     "output_type": "stream",
     "text": [
      "Processing band  TCI\n",
      "Masking raster..."
     ]
    },
    {
     "name": "stderr",
     "output_type": "stream",
     "text": [
      "Multi-band data might cause kak\n"
     ]
    },
    {
     "name": "stdout",
     "output_type": "stream",
     "text": [
      "2344 farms successfully masked\n"
     ]
    },
    {
     "data": {
      "text/html": [
       "<div>\n",
       "<style scoped>\n",
       "    .dataframe tbody tr th:only-of-type {\n",
       "        vertical-align: middle;\n",
       "    }\n",
       "\n",
       "    .dataframe tbody tr th {\n",
       "        vertical-align: top;\n",
       "    }\n",
       "\n",
       "    .dataframe thead th {\n",
       "        text-align: right;\n",
       "    }\n",
       "</style>\n",
       "<table border=\"1\" class=\"dataframe\">\n",
       "  <thead>\n",
       "    <tr style=\"text-align: right;\">\n",
       "      <th></th>\n",
       "      <th>TCI_width</th>\n",
       "      <th>TCI_height</th>\n",
       "      <th>TCI_size</th>\n",
       "      <th>TCI_mean</th>\n",
       "      <th>TCI_std</th>\n",
       "    </tr>\n",
       "    <tr>\n",
       "      <th>Field_Id</th>\n",
       "      <th></th>\n",
       "      <th></th>\n",
       "      <th></th>\n",
       "      <th></th>\n",
       "      <th></th>\n",
       "    </tr>\n",
       "  </thead>\n",
       "  <tbody>\n",
       "    <tr>\n",
       "      <th>19</th>\n",
       "      <td>20</td>\n",
       "      <td>13</td>\n",
       "      <td>260</td>\n",
       "      <td>91.308974</td>\n",
       "      <td>49.464187</td>\n",
       "    </tr>\n",
       "    <tr>\n",
       "      <th>20</th>\n",
       "      <td>11</td>\n",
       "      <td>23</td>\n",
       "      <td>253</td>\n",
       "      <td>65.762846</td>\n",
       "      <td>38.705559</td>\n",
       "    </tr>\n",
       "    <tr>\n",
       "      <th>21</th>\n",
       "      <td>21</td>\n",
       "      <td>6</td>\n",
       "      <td>126</td>\n",
       "      <td>39.497354</td>\n",
       "      <td>44.557866</td>\n",
       "    </tr>\n",
       "    <tr>\n",
       "      <th>22</th>\n",
       "      <td>23</td>\n",
       "      <td>14</td>\n",
       "      <td>322</td>\n",
       "      <td>74.063147</td>\n",
       "      <td>39.331146</td>\n",
       "    </tr>\n",
       "    <tr>\n",
       "      <th>24</th>\n",
       "      <td>8</td>\n",
       "      <td>28</td>\n",
       "      <td>224</td>\n",
       "      <td>62.531250</td>\n",
       "      <td>35.584728</td>\n",
       "    </tr>\n",
       "  </tbody>\n",
       "</table>\n",
       "</div>"
      ],
      "text/plain": [
       "          TCI_width  TCI_height  TCI_size   TCI_mean    TCI_std\n",
       "Field_Id                                                       \n",
       "19               20          13       260  91.308974  49.464187\n",
       "20               11          23       253  65.762846  38.705559\n",
       "21               21           6       126  39.497354  44.557866\n",
       "22               23          14       322  74.063147  39.331146\n",
       "24                8          28       224  62.531250  35.584728"
      ]
     },
     "execution_count": 21,
     "metadata": {},
     "output_type": "execute_result"
    }
   ],
   "source": [
    "# Prototype on one band\n",
    "img_fpath = img_band_fpaths[1]\n",
    "\n",
    "date = date_from_safedir(safe_dir)\n",
    "\n",
    "band = band_from_imgpath(img_fpath)\n",
    "print('Processing band ', band)\n",
    "with rasterio.open(img_fpath) as raster:\n",
    "    \n",
    "    print('Masking raster...', end='')\n",
    "    masks = mask_raster(shp_df.geometry, raster)\n",
    "    print(f'{len(masks)} farms successfully masked')\n",
    "    \n",
    "    check_mask_data(masks[list(masks.keys())[0]])\n",
    "\n",
    "    # Calculate descriptive stats for each mask\n",
    "    # and get the names of features calculated\n",
    "    mask_data = {idx: reduce_img(img) for idx, img in masks.items()}\n",
    "\n",
    "    mask_df = to_dataframe(mask_data, band)\n",
    "    \n",
    "mask_df.head()"
   ]
  },
  {
   "cell_type": "code",
   "execution_count": 22,
   "metadata": {},
   "outputs": [
    {
     "name": "stdout",
     "output_type": "stream",
     "text": [
      "Processing band  B08\n",
      "Masking raster...2344 farms successfully masked\n",
      "Processing band  TCI\n",
      "Masking raster..."
     ]
    },
    {
     "name": "stderr",
     "output_type": "stream",
     "text": [
      "Multi-band data might cause kak\n"
     ]
    },
    {
     "name": "stdout",
     "output_type": "stream",
     "text": [
      "2344 farms successfully masked\n",
      "Processing band  B09\n",
      "Masking raster...2344 farms successfully masked\n"
     ]
    }
   ],
   "source": [
    "# Now do that for multiple bands and combine\n",
    "mask_dfs = []\n",
    "for img_fpath in img_band_fpaths[:3]:\n",
    "    \n",
    "    band = band_from_imgpath(img_fpath)\n",
    "    print('Processing band ', band)\n",
    "    with rasterio.open(img_fpath) as raster:\n",
    "\n",
    "        print('Masking raster...', end='')\n",
    "        masks = mask_raster(shp_df.geometry, raster)\n",
    "        print(f'{len(masks)} farms successfully masked')\n",
    "        \n",
    "        check_mask_data(masks[list(masks.keys())[0]])\n",
    "\n",
    "        # Calculate descriptive stats for each mask\n",
    "        # and get the names of features calculated\n",
    "        mask_data = {idx: reduce_img(img) for idx, img in masks.items()}\n",
    "\n",
    "        mask_df = to_dataframe(mask_data, band)\n",
    "    \n",
    "    mask_dfs.append(mask_df)"
   ]
  },
  {
   "cell_type": "code",
   "execution_count": 23,
   "metadata": {},
   "outputs": [
    {
     "data": {
      "text/html": [
       "<div>\n",
       "<style scoped>\n",
       "    .dataframe tbody tr th:only-of-type {\n",
       "        vertical-align: middle;\n",
       "    }\n",
       "\n",
       "    .dataframe tbody tr th {\n",
       "        vertical-align: top;\n",
       "    }\n",
       "\n",
       "    .dataframe thead th {\n",
       "        text-align: right;\n",
       "    }\n",
       "</style>\n",
       "<table border=\"1\" class=\"dataframe\">\n",
       "  <thead>\n",
       "    <tr style=\"text-align: right;\">\n",
       "      <th></th>\n",
       "      <th>B08_width</th>\n",
       "      <th>B08_height</th>\n",
       "      <th>B08_size</th>\n",
       "      <th>B08_mean</th>\n",
       "      <th>B08_std</th>\n",
       "      <th>TCI_width</th>\n",
       "      <th>TCI_height</th>\n",
       "      <th>TCI_size</th>\n",
       "      <th>TCI_mean</th>\n",
       "      <th>TCI_std</th>\n",
       "      <th>B09_width</th>\n",
       "      <th>B09_height</th>\n",
       "      <th>B09_size</th>\n",
       "      <th>B09_mean</th>\n",
       "      <th>B09_std</th>\n",
       "      <th>Crop_Id_Ne</th>\n",
       "    </tr>\n",
       "    <tr>\n",
       "      <th>Field_Id</th>\n",
       "      <th></th>\n",
       "      <th></th>\n",
       "      <th></th>\n",
       "      <th></th>\n",
       "      <th></th>\n",
       "      <th></th>\n",
       "      <th></th>\n",
       "      <th></th>\n",
       "      <th></th>\n",
       "      <th></th>\n",
       "      <th></th>\n",
       "      <th></th>\n",
       "      <th></th>\n",
       "      <th></th>\n",
       "      <th></th>\n",
       "      <th></th>\n",
       "    </tr>\n",
       "  </thead>\n",
       "  <tbody>\n",
       "    <tr>\n",
       "      <th>19</th>\n",
       "      <td>20</td>\n",
       "      <td>13</td>\n",
       "      <td>260</td>\n",
       "      <td>1949.619231</td>\n",
       "      <td>991.590718</td>\n",
       "      <td>20</td>\n",
       "      <td>13</td>\n",
       "      <td>260</td>\n",
       "      <td>91.308974</td>\n",
       "      <td>49.464187</td>\n",
       "      <td>4</td>\n",
       "      <td>3</td>\n",
       "      <td>12</td>\n",
       "      <td>500.000000</td>\n",
       "      <td>500.239776</td>\n",
       "      <td>8</td>\n",
       "    </tr>\n",
       "    <tr>\n",
       "      <th>20</th>\n",
       "      <td>11</td>\n",
       "      <td>23</td>\n",
       "      <td>253</td>\n",
       "      <td>1591.383399</td>\n",
       "      <td>931.566898</td>\n",
       "      <td>11</td>\n",
       "      <td>23</td>\n",
       "      <td>253</td>\n",
       "      <td>65.762846</td>\n",
       "      <td>38.705559</td>\n",
       "      <td>3</td>\n",
       "      <td>5</td>\n",
       "      <td>15</td>\n",
       "      <td>192.466667</td>\n",
       "      <td>384.978591</td>\n",
       "      <td>8</td>\n",
       "    </tr>\n",
       "    <tr>\n",
       "      <th>21</th>\n",
       "      <td>21</td>\n",
       "      <td>6</td>\n",
       "      <td>126</td>\n",
       "      <td>863.079365</td>\n",
       "      <td>970.215060</td>\n",
       "      <td>21</td>\n",
       "      <td>6</td>\n",
       "      <td>126</td>\n",
       "      <td>39.497354</td>\n",
       "      <td>44.557866</td>\n",
       "      <td>4</td>\n",
       "      <td>2</td>\n",
       "      <td>8</td>\n",
       "      <td>112.500000</td>\n",
       "      <td>297.647022</td>\n",
       "      <td>8</td>\n",
       "    </tr>\n",
       "    <tr>\n",
       "      <th>22</th>\n",
       "      <td>23</td>\n",
       "      <td>14</td>\n",
       "      <td>322</td>\n",
       "      <td>1608.388199</td>\n",
       "      <td>846.305729</td>\n",
       "      <td>23</td>\n",
       "      <td>14</td>\n",
       "      <td>322</td>\n",
       "      <td>74.063147</td>\n",
       "      <td>39.331146</td>\n",
       "      <td>5</td>\n",
       "      <td>3</td>\n",
       "      <td>15</td>\n",
       "      <td>472.666667</td>\n",
       "      <td>442.541097</td>\n",
       "      <td>8</td>\n",
       "    </tr>\n",
       "    <tr>\n",
       "      <th>24</th>\n",
       "      <td>8</td>\n",
       "      <td>28</td>\n",
       "      <td>224</td>\n",
       "      <td>1491.866071</td>\n",
       "      <td>847.789315</td>\n",
       "      <td>8</td>\n",
       "      <td>28</td>\n",
       "      <td>224</td>\n",
       "      <td>62.531250</td>\n",
       "      <td>35.584728</td>\n",
       "      <td>3</td>\n",
       "      <td>5</td>\n",
       "      <td>15</td>\n",
       "      <td>288.066667</td>\n",
       "      <td>408.429589</td>\n",
       "      <td>8</td>\n",
       "    </tr>\n",
       "  </tbody>\n",
       "</table>\n",
       "</div>"
      ],
      "text/plain": [
       "          B08_width  B08_height  B08_size     B08_mean     B08_std  TCI_width  \\\n",
       "Field_Id                                                                        \n",
       "19               20          13       260  1949.619231  991.590718         20   \n",
       "20               11          23       253  1591.383399  931.566898         11   \n",
       "21               21           6       126   863.079365  970.215060         21   \n",
       "22               23          14       322  1608.388199  846.305729         23   \n",
       "24                8          28       224  1491.866071  847.789315          8   \n",
       "\n",
       "          TCI_height  TCI_size   TCI_mean    TCI_std  B09_width  B09_height  \\\n",
       "Field_Id                                                                      \n",
       "19                13       260  91.308974  49.464187          4           3   \n",
       "20                23       253  65.762846  38.705559          3           5   \n",
       "21                 6       126  39.497354  44.557866          4           2   \n",
       "22                14       322  74.063147  39.331146          5           3   \n",
       "24                28       224  62.531250  35.584728          3           5   \n",
       "\n",
       "          B09_size    B09_mean     B09_std Crop_Id_Ne  \n",
       "Field_Id                                               \n",
       "19              12  500.000000  500.239776          8  \n",
       "20              15  192.466667  384.978591          8  \n",
       "21               8  112.500000  297.647022          8  \n",
       "22              15  472.666667  442.541097          8  \n",
       "24              15  288.066667  408.429589          8  "
      ]
     },
     "execution_count": 23,
     "metadata": {},
     "output_type": "execute_result"
    }
   ],
   "source": [
    "df = pd.concat(mask_dfs, axis=1)\n",
    "df = df.merge(shp_df.Crop_Id_Ne, left_index=True, right_on='Field_Id', how='left')\n",
    "df.head()"
   ]
  },
  {
   "cell_type": "markdown",
   "metadata": {},
   "source": []
  }
 ],
 "metadata": {
  "kernelspec": {
   "display_name": "Python [conda env:farm-pin]",
   "language": "python",
   "name": "conda-env-farm-pin-py"
  },
  "language_info": {
   "codemirror_mode": {
    "name": "ipython",
    "version": 3
   },
   "file_extension": ".py",
   "mimetype": "text/x-python",
   "name": "python",
   "nbconvert_exporter": "python",
   "pygments_lexer": "ipython3",
   "version": "3.7.2"
  }
 },
 "nbformat": 4,
 "nbformat_minor": 2
}
