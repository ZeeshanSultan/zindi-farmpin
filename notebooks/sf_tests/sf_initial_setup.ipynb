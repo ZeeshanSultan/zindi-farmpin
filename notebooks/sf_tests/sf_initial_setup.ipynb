{
 "cells": [
  {
   "cell_type": "markdown",
   "metadata": {},
   "source": [
    "## Introduction\n",
    "\n",
    "So I want to have a crack at the prediction problem with some conv nets...\n",
    "\n",
    "First I need to download the data and process it, fortunately Renier has done some work on this already...\n",
    "\n",
    "Let's see;"
   ]
  },
  {
   "cell_type": "code",
   "execution_count": 1,
   "metadata": {},
   "outputs": [
    {
     "name": "stdout",
     "output_type": "stream",
     "text": [
      "total 44\n",
      "drwxrwxr-x 7 root root 4096 Jan  3  2017 S2A_MSIL1C_20170101T082332_N0204_R121_T34JEP_20170101T084543.SAFE\n",
      "drwxrwxr-x 7 root root 4096 Jan 31  2017 S2A_MSIL1C_20170131T082151_N0204_R121_T34JEP_20170131T084118.SAFE\n",
      "drwxrwxr-x 7 root root 4096 Feb 10  2017 S2A_MSIL1C_20170210T082051_N0204_R121_T34JEP_20170210T083752.SAFE\n",
      "drwxrwxr-x 7 root root 4096 Mar 12  2017 S2A_MSIL1C_20170312T082001_N0204_R121_T34JEP_20170312T084235.SAFE\n",
      "drwxrwxr-x 7 root root 4096 Mar 22  2017 S2A_MSIL1C_20170322T081611_N0204_R121_T34JEP_20170322T084728.SAFE\n",
      "drwxrwxr-x 7 root root 4096 Jun  1  2017 S2A_MSIL1C_20170531T082011_N0205_R121_T34JEP_20170531T084246.SAFE\n",
      "drwxrwxr-x 7 root root 4096 Jun 20  2017 S2A_MSIL1C_20170620T082011_N0205_R121_T34JEP_20170620T084200.SAFE\n",
      "drwxrwxr-x 7 root root 4096 Jul 10  2017 S2A_MSIL1C_20170710T082011_N0205_R121_T34JEP_20170710T084244.SAFE\n",
      "drwxrwxr-x 7 root root 4096 Aug 19  2017 S2A_MSIL1C_20170819T082011_N0205_R121_T34JEP_20170819T084427.SAFE\n",
      "drwxrwxr-x 7 root root 4096 Aug 30  2018 S2B_MSIL1C_20170715T081609_N0205_R121_T34JEP_20170715T084650.SAFE\n",
      "drwxrwxr-x 7 root root 4096 Aug  4  2017 S2B_MSIL1C_20170804T081559_N0205_R121_T34JEP_20170804T084631.SAFE\n"
     ]
    }
   ],
   "source": [
    "!ls -l /home/jovyan/data/raw"
   ]
  },
  {
   "cell_type": "markdown",
   "metadata": {},
   "source": [
    "Apparently I missed out on some added masks. I can add these manualy by running the command in main folder;\n",
    "\n",
    "wget -i urls_JFP.txt -P data/raw/"
   ]
  },
  {
   "cell_type": "code",
   "execution_count": null,
   "metadata": {},
   "outputs": [],
   "source": []
  }
 ],
 "metadata": {
  "kernelspec": {
   "display_name": "Python 3",
   "language": "python",
   "name": "python3"
  },
  "language_info": {
   "codemirror_mode": {
    "name": "ipython",
    "version": 3
   },
   "file_extension": ".py",
   "mimetype": "text/x-python",
   "name": "python",
   "nbconvert_exporter": "python",
   "pygments_lexer": "ipython3",
   "version": "3.7.3"
  }
 },
 "nbformat": 4,
 "nbformat_minor": 2
}
