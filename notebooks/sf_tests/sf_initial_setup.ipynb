{
 "cells": [
  {
   "cell_type": "markdown",
   "metadata": {},
   "source": [
    "## Introduction\n",
    "\n",
    "So I want to have a crack at the prediction problem with some conv nets...\n",
    "\n",
    "First I need to download the data and process it, fortunately Renier has done some work on this already...\n",
    "\n",
    "Let's see;"
   ]
  },
  {
   "cell_type": "code",
   "execution_count": null,
   "metadata": {},
   "outputs": [],
   "source": [
    "!cd /home/jovyan/ && invoke download-satellite-data"
   ]
  },
  {
   "cell_type": "code",
   "execution_count": 12,
   "metadata": {},
   "outputs": [
    {
     "name": "stdout",
     "output_type": "stream",
     "text": [
      "total 747876\n",
      "-rw-r--r-- 1 jovyan jovyan 765778177 Mar 12 21:41 2017-01-01.zip.1\n",
      "drwxrwxr-x 7 jovyan jovyan      4096 Jan 31  2017 S2A_MSIL1C_20170131T082151_N0204_R121_T34JEP_20170131T084118.SAFE\n",
      "drwxrwxr-x 7 jovyan jovyan      4096 Feb 10  2017 S2A_MSIL1C_20170210T082051_N0204_R121_T34JEP_20170210T083752.SAFE\n",
      "drwxrwxr-x 7 jovyan jovyan      4096 Mar 12  2017 S2A_MSIL1C_20170312T082001_N0204_R121_T34JEP_20170312T084235.SAFE\n",
      "drwxrwxr-x 7 jovyan jovyan      4096 Mar 22  2017 S2A_MSIL1C_20170322T081611_N0204_R121_T34JEP_20170322T084728.SAFE\n",
      "drwxrwxr-x 7 jovyan jovyan      4096 Jun  1  2017 S2A_MSIL1C_20170531T082011_N0205_R121_T34JEP_20170531T084246.SAFE\n",
      "drwxrwxr-x 7 jovyan jovyan      4096 Jun 20  2017 S2A_MSIL1C_20170620T082011_N0205_R121_T34JEP_20170620T084200.SAFE\n",
      "drwxrwxr-x 7 jovyan jovyan      4096 Jul 10  2017 S2A_MSIL1C_20170710T082011_N0205_R121_T34JEP_20170710T084244.SAFE\n",
      "drwxrwxr-x 7 jovyan jovyan      4096 Aug 19  2017 S2A_MSIL1C_20170819T082011_N0205_R121_T34JEP_20170819T084427.SAFE\n",
      "drwxrwxr-x 7 jovyan jovyan      4096 Aug 30  2018 S2B_MSIL1C_20170715T081609_N0205_R121_T34JEP_20170715T084650.SAFE\n",
      "drwxrwxr-x 7 jovyan jovyan      4096 Aug  4  2017 S2B_MSIL1C_20170804T081559_N0205_R121_T34JEP_20170804T084631.SAFE\n"
     ]
    }
   ],
   "source": [
    "!ls -l /home/jovyan/data/raw"
   ]
  },
  {
   "cell_type": "code",
   "execution_count": 13,
   "metadata": {},
   "outputs": [
    {
     "name": "stdout",
     "output_type": "stream",
     "text": [
      "Traceback (most recent call last):\n",
      "  File \"/opt/conda/envs/zindi_farmpin/bin/invoke\", line 11, in <module>\n",
      "    sys.exit(program.run())\n",
      "  File \"/opt/conda/envs/zindi_farmpin/lib/python3.7/site-packages/invoke/program.py\", line 363, in run\n",
      "    self.execute()\n",
      "  File \"/opt/conda/envs/zindi_farmpin/lib/python3.7/site-packages/invoke/program.py\", line 532, in execute\n",
      "    executor.execute(*self.tasks)\n",
      "  File \"/opt/conda/envs/zindi_farmpin/lib/python3.7/site-packages/invoke/executor.py\", line 129, in execute\n",
      "    result = call.task(*args, **call.kwargs)\n",
      "  File \"/opt/conda/envs/zindi_farmpin/lib/python3.7/site-packages/invoke/tasks.py\", line 128, in __call__\n",
      "    result = self.body(*args, **kwargs)\n",
      "  File \"/home/jovyan/tasks.py\", line 45, in create_baseline_dataset\n",
      "    from src.data.make_features_dataset import run\n",
      "  File \"/home/jovyan/src/data/make_features_dataset.py\", line 12, in <module>\n",
      "    from scipy.misc import imresize\n",
      "ImportError: cannot import name 'imresize' from 'scipy.misc' (/opt/conda/envs/zindi_farmpin/lib/python3.7/site-packages/scipy/misc/__init__.py)\n"
     ]
    }
   ],
   "source": [
    "!cd /home/jovyan/ && invoke create-baseline-dataset"
   ]
  },
  {
   "cell_type": "code",
   "execution_count": 14,
   "metadata": {},
   "outputs": [
    {
     "ename": "ImportError",
     "evalue": "cannot import name 'imresize' from 'scipy.misc' (/opt/conda/envs/zindi_farmpin/lib/python3.7/site-packages/scipy/misc/__init__.py)",
     "output_type": "error",
     "traceback": [
      "\u001b[0;31m---------------------------------------------------------------------------\u001b[0m",
      "\u001b[0;31mImportError\u001b[0m                               Traceback (most recent call last)",
      "\u001b[0;32m<ipython-input-14-6b2073fba8a1>\u001b[0m in \u001b[0;36m<module>\u001b[0;34m\u001b[0m\n\u001b[0;32m----> 1\u001b[0;31m \u001b[0;32mfrom\u001b[0m \u001b[0mscipy\u001b[0m\u001b[0;34m.\u001b[0m\u001b[0mmisc\u001b[0m \u001b[0;32mimport\u001b[0m \u001b[0mimresize\u001b[0m\u001b[0;34m\u001b[0m\u001b[0;34m\u001b[0m\u001b[0m\n\u001b[0m",
      "\u001b[0;31mImportError\u001b[0m: cannot import name 'imresize' from 'scipy.misc' (/opt/conda/envs/zindi_farmpin/lib/python3.7/site-packages/scipy/misc/__init__.py)"
     ]
    }
   ],
   "source": [
    "from scipy.misc import imresize"
   ]
  },
  {
   "cell_type": "code",
   "execution_count": 15,
   "metadata": {},
   "outputs": [],
   "source": [
    "import scipy.misc"
   ]
  },
  {
   "cell_type": "code",
   "execution_count": 20,
   "metadata": {},
   "outputs": [
    {
     "name": "stdout",
     "output_type": "stream",
     "text": [
      "Collecting package metadata: done\n",
      "Solving environment: done\n",
      "\n",
      "## Package Plan ##\n",
      "\n",
      "  environment location: /opt/conda\n",
      "\n",
      "  added / updated specs:\n",
      "    - pillow\n",
      "\n",
      "\n",
      "The following NEW packages will be INSTALLED:\n",
      "\n",
      "  bzip2              pkgs/main/linux-64::bzip2-1.0.6-h14c3975_5\n",
      "  conda-package-han~ pkgs/main/linux-64::conda-package-handling-1.3.10-py37_0\n",
      "  freetype           pkgs/main/linux-64::freetype-2.9.1-h8a8886c_1\n",
      "  jpeg               pkgs/main/linux-64::jpeg-9b-h024ee3a_2\n",
      "  libarchive         pkgs/main/linux-64::libarchive-3.3.3-h5d8350f_5\n",
      "  libpng             pkgs/main/linux-64::libpng-1.6.37-hbc83047_0\n",
      "  libtiff            pkgs/main/linux-64::libtiff-4.0.10-h2733197_2\n",
      "  libxml2            pkgs/main/linux-64::libxml2-2.9.9-hea5a465_1\n",
      "  lz4-c              pkgs/main/linux-64::lz4-c-1.8.1.2-h14c3975_0\n",
      "  lzo                pkgs/main/linux-64::lzo-2.10-h49e0be7_2\n",
      "  olefile            pkgs/main/linux-64::olefile-0.46-py37_0\n",
      "  pillow             pkgs/main/linux-64::pillow-6.0.0-py37h34e0f95_0\n",
      "  python-libarchive~ pkgs/main/linux-64::python-libarchive-c-2.8-py37_6\n",
      "  tqdm               pkgs/main/noarch::tqdm-4.32.1-py_0\n",
      "  zstd               pkgs/main/linux-64::zstd-1.3.7-h0b5b093_0\n",
      "\n",
      "The following packages will be UPDATED:\n",
      "\n",
      "  ca-certificates                               2019.1.23-0 --> 2019.5.15-0\n",
      "  certifi                                   2019.3.9-py37_0 --> 2019.6.16-py37_0\n",
      "  conda                                       4.6.14-py37_0 --> 4.7.5-py37_0\n",
      "  openssl                                 1.1.1b-h7b6447c_1 --> 1.1.1c-h7b6447c_1\n",
      "\n",
      "\n",
      "Preparing transaction: done\n",
      "Verifying transaction: failed\n",
      "\n",
      "EnvironmentNotWritableError: The current user does not have write permissions to the target environment.\n",
      "  environment location: /opt/conda\n",
      "  uid: 1000\n",
      "  gid: 1000\n",
      "\n",
      "\n"
     ]
    }
   ],
   "source": [
    "!conda install -y pillow"
   ]
  }
 ],
 "metadata": {
  "kernelspec": {
   "display_name": "zindi_farmpin",
   "language": "python",
   "name": "zindi_farmpin"
  },
  "language_info": {
   "codemirror_mode": {
    "name": "ipython",
    "version": 3
   },
   "file_extension": ".py",
   "mimetype": "text/x-python",
   "name": "python",
   "nbconvert_exporter": "python",
   "pygments_lexer": "ipython3",
   "version": "3.7.3"
  }
 },
 "nbformat": 4,
 "nbformat_minor": 2
}
